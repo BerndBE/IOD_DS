{
 "cells": [
  {
   "cell_type": "code",
   "execution_count": 1,
   "id": "d3f0bfdd-b6be-4f20-8d37-7f0f85829e41",
   "metadata": {},
   "outputs": [],
   "source": [
    "import numpy as np\n",
    "import pandas as pd\n",
    "import matplotlib.pyplot as plt\n",
    "%matplotlib inline"
   ]
  },
  {
   "cell_type": "code",
   "execution_count": 2,
   "id": "9a3219cb-0bee-480f-9fbb-ef8780163b1f",
   "metadata": {},
   "outputs": [
    {
     "name": "stderr",
     "output_type": "stream",
     "text": [
      "C:\\Users\\Trader\\anaconda3\\envs\\iod_dl\\lib\\site-packages\\statsmodels\\compat\\pandas.py:61: FutureWarning: pandas.Int64Index is deprecated and will be removed from pandas in a future version. Use pandas.Index with the appropriate dtype instead.\n",
      "  from pandas import Int64Index as NumericIndex\n"
     ]
    }
   ],
   "source": [
    "import statsmodels.api as sm"
   ]
  },
  {
   "cell_type": "code",
   "execution_count": 3,
   "id": "b4c771dc-a200-4408-8313-6f16a92baa8e",
   "metadata": {},
   "outputs": [],
   "source": [
    "import yfinance as yf\n",
    "from yahoofinancials import YahooFinancials"
   ]
  },
  {
   "cell_type": "code",
   "execution_count": 68,
   "id": "b68d9a47-3549-4617-92a6-b4ab7fead4d3",
   "metadata": {},
   "outputs": [
    {
     "data": {
      "text/html": [
       "<div>\n",
       "<style scoped>\n",
       "    .dataframe tbody tr th:only-of-type {\n",
       "        vertical-align: middle;\n",
       "    }\n",
       "\n",
       "    .dataframe tbody tr th {\n",
       "        vertical-align: top;\n",
       "    }\n",
       "\n",
       "    .dataframe thead th {\n",
       "        text-align: right;\n",
       "    }\n",
       "</style>\n",
       "<table border=\"1\" class=\"dataframe\">\n",
       "  <thead>\n",
       "    <tr style=\"text-align: right;\">\n",
       "      <th></th>\n",
       "      <th>Open</th>\n",
       "      <th>High</th>\n",
       "      <th>Low</th>\n",
       "      <th>Close</th>\n",
       "      <th>Adj Close</th>\n",
       "      <th>Volume</th>\n",
       "    </tr>\n",
       "    <tr>\n",
       "      <th>Date</th>\n",
       "      <th></th>\n",
       "      <th></th>\n",
       "      <th></th>\n",
       "      <th></th>\n",
       "      <th></th>\n",
       "      <th></th>\n",
       "    </tr>\n",
       "  </thead>\n",
       "  <tbody>\n",
       "    <tr>\n",
       "      <th>2010-01-01</th>\n",
       "      <td>7.622500</td>\n",
       "      <td>7.699643</td>\n",
       "      <td>6.794643</td>\n",
       "      <td>6.859286</td>\n",
       "      <td>5.873430</td>\n",
       "      <td>1.516899e+10</td>\n",
       "    </tr>\n",
       "    <tr>\n",
       "      <th>2010-02-01</th>\n",
       "      <td>6.870357</td>\n",
       "      <td>7.327500</td>\n",
       "      <td>6.816071</td>\n",
       "      <td>7.307857</td>\n",
       "      <td>6.257528</td>\n",
       "      <td>1.077608e+10</td>\n",
       "    </tr>\n",
       "    <tr>\n",
       "      <th>2010-03-01</th>\n",
       "      <td>7.348214</td>\n",
       "      <td>8.481429</td>\n",
       "      <td>7.337500</td>\n",
       "      <td>8.392857</td>\n",
       "      <td>7.186585</td>\n",
       "      <td>1.215417e+10</td>\n",
       "    </tr>\n",
       "    <tr>\n",
       "      <th>2010-04-01</th>\n",
       "      <td>8.478929</td>\n",
       "      <td>9.730714</td>\n",
       "      <td>8.312500</td>\n",
       "      <td>9.324643</td>\n",
       "      <td>7.984451</td>\n",
       "      <td>1.236713e+10</td>\n",
       "    </tr>\n",
       "    <tr>\n",
       "      <th>2010-05-01</th>\n",
       "      <td>9.422857</td>\n",
       "      <td>9.567143</td>\n",
       "      <td>7.116071</td>\n",
       "      <td>9.174286</td>\n",
       "      <td>7.855702</td>\n",
       "      <td>1.808265e+10</td>\n",
       "    </tr>\n",
       "  </tbody>\n",
       "</table>\n",
       "</div>"
      ],
      "text/plain": [
       "                Open      High       Low     Close  Adj Close        Volume\n",
       "Date                                                                       \n",
       "2010-01-01  7.622500  7.699643  6.794643  6.859286   5.873430  1.516899e+10\n",
       "2010-02-01  6.870357  7.327500  6.816071  7.307857   6.257528  1.077608e+10\n",
       "2010-03-01  7.348214  8.481429  7.337500  8.392857   7.186585  1.215417e+10\n",
       "2010-04-01  8.478929  9.730714  8.312500  9.324643   7.984451  1.236713e+10\n",
       "2010-05-01  9.422857  9.567143  7.116071  9.174286   7.855702  1.808265e+10"
      ]
     },
     "execution_count": 68,
     "metadata": {},
     "output_type": "execute_result"
    }
   ],
   "source": [
    "df = yf.download('AAPL', \n",
    "                      start='2010-01-01', \n",
    "                      end='2021-10-01', \n",
    "                      progress=False, \n",
    "                      interval='1mo'\n",
    ")\n",
    "df.head()"
   ]
  },
  {
   "cell_type": "code",
   "execution_count": 69,
   "id": "78838437-1e38-4eeb-8d3b-72724c40f61b",
   "metadata": {},
   "outputs": [
    {
     "data": {
      "text/html": [
       "<div>\n",
       "<style scoped>\n",
       "    .dataframe tbody tr th:only-of-type {\n",
       "        vertical-align: middle;\n",
       "    }\n",
       "\n",
       "    .dataframe tbody tr th {\n",
       "        vertical-align: top;\n",
       "    }\n",
       "\n",
       "    .dataframe thead th {\n",
       "        text-align: right;\n",
       "    }\n",
       "</style>\n",
       "<table border=\"1\" class=\"dataframe\">\n",
       "  <thead>\n",
       "    <tr style=\"text-align: right;\">\n",
       "      <th></th>\n",
       "      <th>Close</th>\n",
       "    </tr>\n",
       "    <tr>\n",
       "      <th>Date</th>\n",
       "      <th></th>\n",
       "    </tr>\n",
       "  </thead>\n",
       "  <tbody>\n",
       "    <tr>\n",
       "      <th>2010-01-01</th>\n",
       "      <td>6.859286</td>\n",
       "    </tr>\n",
       "    <tr>\n",
       "      <th>2010-02-01</th>\n",
       "      <td>7.307857</td>\n",
       "    </tr>\n",
       "    <tr>\n",
       "      <th>2010-03-01</th>\n",
       "      <td>8.392857</td>\n",
       "    </tr>\n",
       "    <tr>\n",
       "      <th>2010-04-01</th>\n",
       "      <td>9.324643</td>\n",
       "    </tr>\n",
       "    <tr>\n",
       "      <th>2010-05-01</th>\n",
       "      <td>9.174286</td>\n",
       "    </tr>\n",
       "  </tbody>\n",
       "</table>\n",
       "</div>"
      ],
      "text/plain": [
       "               Close\n",
       "Date                \n",
       "2010-01-01  6.859286\n",
       "2010-02-01  7.307857\n",
       "2010-03-01  8.392857\n",
       "2010-04-01  9.324643\n",
       "2010-05-01  9.174286"
      ]
     },
     "execution_count": 69,
     "metadata": {},
     "output_type": "execute_result"
    }
   ],
   "source": [
    "df.drop(['Open','High','Low','Adj Close','Volume'],axis=1,inplace=True)\n",
    "df.head()"
   ]
  },
  {
   "cell_type": "code",
   "execution_count": 70,
   "id": "5091fa7d-f6a2-472a-8001-2156b56af5a2",
   "metadata": {},
   "outputs": [
    {
     "data": {
      "text/html": [
       "<div>\n",
       "<style scoped>\n",
       "    .dataframe tbody tr th:only-of-type {\n",
       "        vertical-align: middle;\n",
       "    }\n",
       "\n",
       "    .dataframe tbody tr th {\n",
       "        vertical-align: top;\n",
       "    }\n",
       "\n",
       "    .dataframe thead th {\n",
       "        text-align: right;\n",
       "    }\n",
       "</style>\n",
       "<table border=\"1\" class=\"dataframe\">\n",
       "  <thead>\n",
       "    <tr style=\"text-align: right;\">\n",
       "      <th></th>\n",
       "      <th>Close</th>\n",
       "    </tr>\n",
       "    <tr>\n",
       "      <th>Date</th>\n",
       "      <th></th>\n",
       "    </tr>\n",
       "  </thead>\n",
       "  <tbody>\n",
       "    <tr>\n",
       "      <th>2010-01-01</th>\n",
       "      <td>6.859286</td>\n",
       "    </tr>\n",
       "    <tr>\n",
       "      <th>2010-02-01</th>\n",
       "      <td>7.307857</td>\n",
       "    </tr>\n",
       "    <tr>\n",
       "      <th>2010-03-01</th>\n",
       "      <td>8.392857</td>\n",
       "    </tr>\n",
       "    <tr>\n",
       "      <th>2010-04-01</th>\n",
       "      <td>9.324643</td>\n",
       "    </tr>\n",
       "    <tr>\n",
       "      <th>2010-05-01</th>\n",
       "      <td>9.174286</td>\n",
       "    </tr>\n",
       "  </tbody>\n",
       "</table>\n",
       "</div>"
      ],
      "text/plain": [
       "               Close\n",
       "Date                \n",
       "2010-01-01  6.859286\n",
       "2010-02-01  7.307857\n",
       "2010-03-01  8.392857\n",
       "2010-04-01  9.324643\n",
       "2010-05-01  9.174286"
      ]
     },
     "execution_count": 70,
     "metadata": {},
     "output_type": "execute_result"
    }
   ],
   "source": [
    "df.dropna(subset=['Close'],inplace=True)\n",
    "df.head()"
   ]
  },
  {
   "cell_type": "code",
   "execution_count": 71,
   "id": "c38fb779-b144-4c6c-93c7-188c3188661d",
   "metadata": {},
   "outputs": [
    {
     "data": {
      "text/html": [
       "<div>\n",
       "<style scoped>\n",
       "    .dataframe tbody tr th:only-of-type {\n",
       "        vertical-align: middle;\n",
       "    }\n",
       "\n",
       "    .dataframe tbody tr th {\n",
       "        vertical-align: top;\n",
       "    }\n",
       "\n",
       "    .dataframe thead th {\n",
       "        text-align: right;\n",
       "    }\n",
       "</style>\n",
       "<table border=\"1\" class=\"dataframe\">\n",
       "  <thead>\n",
       "    <tr style=\"text-align: right;\">\n",
       "      <th></th>\n",
       "      <th>Close</th>\n",
       "    </tr>\n",
       "    <tr>\n",
       "      <th>Date</th>\n",
       "      <th></th>\n",
       "    </tr>\n",
       "  </thead>\n",
       "  <tbody>\n",
       "    <tr>\n",
       "      <th>2021-05-01</th>\n",
       "      <td>124.610001</td>\n",
       "    </tr>\n",
       "    <tr>\n",
       "      <th>2021-06-01</th>\n",
       "      <td>136.960007</td>\n",
       "    </tr>\n",
       "    <tr>\n",
       "      <th>2021-07-01</th>\n",
       "      <td>145.860001</td>\n",
       "    </tr>\n",
       "    <tr>\n",
       "      <th>2021-08-01</th>\n",
       "      <td>151.830002</td>\n",
       "    </tr>\n",
       "    <tr>\n",
       "      <th>2021-09-01</th>\n",
       "      <td>141.500000</td>\n",
       "    </tr>\n",
       "  </tbody>\n",
       "</table>\n",
       "</div>"
      ],
      "text/plain": [
       "                 Close\n",
       "Date                  \n",
       "2021-05-01  124.610001\n",
       "2021-06-01  136.960007\n",
       "2021-07-01  145.860001\n",
       "2021-08-01  151.830002\n",
       "2021-09-01  141.500000"
      ]
     },
     "execution_count": 71,
     "metadata": {},
     "output_type": "execute_result"
    }
   ],
   "source": [
    "df.tail()"
   ]
  },
  {
   "cell_type": "code",
   "execution_count": 72,
   "id": "64f53502-b58e-4156-b78c-8cc543fb0629",
   "metadata": {},
   "outputs": [
    {
     "data": {
      "text/plain": [
       "DatetimeIndex(['2010-01-01', '2010-02-01', '2010-03-01', '2010-04-01',\n",
       "               '2010-05-01', '2010-06-01', '2010-07-01', '2010-08-01',\n",
       "               '2010-09-01', '2010-10-01',\n",
       "               ...\n",
       "               '2020-12-01', '2021-01-01', '2021-02-01', '2021-03-01',\n",
       "               '2021-04-01', '2021-05-01', '2021-06-01', '2021-07-01',\n",
       "               '2021-08-01', '2021-09-01'],\n",
       "              dtype='datetime64[ns]', name='Date', length=141, freq=None)"
      ]
     },
     "execution_count": 72,
     "metadata": {},
     "output_type": "execute_result"
    }
   ],
   "source": [
    "df.index"
   ]
  },
  {
   "cell_type": "code",
   "execution_count": 73,
   "id": "75c18565-af1b-4ec5-9ced-81ae249e89d1",
   "metadata": {},
   "outputs": [
    {
     "data": {
      "text/html": [
       "<div>\n",
       "<style scoped>\n",
       "    .dataframe tbody tr th:only-of-type {\n",
       "        vertical-align: middle;\n",
       "    }\n",
       "\n",
       "    .dataframe tbody tr th {\n",
       "        vertical-align: top;\n",
       "    }\n",
       "\n",
       "    .dataframe thead th {\n",
       "        text-align: right;\n",
       "    }\n",
       "</style>\n",
       "<table border=\"1\" class=\"dataframe\">\n",
       "  <thead>\n",
       "    <tr style=\"text-align: right;\">\n",
       "      <th></th>\n",
       "      <th>count</th>\n",
       "      <th>mean</th>\n",
       "      <th>std</th>\n",
       "      <th>min</th>\n",
       "      <th>25%</th>\n",
       "      <th>50%</th>\n",
       "      <th>75%</th>\n",
       "      <th>max</th>\n",
       "    </tr>\n",
       "  </thead>\n",
       "  <tbody>\n",
       "    <tr>\n",
       "      <th>Close</th>\n",
       "      <td>141.0</td>\n",
       "      <td>40.477014</td>\n",
       "      <td>34.710126</td>\n",
       "      <td>6.859286</td>\n",
       "      <td>18.667856</td>\n",
       "      <td>28.190001</td>\n",
       "      <td>46.2775</td>\n",
       "      <td>151.830002</td>\n",
       "    </tr>\n",
       "  </tbody>\n",
       "</table>\n",
       "</div>"
      ],
      "text/plain": [
       "       count       mean        std       min        25%        50%      75%  \\\n",
       "Close  141.0  40.477014  34.710126  6.859286  18.667856  28.190001  46.2775   \n",
       "\n",
       "              max  \n",
       "Close  151.830002  "
      ]
     },
     "execution_count": 73,
     "metadata": {},
     "output_type": "execute_result"
    }
   ],
   "source": [
    "df.describe().T"
   ]
  },
  {
   "cell_type": "code",
   "execution_count": 74,
   "id": "e5b09f7f-6fab-421c-b2be-739b102f712d",
   "metadata": {},
   "outputs": [
    {
     "data": {
      "text/plain": [
       "<AxesSubplot:xlabel='Date'>"
      ]
     },
     "execution_count": 74,
     "metadata": {},
     "output_type": "execute_result"
    },
    {
     "data": {
      "image/png": "[encoded data removed]",
      "text/plain": [
       "<Figure size 432x288 with 1 Axes>"
      ]
     },
     "metadata": {
      "needs_background": "light"
     },
     "output_type": "display_data"
    }
   ],
   "source": [
    "df.plot()"
   ]
  },
  {
   "cell_type": "code",
   "execution_count": 75,
   "id": "5d2c6397-8181-47e4-88f2-a8ab17f81cf6",
   "metadata": {},
   "outputs": [],
   "source": [
    "time_series = df['Close']"
   ]
  },
  {
   "cell_type": "code",
   "execution_count": 76,
   "id": "14469487-679f-44ac-95c4-a54244a458b8",
   "metadata": {},
   "outputs": [
    {
     "data": {
      "text/plain": [
       "pandas.core.series.Series"
      ]
     },
     "execution_count": 76,
     "metadata": {},
     "output_type": "execute_result"
    }
   ],
   "source": [
    "type(time_series)"
   ]
  },
  {
   "cell_type": "code",
   "execution_count": 77,
   "id": "95c4067f-6346-4936-a7d5-60e3b67b9e68",
   "metadata": {},
   "outputs": [
    {
     "data": {
      "image/png": "[encoded data removed]",
      "text/plain": [
       "<Figure size 720x576 with 1 Axes>"
      ]
     },
     "metadata": {
      "needs_background": "light"
     },
     "output_type": "display_data"
    }
   ],
   "source": [
    "time_series.rolling(12).mean().plot(label='12 Month Rolling Mean',figsize=(10,8))\n",
    "time_series.rolling(12).std().plot(label='12 Month Rolling STD')\n",
    "time_series.plot(label='Milk in Pounds per Cow')\n",
    "plt.legend();"
   ]
  },
  {
   "cell_type": "code",
   "execution_count": 78,
   "id": "75798c69-86c3-4b43-b77c-31cbc5692156",
   "metadata": {},
   "outputs": [],
   "source": [
    "from statsmodels.tsa.seasonal import seasonal_decompose"
   ]
  },
  {
   "cell_type": "code",
   "execution_count": 79,
   "id": "0a3a680f-2e6b-4d82-abb4-1179345648a1",
   "metadata": {},
   "outputs": [],
   "source": [
    "decomp = seasonal_decompose(time_series)"
   ]
  },
  {
   "cell_type": "code",
   "execution_count": 80,
   "id": "2ae677ac-25ab-4673-9031-87950facf43f",
   "metadata": {},
   "outputs": [
    {
     "data": {
      "image/png": "[encoded data removed]",
      "text/plain": [
       "<Figure size 1080x576 with 4 Axes>"
      ]
     },
     "metadata": {
      "needs_background": "light"
     },
     "output_type": "display_data"
    }
   ],
   "source": [
    "fig=decomp.plot()\n",
    "fig.set_size_inches(15,8)"
   ]
  },
  {
   "cell_type": "code",
   "execution_count": 81,
   "id": "3f25b27b-37d3-492f-a953-e3b881431512",
   "metadata": {},
   "outputs": [
    {
     "data": {
      "text/html": [
       "<div>\n",
       "<style scoped>\n",
       "    .dataframe tbody tr th:only-of-type {\n",
       "        vertical-align: middle;\n",
       "    }\n",
       "\n",
       "    .dataframe tbody tr th {\n",
       "        vertical-align: top;\n",
       "    }\n",
       "\n",
       "    .dataframe thead th {\n",
       "        text-align: right;\n",
       "    }\n",
       "</style>\n",
       "<table border=\"1\" class=\"dataframe\">\n",
       "  <thead>\n",
       "    <tr style=\"text-align: right;\">\n",
       "      <th></th>\n",
       "      <th>Close</th>\n",
       "    </tr>\n",
       "    <tr>\n",
       "      <th>Date</th>\n",
       "      <th></th>\n",
       "    </tr>\n",
       "  </thead>\n",
       "  <tbody>\n",
       "    <tr>\n",
       "      <th>2010-01-01</th>\n",
       "      <td>6.859286</td>\n",
       "    </tr>\n",
       "    <tr>\n",
       "      <th>2010-02-01</th>\n",
       "      <td>7.307857</td>\n",
       "    </tr>\n",
       "    <tr>\n",
       "      <th>2010-03-01</th>\n",
       "      <td>8.392857</td>\n",
       "    </tr>\n",
       "    <tr>\n",
       "      <th>2010-04-01</th>\n",
       "      <td>9.324643</td>\n",
       "    </tr>\n",
       "    <tr>\n",
       "      <th>2010-05-01</th>\n",
       "      <td>9.174286</td>\n",
       "    </tr>\n",
       "  </tbody>\n",
       "</table>\n",
       "</div>"
      ],
      "text/plain": [
       "               Close\n",
       "Date                \n",
       "2010-01-01  6.859286\n",
       "2010-02-01  7.307857\n",
       "2010-03-01  8.392857\n",
       "2010-04-01  9.324643\n",
       "2010-05-01  9.174286"
      ]
     },
     "execution_count": 81,
     "metadata": {},
     "output_type": "execute_result"
    }
   ],
   "source": [
    "df.head()"
   ]
  },
  {
   "cell_type": "markdown",
   "id": "1d50a2c6-80f8-41e6-931c-d299380612ff",
   "metadata": {},
   "source": [
    "### Dicky Fuller Test\n",
    "Test if data is stationary or not"
   ]
  },
  {
   "cell_type": "code",
   "execution_count": 82,
   "id": "5246c24d-e13e-4464-87a1-a043ebed9d0d",
   "metadata": {},
   "outputs": [],
   "source": [
    "from statsmodels.tsa.stattools import adfuller"
   ]
  },
  {
   "cell_type": "code",
   "execution_count": 83,
   "id": "14a4bd0c-c1cc-4b23-ada6-7ba9b0eaafc0",
   "metadata": {},
   "outputs": [],
   "source": [
    "result = adfuller(df['Close'])"
   ]
  },
  {
   "cell_type": "code",
   "execution_count": 84,
   "id": "fb434b15-8c5c-44ff-9ec1-11314348d6da",
   "metadata": {},
   "outputs": [
    {
     "data": {
      "text/plain": [
       "(1.7668353261043679,\n",
       " 0.9982809214956321,\n",
       " 13,\n",
       " 127,\n",
       " {'1%': -3.482920063655088,\n",
       "  '5%': -2.884580323367261,\n",
       "  '10%': -2.5790575441750883},\n",
       " 739.068246488184)"
      ]
     },
     "execution_count": 84,
     "metadata": {},
     "output_type": "execute_result"
    }
   ],
   "source": [
    "result"
   ]
  },
  {
   "cell_type": "code",
   "execution_count": 85,
   "id": "d713eab0-cbfd-48f3-bd2e-da94aac1bfea",
   "metadata": {},
   "outputs": [],
   "source": [
    "def adf_check(time_series):\n",
    "    \n",
    "    result=adfuller(time_series)\n",
    "    print(\" Augmented Dicky-Fuller Test\")\n",
    "    labels = ['ADF Test Statistic','p-value','# of lags','Num of Obseravtions used']\n",
    "    \n",
    "    for value,label in zip(result,labels):\n",
    "        print(label+\" : \"+str(value))\n",
    "        \n",
    "    if result[1]<=0.05:\n",
    "        print(\"Strong evidence against null hypothesis\")\n",
    "        print(\"Reject null hypothesis\")\n",
    "        print(\"Data has no unit root and is stationary\")\n",
    "    else:\n",
    "        print(\"Weak evidence against null hypothesis\")\n",
    "        print(\"Fail to reject null hypothesis\")\n",
    "        print(\"Data has a unit root, it is non-stationary\")"
   ]
  },
  {
   "cell_type": "code",
   "execution_count": 86,
   "id": "be9a6a27-3982-45f8-b475-416224af465a",
   "metadata": {},
   "outputs": [
    {
     "name": "stdout",
     "output_type": "stream",
     "text": [
      " Augmented Dicky-Fuller Test\n",
      "ADF Test Statistic : 1.7668353261043679\n",
      "p-value : 0.9982809214956321\n",
      "# of lags : 13\n",
      "Num of Obseravtions used : 127\n",
      "Weak evidence against null hypothesis\n",
      "Fail to reject null hypothesis\n",
      "Data has a unit root, it is non-stationary\n"
     ]
    }
   ],
   "source": [
    "adf_check(df['Close'])"
   ]
  },
  {
   "cell_type": "code",
   "execution_count": 87,
   "id": "3db131ed-f024-4570-b732-f43cedbe3f39",
   "metadata": {},
   "outputs": [],
   "source": [
    "df['First Difference'] = df['Close'] - df['Close'].shift(1)"
   ]
  },
  {
   "cell_type": "code",
   "execution_count": 88,
   "id": "e41d876d-8a11-477e-a65e-5c42c59e540d",
   "metadata": {},
   "outputs": [
    {
     "data": {
      "image/png": "[encoded data removed]",
      "text/plain": [
       "<Figure size 432x288 with 1 Axes>"
      ]
     },
     "metadata": {
      "needs_background": "light"
     },
     "output_type": "display_data"
    }
   ],
   "source": [
    "df['First Difference'].plot();"
   ]
  },
  {
   "cell_type": "code",
   "execution_count": 89,
   "id": "012c29e3-749d-4c69-86ee-776cfcce3bc2",
   "metadata": {},
   "outputs": [
    {
     "name": "stdout",
     "output_type": "stream",
     "text": [
      " Augmented Dicky-Fuller Test\n",
      "ADF Test Statistic : -1.8018000350436172\n",
      "p-value : 0.37956839309134444\n",
      "# of lags : 11\n",
      "Num of Obseravtions used : 128\n",
      "Weak evidence against null hypothesis\n",
      "Fail to reject null hypothesis\n",
      "Data has a unit root, it is non-stationary\n"
     ]
    }
   ],
   "source": [
    "adf_check(df['First Difference'].dropna())"
   ]
  },
  {
   "cell_type": "code",
   "execution_count": 90,
   "id": "7a7fb511-f855-4315-8fde-dbc8db0f01bd",
   "metadata": {},
   "outputs": [],
   "source": [
    "df['Second Difference'] = df['First Difference'] - df['First Difference'].shift(1)"
   ]
  },
  {
   "cell_type": "code",
   "execution_count": 91,
   "id": "a30d0436-53b0-462a-a26d-7befac3bdfd2",
   "metadata": {},
   "outputs": [
    {
     "name": "stdout",
     "output_type": "stream",
     "text": [
      " Augmented Dicky-Fuller Test\n",
      "ADF Test Statistic : -4.9586719818540335\n",
      "p-value : 2.6775382574903686e-05\n",
      "# of lags : 14\n",
      "Num of Obseravtions used : 124\n",
      "Strong evidence against null hypothesis\n",
      "Reject null hypothesis\n",
      "Data has no unit root and is stationary\n"
     ]
    }
   ],
   "source": [
    "adf_check(df['Second Difference'].dropna())"
   ]
  },
  {
   "cell_type": "code",
   "execution_count": 92,
   "id": "adc38a2e-86ee-4d27-9001-72c5442f3746",
   "metadata": {},
   "outputs": [
    {
     "data": {
      "text/plain": [
       "<AxesSubplot:xlabel='Date'>"
      ]
     },
     "execution_count": 92,
     "metadata": {},
     "output_type": "execute_result"
    },
    {
     "data": {
      "image/png": "[encoded data removed]",
      "text/plain": [
       "<Figure size 432x288 with 1 Axes>"
      ]
     },
     "metadata": {
      "needs_background": "light"
     },
     "output_type": "display_data"
    }
   ],
   "source": [
    "df['Second Difference'].plot()"
   ]
  },
  {
   "cell_type": "markdown",
   "id": "8daf5ebf-34ec-46d9-ba72-aba94096a720",
   "metadata": {},
   "source": [
    "#### The above shows the data is stationary as p-value is < 0.05\n",
    "The below is just to show in case we need a second difference"
   ]
  },
  {
   "cell_type": "code",
   "execution_count": 93,
   "id": "0b8a759b-5dc0-4351-8c2d-a9a261994a9e",
   "metadata": {},
   "outputs": [],
   "source": [
    "df['Seasonal Difference'] = df['Close'] - df['Close'].shift(12)"
   ]
  },
  {
   "cell_type": "code",
   "execution_count": 94,
   "id": "babdd96f-f9b3-47c6-a106-198182bda52d",
   "metadata": {},
   "outputs": [
    {
     "data": {
      "image/png": "[encoded data removed]",
      "text/plain": [
       "<Figure size 432x288 with 1 Axes>"
      ]
     },
     "metadata": {
      "needs_background": "light"
     },
     "output_type": "display_data"
    }
   ],
   "source": [
    "df['Seasonal Difference'].plot();"
   ]
  },
  {
   "cell_type": "code",
   "execution_count": 95,
   "id": "9d1e12a6-828f-4645-b91b-67764d96041a",
   "metadata": {},
   "outputs": [
    {
     "name": "stdout",
     "output_type": "stream",
     "text": [
      " Augmented Dicky-Fuller Test\n",
      "ADF Test Statistic : -1.7088667139838731\n",
      "p-value : 0.42654996678488044\n",
      "# of lags : 12\n",
      "Num of Obseravtions used : 116\n",
      "Weak evidence against null hypothesis\n",
      "Fail to reject null hypothesis\n",
      "Data has a unit root, it is non-stationary\n"
     ]
    }
   ],
   "source": [
    "adf_check(df['Seasonal Difference'].dropna())"
   ]
  },
  {
   "cell_type": "code",
   "execution_count": 96,
   "id": "37bfe6ef-9185-4876-a35a-17bf8194027c",
   "metadata": {},
   "outputs": [],
   "source": [
    "df['Seasonal First Difference'] = df['First Difference'] - df['First Difference'].shift(12)"
   ]
  },
  {
   "cell_type": "code",
   "execution_count": 97,
   "id": "e20b5691-c65f-41c3-996d-5bc2d7b47da9",
   "metadata": {},
   "outputs": [
    {
     "data": {
      "image/png": "[encoded data removed]",
      "text/plain": [
       "<Figure size 432x288 with 1 Axes>"
      ]
     },
     "metadata": {
      "needs_background": "light"
     },
     "output_type": "display_data"
    }
   ],
   "source": [
    "df['Seasonal Difference'].plot();"
   ]
  },
  {
   "cell_type": "code",
   "execution_count": 98,
   "id": "4fb87530-786e-4512-af80-832c66c71007",
   "metadata": {},
   "outputs": [
    {
     "name": "stdout",
     "output_type": "stream",
     "text": [
      " Augmented Dicky-Fuller Test\n",
      "ADF Test Statistic : -3.818905027393952\n",
      "p-value : 0.0027197075359934667\n",
      "# of lags : 13\n",
      "Num of Obseravtions used : 114\n",
      "Strong evidence against null hypothesis\n",
      "Reject null hypothesis\n",
      "Data has no unit root and is stationary\n"
     ]
    }
   ],
   "source": [
    "adf_check(df['Seasonal First Difference'].dropna())"
   ]
  },
  {
   "cell_type": "code",
   "execution_count": 99,
   "id": "77b91575-c3a5-4811-a301-d0bc07cb4be9",
   "metadata": {},
   "outputs": [],
   "source": [
    "from statsmodels.graphics.tsaplots import plot_acf,plot_pacf"
   ]
  },
  {
   "cell_type": "code",
   "execution_count": 100,
   "id": "c7a8b3af-a6d0-4d6b-abe0-b380156cf842",
   "metadata": {},
   "outputs": [
    {
     "data": {
      "image/png": "[encoded data removed]",
      "text/plain": [
       "<Figure size 432x288 with 1 Axes>"
      ]
     },
     "metadata": {
      "needs_background": "light"
     },
     "output_type": "display_data"
    }
   ],
   "source": [
    "fig_first = plot_acf(df['First Difference'].dropna())"
   ]
  },
  {
   "cell_type": "code",
   "execution_count": 101,
   "id": "8740bfe6-8dc8-42ff-93ba-f7dc464f4698",
   "metadata": {},
   "outputs": [
    {
     "data": {
      "image/png": "[encoded data removed]",
      "text/plain": [
       "<Figure size 432x288 with 1 Axes>"
      ]
     },
     "metadata": {
      "needs_background": "light"
     },
     "output_type": "display_data"
    }
   ],
   "source": [
    "fig_seasonal_first = plot_acf(df['Seasonal First Difference'].dropna())"
   ]
  },
  {
   "cell_type": "code",
   "execution_count": 102,
   "id": "56e04aa2-921b-4ae6-932c-63cf07f207b0",
   "metadata": {},
   "outputs": [
    {
     "name": "stderr",
     "output_type": "stream",
     "text": [
      "C:\\Users\\Trader\\anaconda3\\envs\\iod_dl\\lib\\site-packages\\statsmodels\\graphics\\tsaplots.py:348: FutureWarning: The default method 'yw' can produce PACF values outside of the [-1,1] interval. After 0.13, the default will change tounadjusted Yule-Walker ('ywm'). You can use this method now by setting method='ywm'.\n",
      "  warnings.warn(\n"
     ]
    },
    {
     "data": {
      "image/png": "[encoded data removed]",
      "text/plain": [
       "<Figure size 432x288 with 1 Axes>"
      ]
     },
     "metadata": {
      "needs_background": "light"
     },
     "output_type": "display_data"
    }
   ],
   "source": [
    "result = plot_pacf(df['Seasonal First Difference'].dropna())"
   ]
  },
  {
   "cell_type": "code",
   "execution_count": 103,
   "id": "9e821591-c031-45f7-9712-521c442c5e51",
   "metadata": {},
   "outputs": [
    {
     "name": "stderr",
     "output_type": "stream",
     "text": [
      "C:\\Users\\Trader\\anaconda3\\envs\\iod_dl\\lib\\site-packages\\statsmodels\\graphics\\tsaplots.py:348: FutureWarning: The default method 'yw' can produce PACF values outside of the [-1,1] interval. After 0.13, the default will change tounadjusted Yule-Walker ('ywm'). You can use this method now by setting method='ywm'.\n",
      "  warnings.warn(\n"
     ]
    },
    {
     "data": {
      "image/png": "[encoded data removed]",
      "text/plain": [
       "<Figure size 432x288 with 1 Axes>"
      ]
     },
     "execution_count": 103,
     "metadata": {},
     "output_type": "execute_result"
    },
    {
     "data": {
      "image/png": "[encoded data removed]",
      "text/plain": [
       "<Figure size 432x288 with 1 Axes>"
      ]
     },
     "metadata": {
      "needs_background": "light"
     },
     "output_type": "display_data"
    },
    {
     "data": {
      "image/png": "[encoded data removed]",
      "text/plain": [
       "<Figure size 432x288 with 1 Axes>"
      ]
     },
     "metadata": {
      "needs_background": "light"
     },
     "output_type": "display_data"
    }
   ],
   "source": [
    "plot_acf(df['Seasonal First Difference'].dropna())\n",
    "plot_pacf(df['Seasonal First Difference'].dropna())"
   ]
  },
  {
   "cell_type": "code",
   "execution_count": 104,
   "id": "c146e259-e1b0-45d3-a02a-fbfd4e6efee8",
   "metadata": {},
   "outputs": [],
   "source": [
    "from statsmodels.tsa.arima_model import ARIMA"
   ]
  },
  {
   "cell_type": "code",
   "execution_count": 105,
   "id": "aecdc900-68ce-4d1b-af84-b4af43973912",
   "metadata": {},
   "outputs": [
    {
     "name": "stdout",
     "output_type": "stream",
     "text": [
      "Help on class ARIMA in module statsmodels.tsa.arima_model:\n",
      "\n",
      "class ARIMA(ARMA)\n",
      " |  ARIMA(*args, **kwargs)\n",
      " |  \n",
      " |  ARIMA has been deprecated in favor of the new implementation\n",
      " |  \n",
      " |  See Also\n",
      " |  --------\n",
      " |  statsmodels.tsa.arima.model.ARIMA\n",
      " |      ARIMA models with a variety of parameter estimators\n",
      " |  statsmodels.tsa.statespace.SARIMAX\n",
      " |      SARIMAX models estimated using MLE\n",
      " |  \n",
      " |  Method resolution order:\n",
      " |      ARIMA\n",
      " |      ARMA\n",
      " |      builtins.object\n",
      " |  \n",
      " |  Methods defined here:\n",
      " |  \n",
      " |  __init__(self, *args, **kwargs)\n",
      " |      Initialize self.  See help(type(self)) for accurate signature.\n",
      " |  \n",
      " |  ----------------------------------------------------------------------\n",
      " |  Data descriptors inherited from ARMA:\n",
      " |  \n",
      " |  __dict__\n",
      " |      dictionary for instance variables (if defined)\n",
      " |  \n",
      " |  __weakref__\n",
      " |      list of weak references to the object (if defined)\n",
      "\n"
     ]
    }
   ],
   "source": [
    "help(ARIMA)"
   ]
  },
  {
   "cell_type": "code",
   "execution_count": 107,
   "id": "48a7bcdb-240b-4ae3-ab1e-93ec45a4eeae",
   "metadata": {},
   "outputs": [
    {
     "name": "stderr",
     "output_type": "stream",
     "text": [
      "C:\\Users\\Trader\\anaconda3\\envs\\iod_dl\\lib\\site-packages\\statsmodels\\tsa\\base\\tsa_model.py:536: ValueWarning: No frequency information was provided, so inferred frequency MS will be used.\n",
      "  warnings.warn('No frequency information was'\n",
      "C:\\Users\\Trader\\anaconda3\\envs\\iod_dl\\lib\\site-packages\\statsmodels\\tsa\\base\\tsa_model.py:536: ValueWarning: No frequency information was provided, so inferred frequency MS will be used.\n",
      "  warnings.warn('No frequency information was'\n"
     ]
    }
   ],
   "source": [
    "model = sm.tsa.statespace.SARIMAX(df['Close'],order=(0,1,0),seasonal_order=(1,1,1,12))"
   ]
  },
  {
   "cell_type": "code",
   "execution_count": 108,
   "id": "bde6e4a4-64f5-4838-9fc8-7d26cfe14724",
   "metadata": {},
   "outputs": [],
   "source": [
    "results = model.fit()"
   ]
  },
  {
   "cell_type": "code",
   "execution_count": 109,
   "id": "dd0ff3bf-4f7f-4739-abc3-995532d0b26a",
   "metadata": {},
   "outputs": [
    {
     "name": "stdout",
     "output_type": "stream",
     "text": [
      "                                      SARIMAX Results                                       \n",
      "============================================================================================\n",
      "Dep. Variable:                                Close   No. Observations:                  141\n",
      "Model:             SARIMAX(0, 1, 0)x(1, 1, [1], 12)   Log Likelihood                -378.655\n",
      "Date:                              Thu, 14 Apr 2022   AIC                            763.311\n",
      "Time:                                      10:32:08   BIC                            771.867\n",
      "Sample:                                  01-01-2010   HQIC                           766.787\n",
      "                                       - 09-01-2021                                         \n",
      "Covariance Type:                                opg                                         \n",
      "==============================================================================\n",
      "                 coef    std err          z      P>|z|      [0.025      0.975]\n",
      "------------------------------------------------------------------------------\n",
      "ar.S.L12      -0.3957      0.196     -2.016      0.044      -0.780      -0.011\n",
      "ma.S.L12      -0.1580      0.249     -0.633      0.526      -0.647       0.331\n",
      "sigma2        21.0923      1.677     12.575      0.000      17.805      24.380\n",
      "===================================================================================\n",
      "Ljung-Box (L1) (Q):                   3.41   Jarque-Bera (JB):                50.22\n",
      "Prob(Q):                              0.06   Prob(JB):                         0.00\n",
      "Heteroskedasticity (H):              27.31   Skew:                             0.42\n",
      "Prob(H) (two-sided):                  0.00   Kurtosis:                         5.95\n",
      "===================================================================================\n",
      "\n",
      "Warnings:\n",
      "[1] Covariance matrix calculated using the outer product of gradients (complex-step).\n"
     ]
    }
   ],
   "source": [
    "print(results.summary())"
   ]
  },
  {
   "cell_type": "code",
   "execution_count": 110,
   "id": "53da187e-0a99-4427-a615-fe73363071cd",
   "metadata": {},
   "outputs": [
    {
     "data": {
      "text/plain": [
       "Date\n",
       "2010-01-01    6.859286\n",
       "2010-02-01    0.448571\n",
       "2010-03-01    1.085000\n",
       "2010-04-01    0.931787\n",
       "2010-05-01   -0.150357\n",
       "                ...   \n",
       "2021-05-01   -6.987656\n",
       "2021-06-01    4.518190\n",
       "2021-07-01    0.303194\n",
       "2021-08-01   -4.428639\n",
       "2021-09-01   -6.139483\n",
       "Length: 141, dtype: float64"
      ]
     },
     "execution_count": 110,
     "metadata": {},
     "output_type": "execute_result"
    }
   ],
   "source": [
    "results.resid"
   ]
  },
  {
   "cell_type": "code",
   "execution_count": 111,
   "id": "96fbd288-6620-47ca-a526-aedab0b2e0a9",
   "metadata": {},
   "outputs": [
    {
     "data": {
      "text/plain": [
       "<AxesSubplot:xlabel='Date'>"
      ]
     },
     "execution_count": 111,
     "metadata": {},
     "output_type": "execute_result"
    },
    {
     "data": {
      "image/png": "[encoded data removed]",
      "text/plain": [
       "<Figure size 432x288 with 1 Axes>"
      ]
     },
     "metadata": {
      "needs_background": "light"
     },
     "output_type": "display_data"
    }
   ],
   "source": [
    "results.resid.plot()"
   ]
  },
  {
   "cell_type": "code",
   "execution_count": 112,
   "id": "fb2306e2-88b7-4fbe-8c82-9e1cf080de39",
   "metadata": {},
   "outputs": [
    {
     "data": {
      "text/plain": [
       "<AxesSubplot:ylabel='Density'>"
      ]
     },
     "execution_count": 112,
     "metadata": {},
     "output_type": "execute_result"
    },
    {
     "data": {
      "image/png": "[encoded data removed]",
      "text/plain": [
       "<Figure size 432x288 with 1 Axes>"
      ]
     },
     "metadata": {
      "needs_background": "light"
     },
     "output_type": "display_data"
    }
   ],
   "source": [
    "results.resid.plot(kind='kde')"
   ]
  },
  {
   "cell_type": "code",
   "execution_count": 114,
   "id": "9ab7e412-f60a-42c9-afac-397013ee21a2",
   "metadata": {},
   "outputs": [
    {
     "data": {
      "text/plain": [
       "(141, 6)"
      ]
     },
     "execution_count": 114,
     "metadata": {},
     "output_type": "execute_result"
    }
   ],
   "source": [
    "df.shape"
   ]
  },
  {
   "cell_type": "code",
   "execution_count": 115,
   "id": "d65703de-723c-4f5c-9d98-304945a248e8",
   "metadata": {},
   "outputs": [
    {
     "data": {
      "text/plain": [
       "<AxesSubplot:xlabel='Date'>"
      ]
     },
     "execution_count": 115,
     "metadata": {},
     "output_type": "execute_result"
    },
    {
     "data": {
      "image/png": "[encoded data removed]",
      "text/plain": [
       "<Figure size 864x576 with 1 Axes>"
      ]
     },
     "metadata": {
      "needs_background": "light"
     },
     "output_type": "display_data"
    }
   ],
   "source": [
    "df['forecast'] = results.predict(start=130,end=141)\n",
    "df[['Close','forecast']].plot(figsize=(12,8))"
   ]
  },
  {
   "cell_type": "code",
   "execution_count": 116,
   "id": "2a14e4c5-82a3-4aa7-af88-830161535f03",
   "metadata": {},
   "outputs": [
    {
     "data": {
      "text/html": [
       "<div>\n",
       "<style scoped>\n",
       "    .dataframe tbody tr th:only-of-type {\n",
       "        vertical-align: middle;\n",
       "    }\n",
       "\n",
       "    .dataframe tbody tr th {\n",
       "        vertical-align: top;\n",
       "    }\n",
       "\n",
       "    .dataframe thead th {\n",
       "        text-align: right;\n",
       "    }\n",
       "</style>\n",
       "<table border=\"1\" class=\"dataframe\">\n",
       "  <thead>\n",
       "    <tr style=\"text-align: right;\">\n",
       "      <th></th>\n",
       "      <th>Close</th>\n",
       "      <th>First Difference</th>\n",
       "      <th>Second Difference</th>\n",
       "      <th>Seasonal Difference</th>\n",
       "      <th>Seasonal First Difference</th>\n",
       "      <th>forecast</th>\n",
       "    </tr>\n",
       "    <tr>\n",
       "      <th>Date</th>\n",
       "      <th></th>\n",
       "      <th></th>\n",
       "      <th></th>\n",
       "      <th></th>\n",
       "      <th></th>\n",
       "      <th></th>\n",
       "    </tr>\n",
       "  </thead>\n",
       "  <tbody>\n",
       "    <tr>\n",
       "      <th>2021-05-01</th>\n",
       "      <td>124.610001</td>\n",
       "      <td>-6.850006</td>\n",
       "      <td>-16.160011</td>\n",
       "      <td>45.125000</td>\n",
       "      <td>-12.885010</td>\n",
       "      <td>131.597657</td>\n",
       "    </tr>\n",
       "    <tr>\n",
       "      <th>2021-06-01</th>\n",
       "      <td>136.960007</td>\n",
       "      <td>12.350006</td>\n",
       "      <td>19.200012</td>\n",
       "      <td>45.760010</td>\n",
       "      <td>0.635010</td>\n",
       "      <td>132.441817</td>\n",
       "    </tr>\n",
       "    <tr>\n",
       "      <th>2021-07-01</th>\n",
       "      <td>145.860001</td>\n",
       "      <td>8.899994</td>\n",
       "      <td>-3.450012</td>\n",
       "      <td>39.599998</td>\n",
       "      <td>-6.160011</td>\n",
       "      <td>145.556806</td>\n",
       "    </tr>\n",
       "    <tr>\n",
       "      <th>2021-08-01</th>\n",
       "      <td>151.830002</td>\n",
       "      <td>5.970001</td>\n",
       "      <td>-2.929993</td>\n",
       "      <td>22.790009</td>\n",
       "      <td>-16.809990</td>\n",
       "      <td>156.258641</td>\n",
       "    </tr>\n",
       "    <tr>\n",
       "      <th>2021-09-01</th>\n",
       "      <td>141.500000</td>\n",
       "      <td>-10.330002</td>\n",
       "      <td>-16.300003</td>\n",
       "      <td>25.690002</td>\n",
       "      <td>2.899994</td>\n",
       "      <td>147.639483</td>\n",
       "    </tr>\n",
       "  </tbody>\n",
       "</table>\n",
       "</div>"
      ],
      "text/plain": [
       "                 Close  First Difference  Second Difference  \\\n",
       "Date                                                          \n",
       "2021-05-01  124.610001         -6.850006         -16.160011   \n",
       "2021-06-01  136.960007         12.350006          19.200012   \n",
       "2021-07-01  145.860001          8.899994          -3.450012   \n",
       "2021-08-01  151.830002          5.970001          -2.929993   \n",
       "2021-09-01  141.500000        -10.330002         -16.300003   \n",
       "\n",
       "            Seasonal Difference  Seasonal First Difference    forecast  \n",
       "Date                                                                    \n",
       "2021-05-01            45.125000                 -12.885010  131.597657  \n",
       "2021-06-01            45.760010                   0.635010  132.441817  \n",
       "2021-07-01            39.599998                  -6.160011  145.556806  \n",
       "2021-08-01            22.790009                 -16.809990  156.258641  \n",
       "2021-09-01            25.690002                   2.899994  147.639483  "
      ]
     },
     "execution_count": 116,
     "metadata": {},
     "output_type": "execute_result"
    }
   ],
   "source": [
    "df.tail()"
   ]
  },
  {
   "cell_type": "code",
   "execution_count": 117,
   "id": "7bd1d96c-ba38-4af0-8530-c93eb71f4aeb",
   "metadata": {},
   "outputs": [],
   "source": [
    "from pandas.tseries.offsets import DateOffset"
   ]
  },
  {
   "cell_type": "code",
   "execution_count": 118,
   "id": "285a275e-7766-4686-87db-f5d806e8f596",
   "metadata": {},
   "outputs": [],
   "source": [
    "future_dates = [df.index[-1]+DateOffset(months=x) for x in range(1,24)]"
   ]
  },
  {
   "cell_type": "code",
   "execution_count": 119,
   "id": "16d44ee2-b14b-415f-9a8f-547098877231",
   "metadata": {},
   "outputs": [
    {
     "data": {
      "text/plain": [
       "[Timestamp('2021-10-01 00:00:00'),\n",
       " Timestamp('2021-11-01 00:00:00'),\n",
       " Timestamp('2021-12-01 00:00:00'),\n",
       " Timestamp('2022-01-01 00:00:00'),\n",
       " Timestamp('2022-02-01 00:00:00'),\n",
       " Timestamp('2022-03-01 00:00:00'),\n",
       " Timestamp('2022-04-01 00:00:00'),\n",
       " Timestamp('2022-05-01 00:00:00'),\n",
       " Timestamp('2022-06-01 00:00:00'),\n",
       " Timestamp('2022-07-01 00:00:00'),\n",
       " Timestamp('2022-08-01 00:00:00'),\n",
       " Timestamp('2022-09-01 00:00:00'),\n",
       " Timestamp('2022-10-01 00:00:00'),\n",
       " Timestamp('2022-11-01 00:00:00'),\n",
       " Timestamp('2022-12-01 00:00:00'),\n",
       " Timestamp('2023-01-01 00:00:00'),\n",
       " Timestamp('2023-02-01 00:00:00'),\n",
       " Timestamp('2023-03-01 00:00:00'),\n",
       " Timestamp('2023-04-01 00:00:00'),\n",
       " Timestamp('2023-05-01 00:00:00'),\n",
       " Timestamp('2023-06-01 00:00:00'),\n",
       " Timestamp('2023-07-01 00:00:00'),\n",
       " Timestamp('2023-08-01 00:00:00')]"
      ]
     },
     "execution_count": 119,
     "metadata": {},
     "output_type": "execute_result"
    }
   ],
   "source": [
    "future_dates"
   ]
  },
  {
   "cell_type": "code",
   "execution_count": 120,
   "id": "66c01ab2-5847-44ae-8239-4bc8b8dc3b91",
   "metadata": {},
   "outputs": [],
   "source": [
    "future_df = pd.DataFrame(index=future_dates,columns=df.columns)"
   ]
  },
  {
   "cell_type": "code",
   "execution_count": 121,
   "id": "6719d92e-4d17-4e0a-8b12-ea142bdb42fd",
   "metadata": {},
   "outputs": [
    {
     "data": {
      "text/html": [
       "<div>\n",
       "<style scoped>\n",
       "    .dataframe tbody tr th:only-of-type {\n",
       "        vertical-align: middle;\n",
       "    }\n",
       "\n",
       "    .dataframe tbody tr th {\n",
       "        vertical-align: top;\n",
       "    }\n",
       "\n",
       "    .dataframe thead th {\n",
       "        text-align: right;\n",
       "    }\n",
       "</style>\n",
       "<table border=\"1\" class=\"dataframe\">\n",
       "  <thead>\n",
       "    <tr style=\"text-align: right;\">\n",
       "      <th></th>\n",
       "      <th>Close</th>\n",
       "      <th>First Difference</th>\n",
       "      <th>Second Difference</th>\n",
       "      <th>Seasonal Difference</th>\n",
       "      <th>Seasonal First Difference</th>\n",
       "      <th>forecast</th>\n",
       "    </tr>\n",
       "  </thead>\n",
       "  <tbody>\n",
       "    <tr>\n",
       "      <th>2021-10-01</th>\n",
       "      <td>NaN</td>\n",
       "      <td>NaN</td>\n",
       "      <td>NaN</td>\n",
       "      <td>NaN</td>\n",
       "      <td>NaN</td>\n",
       "      <td>NaN</td>\n",
       "    </tr>\n",
       "    <tr>\n",
       "      <th>2021-11-01</th>\n",
       "      <td>NaN</td>\n",
       "      <td>NaN</td>\n",
       "      <td>NaN</td>\n",
       "      <td>NaN</td>\n",
       "      <td>NaN</td>\n",
       "      <td>NaN</td>\n",
       "    </tr>\n",
       "    <tr>\n",
       "      <th>2021-12-01</th>\n",
       "      <td>NaN</td>\n",
       "      <td>NaN</td>\n",
       "      <td>NaN</td>\n",
       "      <td>NaN</td>\n",
       "      <td>NaN</td>\n",
       "      <td>NaN</td>\n",
       "    </tr>\n",
       "    <tr>\n",
       "      <th>2022-01-01</th>\n",
       "      <td>NaN</td>\n",
       "      <td>NaN</td>\n",
       "      <td>NaN</td>\n",
       "      <td>NaN</td>\n",
       "      <td>NaN</td>\n",
       "      <td>NaN</td>\n",
       "    </tr>\n",
       "    <tr>\n",
       "      <th>2022-02-01</th>\n",
       "      <td>NaN</td>\n",
       "      <td>NaN</td>\n",
       "      <td>NaN</td>\n",
       "      <td>NaN</td>\n",
       "      <td>NaN</td>\n",
       "      <td>NaN</td>\n",
       "    </tr>\n",
       "    <tr>\n",
       "      <th>2022-03-01</th>\n",
       "      <td>NaN</td>\n",
       "      <td>NaN</td>\n",
       "      <td>NaN</td>\n",
       "      <td>NaN</td>\n",
       "      <td>NaN</td>\n",
       "      <td>NaN</td>\n",
       "    </tr>\n",
       "    <tr>\n",
       "      <th>2022-04-01</th>\n",
       "      <td>NaN</td>\n",
       "      <td>NaN</td>\n",
       "      <td>NaN</td>\n",
       "      <td>NaN</td>\n",
       "      <td>NaN</td>\n",
       "      <td>NaN</td>\n",
       "    </tr>\n",
       "    <tr>\n",
       "      <th>2022-05-01</th>\n",
       "      <td>NaN</td>\n",
       "      <td>NaN</td>\n",
       "      <td>NaN</td>\n",
       "      <td>NaN</td>\n",
       "      <td>NaN</td>\n",
       "      <td>NaN</td>\n",
       "    </tr>\n",
       "    <tr>\n",
       "      <th>2022-06-01</th>\n",
       "      <td>NaN</td>\n",
       "      <td>NaN</td>\n",
       "      <td>NaN</td>\n",
       "      <td>NaN</td>\n",
       "      <td>NaN</td>\n",
       "      <td>NaN</td>\n",
       "    </tr>\n",
       "    <tr>\n",
       "      <th>2022-07-01</th>\n",
       "      <td>NaN</td>\n",
       "      <td>NaN</td>\n",
       "      <td>NaN</td>\n",
       "      <td>NaN</td>\n",
       "      <td>NaN</td>\n",
       "      <td>NaN</td>\n",
       "    </tr>\n",
       "    <tr>\n",
       "      <th>2022-08-01</th>\n",
       "      <td>NaN</td>\n",
       "      <td>NaN</td>\n",
       "      <td>NaN</td>\n",
       "      <td>NaN</td>\n",
       "      <td>NaN</td>\n",
       "      <td>NaN</td>\n",
       "    </tr>\n",
       "    <tr>\n",
       "      <th>2022-09-01</th>\n",
       "      <td>NaN</td>\n",
       "      <td>NaN</td>\n",
       "      <td>NaN</td>\n",
       "      <td>NaN</td>\n",
       "      <td>NaN</td>\n",
       "      <td>NaN</td>\n",
       "    </tr>\n",
       "    <tr>\n",
       "      <th>2022-10-01</th>\n",
       "      <td>NaN</td>\n",
       "      <td>NaN</td>\n",
       "      <td>NaN</td>\n",
       "      <td>NaN</td>\n",
       "      <td>NaN</td>\n",
       "      <td>NaN</td>\n",
       "    </tr>\n",
       "    <tr>\n",
       "      <th>2022-11-01</th>\n",
       "      <td>NaN</td>\n",
       "      <td>NaN</td>\n",
       "      <td>NaN</td>\n",
       "      <td>NaN</td>\n",
       "      <td>NaN</td>\n",
       "      <td>NaN</td>\n",
       "    </tr>\n",
       "    <tr>\n",
       "      <th>2022-12-01</th>\n",
       "      <td>NaN</td>\n",
       "      <td>NaN</td>\n",
       "      <td>NaN</td>\n",
       "      <td>NaN</td>\n",
       "      <td>NaN</td>\n",
       "      <td>NaN</td>\n",
       "    </tr>\n",
       "    <tr>\n",
       "      <th>2023-01-01</th>\n",
       "      <td>NaN</td>\n",
       "      <td>NaN</td>\n",
       "      <td>NaN</td>\n",
       "      <td>NaN</td>\n",
       "      <td>NaN</td>\n",
       "      <td>NaN</td>\n",
       "    </tr>\n",
       "    <tr>\n",
       "      <th>2023-02-01</th>\n",
       "      <td>NaN</td>\n",
       "      <td>NaN</td>\n",
       "      <td>NaN</td>\n",
       "      <td>NaN</td>\n",
       "      <td>NaN</td>\n",
       "      <td>NaN</td>\n",
       "    </tr>\n",
       "    <tr>\n",
       "      <th>2023-03-01</th>\n",
       "      <td>NaN</td>\n",
       "      <td>NaN</td>\n",
       "      <td>NaN</td>\n",
       "      <td>NaN</td>\n",
       "      <td>NaN</td>\n",
       "      <td>NaN</td>\n",
       "    </tr>\n",
       "    <tr>\n",
       "      <th>2023-04-01</th>\n",
       "      <td>NaN</td>\n",
       "      <td>NaN</td>\n",
       "      <td>NaN</td>\n",
       "      <td>NaN</td>\n",
       "      <td>NaN</td>\n",
       "      <td>NaN</td>\n",
       "    </tr>\n",
       "    <tr>\n",
       "      <th>2023-05-01</th>\n",
       "      <td>NaN</td>\n",
       "      <td>NaN</td>\n",
       "      <td>NaN</td>\n",
       "      <td>NaN</td>\n",
       "      <td>NaN</td>\n",
       "      <td>NaN</td>\n",
       "    </tr>\n",
       "    <tr>\n",
       "      <th>2023-06-01</th>\n",
       "      <td>NaN</td>\n",
       "      <td>NaN</td>\n",
       "      <td>NaN</td>\n",
       "      <td>NaN</td>\n",
       "      <td>NaN</td>\n",
       "      <td>NaN</td>\n",
       "    </tr>\n",
       "    <tr>\n",
       "      <th>2023-07-01</th>\n",
       "      <td>NaN</td>\n",
       "      <td>NaN</td>\n",
       "      <td>NaN</td>\n",
       "      <td>NaN</td>\n",
       "      <td>NaN</td>\n",
       "      <td>NaN</td>\n",
       "    </tr>\n",
       "    <tr>\n",
       "      <th>2023-08-01</th>\n",
       "      <td>NaN</td>\n",
       "      <td>NaN</td>\n",
       "      <td>NaN</td>\n",
       "      <td>NaN</td>\n",
       "      <td>NaN</td>\n",
       "      <td>NaN</td>\n",
       "    </tr>\n",
       "  </tbody>\n",
       "</table>\n",
       "</div>"
      ],
      "text/plain": [
       "           Close First Difference Second Difference Seasonal Difference  \\\n",
       "2021-10-01   NaN              NaN               NaN                 NaN   \n",
       "2021-11-01   NaN              NaN               NaN                 NaN   \n",
       "2021-12-01   NaN              NaN               NaN                 NaN   \n",
       "2022-01-01   NaN              NaN               NaN                 NaN   \n",
       "2022-02-01   NaN              NaN               NaN                 NaN   \n",
       "2022-03-01   NaN              NaN               NaN                 NaN   \n",
       "2022-04-01   NaN              NaN               NaN                 NaN   \n",
       "2022-05-01   NaN              NaN               NaN                 NaN   \n",
       "2022-06-01   NaN              NaN               NaN                 NaN   \n",
       "2022-07-01   NaN              NaN               NaN                 NaN   \n",
       "2022-08-01   NaN              NaN               NaN                 NaN   \n",
       "2022-09-01   NaN              NaN               NaN                 NaN   \n",
       "2022-10-01   NaN              NaN               NaN                 NaN   \n",
       "2022-11-01   NaN              NaN               NaN                 NaN   \n",
       "2022-12-01   NaN              NaN               NaN                 NaN   \n",
       "2023-01-01   NaN              NaN               NaN                 NaN   \n",
       "2023-02-01   NaN              NaN               NaN                 NaN   \n",
       "2023-03-01   NaN              NaN               NaN                 NaN   \n",
       "2023-04-01   NaN              NaN               NaN                 NaN   \n",
       "2023-05-01   NaN              NaN               NaN                 NaN   \n",
       "2023-06-01   NaN              NaN               NaN                 NaN   \n",
       "2023-07-01   NaN              NaN               NaN                 NaN   \n",
       "2023-08-01   NaN              NaN               NaN                 NaN   \n",
       "\n",
       "           Seasonal First Difference forecast  \n",
       "2021-10-01                       NaN      NaN  \n",
       "2021-11-01                       NaN      NaN  \n",
       "2021-12-01                       NaN      NaN  \n",
       "2022-01-01                       NaN      NaN  \n",
       "2022-02-01                       NaN      NaN  \n",
       "2022-03-01                       NaN      NaN  \n",
       "2022-04-01                       NaN      NaN  \n",
       "2022-05-01                       NaN      NaN  \n",
       "2022-06-01                       NaN      NaN  \n",
       "2022-07-01                       NaN      NaN  \n",
       "2022-08-01                       NaN      NaN  \n",
       "2022-09-01                       NaN      NaN  \n",
       "2022-10-01                       NaN      NaN  \n",
       "2022-11-01                       NaN      NaN  \n",
       "2022-12-01                       NaN      NaN  \n",
       "2023-01-01                       NaN      NaN  \n",
       "2023-02-01                       NaN      NaN  \n",
       "2023-03-01                       NaN      NaN  \n",
       "2023-04-01                       NaN      NaN  \n",
       "2023-05-01                       NaN      NaN  \n",
       "2023-06-01                       NaN      NaN  \n",
       "2023-07-01                       NaN      NaN  \n",
       "2023-08-01                       NaN      NaN  "
      ]
     },
     "execution_count": 121,
     "metadata": {},
     "output_type": "execute_result"
    }
   ],
   "source": [
    "future_df"
   ]
  },
  {
   "cell_type": "code",
   "execution_count": 122,
   "id": "55e34188-03ad-498a-87f3-0d3de4ee2d57",
   "metadata": {},
   "outputs": [],
   "source": [
    "final_df = pd.concat([df,future_df])"
   ]
  },
  {
   "cell_type": "code",
   "execution_count": 123,
   "id": "94cb9a7e-54e5-44ae-bd5f-42c682f97346",
   "metadata": {},
   "outputs": [
    {
     "data": {
      "text/html": [
       "<div>\n",
       "<style scoped>\n",
       "    .dataframe tbody tr th:only-of-type {\n",
       "        vertical-align: middle;\n",
       "    }\n",
       "\n",
       "    .dataframe tbody tr th {\n",
       "        vertical-align: top;\n",
       "    }\n",
       "\n",
       "    .dataframe thead th {\n",
       "        text-align: right;\n",
       "    }\n",
       "</style>\n",
       "<table border=\"1\" class=\"dataframe\">\n",
       "  <thead>\n",
       "    <tr style=\"text-align: right;\">\n",
       "      <th></th>\n",
       "      <th>Close</th>\n",
       "      <th>First Difference</th>\n",
       "      <th>Second Difference</th>\n",
       "      <th>Seasonal Difference</th>\n",
       "      <th>Seasonal First Difference</th>\n",
       "      <th>forecast</th>\n",
       "    </tr>\n",
       "  </thead>\n",
       "  <tbody>\n",
       "    <tr>\n",
       "      <th>2010-01-01</th>\n",
       "      <td>6.859286</td>\n",
       "      <td>NaN</td>\n",
       "      <td>NaN</td>\n",
       "      <td>NaN</td>\n",
       "      <td>NaN</td>\n",
       "      <td>NaN</td>\n",
       "    </tr>\n",
       "    <tr>\n",
       "      <th>2010-02-01</th>\n",
       "      <td>7.307857</td>\n",
       "      <td>0.448571</td>\n",
       "      <td>NaN</td>\n",
       "      <td>NaN</td>\n",
       "      <td>NaN</td>\n",
       "      <td>NaN</td>\n",
       "    </tr>\n",
       "    <tr>\n",
       "      <th>2010-03-01</th>\n",
       "      <td>8.392857</td>\n",
       "      <td>1.085</td>\n",
       "      <td>0.636428</td>\n",
       "      <td>NaN</td>\n",
       "      <td>NaN</td>\n",
       "      <td>NaN</td>\n",
       "    </tr>\n",
       "    <tr>\n",
       "      <th>2010-04-01</th>\n",
       "      <td>9.324643</td>\n",
       "      <td>0.931787</td>\n",
       "      <td>-0.153213</td>\n",
       "      <td>NaN</td>\n",
       "      <td>NaN</td>\n",
       "      <td>NaN</td>\n",
       "    </tr>\n",
       "    <tr>\n",
       "      <th>2010-05-01</th>\n",
       "      <td>9.174286</td>\n",
       "      <td>-0.150357</td>\n",
       "      <td>-1.082144</td>\n",
       "      <td>NaN</td>\n",
       "      <td>NaN</td>\n",
       "      <td>NaN</td>\n",
       "    </tr>\n",
       "  </tbody>\n",
       "</table>\n",
       "</div>"
      ],
      "text/plain": [
       "               Close First Difference Second Difference Seasonal Difference  \\\n",
       "2010-01-01  6.859286              NaN               NaN                 NaN   \n",
       "2010-02-01  7.307857         0.448571               NaN                 NaN   \n",
       "2010-03-01  8.392857            1.085          0.636428                 NaN   \n",
       "2010-04-01  9.324643         0.931787         -0.153213                 NaN   \n",
       "2010-05-01  9.174286        -0.150357         -1.082144                 NaN   \n",
       "\n",
       "           Seasonal First Difference forecast  \n",
       "2010-01-01                       NaN      NaN  \n",
       "2010-02-01                       NaN      NaN  \n",
       "2010-03-01                       NaN      NaN  \n",
       "2010-04-01                       NaN      NaN  \n",
       "2010-05-01                       NaN      NaN  "
      ]
     },
     "execution_count": 123,
     "metadata": {},
     "output_type": "execute_result"
    }
   ],
   "source": [
    "final_df.head()"
   ]
  },
  {
   "cell_type": "code",
   "execution_count": 124,
   "id": "206b6431-f410-4ceb-93ce-2cd64d478fb1",
   "metadata": {},
   "outputs": [
    {
     "data": {
      "text/html": [
       "<div>\n",
       "<style scoped>\n",
       "    .dataframe tbody tr th:only-of-type {\n",
       "        vertical-align: middle;\n",
       "    }\n",
       "\n",
       "    .dataframe tbody tr th {\n",
       "        vertical-align: top;\n",
       "    }\n",
       "\n",
       "    .dataframe thead th {\n",
       "        text-align: right;\n",
       "    }\n",
       "</style>\n",
       "<table border=\"1\" class=\"dataframe\">\n",
       "  <thead>\n",
       "    <tr style=\"text-align: right;\">\n",
       "      <th></th>\n",
       "      <th>Close</th>\n",
       "      <th>First Difference</th>\n",
       "      <th>Second Difference</th>\n",
       "      <th>Seasonal Difference</th>\n",
       "      <th>Seasonal First Difference</th>\n",
       "      <th>forecast</th>\n",
       "    </tr>\n",
       "  </thead>\n",
       "  <tbody>\n",
       "    <tr>\n",
       "      <th>2023-04-01</th>\n",
       "      <td>NaN</td>\n",
       "      <td>NaN</td>\n",
       "      <td>NaN</td>\n",
       "      <td>NaN</td>\n",
       "      <td>NaN</td>\n",
       "      <td>NaN</td>\n",
       "    </tr>\n",
       "    <tr>\n",
       "      <th>2023-05-01</th>\n",
       "      <td>NaN</td>\n",
       "      <td>NaN</td>\n",
       "      <td>NaN</td>\n",
       "      <td>NaN</td>\n",
       "      <td>NaN</td>\n",
       "      <td>NaN</td>\n",
       "    </tr>\n",
       "    <tr>\n",
       "      <th>2023-06-01</th>\n",
       "      <td>NaN</td>\n",
       "      <td>NaN</td>\n",
       "      <td>NaN</td>\n",
       "      <td>NaN</td>\n",
       "      <td>NaN</td>\n",
       "      <td>NaN</td>\n",
       "    </tr>\n",
       "    <tr>\n",
       "      <th>2023-07-01</th>\n",
       "      <td>NaN</td>\n",
       "      <td>NaN</td>\n",
       "      <td>NaN</td>\n",
       "      <td>NaN</td>\n",
       "      <td>NaN</td>\n",
       "      <td>NaN</td>\n",
       "    </tr>\n",
       "    <tr>\n",
       "      <th>2023-08-01</th>\n",
       "      <td>NaN</td>\n",
       "      <td>NaN</td>\n",
       "      <td>NaN</td>\n",
       "      <td>NaN</td>\n",
       "      <td>NaN</td>\n",
       "      <td>NaN</td>\n",
       "    </tr>\n",
       "  </tbody>\n",
       "</table>\n",
       "</div>"
      ],
      "text/plain": [
       "           Close First Difference Second Difference Seasonal Difference  \\\n",
       "2023-04-01   NaN              NaN               NaN                 NaN   \n",
       "2023-05-01   NaN              NaN               NaN                 NaN   \n",
       "2023-06-01   NaN              NaN               NaN                 NaN   \n",
       "2023-07-01   NaN              NaN               NaN                 NaN   \n",
       "2023-08-01   NaN              NaN               NaN                 NaN   \n",
       "\n",
       "           Seasonal First Difference forecast  \n",
       "2023-04-01                       NaN      NaN  \n",
       "2023-05-01                       NaN      NaN  \n",
       "2023-06-01                       NaN      NaN  \n",
       "2023-07-01                       NaN      NaN  \n",
       "2023-08-01                       NaN      NaN  "
      ]
     },
     "execution_count": 124,
     "metadata": {},
     "output_type": "execute_result"
    }
   ],
   "source": [
    "final_df.tail()"
   ]
  },
  {
   "cell_type": "code",
   "execution_count": 126,
   "id": "85f250eb-9cc5-45fe-9f48-88e9a474e131",
   "metadata": {},
   "outputs": [
    {
     "data": {
      "text/plain": [
       "(164, 6)"
      ]
     },
     "execution_count": 126,
     "metadata": {},
     "output_type": "execute_result"
    }
   ],
   "source": [
    "final_df.shape"
   ]
  },
  {
   "cell_type": "code",
   "execution_count": 127,
   "id": "c2af25ad-826b-49fc-8d17-5ecebf8e4229",
   "metadata": {},
   "outputs": [],
   "source": [
    "final_df['forecast'] = results.predict(start=141,end=164)"
   ]
  },
  {
   "cell_type": "code",
   "execution_count": 128,
   "id": "16d6f8f0-f797-48c5-ad81-f0257e0763f6",
   "metadata": {},
   "outputs": [
    {
     "data": {
      "text/html": [
       "<div>\n",
       "<style scoped>\n",
       "    .dataframe tbody tr th:only-of-type {\n",
       "        vertical-align: middle;\n",
       "    }\n",
       "\n",
       "    .dataframe tbody tr th {\n",
       "        vertical-align: top;\n",
       "    }\n",
       "\n",
       "    .dataframe thead th {\n",
       "        text-align: right;\n",
       "    }\n",
       "</style>\n",
       "<table border=\"1\" class=\"dataframe\">\n",
       "  <thead>\n",
       "    <tr style=\"text-align: right;\">\n",
       "      <th></th>\n",
       "      <th>Close</th>\n",
       "      <th>First Difference</th>\n",
       "      <th>Second Difference</th>\n",
       "      <th>Seasonal Difference</th>\n",
       "      <th>Seasonal First Difference</th>\n",
       "      <th>forecast</th>\n",
       "    </tr>\n",
       "  </thead>\n",
       "  <tbody>\n",
       "    <tr>\n",
       "      <th>2023-04-01</th>\n",
       "      <td>NaN</td>\n",
       "      <td>NaN</td>\n",
       "      <td>NaN</td>\n",
       "      <td>NaN</td>\n",
       "      <td>NaN</td>\n",
       "      <td>196.128448</td>\n",
       "    </tr>\n",
       "    <tr>\n",
       "      <th>2023-05-01</th>\n",
       "      <td>NaN</td>\n",
       "      <td>NaN</td>\n",
       "      <td>NaN</td>\n",
       "      <td>NaN</td>\n",
       "      <td>NaN</td>\n",
       "      <td>193.026608</td>\n",
       "    </tr>\n",
       "    <tr>\n",
       "      <th>2023-06-01</th>\n",
       "      <td>NaN</td>\n",
       "      <td>NaN</td>\n",
       "      <td>NaN</td>\n",
       "      <td>NaN</td>\n",
       "      <td>NaN</td>\n",
       "      <td>204.793404</td>\n",
       "    </tr>\n",
       "    <tr>\n",
       "      <th>2023-07-01</th>\n",
       "      <td>NaN</td>\n",
       "      <td>NaN</td>\n",
       "      <td>NaN</td>\n",
       "      <td>NaN</td>\n",
       "      <td>NaN</td>\n",
       "      <td>215.137417</td>\n",
       "    </tr>\n",
       "    <tr>\n",
       "      <th>2023-08-01</th>\n",
       "      <td>NaN</td>\n",
       "      <td>NaN</td>\n",
       "      <td>NaN</td>\n",
       "      <td>NaN</td>\n",
       "      <td>NaN</td>\n",
       "      <td>225.549797</td>\n",
       "    </tr>\n",
       "  </tbody>\n",
       "</table>\n",
       "</div>"
      ],
      "text/plain": [
       "           Close First Difference Second Difference Seasonal Difference  \\\n",
       "2023-04-01   NaN              NaN               NaN                 NaN   \n",
       "2023-05-01   NaN              NaN               NaN                 NaN   \n",
       "2023-06-01   NaN              NaN               NaN                 NaN   \n",
       "2023-07-01   NaN              NaN               NaN                 NaN   \n",
       "2023-08-01   NaN              NaN               NaN                 NaN   \n",
       "\n",
       "           Seasonal First Difference    forecast  \n",
       "2023-04-01                       NaN  196.128448  \n",
       "2023-05-01                       NaN  193.026608  \n",
       "2023-06-01                       NaN  204.793404  \n",
       "2023-07-01                       NaN  215.137417  \n",
       "2023-08-01                       NaN  225.549797  "
      ]
     },
     "execution_count": 128,
     "metadata": {},
     "output_type": "execute_result"
    }
   ],
   "source": [
    "final_df.tail()"
   ]
  },
  {
   "cell_type": "code",
   "execution_count": 130,
   "id": "fb0ab7df-8fa1-496b-b137-709cf9012b00",
   "metadata": {},
   "outputs": [
    {
     "data": {
      "text/plain": [
       "<AxesSubplot:>"
      ]
     },
     "execution_count": 130,
     "metadata": {},
     "output_type": "execute_result"
    },
    {
     "data": {
      "image/png": "[encoded data removed]",
      "text/plain": [
       "<Figure size 720x576 with 1 Axes>"
      ]
     },
     "metadata": {
      "needs_background": "light"
     },
     "output_type": "display_data"
    }
   ],
   "source": [
    "final_df['Close'].plot(figsize=(10,8))\n",
    "final_df['forecast'].plot()"
   ]
  },
  {
   "cell_type": "code",
   "execution_count": 132,
   "id": "a9cfcf61-e0c1-4b27-bbc4-c2a6be069da8",
   "metadata": {},
   "outputs": [
    {
     "data": {
      "image/png": "[encoded data removed]",
      "text/plain": [
       "<Figure size 720x576 with 1 Axes>"
      ]
     },
     "metadata": {
      "needs_background": "light"
     },
     "output_type": "display_data"
    }
   ],
   "source": [
    "final_df[['Close','forecast']].plot(figsize=(10,8));"
   ]
  },
  {
   "cell_type": "code",
   "execution_count": 133,
   "id": "66d35db0-a6e5-414a-9f8f-e445f34841ac",
   "metadata": {},
   "outputs": [
    {
     "data": {
      "text/plain": [
       "147.17321403871134"
      ]
     },
     "execution_count": 133,
     "metadata": {},
     "output_type": "execute_result"
    }
   ],
   "source": [
    "final_df['forecast']['2021-11-01']"
   ]
  },
  {
   "cell_type": "code",
   "execution_count": null,
   "id": "5ad2b854-8070-40b9-bac5-789d7023b4b2",
   "metadata": {},
   "outputs": [],
   "source": []
  }
 ],
 "metadata": {
  "kernelspec": {
   "display_name": "Python 3 (ipykernel)",
   "language": "python",
   "name": "python3"
  },
  "language_info": {
   "codemirror_mode": {
    "name": "ipython",
    "version": 3
   },
   "file_extension": ".py",
   "mimetype": "text/x-python",
   "name": "python",
   "nbconvert_exporter": "python",
   "pygments_lexer": "ipython3",
   "version": "3.9.7"
  }
 },
 "nbformat": 4,
 "nbformat_minor": 5
}
