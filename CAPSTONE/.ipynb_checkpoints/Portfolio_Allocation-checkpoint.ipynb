{
 "cells": [
  {
   "cell_type": "code",
   "execution_count": 1,
   "id": "79ff5ce2-d614-48c1-a3ab-f1820dded867",
   "metadata": {},
   "outputs": [],
   "source": [
    "import pandas as pd\n",
    "import quandl"
   ]
  },
  {
   "cell_type": "code",
   "execution_count": 2,
   "id": "1b26287e-cfec-42e7-9b6d-01b3b95cff97",
   "metadata": {},
   "outputs": [],
   "source": [
    "start = pd.to_datetime('2010-01-01')\n",
    "end = pd.to_datetime('2021-10-01')"
   ]
  },
  {
   "cell_type": "code",
   "execution_count": 3,
   "id": "82a63699-3940-43b1-890b-1036c682c9e7",
   "metadata": {},
   "outputs": [],
   "source": [
    "# It's AAPL.11 because 11 stands for column 11 which is the adjusted close column\n",
    "micro = quandl.get('WIKI/MSFT.4',start_date=start,end_date=end)\n",
    "cisco = quandl.get('WIKI/CSCO.4',start_date=start,end_date=end)\n",
    "ibm = quandl.get('WIKI/IBM.4',start_date=start,end_date=end)\n",
    "amzn = quandl.get('WIKI/AMZN.4',start_date=start,end_date=end)"
   ]
  },
  {
   "cell_type": "code",
   "execution_count": 4,
   "id": "865ea3c7-cd45-4c57-91ca-10b7e76af328",
   "metadata": {},
   "outputs": [],
   "source": [
    "import numpy as np\n",
    "import matplotlib.pyplot as plt\n",
    "%matplotlib inline"
   ]
  },
  {
   "cell_type": "code",
   "execution_count": 5,
   "id": "32ab2b23-9cd3-4943-8fe9-6aac8aef6f7d",
   "metadata": {},
   "outputs": [
    {
     "data": {
      "text/html": [
       "<div>\n",
       "<style scoped>\n",
       "    .dataframe tbody tr th:only-of-type {\n",
       "        vertical-align: middle;\n",
       "    }\n",
       "\n",
       "    .dataframe tbody tr th {\n",
       "        vertical-align: top;\n",
       "    }\n",
       "\n",
       "    .dataframe thead th {\n",
       "        text-align: right;\n",
       "    }\n",
       "</style>\n",
       "<table border=\"1\" class=\"dataframe\">\n",
       "  <thead>\n",
       "    <tr style=\"text-align: right;\">\n",
       "      <th></th>\n",
       "      <th>Close</th>\n",
       "    </tr>\n",
       "    <tr>\n",
       "      <th>Date</th>\n",
       "      <th></th>\n",
       "    </tr>\n",
       "  </thead>\n",
       "  <tbody>\n",
       "    <tr>\n",
       "      <th>2010-01-04</th>\n",
       "      <td>30.950</td>\n",
       "    </tr>\n",
       "    <tr>\n",
       "      <th>2010-01-05</th>\n",
       "      <td>30.960</td>\n",
       "    </tr>\n",
       "    <tr>\n",
       "      <th>2010-01-06</th>\n",
       "      <td>30.770</td>\n",
       "    </tr>\n",
       "    <tr>\n",
       "      <th>2010-01-07</th>\n",
       "      <td>30.452</td>\n",
       "    </tr>\n",
       "    <tr>\n",
       "      <th>2010-01-08</th>\n",
       "      <td>30.660</td>\n",
       "    </tr>\n",
       "    <tr>\n",
       "      <th>...</th>\n",
       "      <td>...</td>\n",
       "    </tr>\n",
       "    <tr>\n",
       "      <th>2018-03-21</th>\n",
       "      <td>92.480</td>\n",
       "    </tr>\n",
       "    <tr>\n",
       "      <th>2018-03-22</th>\n",
       "      <td>89.790</td>\n",
       "    </tr>\n",
       "    <tr>\n",
       "      <th>2018-03-23</th>\n",
       "      <td>87.180</td>\n",
       "    </tr>\n",
       "    <tr>\n",
       "      <th>2018-03-26</th>\n",
       "      <td>93.780</td>\n",
       "    </tr>\n",
       "    <tr>\n",
       "      <th>2018-03-27</th>\n",
       "      <td>89.470</td>\n",
       "    </tr>\n",
       "  </tbody>\n",
       "</table>\n",
       "<p>2071 rows × 1 columns</p>\n",
       "</div>"
      ],
      "text/plain": [
       "             Close\n",
       "Date              \n",
       "2010-01-04  30.950\n",
       "2010-01-05  30.960\n",
       "2010-01-06  30.770\n",
       "2010-01-07  30.452\n",
       "2010-01-08  30.660\n",
       "...            ...\n",
       "2018-03-21  92.480\n",
       "2018-03-22  89.790\n",
       "2018-03-23  87.180\n",
       "2018-03-26  93.780\n",
       "2018-03-27  89.470\n",
       "\n",
       "[2071 rows x 1 columns]"
      ]
     },
     "execution_count": 5,
     "metadata": {},
     "output_type": "execute_result"
    }
   ],
   "source": [
    "micro"
   ]
  },
  {
   "cell_type": "code",
   "execution_count": 6,
   "id": "5e20c74e-ce44-49d0-9f9b-e3eac1251e2b",
   "metadata": {},
   "outputs": [
    {
     "data": {
      "text/plain": [
       "Close    30.95\n",
       "Name: 2010-01-04 00:00:00, dtype: float64"
      ]
     },
     "execution_count": 6,
     "metadata": {},
     "output_type": "execute_result"
    }
   ],
   "source": [
    "micro.iloc[0]"
   ]
  },
  {
   "cell_type": "code",
   "execution_count": 7,
   "id": "3a5ca005-1376-4b0c-9b11-eedf6e7b637d",
   "metadata": {},
   "outputs": [
    {
     "data": {
      "text/plain": [
       "30.95"
      ]
     },
     "execution_count": 7,
     "metadata": {},
     "output_type": "execute_result"
    }
   ],
   "source": [
    "micro.iloc[0]['Close']"
   ]
  },
  {
   "cell_type": "code",
   "execution_count": 8,
   "id": "eaea33ec-39df-44b7-9817-448fbb30dd0d",
   "metadata": {},
   "outputs": [],
   "source": [
    "# Normalized return = cumulative daily return\n",
    "for stock_df in (micro,cisco,ibm,amzn):\n",
    "    stock_df['Normed Return'] = stock_df['Close'] / stock_df.iloc[0]['Close']"
   ]
  },
  {
   "cell_type": "code",
   "execution_count": 9,
   "id": "b16f4093-c117-433a-a80a-c1d9f9025b87",
   "metadata": {},
   "outputs": [
    {
     "data": {
      "text/html": [
       "<div>\n",
       "<style scoped>\n",
       "    .dataframe tbody tr th:only-of-type {\n",
       "        vertical-align: middle;\n",
       "    }\n",
       "\n",
       "    .dataframe tbody tr th {\n",
       "        vertical-align: top;\n",
       "    }\n",
       "\n",
       "    .dataframe thead th {\n",
       "        text-align: right;\n",
       "    }\n",
       "</style>\n",
       "<table border=\"1\" class=\"dataframe\">\n",
       "  <thead>\n",
       "    <tr style=\"text-align: right;\">\n",
       "      <th></th>\n",
       "      <th>Close</th>\n",
       "      <th>Normed Return</th>\n",
       "    </tr>\n",
       "    <tr>\n",
       "      <th>Date</th>\n",
       "      <th></th>\n",
       "      <th></th>\n",
       "    </tr>\n",
       "  </thead>\n",
       "  <tbody>\n",
       "    <tr>\n",
       "      <th>2010-01-04</th>\n",
       "      <td>30.950</td>\n",
       "      <td>1.000000</td>\n",
       "    </tr>\n",
       "    <tr>\n",
       "      <th>2010-01-05</th>\n",
       "      <td>30.960</td>\n",
       "      <td>1.000323</td>\n",
       "    </tr>\n",
       "    <tr>\n",
       "      <th>2010-01-06</th>\n",
       "      <td>30.770</td>\n",
       "      <td>0.994184</td>\n",
       "    </tr>\n",
       "    <tr>\n",
       "      <th>2010-01-07</th>\n",
       "      <td>30.452</td>\n",
       "      <td>0.983910</td>\n",
       "    </tr>\n",
       "    <tr>\n",
       "      <th>2010-01-08</th>\n",
       "      <td>30.660</td>\n",
       "      <td>0.990630</td>\n",
       "    </tr>\n",
       "  </tbody>\n",
       "</table>\n",
       "</div>"
      ],
      "text/plain": [
       "             Close  Normed Return\n",
       "Date                             \n",
       "2010-01-04  30.950       1.000000\n",
       "2010-01-05  30.960       1.000323\n",
       "2010-01-06  30.770       0.994184\n",
       "2010-01-07  30.452       0.983910\n",
       "2010-01-08  30.660       0.990630"
      ]
     },
     "execution_count": 9,
     "metadata": {},
     "output_type": "execute_result"
    }
   ],
   "source": [
    "micro.head()"
   ]
  },
  {
   "cell_type": "code",
   "execution_count": 10,
   "id": "716f92d3-d18e-460f-a869-e5122175c59e",
   "metadata": {},
   "outputs": [
    {
     "data": {
      "text/html": [
       "<div>\n",
       "<style scoped>\n",
       "    .dataframe tbody tr th:only-of-type {\n",
       "        vertical-align: middle;\n",
       "    }\n",
       "\n",
       "    .dataframe tbody tr th {\n",
       "        vertical-align: top;\n",
       "    }\n",
       "\n",
       "    .dataframe thead th {\n",
       "        text-align: right;\n",
       "    }\n",
       "</style>\n",
       "<table border=\"1\" class=\"dataframe\">\n",
       "  <thead>\n",
       "    <tr style=\"text-align: right;\">\n",
       "      <th></th>\n",
       "      <th>Close</th>\n",
       "      <th>Normed Return</th>\n",
       "    </tr>\n",
       "    <tr>\n",
       "      <th>Date</th>\n",
       "      <th></th>\n",
       "      <th></th>\n",
       "    </tr>\n",
       "  </thead>\n",
       "  <tbody>\n",
       "    <tr>\n",
       "      <th>2018-03-21</th>\n",
       "      <td>92.48</td>\n",
       "      <td>2.988045</td>\n",
       "    </tr>\n",
       "    <tr>\n",
       "      <th>2018-03-22</th>\n",
       "      <td>89.79</td>\n",
       "      <td>2.901131</td>\n",
       "    </tr>\n",
       "    <tr>\n",
       "      <th>2018-03-23</th>\n",
       "      <td>87.18</td>\n",
       "      <td>2.816801</td>\n",
       "    </tr>\n",
       "    <tr>\n",
       "      <th>2018-03-26</th>\n",
       "      <td>93.78</td>\n",
       "      <td>3.030048</td>\n",
       "    </tr>\n",
       "    <tr>\n",
       "      <th>2018-03-27</th>\n",
       "      <td>89.47</td>\n",
       "      <td>2.890792</td>\n",
       "    </tr>\n",
       "  </tbody>\n",
       "</table>\n",
       "</div>"
      ],
      "text/plain": [
       "            Close  Normed Return\n",
       "Date                            \n",
       "2018-03-21  92.48       2.988045\n",
       "2018-03-22  89.79       2.901131\n",
       "2018-03-23  87.18       2.816801\n",
       "2018-03-26  93.78       3.030048\n",
       "2018-03-27  89.47       2.890792"
      ]
     },
     "execution_count": 10,
     "metadata": {},
     "output_type": "execute_result"
    }
   ],
   "source": [
    "micro.tail()"
   ]
  },
  {
   "cell_type": "code",
   "execution_count": 11,
   "id": "6cd75a5b-cb32-4d2c-a238-4dab085c3d1b",
   "metadata": {},
   "outputs": [],
   "source": [
    "stocks_norm = pd.concat([micro['Close'],cisco['Close'],ibm['Close'],amzn['Close']],axis=1)\n",
    "stocks_norm.columns = ['micro','cisco','ibm','amzn']"
   ]
  },
  {
   "cell_type": "code",
   "execution_count": 12,
   "id": "89ab8479-844c-4e06-b160-5cb5bb270f83",
   "metadata": {},
   "outputs": [
    {
     "data": {
      "text/plain": [
       "<AxesSubplot:xlabel='Date'>"
      ]
     },
     "execution_count": 12,
     "metadata": {},
     "output_type": "execute_result"
    },
    {
     "data": {
      "image/png": "[encoded data removed]",
      "text/plain": [
       "<Figure size 864x576 with 1 Axes>"
      ]
     },
     "metadata": {
      "needs_background": "light"
     },
     "output_type": "display_data"
    }
   ],
   "source": [
    "stock_normed = stocks_norm/stocks_norm.iloc[0]\n",
    "stock_normed.plot(figsize=(12,8))"
   ]
  },
  {
   "cell_type": "code",
   "execution_count": 13,
   "id": "5b09e774-cd71-4f26-9235-c8d464a0f338",
   "metadata": {},
   "outputs": [],
   "source": [
    "for stock_df, allo in zip((micro,cisco,ibm,amzn),[.3,.4,.2,.1]):\n",
    "    stock_df['Allocation'] = stock_df['Normed Return']*allo"
   ]
  },
  {
   "cell_type": "code",
   "execution_count": 14,
   "id": "6b9834fd-833a-4c2d-b088-0fad506bb1fa",
   "metadata": {},
   "outputs": [
    {
     "data": {
      "text/html": [
       "<div>\n",
       "<style scoped>\n",
       "    .dataframe tbody tr th:only-of-type {\n",
       "        vertical-align: middle;\n",
       "    }\n",
       "\n",
       "    .dataframe tbody tr th {\n",
       "        vertical-align: top;\n",
       "    }\n",
       "\n",
       "    .dataframe thead th {\n",
       "        text-align: right;\n",
       "    }\n",
       "</style>\n",
       "<table border=\"1\" class=\"dataframe\">\n",
       "  <thead>\n",
       "    <tr style=\"text-align: right;\">\n",
       "      <th></th>\n",
       "      <th>Close</th>\n",
       "      <th>Normed Return</th>\n",
       "      <th>Allocation</th>\n",
       "    </tr>\n",
       "    <tr>\n",
       "      <th>Date</th>\n",
       "      <th></th>\n",
       "      <th></th>\n",
       "      <th></th>\n",
       "    </tr>\n",
       "  </thead>\n",
       "  <tbody>\n",
       "    <tr>\n",
       "      <th>2010-01-04</th>\n",
       "      <td>30.950</td>\n",
       "      <td>1.000000</td>\n",
       "      <td>0.300000</td>\n",
       "    </tr>\n",
       "    <tr>\n",
       "      <th>2010-01-05</th>\n",
       "      <td>30.960</td>\n",
       "      <td>1.000323</td>\n",
       "      <td>0.300097</td>\n",
       "    </tr>\n",
       "    <tr>\n",
       "      <th>2010-01-06</th>\n",
       "      <td>30.770</td>\n",
       "      <td>0.994184</td>\n",
       "      <td>0.298255</td>\n",
       "    </tr>\n",
       "    <tr>\n",
       "      <th>2010-01-07</th>\n",
       "      <td>30.452</td>\n",
       "      <td>0.983910</td>\n",
       "      <td>0.295173</td>\n",
       "    </tr>\n",
       "    <tr>\n",
       "      <th>2010-01-08</th>\n",
       "      <td>30.660</td>\n",
       "      <td>0.990630</td>\n",
       "      <td>0.297189</td>\n",
       "    </tr>\n",
       "  </tbody>\n",
       "</table>\n",
       "</div>"
      ],
      "text/plain": [
       "             Close  Normed Return  Allocation\n",
       "Date                                         \n",
       "2010-01-04  30.950       1.000000    0.300000\n",
       "2010-01-05  30.960       1.000323    0.300097\n",
       "2010-01-06  30.770       0.994184    0.298255\n",
       "2010-01-07  30.452       0.983910    0.295173\n",
       "2010-01-08  30.660       0.990630    0.297189"
      ]
     },
     "execution_count": 14,
     "metadata": {},
     "output_type": "execute_result"
    }
   ],
   "source": [
    "micro.head()"
   ]
  },
  {
   "cell_type": "code",
   "execution_count": 15,
   "id": "b5823b2f-3426-4a14-8213-f9157f1df12e",
   "metadata": {},
   "outputs": [
    {
     "data": {
      "text/html": [
       "<div>\n",
       "<style scoped>\n",
       "    .dataframe tbody tr th:only-of-type {\n",
       "        vertical-align: middle;\n",
       "    }\n",
       "\n",
       "    .dataframe tbody tr th {\n",
       "        vertical-align: top;\n",
       "    }\n",
       "\n",
       "    .dataframe thead th {\n",
       "        text-align: right;\n",
       "    }\n",
       "</style>\n",
       "<table border=\"1\" class=\"dataframe\">\n",
       "  <thead>\n",
       "    <tr style=\"text-align: right;\">\n",
       "      <th></th>\n",
       "      <th>Close</th>\n",
       "      <th>Normed Return</th>\n",
       "      <th>Allocation</th>\n",
       "    </tr>\n",
       "    <tr>\n",
       "      <th>Date</th>\n",
       "      <th></th>\n",
       "      <th></th>\n",
       "      <th></th>\n",
       "    </tr>\n",
       "  </thead>\n",
       "  <tbody>\n",
       "    <tr>\n",
       "      <th>2018-03-21</th>\n",
       "      <td>92.48</td>\n",
       "      <td>2.988045</td>\n",
       "      <td>0.896414</td>\n",
       "    </tr>\n",
       "    <tr>\n",
       "      <th>2018-03-22</th>\n",
       "      <td>89.79</td>\n",
       "      <td>2.901131</td>\n",
       "      <td>0.870339</td>\n",
       "    </tr>\n",
       "    <tr>\n",
       "      <th>2018-03-23</th>\n",
       "      <td>87.18</td>\n",
       "      <td>2.816801</td>\n",
       "      <td>0.845040</td>\n",
       "    </tr>\n",
       "    <tr>\n",
       "      <th>2018-03-26</th>\n",
       "      <td>93.78</td>\n",
       "      <td>3.030048</td>\n",
       "      <td>0.909015</td>\n",
       "    </tr>\n",
       "    <tr>\n",
       "      <th>2018-03-27</th>\n",
       "      <td>89.47</td>\n",
       "      <td>2.890792</td>\n",
       "      <td>0.867237</td>\n",
       "    </tr>\n",
       "  </tbody>\n",
       "</table>\n",
       "</div>"
      ],
      "text/plain": [
       "            Close  Normed Return  Allocation\n",
       "Date                                        \n",
       "2018-03-21  92.48       2.988045    0.896414\n",
       "2018-03-22  89.79       2.901131    0.870339\n",
       "2018-03-23  87.18       2.816801    0.845040\n",
       "2018-03-26  93.78       3.030048    0.909015\n",
       "2018-03-27  89.47       2.890792    0.867237"
      ]
     },
     "execution_count": 15,
     "metadata": {},
     "output_type": "execute_result"
    }
   ],
   "source": [
    "micro.tail()"
   ]
  },
  {
   "cell_type": "code",
   "execution_count": 16,
   "id": "90f0967f-cf03-421d-8c11-0aa4f2ee1f87",
   "metadata": {},
   "outputs": [],
   "source": [
    "for stock_df in (micro,cisco,ibm,amzn):\n",
    "    stock_df['Position Values'] = stock_df['Allocation']*1000000"
   ]
  },
  {
   "cell_type": "code",
   "execution_count": 17,
   "id": "6e469ee8-5105-45b7-8086-245839ab8989",
   "metadata": {},
   "outputs": [
    {
     "data": {
      "text/html": [
       "<div>\n",
       "<style scoped>\n",
       "    .dataframe tbody tr th:only-of-type {\n",
       "        vertical-align: middle;\n",
       "    }\n",
       "\n",
       "    .dataframe tbody tr th {\n",
       "        vertical-align: top;\n",
       "    }\n",
       "\n",
       "    .dataframe thead th {\n",
       "        text-align: right;\n",
       "    }\n",
       "</style>\n",
       "<table border=\"1\" class=\"dataframe\">\n",
       "  <thead>\n",
       "    <tr style=\"text-align: right;\">\n",
       "      <th></th>\n",
       "      <th>Close</th>\n",
       "      <th>Normed Return</th>\n",
       "      <th>Allocation</th>\n",
       "      <th>Position Values</th>\n",
       "    </tr>\n",
       "    <tr>\n",
       "      <th>Date</th>\n",
       "      <th></th>\n",
       "      <th></th>\n",
       "      <th></th>\n",
       "      <th></th>\n",
       "    </tr>\n",
       "  </thead>\n",
       "  <tbody>\n",
       "    <tr>\n",
       "      <th>2010-01-04</th>\n",
       "      <td>30.950</td>\n",
       "      <td>1.000000</td>\n",
       "      <td>0.300000</td>\n",
       "      <td>300000.000000</td>\n",
       "    </tr>\n",
       "    <tr>\n",
       "      <th>2010-01-05</th>\n",
       "      <td>30.960</td>\n",
       "      <td>1.000323</td>\n",
       "      <td>0.300097</td>\n",
       "      <td>300096.930533</td>\n",
       "    </tr>\n",
       "    <tr>\n",
       "      <th>2010-01-06</th>\n",
       "      <td>30.770</td>\n",
       "      <td>0.994184</td>\n",
       "      <td>0.298255</td>\n",
       "      <td>298255.250404</td>\n",
       "    </tr>\n",
       "    <tr>\n",
       "      <th>2010-01-07</th>\n",
       "      <td>30.452</td>\n",
       "      <td>0.983910</td>\n",
       "      <td>0.295173</td>\n",
       "      <td>295172.859451</td>\n",
       "    </tr>\n",
       "    <tr>\n",
       "      <th>2010-01-08</th>\n",
       "      <td>30.660</td>\n",
       "      <td>0.990630</td>\n",
       "      <td>0.297189</td>\n",
       "      <td>297189.014540</td>\n",
       "    </tr>\n",
       "  </tbody>\n",
       "</table>\n",
       "</div>"
      ],
      "text/plain": [
       "             Close  Normed Return  Allocation  Position Values\n",
       "Date                                                          \n",
       "2010-01-04  30.950       1.000000    0.300000    300000.000000\n",
       "2010-01-05  30.960       1.000323    0.300097    300096.930533\n",
       "2010-01-06  30.770       0.994184    0.298255    298255.250404\n",
       "2010-01-07  30.452       0.983910    0.295173    295172.859451\n",
       "2010-01-08  30.660       0.990630    0.297189    297189.014540"
      ]
     },
     "execution_count": 17,
     "metadata": {},
     "output_type": "execute_result"
    }
   ],
   "source": [
    "micro.head()"
   ]
  },
  {
   "cell_type": "code",
   "execution_count": 18,
   "id": "3c3187a6-7e40-4450-9c82-561221dbbbeb",
   "metadata": {},
   "outputs": [],
   "source": [
    "all_pos_vals = [micro['Position Values'],cisco['Position Values'],\n",
    "               ibm['Position Values'],amzn['Position Values']]\n",
    "\n",
    "portfolio_val = pd.concat(all_pos_vals,axis=1)"
   ]
  },
  {
   "cell_type": "code",
   "execution_count": 19,
   "id": "63b2431d-f5e7-40f7-aa4f-58f62c713287",
   "metadata": {},
   "outputs": [
    {
     "data": {
      "text/html": [
       "<div>\n",
       "<style scoped>\n",
       "    .dataframe tbody tr th:only-of-type {\n",
       "        vertical-align: middle;\n",
       "    }\n",
       "\n",
       "    .dataframe tbody tr th {\n",
       "        vertical-align: top;\n",
       "    }\n",
       "\n",
       "    .dataframe thead th {\n",
       "        text-align: right;\n",
       "    }\n",
       "</style>\n",
       "<table border=\"1\" class=\"dataframe\">\n",
       "  <thead>\n",
       "    <tr style=\"text-align: right;\">\n",
       "      <th></th>\n",
       "      <th>Position Values</th>\n",
       "      <th>Position Values</th>\n",
       "      <th>Position Values</th>\n",
       "      <th>Position Values</th>\n",
       "    </tr>\n",
       "    <tr>\n",
       "      <th>Date</th>\n",
       "      <th></th>\n",
       "      <th></th>\n",
       "      <th></th>\n",
       "      <th></th>\n",
       "    </tr>\n",
       "  </thead>\n",
       "  <tbody>\n",
       "    <tr>\n",
       "      <th>2010-01-04</th>\n",
       "      <td>300000.000000</td>\n",
       "      <td>400000.000000</td>\n",
       "      <td>200000.000000</td>\n",
       "      <td>100000.000000</td>\n",
       "    </tr>\n",
       "    <tr>\n",
       "      <th>2010-01-05</th>\n",
       "      <td>300096.930533</td>\n",
       "      <td>398217.901985</td>\n",
       "      <td>197583.993960</td>\n",
       "      <td>100589.992532</td>\n",
       "    </tr>\n",
       "    <tr>\n",
       "      <th>2010-01-06</th>\n",
       "      <td>298255.250404</td>\n",
       "      <td>395625.759417</td>\n",
       "      <td>196300.490751</td>\n",
       "      <td>98767.737117</td>\n",
       "    </tr>\n",
       "    <tr>\n",
       "      <th>2010-01-07</th>\n",
       "      <td>295172.859451</td>\n",
       "      <td>397407.857432</td>\n",
       "      <td>195620.989052</td>\n",
       "      <td>97087.378641</td>\n",
       "    </tr>\n",
       "    <tr>\n",
       "      <th>2010-01-08</th>\n",
       "      <td>297189.014540</td>\n",
       "      <td>399513.973269</td>\n",
       "      <td>197583.993960</td>\n",
       "      <td>99716.206124</td>\n",
       "    </tr>\n",
       "  </tbody>\n",
       "</table>\n",
       "</div>"
      ],
      "text/plain": [
       "            Position Values  Position Values  Position Values  Position Values\n",
       "Date                                                                          \n",
       "2010-01-04    300000.000000    400000.000000    200000.000000    100000.000000\n",
       "2010-01-05    300096.930533    398217.901985    197583.993960    100589.992532\n",
       "2010-01-06    298255.250404    395625.759417    196300.490751     98767.737117\n",
       "2010-01-07    295172.859451    397407.857432    195620.989052     97087.378641\n",
       "2010-01-08    297189.014540    399513.973269    197583.993960     99716.206124"
      ]
     },
     "execution_count": 19,
     "metadata": {},
     "output_type": "execute_result"
    }
   ],
   "source": [
    "portfolio_val.head()"
   ]
  },
  {
   "cell_type": "code",
   "execution_count": 20,
   "id": "1350f6b0-ca6a-44c3-92a2-53d813deba37",
   "metadata": {},
   "outputs": [],
   "source": [
    "portfolio_val.columns = ['MSFT Pos', 'CISCO Pos','IBM Pos','AMZN Pos']"
   ]
  },
  {
   "cell_type": "code",
   "execution_count": 21,
   "id": "42417cef-1fe1-4435-8d39-e0f94387628f",
   "metadata": {},
   "outputs": [
    {
     "data": {
      "text/html": [
       "<div>\n",
       "<style scoped>\n",
       "    .dataframe tbody tr th:only-of-type {\n",
       "        vertical-align: middle;\n",
       "    }\n",
       "\n",
       "    .dataframe tbody tr th {\n",
       "        vertical-align: top;\n",
       "    }\n",
       "\n",
       "    .dataframe thead th {\n",
       "        text-align: right;\n",
       "    }\n",
       "</style>\n",
       "<table border=\"1\" class=\"dataframe\">\n",
       "  <thead>\n",
       "    <tr style=\"text-align: right;\">\n",
       "      <th></th>\n",
       "      <th>MSFT Pos</th>\n",
       "      <th>CISCO Pos</th>\n",
       "      <th>IBM Pos</th>\n",
       "      <th>AMZN Pos</th>\n",
       "    </tr>\n",
       "    <tr>\n",
       "      <th>Date</th>\n",
       "      <th></th>\n",
       "      <th></th>\n",
       "      <th></th>\n",
       "      <th></th>\n",
       "    </tr>\n",
       "  </thead>\n",
       "  <tbody>\n",
       "    <tr>\n",
       "      <th>2010-01-04</th>\n",
       "      <td>300000.000000</td>\n",
       "      <td>400000.000000</td>\n",
       "      <td>200000.000000</td>\n",
       "      <td>1.000000e+05</td>\n",
       "    </tr>\n",
       "    <tr>\n",
       "      <th>2010-01-05</th>\n",
       "      <td>300096.930533</td>\n",
       "      <td>398217.901985</td>\n",
       "      <td>197583.993960</td>\n",
       "      <td>1.005900e+05</td>\n",
       "    </tr>\n",
       "    <tr>\n",
       "      <th>2010-01-06</th>\n",
       "      <td>298255.250404</td>\n",
       "      <td>395625.759417</td>\n",
       "      <td>196300.490751</td>\n",
       "      <td>9.876774e+04</td>\n",
       "    </tr>\n",
       "    <tr>\n",
       "      <th>2010-01-07</th>\n",
       "      <td>295172.859451</td>\n",
       "      <td>397407.857432</td>\n",
       "      <td>195620.989052</td>\n",
       "      <td>9.708738e+04</td>\n",
       "    </tr>\n",
       "    <tr>\n",
       "      <th>2010-01-08</th>\n",
       "      <td>297189.014540</td>\n",
       "      <td>399513.973269</td>\n",
       "      <td>197583.993960</td>\n",
       "      <td>9.971621e+04</td>\n",
       "    </tr>\n",
       "    <tr>\n",
       "      <th>...</th>\n",
       "      <td>...</td>\n",
       "      <td>...</td>\n",
       "      <td>...</td>\n",
       "      <td>...</td>\n",
       "    </tr>\n",
       "    <tr>\n",
       "      <th>2018-03-21</th>\n",
       "      <td>896413.570275</td>\n",
       "      <td>717861.482382</td>\n",
       "      <td>236602.491506</td>\n",
       "      <td>1.181374e+06</td>\n",
       "    </tr>\n",
       "    <tr>\n",
       "      <th>2018-03-22</th>\n",
       "      <td>870339.256866</td>\n",
       "      <td>697772.377481</td>\n",
       "      <td>229656.474141</td>\n",
       "      <td>1.153174e+06</td>\n",
       "    </tr>\n",
       "    <tr>\n",
       "      <th>2018-03-23</th>\n",
       "      <td>845040.387722</td>\n",
       "      <td>687241.798299</td>\n",
       "      <td>224824.462061</td>\n",
       "      <td>1.116923e+06</td>\n",
       "    </tr>\n",
       "    <tr>\n",
       "      <th>2018-03-26</th>\n",
       "      <td>909014.539580</td>\n",
       "      <td>713811.259619</td>\n",
       "      <td>231589.278973</td>\n",
       "      <td>1.161957e+06</td>\n",
       "    </tr>\n",
       "    <tr>\n",
       "      <th>2018-03-27</th>\n",
       "      <td>867237.479806</td>\n",
       "      <td>691454.029972</td>\n",
       "      <td>229384.673462</td>\n",
       "      <td>1.118036e+06</td>\n",
       "    </tr>\n",
       "  </tbody>\n",
       "</table>\n",
       "<p>2071 rows × 4 columns</p>\n",
       "</div>"
      ],
      "text/plain": [
       "                 MSFT Pos      CISCO Pos        IBM Pos      AMZN Pos\n",
       "Date                                                                 \n",
       "2010-01-04  300000.000000  400000.000000  200000.000000  1.000000e+05\n",
       "2010-01-05  300096.930533  398217.901985  197583.993960  1.005900e+05\n",
       "2010-01-06  298255.250404  395625.759417  196300.490751  9.876774e+04\n",
       "2010-01-07  295172.859451  397407.857432  195620.989052  9.708738e+04\n",
       "2010-01-08  297189.014540  399513.973269  197583.993960  9.971621e+04\n",
       "...                   ...            ...            ...           ...\n",
       "2018-03-21  896413.570275  717861.482382  236602.491506  1.181374e+06\n",
       "2018-03-22  870339.256866  697772.377481  229656.474141  1.153174e+06\n",
       "2018-03-23  845040.387722  687241.798299  224824.462061  1.116923e+06\n",
       "2018-03-26  909014.539580  713811.259619  231589.278973  1.161957e+06\n",
       "2018-03-27  867237.479806  691454.029972  229384.673462  1.118036e+06\n",
       "\n",
       "[2071 rows x 4 columns]"
      ]
     },
     "execution_count": 21,
     "metadata": {},
     "output_type": "execute_result"
    }
   ],
   "source": [
    "portfolio_val"
   ]
  },
  {
   "cell_type": "code",
   "execution_count": 22,
   "id": "9b19de38-634a-47b2-87f9-358735663fbd",
   "metadata": {},
   "outputs": [],
   "source": [
    "portfolio_val['Total Pos'] = portfolio_val.sum(axis=1)"
   ]
  },
  {
   "cell_type": "code",
   "execution_count": 23,
   "id": "ddf2d12c-09cf-4b82-94ed-3a6a995963c9",
   "metadata": {},
   "outputs": [
    {
     "data": {
      "text/html": [
       "<div>\n",
       "<style scoped>\n",
       "    .dataframe tbody tr th:only-of-type {\n",
       "        vertical-align: middle;\n",
       "    }\n",
       "\n",
       "    .dataframe tbody tr th {\n",
       "        vertical-align: top;\n",
       "    }\n",
       "\n",
       "    .dataframe thead th {\n",
       "        text-align: right;\n",
       "    }\n",
       "</style>\n",
       "<table border=\"1\" class=\"dataframe\">\n",
       "  <thead>\n",
       "    <tr style=\"text-align: right;\">\n",
       "      <th></th>\n",
       "      <th>MSFT Pos</th>\n",
       "      <th>CISCO Pos</th>\n",
       "      <th>IBM Pos</th>\n",
       "      <th>AMZN Pos</th>\n",
       "      <th>Total Pos</th>\n",
       "    </tr>\n",
       "    <tr>\n",
       "      <th>Date</th>\n",
       "      <th></th>\n",
       "      <th></th>\n",
       "      <th></th>\n",
       "      <th></th>\n",
       "      <th></th>\n",
       "    </tr>\n",
       "  </thead>\n",
       "  <tbody>\n",
       "    <tr>\n",
       "      <th>2010-01-04</th>\n",
       "      <td>300000.000000</td>\n",
       "      <td>400000.000000</td>\n",
       "      <td>200000.000000</td>\n",
       "      <td>100000.000000</td>\n",
       "      <td>1000000.000000</td>\n",
       "    </tr>\n",
       "    <tr>\n",
       "      <th>2010-01-05</th>\n",
       "      <td>300096.930533</td>\n",
       "      <td>398217.901985</td>\n",
       "      <td>197583.993960</td>\n",
       "      <td>100589.992532</td>\n",
       "      <td>996488.819009</td>\n",
       "    </tr>\n",
       "    <tr>\n",
       "      <th>2010-01-06</th>\n",
       "      <td>298255.250404</td>\n",
       "      <td>395625.759417</td>\n",
       "      <td>196300.490751</td>\n",
       "      <td>98767.737117</td>\n",
       "      <td>988949.237689</td>\n",
       "    </tr>\n",
       "    <tr>\n",
       "      <th>2010-01-07</th>\n",
       "      <td>295172.859451</td>\n",
       "      <td>397407.857432</td>\n",
       "      <td>195620.989052</td>\n",
       "      <td>97087.378641</td>\n",
       "      <td>985289.084576</td>\n",
       "    </tr>\n",
       "    <tr>\n",
       "      <th>2010-01-08</th>\n",
       "      <td>297189.014540</td>\n",
       "      <td>399513.973269</td>\n",
       "      <td>197583.993960</td>\n",
       "      <td>99716.206124</td>\n",
       "      <td>994003.187892</td>\n",
       "    </tr>\n",
       "  </tbody>\n",
       "</table>\n",
       "</div>"
      ],
      "text/plain": [
       "                 MSFT Pos      CISCO Pos        IBM Pos       AMZN Pos  \\\n",
       "Date                                                                     \n",
       "2010-01-04  300000.000000  400000.000000  200000.000000  100000.000000   \n",
       "2010-01-05  300096.930533  398217.901985  197583.993960  100589.992532   \n",
       "2010-01-06  298255.250404  395625.759417  196300.490751   98767.737117   \n",
       "2010-01-07  295172.859451  397407.857432  195620.989052   97087.378641   \n",
       "2010-01-08  297189.014540  399513.973269  197583.993960   99716.206124   \n",
       "\n",
       "                 Total Pos  \n",
       "Date                        \n",
       "2010-01-04  1000000.000000  \n",
       "2010-01-05   996488.819009  \n",
       "2010-01-06   988949.237689  \n",
       "2010-01-07   985289.084576  \n",
       "2010-01-08   994003.187892  "
      ]
     },
     "execution_count": 23,
     "metadata": {},
     "output_type": "execute_result"
    }
   ],
   "source": [
    "portfolio_val.head()"
   ]
  },
  {
   "cell_type": "code",
   "execution_count": 24,
   "id": "e526ce03-a311-4f87-b997-aac42347608c",
   "metadata": {},
   "outputs": [],
   "source": [
    "import matplotlib.pyplot as plt\n",
    "%matplotlib inline"
   ]
  },
  {
   "cell_type": "code",
   "execution_count": 25,
   "id": "ebcf1b5c-2975-45f7-8db4-bc27d24021ff",
   "metadata": {},
   "outputs": [
    {
     "data": {
      "image/png": "[encoded data removed]",
      "text/plain": [
       "<Figure size 720x576 with 1 Axes>"
      ]
     },
     "metadata": {
      "needs_background": "light"
     },
     "output_type": "display_data"
    }
   ],
   "source": [
    "portfolio_val['Total Pos'].plot(figsize=(10,8))\n",
    "plt.title('Total Portfolio Value');"
   ]
  },
  {
   "cell_type": "code",
   "execution_count": 26,
   "id": "1ea5ee45-8b0c-4076-a051-2fa8beed8f5e",
   "metadata": {},
   "outputs": [
    {
     "data": {
      "image/png": "[encoded data removed]",
      "text/plain": [
       "<Figure size 720x576 with 1 Axes>"
      ]
     },
     "metadata": {
      "needs_background": "light"
     },
     "output_type": "display_data"
    }
   ],
   "source": [
    "portfolio_val.drop('Total Pos',axis=1).plot(figsize=(10,8));"
   ]
  },
  {
   "cell_type": "markdown",
   "id": "fdbc4a6b-35a2-4fce-a6e8-184b88641a48",
   "metadata": {},
   "source": [
    "## Portfolio Stats"
   ]
  },
  {
   "cell_type": "code",
   "execution_count": 27,
   "id": "4513c417-9537-4492-8158-d81ca5202251",
   "metadata": {},
   "outputs": [
    {
     "data": {
      "text/html": [
       "<div>\n",
       "<style scoped>\n",
       "    .dataframe tbody tr th:only-of-type {\n",
       "        vertical-align: middle;\n",
       "    }\n",
       "\n",
       "    .dataframe tbody tr th {\n",
       "        vertical-align: top;\n",
       "    }\n",
       "\n",
       "    .dataframe thead th {\n",
       "        text-align: right;\n",
       "    }\n",
       "</style>\n",
       "<table border=\"1\" class=\"dataframe\">\n",
       "  <thead>\n",
       "    <tr style=\"text-align: right;\">\n",
       "      <th></th>\n",
       "      <th>MSFT Pos</th>\n",
       "      <th>CISCO Pos</th>\n",
       "      <th>IBM Pos</th>\n",
       "      <th>AMZN Pos</th>\n",
       "      <th>Total Pos</th>\n",
       "    </tr>\n",
       "    <tr>\n",
       "      <th>Date</th>\n",
       "      <th></th>\n",
       "      <th></th>\n",
       "      <th></th>\n",
       "      <th></th>\n",
       "      <th></th>\n",
       "    </tr>\n",
       "  </thead>\n",
       "  <tbody>\n",
       "    <tr>\n",
       "      <th>2010-01-04</th>\n",
       "      <td>300000.000000</td>\n",
       "      <td>400000.000000</td>\n",
       "      <td>200000.000000</td>\n",
       "      <td>100000.000000</td>\n",
       "      <td>1000000.000000</td>\n",
       "    </tr>\n",
       "    <tr>\n",
       "      <th>2010-01-05</th>\n",
       "      <td>300096.930533</td>\n",
       "      <td>398217.901985</td>\n",
       "      <td>197583.993960</td>\n",
       "      <td>100589.992532</td>\n",
       "      <td>996488.819009</td>\n",
       "    </tr>\n",
       "    <tr>\n",
       "      <th>2010-01-06</th>\n",
       "      <td>298255.250404</td>\n",
       "      <td>395625.759417</td>\n",
       "      <td>196300.490751</td>\n",
       "      <td>98767.737117</td>\n",
       "      <td>988949.237689</td>\n",
       "    </tr>\n",
       "    <tr>\n",
       "      <th>2010-01-07</th>\n",
       "      <td>295172.859451</td>\n",
       "      <td>397407.857432</td>\n",
       "      <td>195620.989052</td>\n",
       "      <td>97087.378641</td>\n",
       "      <td>985289.084576</td>\n",
       "    </tr>\n",
       "    <tr>\n",
       "      <th>2010-01-08</th>\n",
       "      <td>297189.014540</td>\n",
       "      <td>399513.973269</td>\n",
       "      <td>197583.993960</td>\n",
       "      <td>99716.206124</td>\n",
       "      <td>994003.187892</td>\n",
       "    </tr>\n",
       "  </tbody>\n",
       "</table>\n",
       "</div>"
      ],
      "text/plain": [
       "                 MSFT Pos      CISCO Pos        IBM Pos       AMZN Pos  \\\n",
       "Date                                                                     \n",
       "2010-01-04  300000.000000  400000.000000  200000.000000  100000.000000   \n",
       "2010-01-05  300096.930533  398217.901985  197583.993960  100589.992532   \n",
       "2010-01-06  298255.250404  395625.759417  196300.490751   98767.737117   \n",
       "2010-01-07  295172.859451  397407.857432  195620.989052   97087.378641   \n",
       "2010-01-08  297189.014540  399513.973269  197583.993960   99716.206124   \n",
       "\n",
       "                 Total Pos  \n",
       "Date                        \n",
       "2010-01-04  1000000.000000  \n",
       "2010-01-05   996488.819009  \n",
       "2010-01-06   988949.237689  \n",
       "2010-01-07   985289.084576  \n",
       "2010-01-08   994003.187892  "
      ]
     },
     "execution_count": 27,
     "metadata": {},
     "output_type": "execute_result"
    }
   ],
   "source": [
    "portfolio_val.head()"
   ]
  },
  {
   "cell_type": "code",
   "execution_count": 28,
   "id": "e56fb655-dc71-459b-9c0c-3260aebd1d56",
   "metadata": {},
   "outputs": [
    {
     "data": {
      "text/html": [
       "<div>\n",
       "<style scoped>\n",
       "    .dataframe tbody tr th:only-of-type {\n",
       "        vertical-align: middle;\n",
       "    }\n",
       "\n",
       "    .dataframe tbody tr th {\n",
       "        vertical-align: top;\n",
       "    }\n",
       "\n",
       "    .dataframe thead th {\n",
       "        text-align: right;\n",
       "    }\n",
       "</style>\n",
       "<table border=\"1\" class=\"dataframe\">\n",
       "  <thead>\n",
       "    <tr style=\"text-align: right;\">\n",
       "      <th></th>\n",
       "      <th>MSFT Pos</th>\n",
       "      <th>CISCO Pos</th>\n",
       "      <th>IBM Pos</th>\n",
       "      <th>AMZN Pos</th>\n",
       "      <th>Total Pos</th>\n",
       "    </tr>\n",
       "    <tr>\n",
       "      <th>Date</th>\n",
       "      <th></th>\n",
       "      <th></th>\n",
       "      <th></th>\n",
       "      <th></th>\n",
       "      <th></th>\n",
       "    </tr>\n",
       "  </thead>\n",
       "  <tbody>\n",
       "    <tr>\n",
       "      <th>2018-03-21</th>\n",
       "      <td>896413.570275</td>\n",
       "      <td>717861.482382</td>\n",
       "      <td>236602.491506</td>\n",
       "      <td>1.181374e+06</td>\n",
       "      <td>3.032252e+06</td>\n",
       "    </tr>\n",
       "    <tr>\n",
       "      <th>2018-03-22</th>\n",
       "      <td>870339.256866</td>\n",
       "      <td>697772.377481</td>\n",
       "      <td>229656.474141</td>\n",
       "      <td>1.153174e+06</td>\n",
       "      <td>2.950942e+06</td>\n",
       "    </tr>\n",
       "    <tr>\n",
       "      <th>2018-03-23</th>\n",
       "      <td>845040.387722</td>\n",
       "      <td>687241.798299</td>\n",
       "      <td>224824.462061</td>\n",
       "      <td>1.116923e+06</td>\n",
       "      <td>2.874030e+06</td>\n",
       "    </tr>\n",
       "    <tr>\n",
       "      <th>2018-03-26</th>\n",
       "      <td>909014.539580</td>\n",
       "      <td>713811.259619</td>\n",
       "      <td>231589.278973</td>\n",
       "      <td>1.161957e+06</td>\n",
       "      <td>3.016372e+06</td>\n",
       "    </tr>\n",
       "    <tr>\n",
       "      <th>2018-03-27</th>\n",
       "      <td>867237.479806</td>\n",
       "      <td>691454.029972</td>\n",
       "      <td>229384.673462</td>\n",
       "      <td>1.118036e+06</td>\n",
       "      <td>2.906112e+06</td>\n",
       "    </tr>\n",
       "  </tbody>\n",
       "</table>\n",
       "</div>"
      ],
      "text/plain": [
       "                 MSFT Pos      CISCO Pos        IBM Pos      AMZN Pos  \\\n",
       "Date                                                                    \n",
       "2018-03-21  896413.570275  717861.482382  236602.491506  1.181374e+06   \n",
       "2018-03-22  870339.256866  697772.377481  229656.474141  1.153174e+06   \n",
       "2018-03-23  845040.387722  687241.798299  224824.462061  1.116923e+06   \n",
       "2018-03-26  909014.539580  713811.259619  231589.278973  1.161957e+06   \n",
       "2018-03-27  867237.479806  691454.029972  229384.673462  1.118036e+06   \n",
       "\n",
       "               Total Pos  \n",
       "Date                      \n",
       "2018-03-21  3.032252e+06  \n",
       "2018-03-22  2.950942e+06  \n",
       "2018-03-23  2.874030e+06  \n",
       "2018-03-26  3.016372e+06  \n",
       "2018-03-27  2.906112e+06  "
      ]
     },
     "execution_count": 28,
     "metadata": {},
     "output_type": "execute_result"
    }
   ],
   "source": [
    "portfolio_val.tail()"
   ]
  },
  {
   "cell_type": "code",
   "execution_count": 29,
   "id": "761e681c-3620-4d75-9404-8c10aa946b96",
   "metadata": {},
   "outputs": [],
   "source": [
    "portfolio_val['Daily Return'] = portfolio_val['Total Pos'].pct_change()"
   ]
  },
  {
   "cell_type": "code",
   "execution_count": 30,
   "id": "386d6bdd-bd55-4b3a-bfab-06ba2262628a",
   "metadata": {},
   "outputs": [
    {
     "data": {
      "text/html": [
       "<div>\n",
       "<style scoped>\n",
       "    .dataframe tbody tr th:only-of-type {\n",
       "        vertical-align: middle;\n",
       "    }\n",
       "\n",
       "    .dataframe tbody tr th {\n",
       "        vertical-align: top;\n",
       "    }\n",
       "\n",
       "    .dataframe thead th {\n",
       "        text-align: right;\n",
       "    }\n",
       "</style>\n",
       "<table border=\"1\" class=\"dataframe\">\n",
       "  <thead>\n",
       "    <tr style=\"text-align: right;\">\n",
       "      <th></th>\n",
       "      <th>MSFT Pos</th>\n",
       "      <th>CISCO Pos</th>\n",
       "      <th>IBM Pos</th>\n",
       "      <th>AMZN Pos</th>\n",
       "      <th>Total Pos</th>\n",
       "      <th>Daily Return</th>\n",
       "    </tr>\n",
       "    <tr>\n",
       "      <th>Date</th>\n",
       "      <th></th>\n",
       "      <th></th>\n",
       "      <th></th>\n",
       "      <th></th>\n",
       "      <th></th>\n",
       "      <th></th>\n",
       "    </tr>\n",
       "  </thead>\n",
       "  <tbody>\n",
       "    <tr>\n",
       "      <th>2010-01-04</th>\n",
       "      <td>300000.000000</td>\n",
       "      <td>400000.000000</td>\n",
       "      <td>200000.000000</td>\n",
       "      <td>100000.000000</td>\n",
       "      <td>1000000.000000</td>\n",
       "      <td>NaN</td>\n",
       "    </tr>\n",
       "    <tr>\n",
       "      <th>2010-01-05</th>\n",
       "      <td>300096.930533</td>\n",
       "      <td>398217.901985</td>\n",
       "      <td>197583.993960</td>\n",
       "      <td>100589.992532</td>\n",
       "      <td>996488.819009</td>\n",
       "      <td>-0.003511</td>\n",
       "    </tr>\n",
       "    <tr>\n",
       "      <th>2010-01-06</th>\n",
       "      <td>298255.250404</td>\n",
       "      <td>395625.759417</td>\n",
       "      <td>196300.490751</td>\n",
       "      <td>98767.737117</td>\n",
       "      <td>988949.237689</td>\n",
       "      <td>-0.007566</td>\n",
       "    </tr>\n",
       "    <tr>\n",
       "      <th>2010-01-07</th>\n",
       "      <td>295172.859451</td>\n",
       "      <td>397407.857432</td>\n",
       "      <td>195620.989052</td>\n",
       "      <td>97087.378641</td>\n",
       "      <td>985289.084576</td>\n",
       "      <td>-0.003701</td>\n",
       "    </tr>\n",
       "    <tr>\n",
       "      <th>2010-01-08</th>\n",
       "      <td>297189.014540</td>\n",
       "      <td>399513.973269</td>\n",
       "      <td>197583.993960</td>\n",
       "      <td>99716.206124</td>\n",
       "      <td>994003.187892</td>\n",
       "      <td>0.008844</td>\n",
       "    </tr>\n",
       "  </tbody>\n",
       "</table>\n",
       "</div>"
      ],
      "text/plain": [
       "                 MSFT Pos      CISCO Pos        IBM Pos       AMZN Pos  \\\n",
       "Date                                                                     \n",
       "2010-01-04  300000.000000  400000.000000  200000.000000  100000.000000   \n",
       "2010-01-05  300096.930533  398217.901985  197583.993960  100589.992532   \n",
       "2010-01-06  298255.250404  395625.759417  196300.490751   98767.737117   \n",
       "2010-01-07  295172.859451  397407.857432  195620.989052   97087.378641   \n",
       "2010-01-08  297189.014540  399513.973269  197583.993960   99716.206124   \n",
       "\n",
       "                 Total Pos  Daily Return  \n",
       "Date                                      \n",
       "2010-01-04  1000000.000000           NaN  \n",
       "2010-01-05   996488.819009     -0.003511  \n",
       "2010-01-06   988949.237689     -0.007566  \n",
       "2010-01-07   985289.084576     -0.003701  \n",
       "2010-01-08   994003.187892      0.008844  "
      ]
     },
     "execution_count": 30,
     "metadata": {},
     "output_type": "execute_result"
    }
   ],
   "source": [
    "portfolio_val.head()"
   ]
  },
  {
   "cell_type": "code",
   "execution_count": 31,
   "id": "f511ccae-c116-4287-ac83-8ae390ed6bbc",
   "metadata": {},
   "outputs": [],
   "source": [
    "portfolio_val['Daily Return'] = portfolio_val['Total Pos'].pct_change(1)"
   ]
  },
  {
   "cell_type": "code",
   "execution_count": 32,
   "id": "3ded3867-8480-476e-aced-f1bff77cc263",
   "metadata": {},
   "outputs": [
    {
     "data": {
      "text/html": [
       "<div>\n",
       "<style scoped>\n",
       "    .dataframe tbody tr th:only-of-type {\n",
       "        vertical-align: middle;\n",
       "    }\n",
       "\n",
       "    .dataframe tbody tr th {\n",
       "        vertical-align: top;\n",
       "    }\n",
       "\n",
       "    .dataframe thead th {\n",
       "        text-align: right;\n",
       "    }\n",
       "</style>\n",
       "<table border=\"1\" class=\"dataframe\">\n",
       "  <thead>\n",
       "    <tr style=\"text-align: right;\">\n",
       "      <th></th>\n",
       "      <th>MSFT Pos</th>\n",
       "      <th>CISCO Pos</th>\n",
       "      <th>IBM Pos</th>\n",
       "      <th>AMZN Pos</th>\n",
       "      <th>Total Pos</th>\n",
       "      <th>Daily Return</th>\n",
       "    </tr>\n",
       "    <tr>\n",
       "      <th>Date</th>\n",
       "      <th></th>\n",
       "      <th></th>\n",
       "      <th></th>\n",
       "      <th></th>\n",
       "      <th></th>\n",
       "      <th></th>\n",
       "    </tr>\n",
       "  </thead>\n",
       "  <tbody>\n",
       "    <tr>\n",
       "      <th>2010-01-04</th>\n",
       "      <td>300000.000000</td>\n",
       "      <td>400000.000000</td>\n",
       "      <td>200000.000000</td>\n",
       "      <td>100000.000000</td>\n",
       "      <td>1000000.000000</td>\n",
       "      <td>NaN</td>\n",
       "    </tr>\n",
       "    <tr>\n",
       "      <th>2010-01-05</th>\n",
       "      <td>300096.930533</td>\n",
       "      <td>398217.901985</td>\n",
       "      <td>197583.993960</td>\n",
       "      <td>100589.992532</td>\n",
       "      <td>996488.819009</td>\n",
       "      <td>-0.003511</td>\n",
       "    </tr>\n",
       "    <tr>\n",
       "      <th>2010-01-06</th>\n",
       "      <td>298255.250404</td>\n",
       "      <td>395625.759417</td>\n",
       "      <td>196300.490751</td>\n",
       "      <td>98767.737117</td>\n",
       "      <td>988949.237689</td>\n",
       "      <td>-0.007566</td>\n",
       "    </tr>\n",
       "    <tr>\n",
       "      <th>2010-01-07</th>\n",
       "      <td>295172.859451</td>\n",
       "      <td>397407.857432</td>\n",
       "      <td>195620.989052</td>\n",
       "      <td>97087.378641</td>\n",
       "      <td>985289.084576</td>\n",
       "      <td>-0.003701</td>\n",
       "    </tr>\n",
       "    <tr>\n",
       "      <th>2010-01-08</th>\n",
       "      <td>297189.014540</td>\n",
       "      <td>399513.973269</td>\n",
       "      <td>197583.993960</td>\n",
       "      <td>99716.206124</td>\n",
       "      <td>994003.187892</td>\n",
       "      <td>0.008844</td>\n",
       "    </tr>\n",
       "  </tbody>\n",
       "</table>\n",
       "</div>"
      ],
      "text/plain": [
       "                 MSFT Pos      CISCO Pos        IBM Pos       AMZN Pos  \\\n",
       "Date                                                                     \n",
       "2010-01-04  300000.000000  400000.000000  200000.000000  100000.000000   \n",
       "2010-01-05  300096.930533  398217.901985  197583.993960  100589.992532   \n",
       "2010-01-06  298255.250404  395625.759417  196300.490751   98767.737117   \n",
       "2010-01-07  295172.859451  397407.857432  195620.989052   97087.378641   \n",
       "2010-01-08  297189.014540  399513.973269  197583.993960   99716.206124   \n",
       "\n",
       "                 Total Pos  Daily Return  \n",
       "Date                                      \n",
       "2010-01-04  1000000.000000           NaN  \n",
       "2010-01-05   996488.819009     -0.003511  \n",
       "2010-01-06   988949.237689     -0.007566  \n",
       "2010-01-07   985289.084576     -0.003701  \n",
       "2010-01-08   994003.187892      0.008844  "
      ]
     },
     "execution_count": 32,
     "metadata": {},
     "output_type": "execute_result"
    }
   ],
   "source": [
    "portfolio_val.head()"
   ]
  },
  {
   "cell_type": "code",
   "execution_count": 33,
   "id": "6eeb114b-e01c-4c54-9157-6f445da506b7",
   "metadata": {},
   "outputs": [
    {
     "data": {
      "text/html": [
       "<div>\n",
       "<style scoped>\n",
       "    .dataframe tbody tr th:only-of-type {\n",
       "        vertical-align: middle;\n",
       "    }\n",
       "\n",
       "    .dataframe tbody tr th {\n",
       "        vertical-align: top;\n",
       "    }\n",
       "\n",
       "    .dataframe thead th {\n",
       "        text-align: right;\n",
       "    }\n",
       "</style>\n",
       "<table border=\"1\" class=\"dataframe\">\n",
       "  <thead>\n",
       "    <tr style=\"text-align: right;\">\n",
       "      <th></th>\n",
       "      <th>MSFT Pos</th>\n",
       "      <th>CISCO Pos</th>\n",
       "      <th>IBM Pos</th>\n",
       "      <th>AMZN Pos</th>\n",
       "      <th>Total Pos</th>\n",
       "      <th>Daily Return</th>\n",
       "    </tr>\n",
       "    <tr>\n",
       "      <th>Date</th>\n",
       "      <th></th>\n",
       "      <th></th>\n",
       "      <th></th>\n",
       "      <th></th>\n",
       "      <th></th>\n",
       "      <th></th>\n",
       "    </tr>\n",
       "  </thead>\n",
       "  <tbody>\n",
       "    <tr>\n",
       "      <th>2018-03-21</th>\n",
       "      <td>896413.570275</td>\n",
       "      <td>717861.482382</td>\n",
       "      <td>236602.491506</td>\n",
       "      <td>1.181374e+06</td>\n",
       "      <td>3.032252e+06</td>\n",
       "      <td>-0.003289</td>\n",
       "    </tr>\n",
       "    <tr>\n",
       "      <th>2018-03-22</th>\n",
       "      <td>870339.256866</td>\n",
       "      <td>697772.377481</td>\n",
       "      <td>229656.474141</td>\n",
       "      <td>1.153174e+06</td>\n",
       "      <td>2.950942e+06</td>\n",
       "      <td>-0.026815</td>\n",
       "    </tr>\n",
       "    <tr>\n",
       "      <th>2018-03-23</th>\n",
       "      <td>845040.387722</td>\n",
       "      <td>687241.798299</td>\n",
       "      <td>224824.462061</td>\n",
       "      <td>1.116923e+06</td>\n",
       "      <td>2.874030e+06</td>\n",
       "      <td>-0.026064</td>\n",
       "    </tr>\n",
       "    <tr>\n",
       "      <th>2018-03-26</th>\n",
       "      <td>909014.539580</td>\n",
       "      <td>713811.259619</td>\n",
       "      <td>231589.278973</td>\n",
       "      <td>1.161957e+06</td>\n",
       "      <td>3.016372e+06</td>\n",
       "      <td>0.049527</td>\n",
       "    </tr>\n",
       "    <tr>\n",
       "      <th>2018-03-27</th>\n",
       "      <td>867237.479806</td>\n",
       "      <td>691454.029972</td>\n",
       "      <td>229384.673462</td>\n",
       "      <td>1.118036e+06</td>\n",
       "      <td>2.906112e+06</td>\n",
       "      <td>-0.036554</td>\n",
       "    </tr>\n",
       "  </tbody>\n",
       "</table>\n",
       "</div>"
      ],
      "text/plain": [
       "                 MSFT Pos      CISCO Pos        IBM Pos      AMZN Pos  \\\n",
       "Date                                                                    \n",
       "2018-03-21  896413.570275  717861.482382  236602.491506  1.181374e+06   \n",
       "2018-03-22  870339.256866  697772.377481  229656.474141  1.153174e+06   \n",
       "2018-03-23  845040.387722  687241.798299  224824.462061  1.116923e+06   \n",
       "2018-03-26  909014.539580  713811.259619  231589.278973  1.161957e+06   \n",
       "2018-03-27  867237.479806  691454.029972  229384.673462  1.118036e+06   \n",
       "\n",
       "               Total Pos  Daily Return  \n",
       "Date                                    \n",
       "2018-03-21  3.032252e+06     -0.003289  \n",
       "2018-03-22  2.950942e+06     -0.026815  \n",
       "2018-03-23  2.874030e+06     -0.026064  \n",
       "2018-03-26  3.016372e+06      0.049527  \n",
       "2018-03-27  2.906112e+06     -0.036554  "
      ]
     },
     "execution_count": 33,
     "metadata": {},
     "output_type": "execute_result"
    }
   ],
   "source": [
    "portfolio_val.tail()"
   ]
  },
  {
   "cell_type": "code",
   "execution_count": 34,
   "id": "0168b448-3360-42f5-8334-4cf9cab6c6ff",
   "metadata": {},
   "outputs": [
    {
     "data": {
      "text/plain": [
       "0.0006687177526339665"
      ]
     },
     "execution_count": 34,
     "metadata": {},
     "output_type": "execute_result"
    }
   ],
   "source": [
    "portfolio_val['Daily Return'].mean()"
   ]
  },
  {
   "cell_type": "code",
   "execution_count": 35,
   "id": "37fcea43-c61a-476f-96bf-c1bc12b01d76",
   "metadata": {},
   "outputs": [
    {
     "data": {
      "text/plain": [
       "0.01791522439045546"
      ]
     },
     "execution_count": 35,
     "metadata": {},
     "output_type": "execute_result"
    }
   ],
   "source": [
    "portfolio_val['Daily Return'].std()"
   ]
  },
  {
   "cell_type": "code",
   "execution_count": 36,
   "id": "59d28876-edfc-4b48-b948-1afd8d82437f",
   "metadata": {},
   "outputs": [
    {
     "data": {
      "text/plain": [
       "<AxesSubplot:ylabel='Frequency'>"
      ]
     },
     "execution_count": 36,
     "metadata": {},
     "output_type": "execute_result"
    },
    {
     "data": {
      "image/png": "[encoded data removed]",
      "text/plain": [
       "<Figure size 720x576 with 1 Axes>"
      ]
     },
     "metadata": {
      "needs_background": "light"
     },
     "output_type": "display_data"
    }
   ],
   "source": [
    "portfolio_val['Daily Return'].plot(kind='hist',bins=100,figsize=(10,8))"
   ]
  },
  {
   "cell_type": "code",
   "execution_count": 37,
   "id": "30a345a3-24e4-4e7b-99cb-c0173df949b9",
   "metadata": {},
   "outputs": [
    {
     "data": {
      "text/plain": [
       "<AxesSubplot:ylabel='Density'>"
      ]
     },
     "execution_count": 37,
     "metadata": {},
     "output_type": "execute_result"
    },
    {
     "data": {
      "image/png": "[encoded data removed]",
      "text/plain": [
       "<Figure size 720x576 with 1 Axes>"
      ]
     },
     "metadata": {
      "needs_background": "light"
     },
     "output_type": "display_data"
    }
   ],
   "source": [
    "portfolio_val['Daily Return'].plot(kind='kde',figsize=(10,8))"
   ]
  },
  {
   "cell_type": "code",
   "execution_count": 38,
   "id": "24239cfe-7878-4563-b937-b60bb8b3d1d7",
   "metadata": {},
   "outputs": [
    {
     "data": {
      "text/plain": [
       "<AxesSubplot:ylabel='Density'>"
      ]
     },
     "execution_count": 38,
     "metadata": {},
     "output_type": "execute_result"
    },
    {
     "data": {
      "image/png": "[encoded data removed]",
      "text/plain": [
       "<Figure size 720x576 with 1 Axes>"
      ]
     },
     "metadata": {
      "needs_background": "light"
     },
     "output_type": "display_data"
    }
   ],
   "source": [
    "micro['Close'].pct_change(1).plot(kind='kde',figsize=(10,8))\n",
    "ibm['Close'].pct_change(1).plot(kind='kde')\n",
    "amzn['Close'].pct_change(1).plot(kind='kde')\n",
    "cisco['Close'].pct_change(1).plot(kind='kde')"
   ]
  },
  {
   "cell_type": "code",
   "execution_count": 39,
   "id": "1598b935-0e7d-4b4e-a1df-91696e2d8d3e",
   "metadata": {},
   "outputs": [],
   "source": [
    "cumulative_return = 100*(portfolio_val['Total Pos'][-1]/portfolio_val['Total Pos'][0]-1)"
   ]
  },
  {
   "cell_type": "code",
   "execution_count": 40,
   "id": "59d42796-5522-467f-b814-354808dbeecf",
   "metadata": {},
   "outputs": [
    {
     "data": {
      "text/plain": [
       "190.61120308869698"
      ]
     },
     "execution_count": 40,
     "metadata": {},
     "output_type": "execute_result"
    }
   ],
   "source": [
    "cumulative_return"
   ]
  },
  {
   "cell_type": "code",
   "execution_count": 41,
   "id": "d8c38a3e-3d79-4e66-bf01-d8ea13e12e26",
   "metadata": {},
   "outputs": [],
   "source": [
    "# Sharp Ratio\n",
    "SR = portfolio_val['Daily Return'].mean() / portfolio_val['Daily Return'].std()"
   ]
  },
  {
   "cell_type": "code",
   "execution_count": 42,
   "id": "eba46964-6c49-4a0d-94a3-4c468fe80d47",
   "metadata": {},
   "outputs": [
    {
     "data": {
      "text/plain": [
       "0.03732678631646018"
      ]
     },
     "execution_count": 42,
     "metadata": {},
     "output_type": "execute_result"
    }
   ],
   "source": [
    "SR"
   ]
  },
  {
   "cell_type": "code",
   "execution_count": 43,
   "id": "21c85369-422a-4b95-b68c-41468e7bc6e9",
   "metadata": {},
   "outputs": [],
   "source": [
    "# Have to multiply by k number sqt as SR was meant for annual but we are looking for daily\n",
    "# ASR = Annualised Sharp Ratio\n",
    "ASR = (252**0.5)*SR"
   ]
  },
  {
   "cell_type": "code",
   "execution_count": 44,
   "id": "fee7e033-ebe3-45c4-90de-106bbcdb9c56",
   "metadata": {},
   "outputs": [
    {
     "data": {
      "text/plain": [
       "0.592544363007614"
      ]
     },
     "execution_count": 44,
     "metadata": {},
     "output_type": "execute_result"
    }
   ],
   "source": [
    "ASR"
   ]
  },
  {
   "cell_type": "code",
   "execution_count": 45,
   "id": "175c98e5-5d36-45f9-ba97-bf226d6fac2e",
   "metadata": {},
   "outputs": [],
   "source": [
    "import math"
   ]
  },
  {
   "cell_type": "code",
   "execution_count": 46,
   "id": "1055580c-0501-43f5-864e-a088a2493737",
   "metadata": {},
   "outputs": [
    {
     "data": {
      "text/plain": [
       "0.592544363007614"
      ]
     },
     "execution_count": 46,
     "metadata": {},
     "output_type": "execute_result"
    }
   ],
   "source": [
    "math.sqrt(252)*SR"
   ]
  },
  {
   "cell_type": "code",
   "execution_count": null,
   "id": "602fbe78-969c-465d-9152-47fb5d342627",
   "metadata": {},
   "outputs": [],
   "source": []
  },
  {
   "cell_type": "code",
   "execution_count": null,
   "id": "4125284f-2eb5-44fd-9863-1dc01465ed8e",
   "metadata": {},
   "outputs": [],
   "source": []
  }
 ],
 "metadata": {
  "kernelspec": {
   "display_name": "Python 3 (ipykernel)",
   "language": "python",
   "name": "python3"
  },
  "language_info": {
   "codemirror_mode": {
    "name": "ipython",
    "version": 3
   },
   "file_extension": ".py",
   "mimetype": "text/x-python",
   "name": "python",
   "nbconvert_exporter": "python",
   "pygments_lexer": "ipython3",
   "version": "3.9.7"
  }
 },
 "nbformat": 4,
 "nbformat_minor": 5
}
