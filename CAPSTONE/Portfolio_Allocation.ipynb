{
 "cells": [
  {
   "cell_type": "code",
   "execution_count": 1,
   "id": "79ff5ce2-d614-48c1-a3ab-f1820dded867",
   "metadata": {},
   "outputs": [],
   "source": [
    "import pandas as pd\n",
    "import quandl"
   ]
  },
  {
   "cell_type": "code",
   "execution_count": 2,
   "id": "1b26287e-cfec-42e7-9b6d-01b3b95cff97",
   "metadata": {},
   "outputs": [],
   "source": [
    "start = pd.to_datetime('2008-01-01')\n",
    "end = pd.to_datetime('2021-10-01')"
   ]
  },
  {
   "cell_type": "code",
   "execution_count": 3,
   "id": "82a63699-3940-43b1-890b-1036c682c9e7",
   "metadata": {},
   "outputs": [],
   "source": [
    "# It's AAPL.11 because 11 stands for column 11 which is the adjusted close column\n",
    "micro = quandl.get('WIKI/MSFT.4',start_date=start,end_date=end,collapse='monthly')\n",
    "cisco = quandl.get('WIKI/CSCO.4',start_date=start,end_date=end,collapse='monthly')\n",
    "ibm = quandl.get('WIKI/IBM.4',start_date=start,end_date=end,collapse='monthly')\n",
    "amzn = quandl.get('WIKI/AMZN.4',start_date=start,end_date=end,collapse='monthly')"
   ]
  },
  {
   "cell_type": "code",
   "execution_count": 4,
   "id": "865ea3c7-cd45-4c57-91ca-10b7e76af328",
   "metadata": {},
   "outputs": [],
   "source": [
    "import numpy as np\n",
    "import matplotlib.pyplot as plt\n",
    "%matplotlib inline"
   ]
  },
  {
   "cell_type": "code",
   "execution_count": 5,
   "id": "32ab2b23-9cd3-4943-8fe9-6aac8aef6f7d",
   "metadata": {},
   "outputs": [
    {
     "data": {
      "text/html": [
       "<div>\n",
       "<style scoped>\n",
       "    .dataframe tbody tr th:only-of-type {\n",
       "        vertical-align: middle;\n",
       "    }\n",
       "\n",
       "    .dataframe tbody tr th {\n",
       "        vertical-align: top;\n",
       "    }\n",
       "\n",
       "    .dataframe thead th {\n",
       "        text-align: right;\n",
       "    }\n",
       "</style>\n",
       "<table border=\"1\" class=\"dataframe\">\n",
       "  <thead>\n",
       "    <tr style=\"text-align: right;\">\n",
       "      <th></th>\n",
       "      <th>Close</th>\n",
       "    </tr>\n",
       "    <tr>\n",
       "      <th>Date</th>\n",
       "      <th></th>\n",
       "    </tr>\n",
       "  </thead>\n",
       "  <tbody>\n",
       "    <tr>\n",
       "      <th>2008-01-31</th>\n",
       "      <td>32.6000</td>\n",
       "    </tr>\n",
       "    <tr>\n",
       "      <th>2008-02-29</th>\n",
       "      <td>27.1999</td>\n",
       "    </tr>\n",
       "    <tr>\n",
       "      <th>2008-03-31</th>\n",
       "      <td>28.3800</td>\n",
       "    </tr>\n",
       "    <tr>\n",
       "      <th>2008-04-30</th>\n",
       "      <td>28.5200</td>\n",
       "    </tr>\n",
       "    <tr>\n",
       "      <th>2008-05-31</th>\n",
       "      <td>28.3200</td>\n",
       "    </tr>\n",
       "    <tr>\n",
       "      <th>...</th>\n",
       "      <td>...</td>\n",
       "    </tr>\n",
       "    <tr>\n",
       "      <th>2017-11-30</th>\n",
       "      <td>84.1700</td>\n",
       "    </tr>\n",
       "    <tr>\n",
       "      <th>2017-12-31</th>\n",
       "      <td>85.5400</td>\n",
       "    </tr>\n",
       "    <tr>\n",
       "      <th>2018-01-31</th>\n",
       "      <td>95.0100</td>\n",
       "    </tr>\n",
       "    <tr>\n",
       "      <th>2018-02-28</th>\n",
       "      <td>93.7700</td>\n",
       "    </tr>\n",
       "    <tr>\n",
       "      <th>2018-03-31</th>\n",
       "      <td>89.4700</td>\n",
       "    </tr>\n",
       "  </tbody>\n",
       "</table>\n",
       "<p>123 rows × 1 columns</p>\n",
       "</div>"
      ],
      "text/plain": [
       "              Close\n",
       "Date               \n",
       "2008-01-31  32.6000\n",
       "2008-02-29  27.1999\n",
       "2008-03-31  28.3800\n",
       "2008-04-30  28.5200\n",
       "2008-05-31  28.3200\n",
       "...             ...\n",
       "2017-11-30  84.1700\n",
       "2017-12-31  85.5400\n",
       "2018-01-31  95.0100\n",
       "2018-02-28  93.7700\n",
       "2018-03-31  89.4700\n",
       "\n",
       "[123 rows x 1 columns]"
      ]
     },
     "execution_count": 5,
     "metadata": {},
     "output_type": "execute_result"
    }
   ],
   "source": [
    "micro"
   ]
  },
  {
   "cell_type": "code",
   "execution_count": 6,
   "id": "5e20c74e-ce44-49d0-9f9b-e3eac1251e2b",
   "metadata": {},
   "outputs": [
    {
     "data": {
      "text/plain": [
       "Close    32.6\n",
       "Name: 2008-01-31 00:00:00, dtype: float64"
      ]
     },
     "execution_count": 6,
     "metadata": {},
     "output_type": "execute_result"
    }
   ],
   "source": [
    "micro.iloc[0]"
   ]
  },
  {
   "cell_type": "code",
   "execution_count": 7,
   "id": "3a5ca005-1376-4b0c-9b11-eedf6e7b637d",
   "metadata": {},
   "outputs": [
    {
     "data": {
      "text/plain": [
       "32.6"
      ]
     },
     "execution_count": 7,
     "metadata": {},
     "output_type": "execute_result"
    }
   ],
   "source": [
    "micro.iloc[0]['Close']"
   ]
  },
  {
   "cell_type": "code",
   "execution_count": 8,
   "id": "eaea33ec-39df-44b7-9817-448fbb30dd0d",
   "metadata": {},
   "outputs": [],
   "source": [
    "# Normalized return = cumulative daily return\n",
    "for stock_df in (micro,cisco,ibm,amzn):\n",
    "    stock_df['Normed Return'] = stock_df['Close'] / stock_df.iloc[0]['Close']"
   ]
  },
  {
   "cell_type": "code",
   "execution_count": 9,
   "id": "b16f4093-c117-433a-a80a-c1d9f9025b87",
   "metadata": {},
   "outputs": [
    {
     "data": {
      "text/html": [
       "<div>\n",
       "<style scoped>\n",
       "    .dataframe tbody tr th:only-of-type {\n",
       "        vertical-align: middle;\n",
       "    }\n",
       "\n",
       "    .dataframe tbody tr th {\n",
       "        vertical-align: top;\n",
       "    }\n",
       "\n",
       "    .dataframe thead th {\n",
       "        text-align: right;\n",
       "    }\n",
       "</style>\n",
       "<table border=\"1\" class=\"dataframe\">\n",
       "  <thead>\n",
       "    <tr style=\"text-align: right;\">\n",
       "      <th></th>\n",
       "      <th>Close</th>\n",
       "      <th>Normed Return</th>\n",
       "    </tr>\n",
       "    <tr>\n",
       "      <th>Date</th>\n",
       "      <th></th>\n",
       "      <th></th>\n",
       "    </tr>\n",
       "  </thead>\n",
       "  <tbody>\n",
       "    <tr>\n",
       "      <th>2008-01-31</th>\n",
       "      <td>32.6000</td>\n",
       "      <td>1.000000</td>\n",
       "    </tr>\n",
       "    <tr>\n",
       "      <th>2008-02-29</th>\n",
       "      <td>27.1999</td>\n",
       "      <td>0.834353</td>\n",
       "    </tr>\n",
       "    <tr>\n",
       "      <th>2008-03-31</th>\n",
       "      <td>28.3800</td>\n",
       "      <td>0.870552</td>\n",
       "    </tr>\n",
       "    <tr>\n",
       "      <th>2008-04-30</th>\n",
       "      <td>28.5200</td>\n",
       "      <td>0.874847</td>\n",
       "    </tr>\n",
       "    <tr>\n",
       "      <th>2008-05-31</th>\n",
       "      <td>28.3200</td>\n",
       "      <td>0.868712</td>\n",
       "    </tr>\n",
       "  </tbody>\n",
       "</table>\n",
       "</div>"
      ],
      "text/plain": [
       "              Close  Normed Return\n",
       "Date                              \n",
       "2008-01-31  32.6000       1.000000\n",
       "2008-02-29  27.1999       0.834353\n",
       "2008-03-31  28.3800       0.870552\n",
       "2008-04-30  28.5200       0.874847\n",
       "2008-05-31  28.3200       0.868712"
      ]
     },
     "execution_count": 9,
     "metadata": {},
     "output_type": "execute_result"
    }
   ],
   "source": [
    "micro.head()"
   ]
  },
  {
   "cell_type": "code",
   "execution_count": 10,
   "id": "716f92d3-d18e-460f-a869-e5122175c59e",
   "metadata": {},
   "outputs": [
    {
     "data": {
      "text/html": [
       "<div>\n",
       "<style scoped>\n",
       "    .dataframe tbody tr th:only-of-type {\n",
       "        vertical-align: middle;\n",
       "    }\n",
       "\n",
       "    .dataframe tbody tr th {\n",
       "        vertical-align: top;\n",
       "    }\n",
       "\n",
       "    .dataframe thead th {\n",
       "        text-align: right;\n",
       "    }\n",
       "</style>\n",
       "<table border=\"1\" class=\"dataframe\">\n",
       "  <thead>\n",
       "    <tr style=\"text-align: right;\">\n",
       "      <th></th>\n",
       "      <th>Close</th>\n",
       "      <th>Normed Return</th>\n",
       "    </tr>\n",
       "    <tr>\n",
       "      <th>Date</th>\n",
       "      <th></th>\n",
       "      <th></th>\n",
       "    </tr>\n",
       "  </thead>\n",
       "  <tbody>\n",
       "    <tr>\n",
       "      <th>2017-11-30</th>\n",
       "      <td>84.17</td>\n",
       "      <td>2.581902</td>\n",
       "    </tr>\n",
       "    <tr>\n",
       "      <th>2017-12-31</th>\n",
       "      <td>85.54</td>\n",
       "      <td>2.623926</td>\n",
       "    </tr>\n",
       "    <tr>\n",
       "      <th>2018-01-31</th>\n",
       "      <td>95.01</td>\n",
       "      <td>2.914417</td>\n",
       "    </tr>\n",
       "    <tr>\n",
       "      <th>2018-02-28</th>\n",
       "      <td>93.77</td>\n",
       "      <td>2.876380</td>\n",
       "    </tr>\n",
       "    <tr>\n",
       "      <th>2018-03-31</th>\n",
       "      <td>89.47</td>\n",
       "      <td>2.744479</td>\n",
       "    </tr>\n",
       "  </tbody>\n",
       "</table>\n",
       "</div>"
      ],
      "text/plain": [
       "            Close  Normed Return\n",
       "Date                            \n",
       "2017-11-30  84.17       2.581902\n",
       "2017-12-31  85.54       2.623926\n",
       "2018-01-31  95.01       2.914417\n",
       "2018-02-28  93.77       2.876380\n",
       "2018-03-31  89.47       2.744479"
      ]
     },
     "execution_count": 10,
     "metadata": {},
     "output_type": "execute_result"
    }
   ],
   "source": [
    "micro.tail()"
   ]
  },
  {
   "cell_type": "code",
   "execution_count": 11,
   "id": "6cd75a5b-cb32-4d2c-a238-4dab085c3d1b",
   "metadata": {},
   "outputs": [],
   "source": [
    "stocks_norm = pd.concat([micro['Close'],cisco['Close'],ibm['Close'],amzn['Close']],axis=1)\n",
    "stocks_norm.columns = ['micro','cisco','ibm','amzn']"
   ]
  },
  {
   "cell_type": "code",
   "execution_count": 48,
   "id": "cbb1be33-980c-483c-9dc1-bbfa72a36b24",
   "metadata": {},
   "outputs": [],
   "source": [
    "import seaborn as sns"
   ]
  },
  {
   "cell_type": "code",
   "execution_count": 49,
   "id": "7ce30659-5e0c-466f-9048-898f4b08b858",
   "metadata": {},
   "outputs": [
    {
     "data": {
      "image/png": "[encoded data removed]",
      "text/plain": [
       "<Figure size 864x576 with 2 Axes>"
      ]
     },
     "metadata": {
      "needs_background": "light"
     },
     "output_type": "display_data"
    }
   ],
   "source": [
    "plt.figure(figsize=(12,8))\n",
    "sns.heatmap(stocks_norm.corr(),annot=True,cmap='BrBG');\n",
    "plt.savefig('corr.png')"
   ]
  },
  {
   "cell_type": "code",
   "execution_count": 50,
   "id": "89ab8479-844c-4e06-b160-5cb5bb270f83",
   "metadata": {},
   "outputs": [
    {
     "data": {
      "image/png": "[encoded data removed]",
      "text/plain": [
       "<Figure size 864x576 with 1 Axes>"
      ]
     },
     "metadata": {
      "needs_background": "light"
     },
     "output_type": "display_data"
    }
   ],
   "source": [
    "stock_normed = stocks_norm/stocks_norm.iloc[0]\n",
    "stock_normed.plot(figsize=(12,8));\n",
    "plt.savefig('stock_normed.png')"
   ]
  },
  {
   "cell_type": "code",
   "execution_count": 13,
   "id": "5b09e774-cd71-4f26-9235-c8d464a0f338",
   "metadata": {},
   "outputs": [],
   "source": [
    "for stock_df, allo in zip((micro,cisco,ibm,amzn),[.3,.4,.2,.1]):\n",
    "    stock_df['Allocation'] = stock_df['Normed Return']*allo"
   ]
  },
  {
   "cell_type": "code",
   "execution_count": 14,
   "id": "6b9834fd-833a-4c2d-b088-0fad506bb1fa",
   "metadata": {},
   "outputs": [
    {
     "data": {
      "text/html": [
       "<div>\n",
       "<style scoped>\n",
       "    .dataframe tbody tr th:only-of-type {\n",
       "        vertical-align: middle;\n",
       "    }\n",
       "\n",
       "    .dataframe tbody tr th {\n",
       "        vertical-align: top;\n",
       "    }\n",
       "\n",
       "    .dataframe thead th {\n",
       "        text-align: right;\n",
       "    }\n",
       "</style>\n",
       "<table border=\"1\" class=\"dataframe\">\n",
       "  <thead>\n",
       "    <tr style=\"text-align: right;\">\n",
       "      <th></th>\n",
       "      <th>Close</th>\n",
       "      <th>Normed Return</th>\n",
       "      <th>Allocation</th>\n",
       "    </tr>\n",
       "    <tr>\n",
       "      <th>Date</th>\n",
       "      <th></th>\n",
       "      <th></th>\n",
       "      <th></th>\n",
       "    </tr>\n",
       "  </thead>\n",
       "  <tbody>\n",
       "    <tr>\n",
       "      <th>2008-01-31</th>\n",
       "      <td>32.6000</td>\n",
       "      <td>1.000000</td>\n",
       "      <td>0.300000</td>\n",
       "    </tr>\n",
       "    <tr>\n",
       "      <th>2008-02-29</th>\n",
       "      <td>27.1999</td>\n",
       "      <td>0.834353</td>\n",
       "      <td>0.250306</td>\n",
       "    </tr>\n",
       "    <tr>\n",
       "      <th>2008-03-31</th>\n",
       "      <td>28.3800</td>\n",
       "      <td>0.870552</td>\n",
       "      <td>0.261166</td>\n",
       "    </tr>\n",
       "    <tr>\n",
       "      <th>2008-04-30</th>\n",
       "      <td>28.5200</td>\n",
       "      <td>0.874847</td>\n",
       "      <td>0.262454</td>\n",
       "    </tr>\n",
       "    <tr>\n",
       "      <th>2008-05-31</th>\n",
       "      <td>28.3200</td>\n",
       "      <td>0.868712</td>\n",
       "      <td>0.260613</td>\n",
       "    </tr>\n",
       "  </tbody>\n",
       "</table>\n",
       "</div>"
      ],
      "text/plain": [
       "              Close  Normed Return  Allocation\n",
       "Date                                          \n",
       "2008-01-31  32.6000       1.000000    0.300000\n",
       "2008-02-29  27.1999       0.834353    0.250306\n",
       "2008-03-31  28.3800       0.870552    0.261166\n",
       "2008-04-30  28.5200       0.874847    0.262454\n",
       "2008-05-31  28.3200       0.868712    0.260613"
      ]
     },
     "execution_count": 14,
     "metadata": {},
     "output_type": "execute_result"
    }
   ],
   "source": [
    "micro.head()"
   ]
  },
  {
   "cell_type": "code",
   "execution_count": 15,
   "id": "b5823b2f-3426-4a14-8213-f9157f1df12e",
   "metadata": {},
   "outputs": [
    {
     "data": {
      "text/html": [
       "<div>\n",
       "<style scoped>\n",
       "    .dataframe tbody tr th:only-of-type {\n",
       "        vertical-align: middle;\n",
       "    }\n",
       "\n",
       "    .dataframe tbody tr th {\n",
       "        vertical-align: top;\n",
       "    }\n",
       "\n",
       "    .dataframe thead th {\n",
       "        text-align: right;\n",
       "    }\n",
       "</style>\n",
       "<table border=\"1\" class=\"dataframe\">\n",
       "  <thead>\n",
       "    <tr style=\"text-align: right;\">\n",
       "      <th></th>\n",
       "      <th>Close</th>\n",
       "      <th>Normed Return</th>\n",
       "      <th>Allocation</th>\n",
       "    </tr>\n",
       "    <tr>\n",
       "      <th>Date</th>\n",
       "      <th></th>\n",
       "      <th></th>\n",
       "      <th></th>\n",
       "    </tr>\n",
       "  </thead>\n",
       "  <tbody>\n",
       "    <tr>\n",
       "      <th>2017-11-30</th>\n",
       "      <td>84.17</td>\n",
       "      <td>2.581902</td>\n",
       "      <td>0.774571</td>\n",
       "    </tr>\n",
       "    <tr>\n",
       "      <th>2017-12-31</th>\n",
       "      <td>85.54</td>\n",
       "      <td>2.623926</td>\n",
       "      <td>0.787178</td>\n",
       "    </tr>\n",
       "    <tr>\n",
       "      <th>2018-01-31</th>\n",
       "      <td>95.01</td>\n",
       "      <td>2.914417</td>\n",
       "      <td>0.874325</td>\n",
       "    </tr>\n",
       "    <tr>\n",
       "      <th>2018-02-28</th>\n",
       "      <td>93.77</td>\n",
       "      <td>2.876380</td>\n",
       "      <td>0.862914</td>\n",
       "    </tr>\n",
       "    <tr>\n",
       "      <th>2018-03-31</th>\n",
       "      <td>89.47</td>\n",
       "      <td>2.744479</td>\n",
       "      <td>0.823344</td>\n",
       "    </tr>\n",
       "  </tbody>\n",
       "</table>\n",
       "</div>"
      ],
      "text/plain": [
       "            Close  Normed Return  Allocation\n",
       "Date                                        \n",
       "2017-11-30  84.17       2.581902    0.774571\n",
       "2017-12-31  85.54       2.623926    0.787178\n",
       "2018-01-31  95.01       2.914417    0.874325\n",
       "2018-02-28  93.77       2.876380    0.862914\n",
       "2018-03-31  89.47       2.744479    0.823344"
      ]
     },
     "execution_count": 15,
     "metadata": {},
     "output_type": "execute_result"
    }
   ],
   "source": [
    "micro.tail()"
   ]
  },
  {
   "cell_type": "code",
   "execution_count": 16,
   "id": "90f0967f-cf03-421d-8c11-0aa4f2ee1f87",
   "metadata": {},
   "outputs": [],
   "source": [
    "for stock_df in (micro,cisco,ibm,amzn):\n",
    "    stock_df['Position Values'] = stock_df['Allocation']*1000000"
   ]
  },
  {
   "cell_type": "code",
   "execution_count": 17,
   "id": "6e469ee8-5105-45b7-8086-245839ab8989",
   "metadata": {},
   "outputs": [
    {
     "data": {
      "text/html": [
       "<div>\n",
       "<style scoped>\n",
       "    .dataframe tbody tr th:only-of-type {\n",
       "        vertical-align: middle;\n",
       "    }\n",
       "\n",
       "    .dataframe tbody tr th {\n",
       "        vertical-align: top;\n",
       "    }\n",
       "\n",
       "    .dataframe thead th {\n",
       "        text-align: right;\n",
       "    }\n",
       "</style>\n",
       "<table border=\"1\" class=\"dataframe\">\n",
       "  <thead>\n",
       "    <tr style=\"text-align: right;\">\n",
       "      <th></th>\n",
       "      <th>Close</th>\n",
       "      <th>Normed Return</th>\n",
       "      <th>Allocation</th>\n",
       "      <th>Position Values</th>\n",
       "    </tr>\n",
       "    <tr>\n",
       "      <th>Date</th>\n",
       "      <th></th>\n",
       "      <th></th>\n",
       "      <th></th>\n",
       "      <th></th>\n",
       "    </tr>\n",
       "  </thead>\n",
       "  <tbody>\n",
       "    <tr>\n",
       "      <th>2008-01-31</th>\n",
       "      <td>32.6000</td>\n",
       "      <td>1.000000</td>\n",
       "      <td>0.300000</td>\n",
       "      <td>300000.000000</td>\n",
       "    </tr>\n",
       "    <tr>\n",
       "      <th>2008-02-29</th>\n",
       "      <td>27.1999</td>\n",
       "      <td>0.834353</td>\n",
       "      <td>0.250306</td>\n",
       "      <td>250305.828221</td>\n",
       "    </tr>\n",
       "    <tr>\n",
       "      <th>2008-03-31</th>\n",
       "      <td>28.3800</td>\n",
       "      <td>0.870552</td>\n",
       "      <td>0.261166</td>\n",
       "      <td>261165.644172</td>\n",
       "    </tr>\n",
       "    <tr>\n",
       "      <th>2008-04-30</th>\n",
       "      <td>28.5200</td>\n",
       "      <td>0.874847</td>\n",
       "      <td>0.262454</td>\n",
       "      <td>262453.987730</td>\n",
       "    </tr>\n",
       "    <tr>\n",
       "      <th>2008-05-31</th>\n",
       "      <td>28.3200</td>\n",
       "      <td>0.868712</td>\n",
       "      <td>0.260613</td>\n",
       "      <td>260613.496933</td>\n",
       "    </tr>\n",
       "  </tbody>\n",
       "</table>\n",
       "</div>"
      ],
      "text/plain": [
       "              Close  Normed Return  Allocation  Position Values\n",
       "Date                                                           \n",
       "2008-01-31  32.6000       1.000000    0.300000    300000.000000\n",
       "2008-02-29  27.1999       0.834353    0.250306    250305.828221\n",
       "2008-03-31  28.3800       0.870552    0.261166    261165.644172\n",
       "2008-04-30  28.5200       0.874847    0.262454    262453.987730\n",
       "2008-05-31  28.3200       0.868712    0.260613    260613.496933"
      ]
     },
     "execution_count": 17,
     "metadata": {},
     "output_type": "execute_result"
    }
   ],
   "source": [
    "micro.head()"
   ]
  },
  {
   "cell_type": "code",
   "execution_count": 18,
   "id": "3c3187a6-7e40-4450-9c82-561221dbbbeb",
   "metadata": {},
   "outputs": [],
   "source": [
    "all_pos_vals = [micro['Position Values'],cisco['Position Values'],\n",
    "               ibm['Position Values'],amzn['Position Values']]\n",
    "\n",
    "portfolio_val = pd.concat(all_pos_vals,axis=1)"
   ]
  },
  {
   "cell_type": "code",
   "execution_count": 19,
   "id": "63b2431d-f5e7-40f7-aa4f-58f62c713287",
   "metadata": {},
   "outputs": [
    {
     "data": {
      "text/html": [
       "<div>\n",
       "<style scoped>\n",
       "    .dataframe tbody tr th:only-of-type {\n",
       "        vertical-align: middle;\n",
       "    }\n",
       "\n",
       "    .dataframe tbody tr th {\n",
       "        vertical-align: top;\n",
       "    }\n",
       "\n",
       "    .dataframe thead th {\n",
       "        text-align: right;\n",
       "    }\n",
       "</style>\n",
       "<table border=\"1\" class=\"dataframe\">\n",
       "  <thead>\n",
       "    <tr style=\"text-align: right;\">\n",
       "      <th></th>\n",
       "      <th>Position Values</th>\n",
       "      <th>Position Values</th>\n",
       "      <th>Position Values</th>\n",
       "      <th>Position Values</th>\n",
       "    </tr>\n",
       "    <tr>\n",
       "      <th>Date</th>\n",
       "      <th></th>\n",
       "      <th></th>\n",
       "      <th></th>\n",
       "      <th></th>\n",
       "    </tr>\n",
       "  </thead>\n",
       "  <tbody>\n",
       "    <tr>\n",
       "      <th>2008-01-31</th>\n",
       "      <td>300000.000000</td>\n",
       "      <td>400000.000000</td>\n",
       "      <td>200000.000000</td>\n",
       "      <td>100000.000000</td>\n",
       "    </tr>\n",
       "    <tr>\n",
       "      <th>2008-02-29</th>\n",
       "      <td>250305.828221</td>\n",
       "      <td>398204.081633</td>\n",
       "      <td>212603.865185</td>\n",
       "      <td>82972.972973</td>\n",
       "    </tr>\n",
       "    <tr>\n",
       "      <th>2008-03-31</th>\n",
       "      <td>261165.644172</td>\n",
       "      <td>393306.122449</td>\n",
       "      <td>214993.931472</td>\n",
       "      <td>91763.191763</td>\n",
       "    </tr>\n",
       "    <tr>\n",
       "      <th>2008-04-30</th>\n",
       "      <td>262453.987730</td>\n",
       "      <td>418612.244898</td>\n",
       "      <td>225375.781906</td>\n",
       "      <td>101196.911197</td>\n",
       "    </tr>\n",
       "    <tr>\n",
       "      <th>2008-05-31</th>\n",
       "      <td>260613.496933</td>\n",
       "      <td>436244.897959</td>\n",
       "      <td>241676.780879</td>\n",
       "      <td>105045.045045</td>\n",
       "    </tr>\n",
       "  </tbody>\n",
       "</table>\n",
       "</div>"
      ],
      "text/plain": [
       "            Position Values  Position Values  Position Values  Position Values\n",
       "Date                                                                          \n",
       "2008-01-31    300000.000000    400000.000000    200000.000000    100000.000000\n",
       "2008-02-29    250305.828221    398204.081633    212603.865185     82972.972973\n",
       "2008-03-31    261165.644172    393306.122449    214993.931472     91763.191763\n",
       "2008-04-30    262453.987730    418612.244898    225375.781906    101196.911197\n",
       "2008-05-31    260613.496933    436244.897959    241676.780879    105045.045045"
      ]
     },
     "execution_count": 19,
     "metadata": {},
     "output_type": "execute_result"
    }
   ],
   "source": [
    "portfolio_val.head()"
   ]
  },
  {
   "cell_type": "code",
   "execution_count": 20,
   "id": "1350f6b0-ca6a-44c3-92a2-53d813deba37",
   "metadata": {},
   "outputs": [],
   "source": [
    "portfolio_val.columns = ['MSFT Pos', 'CISCO Pos','IBM Pos','AMZN Pos']"
   ]
  },
  {
   "cell_type": "code",
   "execution_count": 21,
   "id": "42417cef-1fe1-4435-8d39-e0f94387628f",
   "metadata": {},
   "outputs": [
    {
     "data": {
      "text/html": [
       "<div>\n",
       "<style scoped>\n",
       "    .dataframe tbody tr th:only-of-type {\n",
       "        vertical-align: middle;\n",
       "    }\n",
       "\n",
       "    .dataframe tbody tr th {\n",
       "        vertical-align: top;\n",
       "    }\n",
       "\n",
       "    .dataframe thead th {\n",
       "        text-align: right;\n",
       "    }\n",
       "</style>\n",
       "<table border=\"1\" class=\"dataframe\">\n",
       "  <thead>\n",
       "    <tr style=\"text-align: right;\">\n",
       "      <th></th>\n",
       "      <th>MSFT Pos</th>\n",
       "      <th>CISCO Pos</th>\n",
       "      <th>IBM Pos</th>\n",
       "      <th>AMZN Pos</th>\n",
       "    </tr>\n",
       "    <tr>\n",
       "      <th>Date</th>\n",
       "      <th></th>\n",
       "      <th></th>\n",
       "      <th></th>\n",
       "      <th></th>\n",
       "    </tr>\n",
       "  </thead>\n",
       "  <tbody>\n",
       "    <tr>\n",
       "      <th>2008-01-31</th>\n",
       "      <td>300000.000000</td>\n",
       "      <td>400000.000000</td>\n",
       "      <td>200000.000000</td>\n",
       "      <td>1.000000e+05</td>\n",
       "    </tr>\n",
       "    <tr>\n",
       "      <th>2008-02-29</th>\n",
       "      <td>250305.828221</td>\n",
       "      <td>398204.081633</td>\n",
       "      <td>212603.865185</td>\n",
       "      <td>8.297297e+04</td>\n",
       "    </tr>\n",
       "    <tr>\n",
       "      <th>2008-03-31</th>\n",
       "      <td>261165.644172</td>\n",
       "      <td>393306.122449</td>\n",
       "      <td>214993.931472</td>\n",
       "      <td>9.176319e+04</td>\n",
       "    </tr>\n",
       "    <tr>\n",
       "      <th>2008-04-30</th>\n",
       "      <td>262453.987730</td>\n",
       "      <td>418612.244898</td>\n",
       "      <td>225375.781906</td>\n",
       "      <td>1.011969e+05</td>\n",
       "    </tr>\n",
       "    <tr>\n",
       "      <th>2008-05-31</th>\n",
       "      <td>260613.496933</td>\n",
       "      <td>436244.897959</td>\n",
       "      <td>241676.780879</td>\n",
       "      <td>1.050450e+05</td>\n",
       "    </tr>\n",
       "    <tr>\n",
       "      <th>...</th>\n",
       "      <td>...</td>\n",
       "      <td>...</td>\n",
       "      <td>...</td>\n",
       "      <td>...</td>\n",
       "    </tr>\n",
       "    <tr>\n",
       "      <th>2017-11-30</th>\n",
       "      <td>774570.552147</td>\n",
       "      <td>608979.591837</td>\n",
       "      <td>287498.832975</td>\n",
       "      <td>1.514479e+06</td>\n",
       "    </tr>\n",
       "    <tr>\n",
       "      <th>2017-12-31</th>\n",
       "      <td>787177.914110</td>\n",
       "      <td>625306.122449</td>\n",
       "      <td>286471.851368</td>\n",
       "      <td>1.505109e+06</td>\n",
       "    </tr>\n",
       "    <tr>\n",
       "      <th>2018-01-31</th>\n",
       "      <td>874325.153374</td>\n",
       "      <td>678204.081633</td>\n",
       "      <td>305667.071235</td>\n",
       "      <td>1.868275e+06</td>\n",
       "    </tr>\n",
       "    <tr>\n",
       "      <th>2018-02-28</th>\n",
       "      <td>862914.110429</td>\n",
       "      <td>731102.040816</td>\n",
       "      <td>290971.898049</td>\n",
       "      <td>1.946525e+06</td>\n",
       "    </tr>\n",
       "    <tr>\n",
       "      <th>2018-03-31</th>\n",
       "      <td>823343.558282</td>\n",
       "      <td>696816.326531</td>\n",
       "      <td>283652.320045</td>\n",
       "      <td>1.926705e+06</td>\n",
       "    </tr>\n",
       "  </tbody>\n",
       "</table>\n",
       "<p>123 rows × 4 columns</p>\n",
       "</div>"
      ],
      "text/plain": [
       "                 MSFT Pos      CISCO Pos        IBM Pos      AMZN Pos\n",
       "Date                                                                 \n",
       "2008-01-31  300000.000000  400000.000000  200000.000000  1.000000e+05\n",
       "2008-02-29  250305.828221  398204.081633  212603.865185  8.297297e+04\n",
       "2008-03-31  261165.644172  393306.122449  214993.931472  9.176319e+04\n",
       "2008-04-30  262453.987730  418612.244898  225375.781906  1.011969e+05\n",
       "2008-05-31  260613.496933  436244.897959  241676.780879  1.050450e+05\n",
       "...                   ...            ...            ...           ...\n",
       "2017-11-30  774570.552147  608979.591837  287498.832975  1.514479e+06\n",
       "2017-12-31  787177.914110  625306.122449  286471.851368  1.505109e+06\n",
       "2018-01-31  874325.153374  678204.081633  305667.071235  1.868275e+06\n",
       "2018-02-28  862914.110429  731102.040816  290971.898049  1.946525e+06\n",
       "2018-03-31  823343.558282  696816.326531  283652.320045  1.926705e+06\n",
       "\n",
       "[123 rows x 4 columns]"
      ]
     },
     "execution_count": 21,
     "metadata": {},
     "output_type": "execute_result"
    }
   ],
   "source": [
    "portfolio_val"
   ]
  },
  {
   "cell_type": "code",
   "execution_count": 22,
   "id": "9b19de38-634a-47b2-87f9-358735663fbd",
   "metadata": {},
   "outputs": [],
   "source": [
    "portfolio_val['Total Pos'] = portfolio_val.sum(axis=1)"
   ]
  },
  {
   "cell_type": "code",
   "execution_count": 23,
   "id": "ddf2d12c-09cf-4b82-94ed-3a6a995963c9",
   "metadata": {},
   "outputs": [
    {
     "data": {
      "text/html": [
       "<div>\n",
       "<style scoped>\n",
       "    .dataframe tbody tr th:only-of-type {\n",
       "        vertical-align: middle;\n",
       "    }\n",
       "\n",
       "    .dataframe tbody tr th {\n",
       "        vertical-align: top;\n",
       "    }\n",
       "\n",
       "    .dataframe thead th {\n",
       "        text-align: right;\n",
       "    }\n",
       "</style>\n",
       "<table border=\"1\" class=\"dataframe\">\n",
       "  <thead>\n",
       "    <tr style=\"text-align: right;\">\n",
       "      <th></th>\n",
       "      <th>MSFT Pos</th>\n",
       "      <th>CISCO Pos</th>\n",
       "      <th>IBM Pos</th>\n",
       "      <th>AMZN Pos</th>\n",
       "      <th>Total Pos</th>\n",
       "    </tr>\n",
       "    <tr>\n",
       "      <th>Date</th>\n",
       "      <th></th>\n",
       "      <th></th>\n",
       "      <th></th>\n",
       "      <th></th>\n",
       "      <th></th>\n",
       "    </tr>\n",
       "  </thead>\n",
       "  <tbody>\n",
       "    <tr>\n",
       "      <th>2008-01-31</th>\n",
       "      <td>300000.000000</td>\n",
       "      <td>400000.000000</td>\n",
       "      <td>200000.000000</td>\n",
       "      <td>100000.000000</td>\n",
       "      <td>1.000000e+06</td>\n",
       "    </tr>\n",
       "    <tr>\n",
       "      <th>2008-02-29</th>\n",
       "      <td>250305.828221</td>\n",
       "      <td>398204.081633</td>\n",
       "      <td>212603.865185</td>\n",
       "      <td>82972.972973</td>\n",
       "      <td>9.440867e+05</td>\n",
       "    </tr>\n",
       "    <tr>\n",
       "      <th>2008-03-31</th>\n",
       "      <td>261165.644172</td>\n",
       "      <td>393306.122449</td>\n",
       "      <td>214993.931472</td>\n",
       "      <td>91763.191763</td>\n",
       "      <td>9.612289e+05</td>\n",
       "    </tr>\n",
       "    <tr>\n",
       "      <th>2008-04-30</th>\n",
       "      <td>262453.987730</td>\n",
       "      <td>418612.244898</td>\n",
       "      <td>225375.781906</td>\n",
       "      <td>101196.911197</td>\n",
       "      <td>1.007639e+06</td>\n",
       "    </tr>\n",
       "    <tr>\n",
       "      <th>2008-05-31</th>\n",
       "      <td>260613.496933</td>\n",
       "      <td>436244.897959</td>\n",
       "      <td>241676.780879</td>\n",
       "      <td>105045.045045</td>\n",
       "      <td>1.043580e+06</td>\n",
       "    </tr>\n",
       "  </tbody>\n",
       "</table>\n",
       "</div>"
      ],
      "text/plain": [
       "                 MSFT Pos      CISCO Pos        IBM Pos       AMZN Pos  \\\n",
       "Date                                                                     \n",
       "2008-01-31  300000.000000  400000.000000  200000.000000  100000.000000   \n",
       "2008-02-29  250305.828221  398204.081633  212603.865185   82972.972973   \n",
       "2008-03-31  261165.644172  393306.122449  214993.931472   91763.191763   \n",
       "2008-04-30  262453.987730  418612.244898  225375.781906  101196.911197   \n",
       "2008-05-31  260613.496933  436244.897959  241676.780879  105045.045045   \n",
       "\n",
       "               Total Pos  \n",
       "Date                      \n",
       "2008-01-31  1.000000e+06  \n",
       "2008-02-29  9.440867e+05  \n",
       "2008-03-31  9.612289e+05  \n",
       "2008-04-30  1.007639e+06  \n",
       "2008-05-31  1.043580e+06  "
      ]
     },
     "execution_count": 23,
     "metadata": {},
     "output_type": "execute_result"
    }
   ],
   "source": [
    "portfolio_val.head()"
   ]
  },
  {
   "cell_type": "code",
   "execution_count": 24,
   "id": "e526ce03-a311-4f87-b997-aac42347608c",
   "metadata": {},
   "outputs": [],
   "source": [
    "import matplotlib.pyplot as plt\n",
    "%matplotlib inline"
   ]
  },
  {
   "cell_type": "code",
   "execution_count": 25,
   "id": "ebcf1b5c-2975-45f7-8db4-bc27d24021ff",
   "metadata": {},
   "outputs": [
    {
     "data": {
      "image/png": "[encoded data removed]",
      "text/plain": [
       "<Figure size 720x576 with 1 Axes>"
      ]
     },
     "metadata": {
      "needs_background": "light"
     },
     "output_type": "display_data"
    }
   ],
   "source": [
    "portfolio_val['Total Pos'].plot(figsize=(10,8))\n",
    "plt.title('Total Portfolio Value');"
   ]
  },
  {
   "cell_type": "code",
   "execution_count": 47,
   "id": "1ea5ee45-8b0c-4076-a051-2fa8beed8f5e",
   "metadata": {},
   "outputs": [
    {
     "data": {
      "image/png": "[encoded data removed]",
      "text/plain": [
       "<Figure size 720x576 with 1 Axes>"
      ]
     },
     "metadata": {
      "needs_background": "light"
     },
     "output_type": "display_data"
    }
   ],
   "source": [
    "portfolio_val.drop(['Total Pos','Daily Return'],axis=1).plot(kind='line',figsize=(10,8));\n",
    "plt.savefig('port_return_chart.png')"
   ]
  },
  {
   "cell_type": "markdown",
   "id": "fdbc4a6b-35a2-4fce-a6e8-184b88641a48",
   "metadata": {},
   "source": [
    "## Portfolio Stats"
   ]
  },
  {
   "cell_type": "code",
   "execution_count": 27,
   "id": "4513c417-9537-4492-8158-d81ca5202251",
   "metadata": {},
   "outputs": [
    {
     "data": {
      "text/html": [
       "<div>\n",
       "<style scoped>\n",
       "    .dataframe tbody tr th:only-of-type {\n",
       "        vertical-align: middle;\n",
       "    }\n",
       "\n",
       "    .dataframe tbody tr th {\n",
       "        vertical-align: top;\n",
       "    }\n",
       "\n",
       "    .dataframe thead th {\n",
       "        text-align: right;\n",
       "    }\n",
       "</style>\n",
       "<table border=\"1\" class=\"dataframe\">\n",
       "  <thead>\n",
       "    <tr style=\"text-align: right;\">\n",
       "      <th></th>\n",
       "      <th>MSFT Pos</th>\n",
       "      <th>CISCO Pos</th>\n",
       "      <th>IBM Pos</th>\n",
       "      <th>AMZN Pos</th>\n",
       "      <th>Total Pos</th>\n",
       "    </tr>\n",
       "    <tr>\n",
       "      <th>Date</th>\n",
       "      <th></th>\n",
       "      <th></th>\n",
       "      <th></th>\n",
       "      <th></th>\n",
       "      <th></th>\n",
       "    </tr>\n",
       "  </thead>\n",
       "  <tbody>\n",
       "    <tr>\n",
       "      <th>2008-01-31</th>\n",
       "      <td>300000.000000</td>\n",
       "      <td>400000.000000</td>\n",
       "      <td>200000.000000</td>\n",
       "      <td>100000.000000</td>\n",
       "      <td>1.000000e+06</td>\n",
       "    </tr>\n",
       "    <tr>\n",
       "      <th>2008-02-29</th>\n",
       "      <td>250305.828221</td>\n",
       "      <td>398204.081633</td>\n",
       "      <td>212603.865185</td>\n",
       "      <td>82972.972973</td>\n",
       "      <td>9.440867e+05</td>\n",
       "    </tr>\n",
       "    <tr>\n",
       "      <th>2008-03-31</th>\n",
       "      <td>261165.644172</td>\n",
       "      <td>393306.122449</td>\n",
       "      <td>214993.931472</td>\n",
       "      <td>91763.191763</td>\n",
       "      <td>9.612289e+05</td>\n",
       "    </tr>\n",
       "    <tr>\n",
       "      <th>2008-04-30</th>\n",
       "      <td>262453.987730</td>\n",
       "      <td>418612.244898</td>\n",
       "      <td>225375.781906</td>\n",
       "      <td>101196.911197</td>\n",
       "      <td>1.007639e+06</td>\n",
       "    </tr>\n",
       "    <tr>\n",
       "      <th>2008-05-31</th>\n",
       "      <td>260613.496933</td>\n",
       "      <td>436244.897959</td>\n",
       "      <td>241676.780879</td>\n",
       "      <td>105045.045045</td>\n",
       "      <td>1.043580e+06</td>\n",
       "    </tr>\n",
       "  </tbody>\n",
       "</table>\n",
       "</div>"
      ],
      "text/plain": [
       "                 MSFT Pos      CISCO Pos        IBM Pos       AMZN Pos  \\\n",
       "Date                                                                     \n",
       "2008-01-31  300000.000000  400000.000000  200000.000000  100000.000000   \n",
       "2008-02-29  250305.828221  398204.081633  212603.865185   82972.972973   \n",
       "2008-03-31  261165.644172  393306.122449  214993.931472   91763.191763   \n",
       "2008-04-30  262453.987730  418612.244898  225375.781906  101196.911197   \n",
       "2008-05-31  260613.496933  436244.897959  241676.780879  105045.045045   \n",
       "\n",
       "               Total Pos  \n",
       "Date                      \n",
       "2008-01-31  1.000000e+06  \n",
       "2008-02-29  9.440867e+05  \n",
       "2008-03-31  9.612289e+05  \n",
       "2008-04-30  1.007639e+06  \n",
       "2008-05-31  1.043580e+06  "
      ]
     },
     "execution_count": 27,
     "metadata": {},
     "output_type": "execute_result"
    }
   ],
   "source": [
    "portfolio_val.head()"
   ]
  },
  {
   "cell_type": "code",
   "execution_count": 28,
   "id": "e56fb655-dc71-459b-9c0c-3260aebd1d56",
   "metadata": {},
   "outputs": [
    {
     "data": {
      "text/html": [
       "<div>\n",
       "<style scoped>\n",
       "    .dataframe tbody tr th:only-of-type {\n",
       "        vertical-align: middle;\n",
       "    }\n",
       "\n",
       "    .dataframe tbody tr th {\n",
       "        vertical-align: top;\n",
       "    }\n",
       "\n",
       "    .dataframe thead th {\n",
       "        text-align: right;\n",
       "    }\n",
       "</style>\n",
       "<table border=\"1\" class=\"dataframe\">\n",
       "  <thead>\n",
       "    <tr style=\"text-align: right;\">\n",
       "      <th></th>\n",
       "      <th>MSFT Pos</th>\n",
       "      <th>CISCO Pos</th>\n",
       "      <th>IBM Pos</th>\n",
       "      <th>AMZN Pos</th>\n",
       "      <th>Total Pos</th>\n",
       "    </tr>\n",
       "    <tr>\n",
       "      <th>Date</th>\n",
       "      <th></th>\n",
       "      <th></th>\n",
       "      <th></th>\n",
       "      <th></th>\n",
       "      <th></th>\n",
       "    </tr>\n",
       "  </thead>\n",
       "  <tbody>\n",
       "    <tr>\n",
       "      <th>2017-11-30</th>\n",
       "      <td>774570.552147</td>\n",
       "      <td>608979.591837</td>\n",
       "      <td>287498.832975</td>\n",
       "      <td>1.514479e+06</td>\n",
       "      <td>3.185528e+06</td>\n",
       "    </tr>\n",
       "    <tr>\n",
       "      <th>2017-12-31</th>\n",
       "      <td>787177.914110</td>\n",
       "      <td>625306.122449</td>\n",
       "      <td>286471.851368</td>\n",
       "      <td>1.505109e+06</td>\n",
       "      <td>3.204065e+06</td>\n",
       "    </tr>\n",
       "    <tr>\n",
       "      <th>2018-01-31</th>\n",
       "      <td>874325.153374</td>\n",
       "      <td>678204.081633</td>\n",
       "      <td>305667.071235</td>\n",
       "      <td>1.868275e+06</td>\n",
       "      <td>3.726472e+06</td>\n",
       "    </tr>\n",
       "    <tr>\n",
       "      <th>2018-02-28</th>\n",
       "      <td>862914.110429</td>\n",
       "      <td>731102.040816</td>\n",
       "      <td>290971.898049</td>\n",
       "      <td>1.946525e+06</td>\n",
       "      <td>3.831513e+06</td>\n",
       "    </tr>\n",
       "    <tr>\n",
       "      <th>2018-03-31</th>\n",
       "      <td>823343.558282</td>\n",
       "      <td>696816.326531</td>\n",
       "      <td>283652.320045</td>\n",
       "      <td>1.926705e+06</td>\n",
       "      <td>3.730517e+06</td>\n",
       "    </tr>\n",
       "  </tbody>\n",
       "</table>\n",
       "</div>"
      ],
      "text/plain": [
       "                 MSFT Pos      CISCO Pos        IBM Pos      AMZN Pos  \\\n",
       "Date                                                                    \n",
       "2017-11-30  774570.552147  608979.591837  287498.832975  1.514479e+06   \n",
       "2017-12-31  787177.914110  625306.122449  286471.851368  1.505109e+06   \n",
       "2018-01-31  874325.153374  678204.081633  305667.071235  1.868275e+06   \n",
       "2018-02-28  862914.110429  731102.040816  290971.898049  1.946525e+06   \n",
       "2018-03-31  823343.558282  696816.326531  283652.320045  1.926705e+06   \n",
       "\n",
       "               Total Pos  \n",
       "Date                      \n",
       "2017-11-30  3.185528e+06  \n",
       "2017-12-31  3.204065e+06  \n",
       "2018-01-31  3.726472e+06  \n",
       "2018-02-28  3.831513e+06  \n",
       "2018-03-31  3.730517e+06  "
      ]
     },
     "execution_count": 28,
     "metadata": {},
     "output_type": "execute_result"
    }
   ],
   "source": [
    "portfolio_val.tail()"
   ]
  },
  {
   "cell_type": "code",
   "execution_count": 29,
   "id": "761e681c-3620-4d75-9404-8c10aa946b96",
   "metadata": {},
   "outputs": [],
   "source": [
    "portfolio_val['Daily Return'] = portfolio_val['Total Pos'].pct_change()"
   ]
  },
  {
   "cell_type": "code",
   "execution_count": 30,
   "id": "386d6bdd-bd55-4b3a-bfab-06ba2262628a",
   "metadata": {},
   "outputs": [
    {
     "data": {
      "text/html": [
       "<div>\n",
       "<style scoped>\n",
       "    .dataframe tbody tr th:only-of-type {\n",
       "        vertical-align: middle;\n",
       "    }\n",
       "\n",
       "    .dataframe tbody tr th {\n",
       "        vertical-align: top;\n",
       "    }\n",
       "\n",
       "    .dataframe thead th {\n",
       "        text-align: right;\n",
       "    }\n",
       "</style>\n",
       "<table border=\"1\" class=\"dataframe\">\n",
       "  <thead>\n",
       "    <tr style=\"text-align: right;\">\n",
       "      <th></th>\n",
       "      <th>MSFT Pos</th>\n",
       "      <th>CISCO Pos</th>\n",
       "      <th>IBM Pos</th>\n",
       "      <th>AMZN Pos</th>\n",
       "      <th>Total Pos</th>\n",
       "      <th>Daily Return</th>\n",
       "    </tr>\n",
       "    <tr>\n",
       "      <th>Date</th>\n",
       "      <th></th>\n",
       "      <th></th>\n",
       "      <th></th>\n",
       "      <th></th>\n",
       "      <th></th>\n",
       "      <th></th>\n",
       "    </tr>\n",
       "  </thead>\n",
       "  <tbody>\n",
       "    <tr>\n",
       "      <th>2008-01-31</th>\n",
       "      <td>300000.000000</td>\n",
       "      <td>400000.000000</td>\n",
       "      <td>200000.000000</td>\n",
       "      <td>100000.000000</td>\n",
       "      <td>1.000000e+06</td>\n",
       "      <td>NaN</td>\n",
       "    </tr>\n",
       "    <tr>\n",
       "      <th>2008-02-29</th>\n",
       "      <td>250305.828221</td>\n",
       "      <td>398204.081633</td>\n",
       "      <td>212603.865185</td>\n",
       "      <td>82972.972973</td>\n",
       "      <td>9.440867e+05</td>\n",
       "      <td>-0.055913</td>\n",
       "    </tr>\n",
       "    <tr>\n",
       "      <th>2008-03-31</th>\n",
       "      <td>261165.644172</td>\n",
       "      <td>393306.122449</td>\n",
       "      <td>214993.931472</td>\n",
       "      <td>91763.191763</td>\n",
       "      <td>9.612289e+05</td>\n",
       "      <td>0.018157</td>\n",
       "    </tr>\n",
       "    <tr>\n",
       "      <th>2008-04-30</th>\n",
       "      <td>262453.987730</td>\n",
       "      <td>418612.244898</td>\n",
       "      <td>225375.781906</td>\n",
       "      <td>101196.911197</td>\n",
       "      <td>1.007639e+06</td>\n",
       "      <td>0.048282</td>\n",
       "    </tr>\n",
       "    <tr>\n",
       "      <th>2008-05-31</th>\n",
       "      <td>260613.496933</td>\n",
       "      <td>436244.897959</td>\n",
       "      <td>241676.780879</td>\n",
       "      <td>105045.045045</td>\n",
       "      <td>1.043580e+06</td>\n",
       "      <td>0.035669</td>\n",
       "    </tr>\n",
       "  </tbody>\n",
       "</table>\n",
       "</div>"
      ],
      "text/plain": [
       "                 MSFT Pos      CISCO Pos        IBM Pos       AMZN Pos  \\\n",
       "Date                                                                     \n",
       "2008-01-31  300000.000000  400000.000000  200000.000000  100000.000000   \n",
       "2008-02-29  250305.828221  398204.081633  212603.865185   82972.972973   \n",
       "2008-03-31  261165.644172  393306.122449  214993.931472   91763.191763   \n",
       "2008-04-30  262453.987730  418612.244898  225375.781906  101196.911197   \n",
       "2008-05-31  260613.496933  436244.897959  241676.780879  105045.045045   \n",
       "\n",
       "               Total Pos  Daily Return  \n",
       "Date                                    \n",
       "2008-01-31  1.000000e+06           NaN  \n",
       "2008-02-29  9.440867e+05     -0.055913  \n",
       "2008-03-31  9.612289e+05      0.018157  \n",
       "2008-04-30  1.007639e+06      0.048282  \n",
       "2008-05-31  1.043580e+06      0.035669  "
      ]
     },
     "execution_count": 30,
     "metadata": {},
     "output_type": "execute_result"
    }
   ],
   "source": [
    "portfolio_val.head()"
   ]
  },
  {
   "cell_type": "code",
   "execution_count": 31,
   "id": "f511ccae-c116-4287-ac83-8ae390ed6bbc",
   "metadata": {},
   "outputs": [],
   "source": [
    "portfolio_val['Daily Return'] = portfolio_val['Total Pos'].pct_change(1)"
   ]
  },
  {
   "cell_type": "code",
   "execution_count": 32,
   "id": "3ded3867-8480-476e-aced-f1bff77cc263",
   "metadata": {},
   "outputs": [
    {
     "data": {
      "text/html": [
       "<div>\n",
       "<style scoped>\n",
       "    .dataframe tbody tr th:only-of-type {\n",
       "        vertical-align: middle;\n",
       "    }\n",
       "\n",
       "    .dataframe tbody tr th {\n",
       "        vertical-align: top;\n",
       "    }\n",
       "\n",
       "    .dataframe thead th {\n",
       "        text-align: right;\n",
       "    }\n",
       "</style>\n",
       "<table border=\"1\" class=\"dataframe\">\n",
       "  <thead>\n",
       "    <tr style=\"text-align: right;\">\n",
       "      <th></th>\n",
       "      <th>MSFT Pos</th>\n",
       "      <th>CISCO Pos</th>\n",
       "      <th>IBM Pos</th>\n",
       "      <th>AMZN Pos</th>\n",
       "      <th>Total Pos</th>\n",
       "      <th>Daily Return</th>\n",
       "    </tr>\n",
       "    <tr>\n",
       "      <th>Date</th>\n",
       "      <th></th>\n",
       "      <th></th>\n",
       "      <th></th>\n",
       "      <th></th>\n",
       "      <th></th>\n",
       "      <th></th>\n",
       "    </tr>\n",
       "  </thead>\n",
       "  <tbody>\n",
       "    <tr>\n",
       "      <th>2008-01-31</th>\n",
       "      <td>300000.000000</td>\n",
       "      <td>400000.000000</td>\n",
       "      <td>200000.000000</td>\n",
       "      <td>100000.000000</td>\n",
       "      <td>1.000000e+06</td>\n",
       "      <td>NaN</td>\n",
       "    </tr>\n",
       "    <tr>\n",
       "      <th>2008-02-29</th>\n",
       "      <td>250305.828221</td>\n",
       "      <td>398204.081633</td>\n",
       "      <td>212603.865185</td>\n",
       "      <td>82972.972973</td>\n",
       "      <td>9.440867e+05</td>\n",
       "      <td>-0.055913</td>\n",
       "    </tr>\n",
       "    <tr>\n",
       "      <th>2008-03-31</th>\n",
       "      <td>261165.644172</td>\n",
       "      <td>393306.122449</td>\n",
       "      <td>214993.931472</td>\n",
       "      <td>91763.191763</td>\n",
       "      <td>9.612289e+05</td>\n",
       "      <td>0.018157</td>\n",
       "    </tr>\n",
       "    <tr>\n",
       "      <th>2008-04-30</th>\n",
       "      <td>262453.987730</td>\n",
       "      <td>418612.244898</td>\n",
       "      <td>225375.781906</td>\n",
       "      <td>101196.911197</td>\n",
       "      <td>1.007639e+06</td>\n",
       "      <td>0.048282</td>\n",
       "    </tr>\n",
       "    <tr>\n",
       "      <th>2008-05-31</th>\n",
       "      <td>260613.496933</td>\n",
       "      <td>436244.897959</td>\n",
       "      <td>241676.780879</td>\n",
       "      <td>105045.045045</td>\n",
       "      <td>1.043580e+06</td>\n",
       "      <td>0.035669</td>\n",
       "    </tr>\n",
       "  </tbody>\n",
       "</table>\n",
       "</div>"
      ],
      "text/plain": [
       "                 MSFT Pos      CISCO Pos        IBM Pos       AMZN Pos  \\\n",
       "Date                                                                     \n",
       "2008-01-31  300000.000000  400000.000000  200000.000000  100000.000000   \n",
       "2008-02-29  250305.828221  398204.081633  212603.865185   82972.972973   \n",
       "2008-03-31  261165.644172  393306.122449  214993.931472   91763.191763   \n",
       "2008-04-30  262453.987730  418612.244898  225375.781906  101196.911197   \n",
       "2008-05-31  260613.496933  436244.897959  241676.780879  105045.045045   \n",
       "\n",
       "               Total Pos  Daily Return  \n",
       "Date                                    \n",
       "2008-01-31  1.000000e+06           NaN  \n",
       "2008-02-29  9.440867e+05     -0.055913  \n",
       "2008-03-31  9.612289e+05      0.018157  \n",
       "2008-04-30  1.007639e+06      0.048282  \n",
       "2008-05-31  1.043580e+06      0.035669  "
      ]
     },
     "execution_count": 32,
     "metadata": {},
     "output_type": "execute_result"
    }
   ],
   "source": [
    "portfolio_val.head()"
   ]
  },
  {
   "cell_type": "code",
   "execution_count": 51,
   "id": "6eeb114b-e01c-4c54-9157-6f445da506b7",
   "metadata": {},
   "outputs": [
    {
     "data": {
      "text/html": [
       "<div>\n",
       "<style scoped>\n",
       "    .dataframe tbody tr th:only-of-type {\n",
       "        vertical-align: middle;\n",
       "    }\n",
       "\n",
       "    .dataframe tbody tr th {\n",
       "        vertical-align: top;\n",
       "    }\n",
       "\n",
       "    .dataframe thead th {\n",
       "        text-align: right;\n",
       "    }\n",
       "</style>\n",
       "<table border=\"1\" class=\"dataframe\">\n",
       "  <thead>\n",
       "    <tr style=\"text-align: right;\">\n",
       "      <th></th>\n",
       "      <th>MSFT Pos</th>\n",
       "      <th>CISCO Pos</th>\n",
       "      <th>IBM Pos</th>\n",
       "      <th>AMZN Pos</th>\n",
       "      <th>Total Pos</th>\n",
       "      <th>Daily Return</th>\n",
       "    </tr>\n",
       "    <tr>\n",
       "      <th>Date</th>\n",
       "      <th></th>\n",
       "      <th></th>\n",
       "      <th></th>\n",
       "      <th></th>\n",
       "      <th></th>\n",
       "      <th></th>\n",
       "    </tr>\n",
       "  </thead>\n",
       "  <tbody>\n",
       "    <tr>\n",
       "      <th>2017-06-30</th>\n",
       "      <td>634325.153374</td>\n",
       "      <td>511020.408163</td>\n",
       "      <td>287237.419475</td>\n",
       "      <td>1.245817e+06</td>\n",
       "      <td>2.678400e+06</td>\n",
       "      <td>-0.016216</td>\n",
       "    </tr>\n",
       "    <tr>\n",
       "      <th>2017-07-31</th>\n",
       "      <td>669202.453988</td>\n",
       "      <td>513469.387755</td>\n",
       "      <td>270133.507609</td>\n",
       "      <td>1.271274e+06</td>\n",
       "      <td>2.724079e+06</td>\n",
       "      <td>0.017055</td>\n",
       "    </tr>\n",
       "    <tr>\n",
       "      <th>2017-08-31</th>\n",
       "      <td>688067.484663</td>\n",
       "      <td>525877.551020</td>\n",
       "      <td>267071.235179</td>\n",
       "      <td>1.262033e+06</td>\n",
       "      <td>2.743050e+06</td>\n",
       "      <td>0.006964</td>\n",
       "    </tr>\n",
       "    <tr>\n",
       "      <th>2017-09-30</th>\n",
       "      <td>685490.797546</td>\n",
       "      <td>549061.224490</td>\n",
       "      <td>270899.075717</td>\n",
       "      <td>1.237259e+06</td>\n",
       "      <td>2.742710e+06</td>\n",
       "      <td>-0.000124</td>\n",
       "    </tr>\n",
       "    <tr>\n",
       "      <th>2017-10-31</th>\n",
       "      <td>765460.122699</td>\n",
       "      <td>557551.020408</td>\n",
       "      <td>287666.884511</td>\n",
       "      <td>1.422497e+06</td>\n",
       "      <td>3.033175e+06</td>\n",
       "      <td>0.105904</td>\n",
       "    </tr>\n",
       "    <tr>\n",
       "      <th>2017-11-30</th>\n",
       "      <td>774570.552147</td>\n",
       "      <td>608979.591837</td>\n",
       "      <td>287498.832975</td>\n",
       "      <td>1.514479e+06</td>\n",
       "      <td>3.185528e+06</td>\n",
       "      <td>0.050229</td>\n",
       "    </tr>\n",
       "    <tr>\n",
       "      <th>2017-12-31</th>\n",
       "      <td>787177.914110</td>\n",
       "      <td>625306.122449</td>\n",
       "      <td>286471.851368</td>\n",
       "      <td>1.505109e+06</td>\n",
       "      <td>3.204065e+06</td>\n",
       "      <td>0.005819</td>\n",
       "    </tr>\n",
       "    <tr>\n",
       "      <th>2018-01-31</th>\n",
       "      <td>874325.153374</td>\n",
       "      <td>678204.081633</td>\n",
       "      <td>305667.071235</td>\n",
       "      <td>1.868275e+06</td>\n",
       "      <td>3.726472e+06</td>\n",
       "      <td>0.163045</td>\n",
       "    </tr>\n",
       "    <tr>\n",
       "      <th>2018-02-28</th>\n",
       "      <td>862914.110429</td>\n",
       "      <td>731102.040816</td>\n",
       "      <td>290971.898049</td>\n",
       "      <td>1.946525e+06</td>\n",
       "      <td>3.831513e+06</td>\n",
       "      <td>0.028188</td>\n",
       "    </tr>\n",
       "    <tr>\n",
       "      <th>2018-03-31</th>\n",
       "      <td>823343.558282</td>\n",
       "      <td>696816.326531</td>\n",
       "      <td>283652.320045</td>\n",
       "      <td>1.926705e+06</td>\n",
       "      <td>3.730517e+06</td>\n",
       "      <td>-0.026359</td>\n",
       "    </tr>\n",
       "  </tbody>\n",
       "</table>\n",
       "</div>"
      ],
      "text/plain": [
       "                 MSFT Pos      CISCO Pos        IBM Pos      AMZN Pos  \\\n",
       "Date                                                                    \n",
       "2017-06-30  634325.153374  511020.408163  287237.419475  1.245817e+06   \n",
       "2017-07-31  669202.453988  513469.387755  270133.507609  1.271274e+06   \n",
       "2017-08-31  688067.484663  525877.551020  267071.235179  1.262033e+06   \n",
       "2017-09-30  685490.797546  549061.224490  270899.075717  1.237259e+06   \n",
       "2017-10-31  765460.122699  557551.020408  287666.884511  1.422497e+06   \n",
       "2017-11-30  774570.552147  608979.591837  287498.832975  1.514479e+06   \n",
       "2017-12-31  787177.914110  625306.122449  286471.851368  1.505109e+06   \n",
       "2018-01-31  874325.153374  678204.081633  305667.071235  1.868275e+06   \n",
       "2018-02-28  862914.110429  731102.040816  290971.898049  1.946525e+06   \n",
       "2018-03-31  823343.558282  696816.326531  283652.320045  1.926705e+06   \n",
       "\n",
       "               Total Pos  Daily Return  \n",
       "Date                                    \n",
       "2017-06-30  2.678400e+06     -0.016216  \n",
       "2017-07-31  2.724079e+06      0.017055  \n",
       "2017-08-31  2.743050e+06      0.006964  \n",
       "2017-09-30  2.742710e+06     -0.000124  \n",
       "2017-10-31  3.033175e+06      0.105904  \n",
       "2017-11-30  3.185528e+06      0.050229  \n",
       "2017-12-31  3.204065e+06      0.005819  \n",
       "2018-01-31  3.726472e+06      0.163045  \n",
       "2018-02-28  3.831513e+06      0.028188  \n",
       "2018-03-31  3.730517e+06     -0.026359  "
      ]
     },
     "execution_count": 51,
     "metadata": {},
     "output_type": "execute_result"
    }
   ],
   "source": [
    "portfolio_val.tail(10)"
   ]
  },
  {
   "cell_type": "code",
   "execution_count": 34,
   "id": "0168b448-3360-42f5-8334-4cf9cab6c6ff",
   "metadata": {},
   "outputs": [
    {
     "data": {
      "text/plain": [
       "0.012435622943095774"
      ]
     },
     "execution_count": 34,
     "metadata": {},
     "output_type": "execute_result"
    }
   ],
   "source": [
    "portfolio_val['Daily Return'].mean()"
   ]
  },
  {
   "cell_type": "code",
   "execution_count": 35,
   "id": "37fcea43-c61a-476f-96bf-c1bc12b01d76",
   "metadata": {},
   "outputs": [
    {
     "data": {
      "text/plain": [
       "0.05641056856877906"
      ]
     },
     "execution_count": 35,
     "metadata": {},
     "output_type": "execute_result"
    }
   ],
   "source": [
    "portfolio_val['Daily Return'].std()"
   ]
  },
  {
   "cell_type": "code",
   "execution_count": 36,
   "id": "59d28876-edfc-4b48-b948-1afd8d82437f",
   "metadata": {},
   "outputs": [
    {
     "data": {
      "text/plain": [
       "<AxesSubplot:ylabel='Frequency'>"
      ]
     },
     "execution_count": 36,
     "metadata": {},
     "output_type": "execute_result"
    },
    {
     "data": {
      "image/png": "[encoded data removed]",
      "text/plain": [
       "<Figure size 720x576 with 1 Axes>"
      ]
     },
     "metadata": {
      "needs_background": "light"
     },
     "output_type": "display_data"
    }
   ],
   "source": [
    "portfolio_val['Daily Return'].plot(kind='hist',bins=100,figsize=(10,8))"
   ]
  },
  {
   "cell_type": "code",
   "execution_count": 37,
   "id": "30a345a3-24e4-4e7b-99cb-c0173df949b9",
   "metadata": {},
   "outputs": [
    {
     "data": {
      "text/plain": [
       "<AxesSubplot:ylabel='Density'>"
      ]
     },
     "execution_count": 37,
     "metadata": {},
     "output_type": "execute_result"
    },
    {
     "data": {
      "image/png": "[encoded data removed]",
      "text/plain": [
       "<Figure size 720x576 with 1 Axes>"
      ]
     },
     "metadata": {
      "needs_background": "light"
     },
     "output_type": "display_data"
    }
   ],
   "source": [
    "portfolio_val['Daily Return'].plot(kind='kde',figsize=(10,8))"
   ]
  },
  {
   "cell_type": "code",
   "execution_count": 38,
   "id": "24239cfe-7878-4563-b937-b60bb8b3d1d7",
   "metadata": {},
   "outputs": [
    {
     "data": {
      "text/plain": [
       "<AxesSubplot:ylabel='Density'>"
      ]
     },
     "execution_count": 38,
     "metadata": {},
     "output_type": "execute_result"
    },
    {
     "data": {
      "image/png": "[encoded data removed]",
      "text/plain": [
       "<Figure size 720x576 with 1 Axes>"
      ]
     },
     "metadata": {
      "needs_background": "light"
     },
     "output_type": "display_data"
    }
   ],
   "source": [
    "micro['Close'].pct_change(1).plot(kind='kde',figsize=(10,8))\n",
    "ibm['Close'].pct_change(1).plot(kind='kde')\n",
    "amzn['Close'].pct_change(1).plot(kind='kde')\n",
    "cisco['Close'].pct_change(1).plot(kind='kde')"
   ]
  },
  {
   "cell_type": "code",
   "execution_count": 39,
   "id": "1598b935-0e7d-4b4e-a1df-91696e2d8d3e",
   "metadata": {},
   "outputs": [],
   "source": [
    "cumulative_return = 100*(portfolio_val['Total Pos'][-1]/portfolio_val['Total Pos'][0]-1)"
   ]
  },
  {
   "cell_type": "code",
   "execution_count": 40,
   "id": "59d42796-5522-467f-b814-354808dbeecf",
   "metadata": {},
   "outputs": [
    {
     "data": {
      "text/plain": [
       "273.0517481562911"
      ]
     },
     "execution_count": 40,
     "metadata": {},
     "output_type": "execute_result"
    }
   ],
   "source": [
    "cumulative_return"
   ]
  },
  {
   "cell_type": "code",
   "execution_count": 41,
   "id": "d8c38a3e-3d79-4e66-bf01-d8ea13e12e26",
   "metadata": {},
   "outputs": [],
   "source": [
    "# Sharp Ratio\n",
    "SR = portfolio_val['Daily Return'].mean() / portfolio_val['Daily Return'].std()"
   ]
  },
  {
   "cell_type": "code",
   "execution_count": 42,
   "id": "eba46964-6c49-4a0d-94a3-4c468fe80d47",
   "metadata": {},
   "outputs": [
    {
     "data": {
      "text/plain": [
       "0.22044845954590114"
      ]
     },
     "execution_count": 42,
     "metadata": {},
     "output_type": "execute_result"
    }
   ],
   "source": [
    "SR"
   ]
  },
  {
   "cell_type": "code",
   "execution_count": 43,
   "id": "21c85369-422a-4b95-b68c-41468e7bc6e9",
   "metadata": {},
   "outputs": [],
   "source": [
    "# Have to multiply by k number sqt as SR was meant for annual but we are looking for daily\n",
    "# ASR = Annualised Sharp Ratio\n",
    "ASR = (252**0.5)*SR"
   ]
  },
  {
   "cell_type": "code",
   "execution_count": 44,
   "id": "fee7e033-ebe3-45c4-90de-106bbcdb9c56",
   "metadata": {},
   "outputs": [
    {
     "data": {
      "text/plain": [
       "3.499510805194424"
      ]
     },
     "execution_count": 44,
     "metadata": {},
     "output_type": "execute_result"
    }
   ],
   "source": [
    "ASR"
   ]
  },
  {
   "cell_type": "code",
   "execution_count": 45,
   "id": "175c98e5-5d36-45f9-ba97-bf226d6fac2e",
   "metadata": {},
   "outputs": [],
   "source": [
    "import math"
   ]
  },
  {
   "cell_type": "code",
   "execution_count": 46,
   "id": "1055580c-0501-43f5-864e-a088a2493737",
   "metadata": {},
   "outputs": [
    {
     "data": {
      "text/plain": [
       "3.499510805194424"
      ]
     },
     "execution_count": 46,
     "metadata": {},
     "output_type": "execute_result"
    }
   ],
   "source": [
    "math.sqrt(252)*SR"
   ]
  },
  {
   "cell_type": "code",
   "execution_count": null,
   "id": "602fbe78-969c-465d-9152-47fb5d342627",
   "metadata": {},
   "outputs": [],
   "source": []
  },
  {
   "cell_type": "code",
   "execution_count": null,
   "id": "4125284f-2eb5-44fd-9863-1dc01465ed8e",
   "metadata": {},
   "outputs": [],
   "source": []
  }
 ],
 "metadata": {
  "kernelspec": {
   "display_name": "Python 3 (ipykernel)",
   "language": "python",
   "name": "python3"
  },
  "language_info": {
   "codemirror_mode": {
    "name": "ipython",
    "version": 3
   },
   "file_extension": ".py",
   "mimetype": "text/x-python",
   "name": "python",
   "nbconvert_exporter": "python",
   "pygments_lexer": "ipython3",
   "version": "3.9.7"
  }
 },
 "nbformat": 4,
 "nbformat_minor": 5
}
