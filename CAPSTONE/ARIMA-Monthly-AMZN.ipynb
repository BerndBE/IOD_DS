{
 "cells": [
  {
   "cell_type": "code",
   "execution_count": 1,
   "id": "d3f0bfdd-b6be-4f20-8d37-7f0f85829e41",
   "metadata": {},
   "outputs": [],
   "source": [
    "import numpy as np\n",
    "import pandas as pd\n",
    "import matplotlib.pyplot as plt\n",
    "%matplotlib inline"
   ]
  },
  {
   "cell_type": "code",
   "execution_count": 2,
   "id": "9a3219cb-0bee-480f-9fbb-ef8780163b1f",
   "metadata": {},
   "outputs": [
    {
     "name": "stderr",
     "output_type": "stream",
     "text": [
      "C:\\Users\\Trader\\anaconda3\\envs\\iod_dl\\lib\\site-packages\\statsmodels\\compat\\pandas.py:61: FutureWarning: pandas.Int64Index is deprecated and will be removed from pandas in a future version. Use pandas.Index with the appropriate dtype instead.\n",
      "  from pandas import Int64Index as NumericIndex\n"
     ]
    }
   ],
   "source": [
    "import statsmodels.api as sm"
   ]
  },
  {
   "cell_type": "code",
   "execution_count": 3,
   "id": "b4c771dc-a200-4408-8313-6f16a92baa8e",
   "metadata": {},
   "outputs": [],
   "source": [
    "import yfinance as yf\n",
    "from yahoofinancials import YahooFinancials"
   ]
  },
  {
   "cell_type": "code",
   "execution_count": 4,
   "id": "b68d9a47-3549-4617-92a6-b4ab7fead4d3",
   "metadata": {},
   "outputs": [
    {
     "data": {
      "text/html": [
       "<div>\n",
       "<style scoped>\n",
       "    .dataframe tbody tr th:only-of-type {\n",
       "        vertical-align: middle;\n",
       "    }\n",
       "\n",
       "    .dataframe tbody tr th {\n",
       "        vertical-align: top;\n",
       "    }\n",
       "\n",
       "    .dataframe thead th {\n",
       "        text-align: right;\n",
       "    }\n",
       "</style>\n",
       "<table border=\"1\" class=\"dataframe\">\n",
       "  <thead>\n",
       "    <tr style=\"text-align: right;\">\n",
       "      <th></th>\n",
       "      <th>Open</th>\n",
       "      <th>High</th>\n",
       "      <th>Low</th>\n",
       "      <th>Close</th>\n",
       "      <th>Adj Close</th>\n",
       "      <th>Volume</th>\n",
       "    </tr>\n",
       "    <tr>\n",
       "      <th>Date</th>\n",
       "      <th></th>\n",
       "      <th></th>\n",
       "      <th></th>\n",
       "      <th></th>\n",
       "      <th></th>\n",
       "      <th></th>\n",
       "    </tr>\n",
       "  </thead>\n",
       "  <tbody>\n",
       "    <tr>\n",
       "      <th>2008-01-01</th>\n",
       "      <td>95.349998</td>\n",
       "      <td>97.430000</td>\n",
       "      <td>68.839996</td>\n",
       "      <td>77.699997</td>\n",
       "      <td>77.699997</td>\n",
       "      <td>288335400</td>\n",
       "    </tr>\n",
       "    <tr>\n",
       "      <th>2008-02-01</th>\n",
       "      <td>79.019997</td>\n",
       "      <td>79.400002</td>\n",
       "      <td>63.970001</td>\n",
       "      <td>64.470001</td>\n",
       "      <td>64.470001</td>\n",
       "      <td>211217800</td>\n",
       "    </tr>\n",
       "    <tr>\n",
       "      <th>2008-03-01</th>\n",
       "      <td>63.590000</td>\n",
       "      <td>76.930000</td>\n",
       "      <td>61.200001</td>\n",
       "      <td>71.300003</td>\n",
       "      <td>71.300003</td>\n",
       "      <td>192685600</td>\n",
       "    </tr>\n",
       "    <tr>\n",
       "      <th>2008-04-01</th>\n",
       "      <td>72.989998</td>\n",
       "      <td>82.639999</td>\n",
       "      <td>70.650002</td>\n",
       "      <td>78.629997</td>\n",
       "      <td>78.629997</td>\n",
       "      <td>197849400</td>\n",
       "    </tr>\n",
       "    <tr>\n",
       "      <th>2008-05-01</th>\n",
       "      <td>78.400002</td>\n",
       "      <td>84.750000</td>\n",
       "      <td>71.559998</td>\n",
       "      <td>81.620003</td>\n",
       "      <td>81.620003</td>\n",
       "      <td>152573200</td>\n",
       "    </tr>\n",
       "  </tbody>\n",
       "</table>\n",
       "</div>"
      ],
      "text/plain": [
       "                 Open       High        Low      Close  Adj Close     Volume\n",
       "Date                                                                        \n",
       "2008-01-01  95.349998  97.430000  68.839996  77.699997  77.699997  288335400\n",
       "2008-02-01  79.019997  79.400002  63.970001  64.470001  64.470001  211217800\n",
       "2008-03-01  63.590000  76.930000  61.200001  71.300003  71.300003  192685600\n",
       "2008-04-01  72.989998  82.639999  70.650002  78.629997  78.629997  197849400\n",
       "2008-05-01  78.400002  84.750000  71.559998  81.620003  81.620003  152573200"
      ]
     },
     "execution_count": 4,
     "metadata": {},
     "output_type": "execute_result"
    }
   ],
   "source": [
    "df = yf.download('AMZN', \n",
    "                      start='2008-01-01', \n",
    "                      end='2018-04-01', \n",
    "                      progress=False, \n",
    "                      interval='1mo'\n",
    ")\n",
    "df.head()"
   ]
  },
  {
   "cell_type": "code",
   "execution_count": 5,
   "id": "78838437-1e38-4eeb-8d3b-72724c40f61b",
   "metadata": {},
   "outputs": [
    {
     "data": {
      "text/html": [
       "<div>\n",
       "<style scoped>\n",
       "    .dataframe tbody tr th:only-of-type {\n",
       "        vertical-align: middle;\n",
       "    }\n",
       "\n",
       "    .dataframe tbody tr th {\n",
       "        vertical-align: top;\n",
       "    }\n",
       "\n",
       "    .dataframe thead th {\n",
       "        text-align: right;\n",
       "    }\n",
       "</style>\n",
       "<table border=\"1\" class=\"dataframe\">\n",
       "  <thead>\n",
       "    <tr style=\"text-align: right;\">\n",
       "      <th></th>\n",
       "      <th>Close</th>\n",
       "    </tr>\n",
       "    <tr>\n",
       "      <th>Date</th>\n",
       "      <th></th>\n",
       "    </tr>\n",
       "  </thead>\n",
       "  <tbody>\n",
       "    <tr>\n",
       "      <th>2008-01-01</th>\n",
       "      <td>77.699997</td>\n",
       "    </tr>\n",
       "    <tr>\n",
       "      <th>2008-02-01</th>\n",
       "      <td>64.470001</td>\n",
       "    </tr>\n",
       "    <tr>\n",
       "      <th>2008-03-01</th>\n",
       "      <td>71.300003</td>\n",
       "    </tr>\n",
       "    <tr>\n",
       "      <th>2008-04-01</th>\n",
       "      <td>78.629997</td>\n",
       "    </tr>\n",
       "    <tr>\n",
       "      <th>2008-05-01</th>\n",
       "      <td>81.620003</td>\n",
       "    </tr>\n",
       "  </tbody>\n",
       "</table>\n",
       "</div>"
      ],
      "text/plain": [
       "                Close\n",
       "Date                 \n",
       "2008-01-01  77.699997\n",
       "2008-02-01  64.470001\n",
       "2008-03-01  71.300003\n",
       "2008-04-01  78.629997\n",
       "2008-05-01  81.620003"
      ]
     },
     "execution_count": 5,
     "metadata": {},
     "output_type": "execute_result"
    }
   ],
   "source": [
    "df.drop(['Open','High','Low','Adj Close','Volume'],axis=1,inplace=True)\n",
    "df.head()"
   ]
  },
  {
   "cell_type": "code",
   "execution_count": 6,
   "id": "5091fa7d-f6a2-472a-8001-2156b56af5a2",
   "metadata": {},
   "outputs": [
    {
     "data": {
      "text/html": [
       "<div>\n",
       "<style scoped>\n",
       "    .dataframe tbody tr th:only-of-type {\n",
       "        vertical-align: middle;\n",
       "    }\n",
       "\n",
       "    .dataframe tbody tr th {\n",
       "        vertical-align: top;\n",
       "    }\n",
       "\n",
       "    .dataframe thead th {\n",
       "        text-align: right;\n",
       "    }\n",
       "</style>\n",
       "<table border=\"1\" class=\"dataframe\">\n",
       "  <thead>\n",
       "    <tr style=\"text-align: right;\">\n",
       "      <th></th>\n",
       "      <th>Close</th>\n",
       "    </tr>\n",
       "    <tr>\n",
       "      <th>Date</th>\n",
       "      <th></th>\n",
       "    </tr>\n",
       "  </thead>\n",
       "  <tbody>\n",
       "    <tr>\n",
       "      <th>2008-01-01</th>\n",
       "      <td>77.699997</td>\n",
       "    </tr>\n",
       "    <tr>\n",
       "      <th>2008-02-01</th>\n",
       "      <td>64.470001</td>\n",
       "    </tr>\n",
       "    <tr>\n",
       "      <th>2008-03-01</th>\n",
       "      <td>71.300003</td>\n",
       "    </tr>\n",
       "    <tr>\n",
       "      <th>2008-04-01</th>\n",
       "      <td>78.629997</td>\n",
       "    </tr>\n",
       "    <tr>\n",
       "      <th>2008-05-01</th>\n",
       "      <td>81.620003</td>\n",
       "    </tr>\n",
       "  </tbody>\n",
       "</table>\n",
       "</div>"
      ],
      "text/plain": [
       "                Close\n",
       "Date                 \n",
       "2008-01-01  77.699997\n",
       "2008-02-01  64.470001\n",
       "2008-03-01  71.300003\n",
       "2008-04-01  78.629997\n",
       "2008-05-01  81.620003"
      ]
     },
     "execution_count": 6,
     "metadata": {},
     "output_type": "execute_result"
    }
   ],
   "source": [
    "df.dropna(subset=['Close'],inplace=True)\n",
    "df.head()"
   ]
  },
  {
   "cell_type": "code",
   "execution_count": 7,
   "id": "c38fb779-b144-4c6c-93c7-188c3188661d",
   "metadata": {},
   "outputs": [
    {
     "data": {
      "text/html": [
       "<div>\n",
       "<style scoped>\n",
       "    .dataframe tbody tr th:only-of-type {\n",
       "        vertical-align: middle;\n",
       "    }\n",
       "\n",
       "    .dataframe tbody tr th {\n",
       "        vertical-align: top;\n",
       "    }\n",
       "\n",
       "    .dataframe thead th {\n",
       "        text-align: right;\n",
       "    }\n",
       "</style>\n",
       "<table border=\"1\" class=\"dataframe\">\n",
       "  <thead>\n",
       "    <tr style=\"text-align: right;\">\n",
       "      <th></th>\n",
       "      <th>Close</th>\n",
       "    </tr>\n",
       "    <tr>\n",
       "      <th>Date</th>\n",
       "      <th></th>\n",
       "    </tr>\n",
       "  </thead>\n",
       "  <tbody>\n",
       "    <tr>\n",
       "      <th>2017-11-01</th>\n",
       "      <td>1176.750000</td>\n",
       "    </tr>\n",
       "    <tr>\n",
       "      <th>2017-12-01</th>\n",
       "      <td>1169.469971</td>\n",
       "    </tr>\n",
       "    <tr>\n",
       "      <th>2018-01-01</th>\n",
       "      <td>1450.890015</td>\n",
       "    </tr>\n",
       "    <tr>\n",
       "      <th>2018-02-01</th>\n",
       "      <td>1512.449951</td>\n",
       "    </tr>\n",
       "    <tr>\n",
       "      <th>2018-03-01</th>\n",
       "      <td>1447.339966</td>\n",
       "    </tr>\n",
       "  </tbody>\n",
       "</table>\n",
       "</div>"
      ],
      "text/plain": [
       "                  Close\n",
       "Date                   \n",
       "2017-11-01  1176.750000\n",
       "2017-12-01  1169.469971\n",
       "2018-01-01  1450.890015\n",
       "2018-02-01  1512.449951\n",
       "2018-03-01  1447.339966"
      ]
     },
     "execution_count": 7,
     "metadata": {},
     "output_type": "execute_result"
    }
   ],
   "source": [
    "df.tail()"
   ]
  },
  {
   "cell_type": "code",
   "execution_count": 8,
   "id": "64f53502-b58e-4156-b78c-8cc543fb0629",
   "metadata": {},
   "outputs": [
    {
     "data": {
      "text/plain": [
       "DatetimeIndex(['2008-01-01', '2008-02-01', '2008-03-01', '2008-04-01',\n",
       "               '2008-05-01', '2008-06-01', '2008-07-01', '2008-08-01',\n",
       "               '2008-09-01', '2008-10-01',\n",
       "               ...\n",
       "               '2017-06-01', '2017-07-01', '2017-08-01', '2017-09-01',\n",
       "               '2017-10-01', '2017-11-01', '2017-12-01', '2018-01-01',\n",
       "               '2018-02-01', '2018-03-01'],\n",
       "              dtype='datetime64[ns]', name='Date', length=123, freq=None)"
      ]
     },
     "execution_count": 8,
     "metadata": {},
     "output_type": "execute_result"
    }
   ],
   "source": [
    "df.index"
   ]
  },
  {
   "cell_type": "code",
   "execution_count": 9,
   "id": "75c18565-af1b-4ec5-9ced-81ae249e89d1",
   "metadata": {},
   "outputs": [
    {
     "data": {
      "text/html": [
       "<div>\n",
       "<style scoped>\n",
       "    .dataframe tbody tr th:only-of-type {\n",
       "        vertical-align: middle;\n",
       "    }\n",
       "\n",
       "    .dataframe tbody tr th {\n",
       "        vertical-align: top;\n",
       "    }\n",
       "\n",
       "    .dataframe thead th {\n",
       "        text-align: right;\n",
       "    }\n",
       "</style>\n",
       "<table border=\"1\" class=\"dataframe\">\n",
       "  <thead>\n",
       "    <tr style=\"text-align: right;\">\n",
       "      <th></th>\n",
       "      <th>count</th>\n",
       "      <th>mean</th>\n",
       "      <th>std</th>\n",
       "      <th>min</th>\n",
       "      <th>25%</th>\n",
       "      <th>50%</th>\n",
       "      <th>75%</th>\n",
       "      <th>max</th>\n",
       "    </tr>\n",
       "  </thead>\n",
       "  <tbody>\n",
       "    <tr>\n",
       "      <th>Close</th>\n",
       "      <td>123.0</td>\n",
       "      <td>381.135447</td>\n",
       "      <td>332.52347</td>\n",
       "      <td>42.700001</td>\n",
       "      <td>136.505005</td>\n",
       "      <td>264.269989</td>\n",
       "      <td>524.52002</td>\n",
       "      <td>1512.449951</td>\n",
       "    </tr>\n",
       "  </tbody>\n",
       "</table>\n",
       "</div>"
      ],
      "text/plain": [
       "       count        mean        std        min         25%         50%  \\\n",
       "Close  123.0  381.135447  332.52347  42.700001  136.505005  264.269989   \n",
       "\n",
       "             75%          max  \n",
       "Close  524.52002  1512.449951  "
      ]
     },
     "execution_count": 9,
     "metadata": {},
     "output_type": "execute_result"
    }
   ],
   "source": [
    "df.describe().T"
   ]
  },
  {
   "cell_type": "code",
   "execution_count": 10,
   "id": "e5b09f7f-6fab-421c-b2be-739b102f712d",
   "metadata": {},
   "outputs": [
    {
     "data": {
      "text/plain": [
       "<AxesSubplot:xlabel='Date'>"
      ]
     },
     "execution_count": 10,
     "metadata": {},
     "output_type": "execute_result"
    },
    {
     "data": {
      "image/png": "[encoded data removed]",
      "text/plain": [
       "<Figure size 432x288 with 1 Axes>"
      ]
     },
     "metadata": {
      "needs_background": "light"
     },
     "output_type": "display_data"
    }
   ],
   "source": [
    "df.plot()"
   ]
  },
  {
   "cell_type": "code",
   "execution_count": 11,
   "id": "5d2c6397-8181-47e4-88f2-a8ab17f81cf6",
   "metadata": {},
   "outputs": [],
   "source": [
    "time_series = df['Close']"
   ]
  },
  {
   "cell_type": "code",
   "execution_count": 12,
   "id": "14469487-679f-44ac-95c4-a54244a458b8",
   "metadata": {},
   "outputs": [
    {
     "data": {
      "text/plain": [
       "pandas.core.series.Series"
      ]
     },
     "execution_count": 12,
     "metadata": {},
     "output_type": "execute_result"
    }
   ],
   "source": [
    "type(time_series)"
   ]
  },
  {
   "cell_type": "code",
   "execution_count": 14,
   "id": "95c4067f-6346-4936-a7d5-60e3b67b9e68",
   "metadata": {},
   "outputs": [
    {
     "data": {
      "image/png": "[encoded data removed]",
      "text/plain": [
       "<Figure size 720x576 with 1 Axes>"
      ]
     },
     "metadata": {
      "needs_background": "light"
     },
     "output_type": "display_data"
    }
   ],
   "source": [
    "time_series.rolling(12).mean().plot(label='12 Month Rolling Mean',figsize=(10,8))\n",
    "time_series.rolling(12).std().plot(label='12 Month Rolling STD')\n",
    "time_series.plot(label='Close Price')\n",
    "plt.legend();"
   ]
  },
  {
   "cell_type": "code",
   "execution_count": 15,
   "id": "75798c69-86c3-4b43-b77c-31cbc5692156",
   "metadata": {},
   "outputs": [],
   "source": [
    "from statsmodels.tsa.seasonal import seasonal_decompose"
   ]
  },
  {
   "cell_type": "code",
   "execution_count": 16,
   "id": "0a3a680f-2e6b-4d82-abb4-1179345648a1",
   "metadata": {},
   "outputs": [],
   "source": [
    "decomp = seasonal_decompose(time_series)"
   ]
  },
  {
   "cell_type": "code",
   "execution_count": 17,
   "id": "2ae677ac-25ab-4673-9031-87950facf43f",
   "metadata": {},
   "outputs": [
    {
     "data": {
      "image/png": "[encoded data removed]",
      "text/plain": [
       "<Figure size 1080x576 with 4 Axes>"
      ]
     },
     "metadata": {
      "needs_background": "light"
     },
     "output_type": "display_data"
    }
   ],
   "source": [
    "fig=decomp.plot()\n",
    "fig.set_size_inches(15,8)"
   ]
  },
  {
   "cell_type": "code",
   "execution_count": 18,
   "id": "3f25b27b-37d3-492f-a953-e3b881431512",
   "metadata": {},
   "outputs": [
    {
     "data": {
      "text/html": [
       "<div>\n",
       "<style scoped>\n",
       "    .dataframe tbody tr th:only-of-type {\n",
       "        vertical-align: middle;\n",
       "    }\n",
       "\n",
       "    .dataframe tbody tr th {\n",
       "        vertical-align: top;\n",
       "    }\n",
       "\n",
       "    .dataframe thead th {\n",
       "        text-align: right;\n",
       "    }\n",
       "</style>\n",
       "<table border=\"1\" class=\"dataframe\">\n",
       "  <thead>\n",
       "    <tr style=\"text-align: right;\">\n",
       "      <th></th>\n",
       "      <th>Close</th>\n",
       "    </tr>\n",
       "    <tr>\n",
       "      <th>Date</th>\n",
       "      <th></th>\n",
       "    </tr>\n",
       "  </thead>\n",
       "  <tbody>\n",
       "    <tr>\n",
       "      <th>2008-01-01</th>\n",
       "      <td>77.699997</td>\n",
       "    </tr>\n",
       "    <tr>\n",
       "      <th>2008-02-01</th>\n",
       "      <td>64.470001</td>\n",
       "    </tr>\n",
       "    <tr>\n",
       "      <th>2008-03-01</th>\n",
       "      <td>71.300003</td>\n",
       "    </tr>\n",
       "    <tr>\n",
       "      <th>2008-04-01</th>\n",
       "      <td>78.629997</td>\n",
       "    </tr>\n",
       "    <tr>\n",
       "      <th>2008-05-01</th>\n",
       "      <td>81.620003</td>\n",
       "    </tr>\n",
       "  </tbody>\n",
       "</table>\n",
       "</div>"
      ],
      "text/plain": [
       "                Close\n",
       "Date                 \n",
       "2008-01-01  77.699997\n",
       "2008-02-01  64.470001\n",
       "2008-03-01  71.300003\n",
       "2008-04-01  78.629997\n",
       "2008-05-01  81.620003"
      ]
     },
     "execution_count": 18,
     "metadata": {},
     "output_type": "execute_result"
    }
   ],
   "source": [
    "df.head()"
   ]
  },
  {
   "cell_type": "markdown",
   "id": "1d50a2c6-80f8-41e6-931c-d299380612ff",
   "metadata": {},
   "source": [
    "### Dicky Fuller Test\n",
    "Test if data is stationary or not"
   ]
  },
  {
   "cell_type": "code",
   "execution_count": 19,
   "id": "5246c24d-e13e-4464-87a1-a043ebed9d0d",
   "metadata": {},
   "outputs": [],
   "source": [
    "from statsmodels.tsa.stattools import adfuller"
   ]
  },
  {
   "cell_type": "code",
   "execution_count": 20,
   "id": "14a4bd0c-c1cc-4b23-ada6-7ba9b0eaafc0",
   "metadata": {},
   "outputs": [],
   "source": [
    "result = adfuller(df['Close'])"
   ]
  },
  {
   "cell_type": "code",
   "execution_count": 21,
   "id": "fb434b15-8c5c-44ff-9ec1-11314348d6da",
   "metadata": {},
   "outputs": [
    {
     "data": {
      "text/plain": [
       "(2.5665114270383884,\n",
       " 0.9990682063309944,\n",
       " 10,\n",
       " 112,\n",
       " {'1%': -3.4901313156261384,\n",
       "  '5%': -2.8877122815688776,\n",
       "  '10%': -2.5807296460459184},\n",
       " 1105.636240437909)"
      ]
     },
     "execution_count": 21,
     "metadata": {},
     "output_type": "execute_result"
    }
   ],
   "source": [
    "result"
   ]
  },
  {
   "cell_type": "code",
   "execution_count": 22,
   "id": "d713eab0-cbfd-48f3-bd2e-da94aac1bfea",
   "metadata": {},
   "outputs": [],
   "source": [
    "def adf_check(time_series):\n",
    "    \n",
    "    result=adfuller(time_series)\n",
    "    print(\" Augmented Dicky-Fuller Test\")\n",
    "    labels = ['ADF Test Statistic','p-value','# of lags','Num of Obseravtions used']\n",
    "    \n",
    "    for value,label in zip(result,labels):\n",
    "        print(label+\" : \"+str(value))\n",
    "        \n",
    "    if result[1]<=0.05:\n",
    "        print(\"Strong evidence against null hypothesis\")\n",
    "        print(\"Reject null hypothesis\")\n",
    "        print(\"Data has no unit root and is stationary\")\n",
    "    else:\n",
    "        print(\"Weak evidence against null hypothesis\")\n",
    "        print(\"Fail to reject null hypothesis\")\n",
    "        print(\"Data has a unit root, it is non-stationary\")"
   ]
  },
  {
   "cell_type": "code",
   "execution_count": 23,
   "id": "be9a6a27-3982-45f8-b475-416224af465a",
   "metadata": {},
   "outputs": [
    {
     "name": "stdout",
     "output_type": "stream",
     "text": [
      " Augmented Dicky-Fuller Test\n",
      "ADF Test Statistic : 2.5665114270383884\n",
      "p-value : 0.9990682063309944\n",
      "# of lags : 10\n",
      "Num of Obseravtions used : 112\n",
      "Weak evidence against null hypothesis\n",
      "Fail to reject null hypothesis\n",
      "Data has a unit root, it is non-stationary\n"
     ]
    }
   ],
   "source": [
    "adf_check(df['Close'])"
   ]
  },
  {
   "cell_type": "code",
   "execution_count": 24,
   "id": "3db131ed-f024-4570-b732-f43cedbe3f39",
   "metadata": {},
   "outputs": [],
   "source": [
    "df['First Difference'] = df['Close'] - df['Close'].shift(1)"
   ]
  },
  {
   "cell_type": "code",
   "execution_count": 25,
   "id": "e41d876d-8a11-477e-a65e-5c42c59e540d",
   "metadata": {},
   "outputs": [
    {
     "data": {
      "image/png": "[encoded data removed]",
      "text/plain": [
       "<Figure size 432x288 with 1 Axes>"
      ]
     },
     "metadata": {
      "needs_background": "light"
     },
     "output_type": "display_data"
    }
   ],
   "source": [
    "df['First Difference'].plot();"
   ]
  },
  {
   "cell_type": "code",
   "execution_count": 26,
   "id": "012c29e3-749d-4c69-86ee-776cfcce3bc2",
   "metadata": {},
   "outputs": [
    {
     "name": "stdout",
     "output_type": "stream",
     "text": [
      " Augmented Dicky-Fuller Test\n",
      "ADF Test Statistic : 0.19341117634253205\n",
      "p-value : 0.9718896162169409\n",
      "# of lags : 9\n",
      "Num of Obseravtions used : 112\n",
      "Weak evidence against null hypothesis\n",
      "Fail to reject null hypothesis\n",
      "Data has a unit root, it is non-stationary\n"
     ]
    }
   ],
   "source": [
    "adf_check(df['First Difference'].dropna())"
   ]
  },
  {
   "cell_type": "code",
   "execution_count": 27,
   "id": "7a7fb511-f855-4315-8fde-dbc8db0f01bd",
   "metadata": {},
   "outputs": [],
   "source": [
    "df['Second Difference'] = df['First Difference'] - df['First Difference'].shift(1)"
   ]
  },
  {
   "cell_type": "code",
   "execution_count": 28,
   "id": "a30d0436-53b0-462a-a26d-7befac3bdfd2",
   "metadata": {},
   "outputs": [
    {
     "name": "stdout",
     "output_type": "stream",
     "text": [
      " Augmented Dicky-Fuller Test\n",
      "ADF Test Statistic : -8.19030506177163\n",
      "p-value : 7.699867006762005e-13\n",
      "# of lags : 8\n",
      "Num of Obseravtions used : 112\n",
      "Strong evidence against null hypothesis\n",
      "Reject null hypothesis\n",
      "Data has no unit root and is stationary\n"
     ]
    }
   ],
   "source": [
    "adf_check(df['Second Difference'].dropna())"
   ]
  },
  {
   "cell_type": "code",
   "execution_count": 29,
   "id": "adc38a2e-86ee-4d27-9001-72c5442f3746",
   "metadata": {},
   "outputs": [
    {
     "data": {
      "text/plain": [
       "<AxesSubplot:xlabel='Date'>"
      ]
     },
     "execution_count": 29,
     "metadata": {},
     "output_type": "execute_result"
    },
    {
     "data": {
      "image/png": "[encoded data removed]",
      "text/plain": [
       "<Figure size 432x288 with 1 Axes>"
      ]
     },
     "metadata": {
      "needs_background": "light"
     },
     "output_type": "display_data"
    }
   ],
   "source": [
    "df['Second Difference'].plot()"
   ]
  },
  {
   "cell_type": "markdown",
   "id": "8daf5ebf-34ec-46d9-ba72-aba94096a720",
   "metadata": {},
   "source": [
    "#### The above shows the data is stationary as p-value is < 0.05\n",
    "The below is just to show in case we need a second difference"
   ]
  },
  {
   "cell_type": "code",
   "execution_count": 30,
   "id": "0b8a759b-5dc0-4351-8c2d-a9a261994a9e",
   "metadata": {},
   "outputs": [],
   "source": [
    "df['Seasonal Difference'] = df['Close'] - df['Close'].shift(12)"
   ]
  },
  {
   "cell_type": "code",
   "execution_count": 31,
   "id": "babdd96f-f9b3-47c6-a106-198182bda52d",
   "metadata": {},
   "outputs": [
    {
     "data": {
      "image/png": "[encoded data removed]",
      "text/plain": [
       "<Figure size 432x288 with 1 Axes>"
      ]
     },
     "metadata": {
      "needs_background": "light"
     },
     "output_type": "display_data"
    }
   ],
   "source": [
    "df['Seasonal Difference'].plot();"
   ]
  },
  {
   "cell_type": "code",
   "execution_count": 32,
   "id": "9d1e12a6-828f-4645-b91b-67764d96041a",
   "metadata": {},
   "outputs": [
    {
     "name": "stdout",
     "output_type": "stream",
     "text": [
      " Augmented Dicky-Fuller Test\n",
      "ADF Test Statistic : 0.7883977333644483\n",
      "p-value : 0.9914465585075114\n",
      "# of lags : 12\n",
      "Num of Obseravtions used : 98\n",
      "Weak evidence against null hypothesis\n",
      "Fail to reject null hypothesis\n",
      "Data has a unit root, it is non-stationary\n"
     ]
    }
   ],
   "source": [
    "adf_check(df['Seasonal Difference'].dropna())"
   ]
  },
  {
   "cell_type": "code",
   "execution_count": 33,
   "id": "37bfe6ef-9185-4876-a35a-17bf8194027c",
   "metadata": {},
   "outputs": [],
   "source": [
    "df['Seasonal First Difference'] = df['First Difference'] - df['First Difference'].shift(12)"
   ]
  },
  {
   "cell_type": "code",
   "execution_count": 34,
   "id": "e20b5691-c65f-41c3-996d-5bc2d7b47da9",
   "metadata": {},
   "outputs": [
    {
     "data": {
      "image/png": "[encoded data removed]",
      "text/plain": [
       "<Figure size 432x288 with 1 Axes>"
      ]
     },
     "metadata": {
      "needs_background": "light"
     },
     "output_type": "display_data"
    }
   ],
   "source": [
    "df['Seasonal Difference'].plot();"
   ]
  },
  {
   "cell_type": "code",
   "execution_count": 35,
   "id": "4fb87530-786e-4512-af80-832c66c71007",
   "metadata": {},
   "outputs": [
    {
     "name": "stdout",
     "output_type": "stream",
     "text": [
      " Augmented Dicky-Fuller Test\n",
      "ADF Test Statistic : -2.9300078539476258\n",
      "p-value : 0.041968120735375404\n",
      "# of lags : 11\n",
      "Num of Obseravtions used : 98\n",
      "Strong evidence against null hypothesis\n",
      "Reject null hypothesis\n",
      "Data has no unit root and is stationary\n"
     ]
    }
   ],
   "source": [
    "adf_check(df['Seasonal First Difference'].dropna())"
   ]
  },
  {
   "cell_type": "code",
   "execution_count": 36,
   "id": "77b91575-c3a5-4811-a301-d0bc07cb4be9",
   "metadata": {},
   "outputs": [],
   "source": [
    "from statsmodels.graphics.tsaplots import plot_acf,plot_pacf"
   ]
  },
  {
   "cell_type": "code",
   "execution_count": 37,
   "id": "c7a8b3af-a6d0-4d6b-abe0-b380156cf842",
   "metadata": {},
   "outputs": [
    {
     "data": {
      "image/png": "[encoded data removed]",
      "text/plain": [
       "<Figure size 432x288 with 1 Axes>"
      ]
     },
     "metadata": {
      "needs_background": "light"
     },
     "output_type": "display_data"
    }
   ],
   "source": [
    "fig_first = plot_acf(df['First Difference'].dropna())"
   ]
  },
  {
   "cell_type": "code",
   "execution_count": 38,
   "id": "8740bfe6-8dc8-42ff-93ba-f7dc464f4698",
   "metadata": {},
   "outputs": [
    {
     "data": {
      "image/png": "[encoded data removed]",
      "text/plain": [
       "<Figure size 432x288 with 1 Axes>"
      ]
     },
     "metadata": {
      "needs_background": "light"
     },
     "output_type": "display_data"
    }
   ],
   "source": [
    "fig_seasonal_first = plot_acf(df['Seasonal First Difference'].dropna())"
   ]
  },
  {
   "cell_type": "code",
   "execution_count": 39,
   "id": "56e04aa2-921b-4ae6-932c-63cf07f207b0",
   "metadata": {},
   "outputs": [
    {
     "name": "stderr",
     "output_type": "stream",
     "text": [
      "C:\\Users\\Trader\\anaconda3\\envs\\iod_dl\\lib\\site-packages\\statsmodels\\graphics\\tsaplots.py:348: FutureWarning: The default method 'yw' can produce PACF values outside of the [-1,1] interval. After 0.13, the default will change tounadjusted Yule-Walker ('ywm'). You can use this method now by setting method='ywm'.\n",
      "  warnings.warn(\n"
     ]
    },
    {
     "data": {
      "image/png": "[encoded data removed]",
      "text/plain": [
       "<Figure size 432x288 with 1 Axes>"
      ]
     },
     "metadata": {
      "needs_background": "light"
     },
     "output_type": "display_data"
    }
   ],
   "source": [
    "result = plot_pacf(df['Seasonal First Difference'].dropna())"
   ]
  },
  {
   "cell_type": "code",
   "execution_count": 40,
   "id": "9e821591-c031-45f7-9712-521c442c5e51",
   "metadata": {},
   "outputs": [
    {
     "name": "stderr",
     "output_type": "stream",
     "text": [
      "C:\\Users\\Trader\\anaconda3\\envs\\iod_dl\\lib\\site-packages\\statsmodels\\graphics\\tsaplots.py:348: FutureWarning: The default method 'yw' can produce PACF values outside of the [-1,1] interval. After 0.13, the default will change tounadjusted Yule-Walker ('ywm'). You can use this method now by setting method='ywm'.\n",
      "  warnings.warn(\n"
     ]
    },
    {
     "data": {
      "image/png": "[encoded data removed]",
      "text/plain": [
       "<Figure size 432x288 with 1 Axes>"
      ]
     },
     "execution_count": 40,
     "metadata": {},
     "output_type": "execute_result"
    },
    {
     "data": {
      "image/png": "[encoded data removed]",
      "text/plain": [
       "<Figure size 432x288 with 1 Axes>"
      ]
     },
     "metadata": {
      "needs_background": "light"
     },
     "output_type": "display_data"
    },
    {
     "data": {
      "image/png": "[encoded data removed]",
      "text/plain": [
       "<Figure size 432x288 with 1 Axes>"
      ]
     },
     "metadata": {
      "needs_background": "light"
     },
     "output_type": "display_data"
    }
   ],
   "source": [
    "plot_acf(df['Seasonal First Difference'].dropna())\n",
    "plot_pacf(df['Seasonal First Difference'].dropna())"
   ]
  },
  {
   "cell_type": "code",
   "execution_count": 41,
   "id": "c146e259-e1b0-45d3-a02a-fbfd4e6efee8",
   "metadata": {},
   "outputs": [],
   "source": [
    "from statsmodels.tsa.arima_model import ARIMA"
   ]
  },
  {
   "cell_type": "code",
   "execution_count": 42,
   "id": "aecdc900-68ce-4d1b-af84-b4af43973912",
   "metadata": {},
   "outputs": [
    {
     "name": "stdout",
     "output_type": "stream",
     "text": [
      "Help on class ARIMA in module statsmodels.tsa.arima_model:\n",
      "\n",
      "class ARIMA(ARMA)\n",
      " |  ARIMA(*args, **kwargs)\n",
      " |  \n",
      " |  ARIMA has been deprecated in favor of the new implementation\n",
      " |  \n",
      " |  See Also\n",
      " |  --------\n",
      " |  statsmodels.tsa.arima.model.ARIMA\n",
      " |      ARIMA models with a variety of parameter estimators\n",
      " |  statsmodels.tsa.statespace.SARIMAX\n",
      " |      SARIMAX models estimated using MLE\n",
      " |  \n",
      " |  Method resolution order:\n",
      " |      ARIMA\n",
      " |      ARMA\n",
      " |      builtins.object\n",
      " |  \n",
      " |  Methods defined here:\n",
      " |  \n",
      " |  __init__(self, *args, **kwargs)\n",
      " |      Initialize self.  See help(type(self)) for accurate signature.\n",
      " |  \n",
      " |  ----------------------------------------------------------------------\n",
      " |  Data descriptors inherited from ARMA:\n",
      " |  \n",
      " |  __dict__\n",
      " |      dictionary for instance variables (if defined)\n",
      " |  \n",
      " |  __weakref__\n",
      " |      list of weak references to the object (if defined)\n",
      "\n"
     ]
    }
   ],
   "source": [
    "help(ARIMA)"
   ]
  },
  {
   "cell_type": "code",
   "execution_count": 43,
   "id": "48a7bcdb-240b-4ae3-ab1e-93ec45a4eeae",
   "metadata": {},
   "outputs": [
    {
     "name": "stderr",
     "output_type": "stream",
     "text": [
      "C:\\Users\\Trader\\anaconda3\\envs\\iod_dl\\lib\\site-packages\\statsmodels\\tsa\\base\\tsa_model.py:536: ValueWarning: No frequency information was provided, so inferred frequency MS will be used.\n",
      "  warnings.warn('No frequency information was'\n",
      "C:\\Users\\Trader\\anaconda3\\envs\\iod_dl\\lib\\site-packages\\statsmodels\\tsa\\base\\tsa_model.py:536: ValueWarning: No frequency information was provided, so inferred frequency MS will be used.\n",
      "  warnings.warn('No frequency information was'\n"
     ]
    }
   ],
   "source": [
    "model = sm.tsa.statespace.SARIMAX(df['Close'],order=(0,1,0),seasonal_order=(1,1,1,12))"
   ]
  },
  {
   "cell_type": "code",
   "execution_count": 44,
   "id": "bde6e4a4-64f5-4838-9fc8-7d26cfe14724",
   "metadata": {},
   "outputs": [],
   "source": [
    "results = model.fit()"
   ]
  },
  {
   "cell_type": "code",
   "execution_count": 45,
   "id": "dd0ff3bf-4f7f-4739-abc3-995532d0b26a",
   "metadata": {},
   "outputs": [
    {
     "name": "stdout",
     "output_type": "stream",
     "text": [
      "                                      SARIMAX Results                                       \n",
      "============================================================================================\n",
      "Dep. Variable:                                Close   No. Observations:                  123\n",
      "Model:             SARIMAX(0, 1, 0)x(1, 1, [1], 12)   Log Likelihood                -576.248\n",
      "Date:                              Tue, 19 Apr 2022   AIC                           1158.497\n",
      "Time:                                      17:59:15   BIC                           1166.598\n",
      "Sample:                                  01-01-2008   HQIC                          1161.783\n",
      "                                       - 03-01-2018                                         \n",
      "Covariance Type:                                opg                                         \n",
      "==============================================================================\n",
      "                 coef    std err          z      P>|z|      [0.025      0.975]\n",
      "------------------------------------------------------------------------------\n",
      "ar.S.L12      -0.1790      0.134     -1.332      0.183      -0.442       0.084\n",
      "ma.S.L12      -0.6111      0.220     -2.773      0.006      -1.043      -0.179\n",
      "sigma2      1924.5567    125.900     15.286      0.000    1677.798    2171.316\n",
      "===================================================================================\n",
      "Ljung-Box (L1) (Q):                   0.57   Jarque-Bera (JB):              1136.09\n",
      "Prob(Q):                              0.45   Prob(JB):                         0.00\n",
      "Heteroskedasticity (H):              26.70   Skew:                             2.55\n",
      "Prob(H) (two-sided):                  0.00   Kurtosis:                        17.89\n",
      "===================================================================================\n",
      "\n",
      "Warnings:\n",
      "[1] Covariance matrix calculated using the outer product of gradients (complex-step).\n"
     ]
    }
   ],
   "source": [
    "print(results.summary())"
   ]
  },
  {
   "cell_type": "code",
   "execution_count": 46,
   "id": "53da187e-0a99-4427-a615-fe73363071cd",
   "metadata": {},
   "outputs": [
    {
     "data": {
      "text/plain": [
       "Date\n",
       "2008-01-01     77.699997\n",
       "2008-02-01    -13.229996\n",
       "2008-03-01      6.830002\n",
       "2008-04-01      7.329994\n",
       "2008-05-01      2.990005\n",
       "                 ...    \n",
       "2017-11-01     57.242447\n",
       "2017-12-01     -5.106080\n",
       "2018-01-01    287.993121\n",
       "2018-02-01     63.215868\n",
       "2018-03-01    -83.795729\n",
       "Length: 123, dtype: float64"
      ]
     },
     "execution_count": 46,
     "metadata": {},
     "output_type": "execute_result"
    }
   ],
   "source": [
    "results.resid"
   ]
  },
  {
   "cell_type": "code",
   "execution_count": 47,
   "id": "96fbd288-6620-47ca-a526-aedab0b2e0a9",
   "metadata": {},
   "outputs": [
    {
     "data": {
      "text/plain": [
       "<AxesSubplot:xlabel='Date'>"
      ]
     },
     "execution_count": 47,
     "metadata": {},
     "output_type": "execute_result"
    },
    {
     "data": {
      "image/png": "[encoded data removed]",
      "text/plain": [
       "<Figure size 432x288 with 1 Axes>"
      ]
     },
     "metadata": {
      "needs_background": "light"
     },
     "output_type": "display_data"
    }
   ],
   "source": [
    "results.resid.plot()"
   ]
  },
  {
   "cell_type": "code",
   "execution_count": 48,
   "id": "fb2306e2-88b7-4fbe-8c82-9e1cf080de39",
   "metadata": {},
   "outputs": [
    {
     "data": {
      "text/plain": [
       "<AxesSubplot:ylabel='Density'>"
      ]
     },
     "execution_count": 48,
     "metadata": {},
     "output_type": "execute_result"
    },
    {
     "data": {
      "image/png": "[encoded data removed]",
      "text/plain": [
       "<Figure size 432x288 with 1 Axes>"
      ]
     },
     "metadata": {
      "needs_background": "light"
     },
     "output_type": "display_data"
    }
   ],
   "source": [
    "results.resid.plot(kind='kde')"
   ]
  },
  {
   "cell_type": "code",
   "execution_count": 49,
   "id": "9ab7e412-f60a-42c9-afac-397013ee21a2",
   "metadata": {},
   "outputs": [
    {
     "data": {
      "text/plain": [
       "(123, 5)"
      ]
     },
     "execution_count": 49,
     "metadata": {},
     "output_type": "execute_result"
    }
   ],
   "source": [
    "df.shape"
   ]
  },
  {
   "cell_type": "code",
   "execution_count": 50,
   "id": "d65703de-723c-4f5c-9d98-304945a248e8",
   "metadata": {},
   "outputs": [
    {
     "data": {
      "text/plain": [
       "<AxesSubplot:xlabel='Date'>"
      ]
     },
     "execution_count": 50,
     "metadata": {},
     "output_type": "execute_result"
    },
    {
     "data": {
      "image/png": "[encoded data removed]",
      "text/plain": [
       "<Figure size 864x576 with 1 Axes>"
      ]
     },
     "metadata": {
      "needs_background": "light"
     },
     "output_type": "display_data"
    }
   ],
   "source": [
    "df['forecast'] = results.predict(start=100,end=123)\n",
    "df[['Close','forecast']].plot(figsize=(12,8))"
   ]
  },
  {
   "cell_type": "code",
   "execution_count": 51,
   "id": "2a14e4c5-82a3-4aa7-af88-830161535f03",
   "metadata": {},
   "outputs": [
    {
     "data": {
      "text/html": [
       "<div>\n",
       "<style scoped>\n",
       "    .dataframe tbody tr th:only-of-type {\n",
       "        vertical-align: middle;\n",
       "    }\n",
       "\n",
       "    .dataframe tbody tr th {\n",
       "        vertical-align: top;\n",
       "    }\n",
       "\n",
       "    .dataframe thead th {\n",
       "        text-align: right;\n",
       "    }\n",
       "</style>\n",
       "<table border=\"1\" class=\"dataframe\">\n",
       "  <thead>\n",
       "    <tr style=\"text-align: right;\">\n",
       "      <th></th>\n",
       "      <th>Close</th>\n",
       "      <th>First Difference</th>\n",
       "      <th>Second Difference</th>\n",
       "      <th>Seasonal Difference</th>\n",
       "      <th>Seasonal First Difference</th>\n",
       "      <th>forecast</th>\n",
       "    </tr>\n",
       "    <tr>\n",
       "      <th>Date</th>\n",
       "      <th></th>\n",
       "      <th></th>\n",
       "      <th></th>\n",
       "      <th></th>\n",
       "      <th></th>\n",
       "      <th></th>\n",
       "    </tr>\n",
       "  </thead>\n",
       "  <tbody>\n",
       "    <tr>\n",
       "      <th>2017-11-01</th>\n",
       "      <td>1176.750000</td>\n",
       "      <td>71.469971</td>\n",
       "      <td>-72.460083</td>\n",
       "      <td>426.179993</td>\n",
       "      <td>110.719971</td>\n",
       "      <td>1119.507553</td>\n",
       "    </tr>\n",
       "    <tr>\n",
       "      <th>2017-12-01</th>\n",
       "      <td>1169.469971</td>\n",
       "      <td>-7.280029</td>\n",
       "      <td>-78.750000</td>\n",
       "      <td>419.599976</td>\n",
       "      <td>-6.580017</td>\n",
       "      <td>1174.576050</td>\n",
       "    </tr>\n",
       "    <tr>\n",
       "      <th>2018-01-01</th>\n",
       "      <td>1450.890015</td>\n",
       "      <td>281.420044</td>\n",
       "      <td>288.700073</td>\n",
       "      <td>627.410034</td>\n",
       "      <td>207.810059</td>\n",
       "      <td>1162.896894</td>\n",
       "    </tr>\n",
       "    <tr>\n",
       "      <th>2018-02-01</th>\n",
       "      <td>1512.449951</td>\n",
       "      <td>61.559937</td>\n",
       "      <td>-219.860107</td>\n",
       "      <td>667.409973</td>\n",
       "      <td>39.999939</td>\n",
       "      <td>1449.234083</td>\n",
       "    </tr>\n",
       "    <tr>\n",
       "      <th>2018-03-01</th>\n",
       "      <td>1447.339966</td>\n",
       "      <td>-65.109985</td>\n",
       "      <td>-126.669922</td>\n",
       "      <td>560.799988</td>\n",
       "      <td>-106.609985</td>\n",
       "      <td>1531.135694</td>\n",
       "    </tr>\n",
       "  </tbody>\n",
       "</table>\n",
       "</div>"
      ],
      "text/plain": [
       "                  Close  First Difference  Second Difference  \\\n",
       "Date                                                           \n",
       "2017-11-01  1176.750000         71.469971         -72.460083   \n",
       "2017-12-01  1169.469971         -7.280029         -78.750000   \n",
       "2018-01-01  1450.890015        281.420044         288.700073   \n",
       "2018-02-01  1512.449951         61.559937        -219.860107   \n",
       "2018-03-01  1447.339966        -65.109985        -126.669922   \n",
       "\n",
       "            Seasonal Difference  Seasonal First Difference     forecast  \n",
       "Date                                                                     \n",
       "2017-11-01           426.179993                 110.719971  1119.507553  \n",
       "2017-12-01           419.599976                  -6.580017  1174.576050  \n",
       "2018-01-01           627.410034                 207.810059  1162.896894  \n",
       "2018-02-01           667.409973                  39.999939  1449.234083  \n",
       "2018-03-01           560.799988                -106.609985  1531.135694  "
      ]
     },
     "execution_count": 51,
     "metadata": {},
     "output_type": "execute_result"
    }
   ],
   "source": [
    "df.tail()"
   ]
  },
  {
   "cell_type": "code",
   "execution_count": 52,
   "id": "7bd1d96c-ba38-4af0-8530-c93eb71f4aeb",
   "metadata": {},
   "outputs": [],
   "source": [
    "from pandas.tseries.offsets import DateOffset"
   ]
  },
  {
   "cell_type": "code",
   "execution_count": 53,
   "id": "285a275e-7766-4686-87db-f5d806e8f596",
   "metadata": {},
   "outputs": [],
   "source": [
    "future_dates = [df.index[-1]+DateOffset(months=x) for x in range(1,24)]"
   ]
  },
  {
   "cell_type": "code",
   "execution_count": 54,
   "id": "16d44ee2-b14b-415f-9a8f-547098877231",
   "metadata": {},
   "outputs": [
    {
     "data": {
      "text/plain": [
       "[Timestamp('2018-04-01 00:00:00'),\n",
       " Timestamp('2018-05-01 00:00:00'),\n",
       " Timestamp('2018-06-01 00:00:00'),\n",
       " Timestamp('2018-07-01 00:00:00'),\n",
       " Timestamp('2018-08-01 00:00:00'),\n",
       " Timestamp('2018-09-01 00:00:00'),\n",
       " Timestamp('2018-10-01 00:00:00'),\n",
       " Timestamp('2018-11-01 00:00:00'),\n",
       " Timestamp('2018-12-01 00:00:00'),\n",
       " Timestamp('2019-01-01 00:00:00'),\n",
       " Timestamp('2019-02-01 00:00:00'),\n",
       " Timestamp('2019-03-01 00:00:00'),\n",
       " Timestamp('2019-04-01 00:00:00'),\n",
       " Timestamp('2019-05-01 00:00:00'),\n",
       " Timestamp('2019-06-01 00:00:00'),\n",
       " Timestamp('2019-07-01 00:00:00'),\n",
       " Timestamp('2019-08-01 00:00:00'),\n",
       " Timestamp('2019-09-01 00:00:00'),\n",
       " Timestamp('2019-10-01 00:00:00'),\n",
       " Timestamp('2019-11-01 00:00:00'),\n",
       " Timestamp('2019-12-01 00:00:00'),\n",
       " Timestamp('2020-01-01 00:00:00'),\n",
       " Timestamp('2020-02-01 00:00:00')]"
      ]
     },
     "execution_count": 54,
     "metadata": {},
     "output_type": "execute_result"
    }
   ],
   "source": [
    "future_dates"
   ]
  },
  {
   "cell_type": "code",
   "execution_count": 55,
   "id": "66c01ab2-5847-44ae-8239-4bc8b8dc3b91",
   "metadata": {},
   "outputs": [],
   "source": [
    "future_df = pd.DataFrame(index=future_dates,columns=df.columns)"
   ]
  },
  {
   "cell_type": "code",
   "execution_count": 56,
   "id": "6719d92e-4d17-4e0a-8b12-ea142bdb42fd",
   "metadata": {},
   "outputs": [
    {
     "data": {
      "text/html": [
       "<div>\n",
       "<style scoped>\n",
       "    .dataframe tbody tr th:only-of-type {\n",
       "        vertical-align: middle;\n",
       "    }\n",
       "\n",
       "    .dataframe tbody tr th {\n",
       "        vertical-align: top;\n",
       "    }\n",
       "\n",
       "    .dataframe thead th {\n",
       "        text-align: right;\n",
       "    }\n",
       "</style>\n",
       "<table border=\"1\" class=\"dataframe\">\n",
       "  <thead>\n",
       "    <tr style=\"text-align: right;\">\n",
       "      <th></th>\n",
       "      <th>Close</th>\n",
       "      <th>First Difference</th>\n",
       "      <th>Second Difference</th>\n",
       "      <th>Seasonal Difference</th>\n",
       "      <th>Seasonal First Difference</th>\n",
       "      <th>forecast</th>\n",
       "    </tr>\n",
       "  </thead>\n",
       "  <tbody>\n",
       "    <tr>\n",
       "      <th>2018-04-01</th>\n",
       "      <td>NaN</td>\n",
       "      <td>NaN</td>\n",
       "      <td>NaN</td>\n",
       "      <td>NaN</td>\n",
       "      <td>NaN</td>\n",
       "      <td>NaN</td>\n",
       "    </tr>\n",
       "    <tr>\n",
       "      <th>2018-05-01</th>\n",
       "      <td>NaN</td>\n",
       "      <td>NaN</td>\n",
       "      <td>NaN</td>\n",
       "      <td>NaN</td>\n",
       "      <td>NaN</td>\n",
       "      <td>NaN</td>\n",
       "    </tr>\n",
       "    <tr>\n",
       "      <th>2018-06-01</th>\n",
       "      <td>NaN</td>\n",
       "      <td>NaN</td>\n",
       "      <td>NaN</td>\n",
       "      <td>NaN</td>\n",
       "      <td>NaN</td>\n",
       "      <td>NaN</td>\n",
       "    </tr>\n",
       "    <tr>\n",
       "      <th>2018-07-01</th>\n",
       "      <td>NaN</td>\n",
       "      <td>NaN</td>\n",
       "      <td>NaN</td>\n",
       "      <td>NaN</td>\n",
       "      <td>NaN</td>\n",
       "      <td>NaN</td>\n",
       "    </tr>\n",
       "    <tr>\n",
       "      <th>2018-08-01</th>\n",
       "      <td>NaN</td>\n",
       "      <td>NaN</td>\n",
       "      <td>NaN</td>\n",
       "      <td>NaN</td>\n",
       "      <td>NaN</td>\n",
       "      <td>NaN</td>\n",
       "    </tr>\n",
       "    <tr>\n",
       "      <th>2018-09-01</th>\n",
       "      <td>NaN</td>\n",
       "      <td>NaN</td>\n",
       "      <td>NaN</td>\n",
       "      <td>NaN</td>\n",
       "      <td>NaN</td>\n",
       "      <td>NaN</td>\n",
       "    </tr>\n",
       "    <tr>\n",
       "      <th>2018-10-01</th>\n",
       "      <td>NaN</td>\n",
       "      <td>NaN</td>\n",
       "      <td>NaN</td>\n",
       "      <td>NaN</td>\n",
       "      <td>NaN</td>\n",
       "      <td>NaN</td>\n",
       "    </tr>\n",
       "    <tr>\n",
       "      <th>2018-11-01</th>\n",
       "      <td>NaN</td>\n",
       "      <td>NaN</td>\n",
       "      <td>NaN</td>\n",
       "      <td>NaN</td>\n",
       "      <td>NaN</td>\n",
       "      <td>NaN</td>\n",
       "    </tr>\n",
       "    <tr>\n",
       "      <th>2018-12-01</th>\n",
       "      <td>NaN</td>\n",
       "      <td>NaN</td>\n",
       "      <td>NaN</td>\n",
       "      <td>NaN</td>\n",
       "      <td>NaN</td>\n",
       "      <td>NaN</td>\n",
       "    </tr>\n",
       "    <tr>\n",
       "      <th>2019-01-01</th>\n",
       "      <td>NaN</td>\n",
       "      <td>NaN</td>\n",
       "      <td>NaN</td>\n",
       "      <td>NaN</td>\n",
       "      <td>NaN</td>\n",
       "      <td>NaN</td>\n",
       "    </tr>\n",
       "    <tr>\n",
       "      <th>2019-02-01</th>\n",
       "      <td>NaN</td>\n",
       "      <td>NaN</td>\n",
       "      <td>NaN</td>\n",
       "      <td>NaN</td>\n",
       "      <td>NaN</td>\n",
       "      <td>NaN</td>\n",
       "    </tr>\n",
       "    <tr>\n",
       "      <th>2019-03-01</th>\n",
       "      <td>NaN</td>\n",
       "      <td>NaN</td>\n",
       "      <td>NaN</td>\n",
       "      <td>NaN</td>\n",
       "      <td>NaN</td>\n",
       "      <td>NaN</td>\n",
       "    </tr>\n",
       "    <tr>\n",
       "      <th>2019-04-01</th>\n",
       "      <td>NaN</td>\n",
       "      <td>NaN</td>\n",
       "      <td>NaN</td>\n",
       "      <td>NaN</td>\n",
       "      <td>NaN</td>\n",
       "      <td>NaN</td>\n",
       "    </tr>\n",
       "    <tr>\n",
       "      <th>2019-05-01</th>\n",
       "      <td>NaN</td>\n",
       "      <td>NaN</td>\n",
       "      <td>NaN</td>\n",
       "      <td>NaN</td>\n",
       "      <td>NaN</td>\n",
       "      <td>NaN</td>\n",
       "    </tr>\n",
       "    <tr>\n",
       "      <th>2019-06-01</th>\n",
       "      <td>NaN</td>\n",
       "      <td>NaN</td>\n",
       "      <td>NaN</td>\n",
       "      <td>NaN</td>\n",
       "      <td>NaN</td>\n",
       "      <td>NaN</td>\n",
       "    </tr>\n",
       "    <tr>\n",
       "      <th>2019-07-01</th>\n",
       "      <td>NaN</td>\n",
       "      <td>NaN</td>\n",
       "      <td>NaN</td>\n",
       "      <td>NaN</td>\n",
       "      <td>NaN</td>\n",
       "      <td>NaN</td>\n",
       "    </tr>\n",
       "    <tr>\n",
       "      <th>2019-08-01</th>\n",
       "      <td>NaN</td>\n",
       "      <td>NaN</td>\n",
       "      <td>NaN</td>\n",
       "      <td>NaN</td>\n",
       "      <td>NaN</td>\n",
       "      <td>NaN</td>\n",
       "    </tr>\n",
       "    <tr>\n",
       "      <th>2019-09-01</th>\n",
       "      <td>NaN</td>\n",
       "      <td>NaN</td>\n",
       "      <td>NaN</td>\n",
       "      <td>NaN</td>\n",
       "      <td>NaN</td>\n",
       "      <td>NaN</td>\n",
       "    </tr>\n",
       "    <tr>\n",
       "      <th>2019-10-01</th>\n",
       "      <td>NaN</td>\n",
       "      <td>NaN</td>\n",
       "      <td>NaN</td>\n",
       "      <td>NaN</td>\n",
       "      <td>NaN</td>\n",
       "      <td>NaN</td>\n",
       "    </tr>\n",
       "    <tr>\n",
       "      <th>2019-11-01</th>\n",
       "      <td>NaN</td>\n",
       "      <td>NaN</td>\n",
       "      <td>NaN</td>\n",
       "      <td>NaN</td>\n",
       "      <td>NaN</td>\n",
       "      <td>NaN</td>\n",
       "    </tr>\n",
       "    <tr>\n",
       "      <th>2019-12-01</th>\n",
       "      <td>NaN</td>\n",
       "      <td>NaN</td>\n",
       "      <td>NaN</td>\n",
       "      <td>NaN</td>\n",
       "      <td>NaN</td>\n",
       "      <td>NaN</td>\n",
       "    </tr>\n",
       "    <tr>\n",
       "      <th>2020-01-01</th>\n",
       "      <td>NaN</td>\n",
       "      <td>NaN</td>\n",
       "      <td>NaN</td>\n",
       "      <td>NaN</td>\n",
       "      <td>NaN</td>\n",
       "      <td>NaN</td>\n",
       "    </tr>\n",
       "    <tr>\n",
       "      <th>2020-02-01</th>\n",
       "      <td>NaN</td>\n",
       "      <td>NaN</td>\n",
       "      <td>NaN</td>\n",
       "      <td>NaN</td>\n",
       "      <td>NaN</td>\n",
       "      <td>NaN</td>\n",
       "    </tr>\n",
       "  </tbody>\n",
       "</table>\n",
       "</div>"
      ],
      "text/plain": [
       "           Close First Difference Second Difference Seasonal Difference  \\\n",
       "2018-04-01   NaN              NaN               NaN                 NaN   \n",
       "2018-05-01   NaN              NaN               NaN                 NaN   \n",
       "2018-06-01   NaN              NaN               NaN                 NaN   \n",
       "2018-07-01   NaN              NaN               NaN                 NaN   \n",
       "2018-08-01   NaN              NaN               NaN                 NaN   \n",
       "2018-09-01   NaN              NaN               NaN                 NaN   \n",
       "2018-10-01   NaN              NaN               NaN                 NaN   \n",
       "2018-11-01   NaN              NaN               NaN                 NaN   \n",
       "2018-12-01   NaN              NaN               NaN                 NaN   \n",
       "2019-01-01   NaN              NaN               NaN                 NaN   \n",
       "2019-02-01   NaN              NaN               NaN                 NaN   \n",
       "2019-03-01   NaN              NaN               NaN                 NaN   \n",
       "2019-04-01   NaN              NaN               NaN                 NaN   \n",
       "2019-05-01   NaN              NaN               NaN                 NaN   \n",
       "2019-06-01   NaN              NaN               NaN                 NaN   \n",
       "2019-07-01   NaN              NaN               NaN                 NaN   \n",
       "2019-08-01   NaN              NaN               NaN                 NaN   \n",
       "2019-09-01   NaN              NaN               NaN                 NaN   \n",
       "2019-10-01   NaN              NaN               NaN                 NaN   \n",
       "2019-11-01   NaN              NaN               NaN                 NaN   \n",
       "2019-12-01   NaN              NaN               NaN                 NaN   \n",
       "2020-01-01   NaN              NaN               NaN                 NaN   \n",
       "2020-02-01   NaN              NaN               NaN                 NaN   \n",
       "\n",
       "           Seasonal First Difference forecast  \n",
       "2018-04-01                       NaN      NaN  \n",
       "2018-05-01                       NaN      NaN  \n",
       "2018-06-01                       NaN      NaN  \n",
       "2018-07-01                       NaN      NaN  \n",
       "2018-08-01                       NaN      NaN  \n",
       "2018-09-01                       NaN      NaN  \n",
       "2018-10-01                       NaN      NaN  \n",
       "2018-11-01                       NaN      NaN  \n",
       "2018-12-01                       NaN      NaN  \n",
       "2019-01-01                       NaN      NaN  \n",
       "2019-02-01                       NaN      NaN  \n",
       "2019-03-01                       NaN      NaN  \n",
       "2019-04-01                       NaN      NaN  \n",
       "2019-05-01                       NaN      NaN  \n",
       "2019-06-01                       NaN      NaN  \n",
       "2019-07-01                       NaN      NaN  \n",
       "2019-08-01                       NaN      NaN  \n",
       "2019-09-01                       NaN      NaN  \n",
       "2019-10-01                       NaN      NaN  \n",
       "2019-11-01                       NaN      NaN  \n",
       "2019-12-01                       NaN      NaN  \n",
       "2020-01-01                       NaN      NaN  \n",
       "2020-02-01                       NaN      NaN  "
      ]
     },
     "execution_count": 56,
     "metadata": {},
     "output_type": "execute_result"
    }
   ],
   "source": [
    "future_df"
   ]
  },
  {
   "cell_type": "code",
   "execution_count": 57,
   "id": "55e34188-03ad-498a-87f3-0d3de4ee2d57",
   "metadata": {},
   "outputs": [],
   "source": [
    "final_df = pd.concat([df,future_df])"
   ]
  },
  {
   "cell_type": "code",
   "execution_count": 58,
   "id": "94cb9a7e-54e5-44ae-bd5f-42c682f97346",
   "metadata": {},
   "outputs": [
    {
     "data": {
      "text/html": [
       "<div>\n",
       "<style scoped>\n",
       "    .dataframe tbody tr th:only-of-type {\n",
       "        vertical-align: middle;\n",
       "    }\n",
       "\n",
       "    .dataframe tbody tr th {\n",
       "        vertical-align: top;\n",
       "    }\n",
       "\n",
       "    .dataframe thead th {\n",
       "        text-align: right;\n",
       "    }\n",
       "</style>\n",
       "<table border=\"1\" class=\"dataframe\">\n",
       "  <thead>\n",
       "    <tr style=\"text-align: right;\">\n",
       "      <th></th>\n",
       "      <th>Close</th>\n",
       "      <th>First Difference</th>\n",
       "      <th>Second Difference</th>\n",
       "      <th>Seasonal Difference</th>\n",
       "      <th>Seasonal First Difference</th>\n",
       "      <th>forecast</th>\n",
       "    </tr>\n",
       "  </thead>\n",
       "  <tbody>\n",
       "    <tr>\n",
       "      <th>2008-01-01</th>\n",
       "      <td>77.699997</td>\n",
       "      <td>NaN</td>\n",
       "      <td>NaN</td>\n",
       "      <td>NaN</td>\n",
       "      <td>NaN</td>\n",
       "      <td>NaN</td>\n",
       "    </tr>\n",
       "    <tr>\n",
       "      <th>2008-02-01</th>\n",
       "      <td>64.470001</td>\n",
       "      <td>-13.229996</td>\n",
       "      <td>NaN</td>\n",
       "      <td>NaN</td>\n",
       "      <td>NaN</td>\n",
       "      <td>NaN</td>\n",
       "    </tr>\n",
       "    <tr>\n",
       "      <th>2008-03-01</th>\n",
       "      <td>71.300003</td>\n",
       "      <td>6.830002</td>\n",
       "      <td>20.059998</td>\n",
       "      <td>NaN</td>\n",
       "      <td>NaN</td>\n",
       "      <td>NaN</td>\n",
       "    </tr>\n",
       "    <tr>\n",
       "      <th>2008-04-01</th>\n",
       "      <td>78.629997</td>\n",
       "      <td>7.329994</td>\n",
       "      <td>0.499992</td>\n",
       "      <td>NaN</td>\n",
       "      <td>NaN</td>\n",
       "      <td>NaN</td>\n",
       "    </tr>\n",
       "    <tr>\n",
       "      <th>2008-05-01</th>\n",
       "      <td>81.620003</td>\n",
       "      <td>2.990005</td>\n",
       "      <td>-4.339989</td>\n",
       "      <td>NaN</td>\n",
       "      <td>NaN</td>\n",
       "      <td>NaN</td>\n",
       "    </tr>\n",
       "  </tbody>\n",
       "</table>\n",
       "</div>"
      ],
      "text/plain": [
       "                Close First Difference Second Difference Seasonal Difference  \\\n",
       "2008-01-01  77.699997              NaN               NaN                 NaN   \n",
       "2008-02-01  64.470001       -13.229996               NaN                 NaN   \n",
       "2008-03-01  71.300003         6.830002         20.059998                 NaN   \n",
       "2008-04-01  78.629997         7.329994          0.499992                 NaN   \n",
       "2008-05-01  81.620003         2.990005         -4.339989                 NaN   \n",
       "\n",
       "           Seasonal First Difference forecast  \n",
       "2008-01-01                       NaN      NaN  \n",
       "2008-02-01                       NaN      NaN  \n",
       "2008-03-01                       NaN      NaN  \n",
       "2008-04-01                       NaN      NaN  \n",
       "2008-05-01                       NaN      NaN  "
      ]
     },
     "execution_count": 58,
     "metadata": {},
     "output_type": "execute_result"
    }
   ],
   "source": [
    "final_df.head()"
   ]
  },
  {
   "cell_type": "code",
   "execution_count": 59,
   "id": "206b6431-f410-4ceb-93ce-2cd64d478fb1",
   "metadata": {},
   "outputs": [
    {
     "data": {
      "text/html": [
       "<div>\n",
       "<style scoped>\n",
       "    .dataframe tbody tr th:only-of-type {\n",
       "        vertical-align: middle;\n",
       "    }\n",
       "\n",
       "    .dataframe tbody tr th {\n",
       "        vertical-align: top;\n",
       "    }\n",
       "\n",
       "    .dataframe thead th {\n",
       "        text-align: right;\n",
       "    }\n",
       "</style>\n",
       "<table border=\"1\" class=\"dataframe\">\n",
       "  <thead>\n",
       "    <tr style=\"text-align: right;\">\n",
       "      <th></th>\n",
       "      <th>Close</th>\n",
       "      <th>First Difference</th>\n",
       "      <th>Second Difference</th>\n",
       "      <th>Seasonal Difference</th>\n",
       "      <th>Seasonal First Difference</th>\n",
       "      <th>forecast</th>\n",
       "    </tr>\n",
       "  </thead>\n",
       "  <tbody>\n",
       "    <tr>\n",
       "      <th>2019-10-01</th>\n",
       "      <td>NaN</td>\n",
       "      <td>NaN</td>\n",
       "      <td>NaN</td>\n",
       "      <td>NaN</td>\n",
       "      <td>NaN</td>\n",
       "      <td>NaN</td>\n",
       "    </tr>\n",
       "    <tr>\n",
       "      <th>2019-11-01</th>\n",
       "      <td>NaN</td>\n",
       "      <td>NaN</td>\n",
       "      <td>NaN</td>\n",
       "      <td>NaN</td>\n",
       "      <td>NaN</td>\n",
       "      <td>NaN</td>\n",
       "    </tr>\n",
       "    <tr>\n",
       "      <th>2019-12-01</th>\n",
       "      <td>NaN</td>\n",
       "      <td>NaN</td>\n",
       "      <td>NaN</td>\n",
       "      <td>NaN</td>\n",
       "      <td>NaN</td>\n",
       "      <td>NaN</td>\n",
       "    </tr>\n",
       "    <tr>\n",
       "      <th>2020-01-01</th>\n",
       "      <td>NaN</td>\n",
       "      <td>NaN</td>\n",
       "      <td>NaN</td>\n",
       "      <td>NaN</td>\n",
       "      <td>NaN</td>\n",
       "      <td>NaN</td>\n",
       "    </tr>\n",
       "    <tr>\n",
       "      <th>2020-02-01</th>\n",
       "      <td>NaN</td>\n",
       "      <td>NaN</td>\n",
       "      <td>NaN</td>\n",
       "      <td>NaN</td>\n",
       "      <td>NaN</td>\n",
       "      <td>NaN</td>\n",
       "    </tr>\n",
       "  </tbody>\n",
       "</table>\n",
       "</div>"
      ],
      "text/plain": [
       "           Close First Difference Second Difference Seasonal Difference  \\\n",
       "2019-10-01   NaN              NaN               NaN                 NaN   \n",
       "2019-11-01   NaN              NaN               NaN                 NaN   \n",
       "2019-12-01   NaN              NaN               NaN                 NaN   \n",
       "2020-01-01   NaN              NaN               NaN                 NaN   \n",
       "2020-02-01   NaN              NaN               NaN                 NaN   \n",
       "\n",
       "           Seasonal First Difference forecast  \n",
       "2019-10-01                       NaN      NaN  \n",
       "2019-11-01                       NaN      NaN  \n",
       "2019-12-01                       NaN      NaN  \n",
       "2020-01-01                       NaN      NaN  \n",
       "2020-02-01                       NaN      NaN  "
      ]
     },
     "execution_count": 59,
     "metadata": {},
     "output_type": "execute_result"
    }
   ],
   "source": [
    "final_df.tail()"
   ]
  },
  {
   "cell_type": "code",
   "execution_count": 60,
   "id": "85f250eb-9cc5-45fe-9f48-88e9a474e131",
   "metadata": {},
   "outputs": [
    {
     "data": {
      "text/plain": [
       "(146, 6)"
      ]
     },
     "execution_count": 60,
     "metadata": {},
     "output_type": "execute_result"
    }
   ],
   "source": [
    "final_df.shape"
   ]
  },
  {
   "cell_type": "code",
   "execution_count": 61,
   "id": "c2af25ad-826b-49fc-8d17-5ecebf8e4229",
   "metadata": {},
   "outputs": [],
   "source": [
    "final_df['forecast'] = results.predict(start=122,end=146)"
   ]
  },
  {
   "cell_type": "code",
   "execution_count": 62,
   "id": "16d6f8f0-f797-48c5-ad81-f0257e0763f6",
   "metadata": {},
   "outputs": [
    {
     "data": {
      "text/html": [
       "<div>\n",
       "<style scoped>\n",
       "    .dataframe tbody tr th:only-of-type {\n",
       "        vertical-align: middle;\n",
       "    }\n",
       "\n",
       "    .dataframe tbody tr th {\n",
       "        vertical-align: top;\n",
       "    }\n",
       "\n",
       "    .dataframe thead th {\n",
       "        text-align: right;\n",
       "    }\n",
       "</style>\n",
       "<table border=\"1\" class=\"dataframe\">\n",
       "  <thead>\n",
       "    <tr style=\"text-align: right;\">\n",
       "      <th></th>\n",
       "      <th>Close</th>\n",
       "      <th>First Difference</th>\n",
       "      <th>Second Difference</th>\n",
       "      <th>Seasonal Difference</th>\n",
       "      <th>Seasonal First Difference</th>\n",
       "      <th>forecast</th>\n",
       "    </tr>\n",
       "  </thead>\n",
       "  <tbody>\n",
       "    <tr>\n",
       "      <th>2019-10-01</th>\n",
       "      <td>NaN</td>\n",
       "      <td>NaN</td>\n",
       "      <td>NaN</td>\n",
       "      <td>NaN</td>\n",
       "      <td>NaN</td>\n",
       "      <td>1881.532540</td>\n",
       "    </tr>\n",
       "    <tr>\n",
       "      <th>2019-11-01</th>\n",
       "      <td>NaN</td>\n",
       "      <td>NaN</td>\n",
       "      <td>NaN</td>\n",
       "      <td>NaN</td>\n",
       "      <td>NaN</td>\n",
       "      <td>1908.015141</td>\n",
       "    </tr>\n",
       "    <tr>\n",
       "      <th>2019-12-01</th>\n",
       "      <td>NaN</td>\n",
       "      <td>NaN</td>\n",
       "      <td>NaN</td>\n",
       "      <td>NaN</td>\n",
       "      <td>NaN</td>\n",
       "      <td>1904.263557</td>\n",
       "    </tr>\n",
       "    <tr>\n",
       "      <th>2020-01-01</th>\n",
       "      <td>NaN</td>\n",
       "      <td>NaN</td>\n",
       "      <td>NaN</td>\n",
       "      <td>NaN</td>\n",
       "      <td>NaN</td>\n",
       "      <td>2010.675352</td>\n",
       "    </tr>\n",
       "    <tr>\n",
       "      <th>2020-02-01</th>\n",
       "      <td>NaN</td>\n",
       "      <td>NaN</td>\n",
       "      <td>NaN</td>\n",
       "      <td>NaN</td>\n",
       "      <td>NaN</td>\n",
       "      <td>2034.643068</td>\n",
       "    </tr>\n",
       "  </tbody>\n",
       "</table>\n",
       "</div>"
      ],
      "text/plain": [
       "           Close First Difference Second Difference Seasonal Difference  \\\n",
       "2019-10-01   NaN              NaN               NaN                 NaN   \n",
       "2019-11-01   NaN              NaN               NaN                 NaN   \n",
       "2019-12-01   NaN              NaN               NaN                 NaN   \n",
       "2020-01-01   NaN              NaN               NaN                 NaN   \n",
       "2020-02-01   NaN              NaN               NaN                 NaN   \n",
       "\n",
       "           Seasonal First Difference     forecast  \n",
       "2019-10-01                       NaN  1881.532540  \n",
       "2019-11-01                       NaN  1908.015141  \n",
       "2019-12-01                       NaN  1904.263557  \n",
       "2020-01-01                       NaN  2010.675352  \n",
       "2020-02-01                       NaN  2034.643068  "
      ]
     },
     "execution_count": 62,
     "metadata": {},
     "output_type": "execute_result"
    }
   ],
   "source": [
    "final_df.tail()"
   ]
  },
  {
   "cell_type": "code",
   "execution_count": 63,
   "id": "fb0ab7df-8fa1-496b-b137-709cf9012b00",
   "metadata": {},
   "outputs": [
    {
     "data": {
      "text/plain": [
       "<AxesSubplot:>"
      ]
     },
     "execution_count": 63,
     "metadata": {},
     "output_type": "execute_result"
    },
    {
     "data": {
      "image/png": "[encoded data removed]",
      "text/plain": [
       "<Figure size 720x576 with 1 Axes>"
      ]
     },
     "metadata": {
      "needs_background": "light"
     },
     "output_type": "display_data"
    }
   ],
   "source": [
    "final_df['Close'].plot(figsize=(10,8))\n",
    "final_df['forecast'].plot()"
   ]
  },
  {
   "cell_type": "code",
   "execution_count": 64,
   "id": "a9cfcf61-e0c1-4b27-bbc4-c2a6be069da8",
   "metadata": {},
   "outputs": [
    {
     "data": {
      "image/png": "[encoded data removed]",
      "text/plain": [
       "<Figure size 720x576 with 1 Axes>"
      ]
     },
     "metadata": {
      "needs_background": "light"
     },
     "output_type": "display_data"
    }
   ],
   "source": [
    "final_df[['Close','forecast']].plot(figsize=(10,8));\n",
    "plt.title('Amazon Forecast')\n",
    "plt.savefig('future_forecast_AMZN.png')"
   ]
  },
  {
   "cell_type": "code",
   "execution_count": 65,
   "id": "7e8e5ad1-a898-4d9c-af35-a12871bd90cc",
   "metadata": {},
   "outputs": [
    {
     "data": {
      "text/plain": [
       "1447.3399658203125"
      ]
     },
     "execution_count": 65,
     "metadata": {},
     "output_type": "execute_result"
    }
   ],
   "source": [
    "open_price = df['Close'][-1]\n",
    "open_price"
   ]
  },
  {
   "cell_type": "code",
   "execution_count": 66,
   "id": "27c3038c-dacb-476f-9a2e-ba91e643417f",
   "metadata": {},
   "outputs": [
    {
     "data": {
      "text/plain": [
       "69.0922674434149"
      ]
     },
     "execution_count": 66,
     "metadata": {},
     "output_type": "execute_result"
    }
   ],
   "source": [
    "no_of_shares = 100000/open_price\n",
    "no_of_shares"
   ]
  },
  {
   "cell_type": "code",
   "execution_count": 67,
   "id": "f89aec6d-a496-44de-9e60-b18398504395",
   "metadata": {},
   "outputs": [
    {
     "data": {
      "text/plain": [
       "2034.6430677019111"
      ]
     },
     "execution_count": 67,
     "metadata": {},
     "output_type": "execute_result"
    }
   ],
   "source": [
    "final_price=final_df['forecast'][-1]\n",
    "final_price"
   ]
  },
  {
   "cell_type": "code",
   "execution_count": 68,
   "id": "5f4696cd-6871-4f6c-b294-ee51b9188564",
   "metadata": {},
   "outputs": [
    {
     "data": {
      "text/plain": [
       "587.3031018815986"
      ]
     },
     "execution_count": 68,
     "metadata": {},
     "output_type": "execute_result"
    }
   ],
   "source": [
    "price_diff = final_price-open_price\n",
    "price_diff"
   ]
  },
  {
   "cell_type": "code",
   "execution_count": 69,
   "id": "7ab62db8-7b2c-48c0-84fe-62b992bcadd5",
   "metadata": {},
   "outputs": [
    {
     "data": {
      "text/plain": [
       "40578.10298555056"
      ]
     },
     "execution_count": 69,
     "metadata": {},
     "output_type": "execute_result"
    }
   ],
   "source": [
    "P_L = price_diff*no_of_shares\n",
    "P_L"
   ]
  },
  {
   "cell_type": "code",
   "execution_count": null,
   "id": "cebb50fd-f541-42be-8e7b-ad8c86d5b7c0",
   "metadata": {},
   "outputs": [],
   "source": []
  }
 ],
 "metadata": {
  "kernelspec": {
   "display_name": "Python 3 (ipykernel)",
   "language": "python",
   "name": "python3"
  },
  "language_info": {
   "codemirror_mode": {
    "name": "ipython",
    "version": 3
   },
   "file_extension": ".py",
   "mimetype": "text/x-python",
   "name": "python",
   "nbconvert_exporter": "python",
   "pygments_lexer": "ipython3",
   "version": "3.9.7"
  }
 },
 "nbformat": 4,
 "nbformat_minor": 5
}
