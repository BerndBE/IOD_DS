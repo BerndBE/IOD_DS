{
 "cells": [
  {
   "cell_type": "markdown",
   "metadata": {
    "colab_type": "text",
    "id": "s2kdJKS813-r"
   },
   "source": [
    "<div>\n",
    "<img src=https://www.institutedata.com/wp-content/uploads/2019/10/iod_h_tp_primary_c.svg width=\"300\">\n",
    "</div>"
   ]
  },
  {
   "cell_type": "markdown",
   "metadata": {
    "colab_type": "text",
    "id": "5-WKAdmAygPK"
   },
   "source": [
    "# Demo 9: Convolutional Neural Network Basics\n",
    "INSTRUCTIONS:\n",
    "- Run the cells\n",
    "- Observe and understand the results\n",
    "- Answer the questions"
   ]
  },
  {
   "cell_type": "code",
   "execution_count": 1,
   "metadata": {
    "colab": {},
    "colab_type": "code",
    "id": "XUseCKUGygPN"
   },
   "outputs": [],
   "source": [
    "import numpy as np\n",
    "\n",
    "%matplotlib inline\n",
    "import matplotlib.pyplot as plt"
   ]
  },
  {
   "cell_type": "markdown",
   "metadata": {
    "colab_type": "text",
    "id": "MQVRD5NCygPX"
   },
   "source": [
    "## One dimensional convolutions\n",
    "A convolution of an one-dimensional array with a kernel comprises of taking the kernel, sliding it along the array, multiplying it with the items in the array that overlap with the kernel in that location and summing this product."
   ]
  },
  {
   "cell_type": "code",
   "execution_count": 2,
   "metadata": {
    "colab": {},
    "colab_type": "code",
    "id": "rB_3uGYvygPZ"
   },
   "outputs": [
    {
     "name": "stdout",
     "output_type": "stream",
     "text": [
      "Input      :  1  0  1  0  1  0  1  0  1  0\n",
      "(index 0)  :  └─────┘\n",
      "Kernel     :  1 -1  0\n",
      "           :  ↓\n",
      "Convolution:  1  0  0  0  0  0  0  0  0  0\n",
      "──────────────────────────────────────────\n",
      "Input      :  1  0  1  0  1  0  1  0  1  0\n",
      "(index 1)  :     └─────┘\n",
      "Kernel     :     1 -1  0\n",
      "           :     ↓\n",
      "Convolution:  1 -1  0  0  0  0  0  0  0  0\n",
      "──────────────────────────────────────────\n",
      "Input      :  1  0  1  0  1  0  1  0  1  0\n",
      "(index 2)  :        └─────┘\n",
      "Kernel     :        1 -1  0\n",
      "           :        ↓\n",
      "Convolution:  1 -1  1  0  0  0  0  0  0  0\n",
      "──────────────────────────────────────────\n",
      "Input      :  1  0  1  0  1  0  1  0  1  0\n",
      "(index 3)  :           └─────┘\n",
      "Kernel     :           1 -1  0\n",
      "           :           ↓\n",
      "Convolution:  1 -1  1 -1  0  0  0  0  0  0\n",
      "──────────────────────────────────────────\n",
      "Input      :  1  0  1  0  1  0  1  0  1  0\n",
      "(index 4)  :              └─────┘\n",
      "Kernel     :              1 -1  0\n",
      "           :              ↓\n",
      "Convolution:  1 -1  1 -1  1  0  0  0  0  0\n",
      "──────────────────────────────────────────\n",
      "Input      :  1  0  1  0  1  0  1  0  1  0\n",
      "(index 5)  :                 └─────┘\n",
      "Kernel     :                 1 -1  0\n",
      "           :                 ↓\n",
      "Convolution:  1 -1  1 -1  1 -1  0  0  0  0\n",
      "──────────────────────────────────────────\n",
      "Input      :  1  0  1  0  1  0  1  0  1  0\n",
      "(index 6)  :                    └─────┘\n",
      "Kernel     :                    1 -1  0\n",
      "           :                    ↓\n",
      "Convolution:  1 -1  1 -1  1 -1  1  0  0  0\n",
      "──────────────────────────────────────────\n",
      "Input      :  1  0  1  0  1  0  1  0  1  0\n",
      "(index 7)  :                       └─────┘\n",
      "Kernel     :                       1 -1  0\n",
      "           :                       ↓\n",
      "Convolution:  1 -1  1 -1  1 -1  1 -1  0  0\n",
      "──────────────────────────────────────────\n"
     ]
    }
   ],
   "source": [
    "array = np.array([1, 0, 1, 0, 1, 0, 1, 0, 1, 0])\n",
    "kernel = np.array([1, -1, 0])\n",
    "conv = np.array([0, 0, 0, 0, 0, 0, 0, 0, 0, 0])\n",
    "\n",
    "# Output array\n",
    "for ii in range(8):\n",
    "    conv[ii] = (kernel * array[ii:ii+3]).sum()\n",
    "    print('Input      : %s' % ' '.join(['%2d' % a for a in array]))\n",
    "    print('(index %d)  : %s %s' % (ii, '   '*ii, '\\u2514\\u2500\\u2500\\u2500\\u2500\\u2500\\u2518'))\n",
    "    print('Kernel     : %s%s' % ('   '*ii, ' '.join(['%2d' % a for a in kernel])))\n",
    "    print('           : %s %s' % ('   '*ii, '\\u2193'))\n",
    "    print('Convolution: %s' % ' '.join(['%2d' % a for a in conv]))\n",
    "    print('\\u2500' * 42)"
   ]
  },
  {
   "cell_type": "markdown",
   "metadata": {
    "colab_type": "text",
    "id": "NTX3i5g2ygPe"
   },
   "source": [
    "## 2D convolutions\n",
    "The convolution of an image with a kernel summarizes a part of the image as the sum of the multiplication of that part of the image with the kernel. In this exercise, you will write the code that executes a convolution of an image with a kernel using Numpy. Given a black and white image that is stored in the variable `im`, write the operations inside the loop that would execute the convolution with the provided kernel."
   ]
  },
  {
   "cell_type": "code",
   "execution_count": 3,
   "metadata": {
    "colab": {},
    "colab_type": "code",
    "id": "tUQLUFPCygPf"
   },
   "outputs": [],
   "source": [
    "def imdump(im, re, i, j):\n",
    "    if (im.shape[0] > 7) | (im.shape[1] > 7):\n",
    "        print('Too much data.')\n",
    "        return\n",
    "    print('Image %s Result' % ('      ' * (im.shape[1]-1)))\n",
    "    for ii in range(im.shape[0]):\n",
    "        s = ''\n",
    "        for jj in range(im.shape[1]):\n",
    "            ptick = '|' if ((ii >= i) & (ii < i+3) & (jj == j)) else ' '\n",
    "            tickp = '|' if ((ii >= i) & (ii < i+3) & (jj == j+2)) else ' '\n",
    "            s += '%s%.2f%s' % (ptick, im[ii, jj], tickp)\n",
    "        r = ''\n",
    "        for jj in range(im.shape[1]):\n",
    "            mask = '[%.2f]' if ((ii == i) & (jj == j)) else ' %.2f '\n",
    "            r += mask % (re[ii, jj])\n",
    "\n",
    "        print(s, r)\n",
    "    print()"
   ]
  },
  {
   "cell_type": "code",
   "execution_count": 4,
   "metadata": {
    "colab": {},
    "colab_type": "code",
    "id": "AWMzyeajygPk"
   },
   "outputs": [],
   "source": [
    "def implot(im):\n",
    "    plt.imshow(im, cmap = 'gray')\n",
    "    plt.show()"
   ]
  },
  {
   "cell_type": "code",
   "execution_count": 5,
   "metadata": {
    "colab": {},
    "colab_type": "code",
    "id": "4kJ24r_KygPo"
   },
   "outputs": [],
   "source": [
    "def implot2(im1, im2):\n",
    "    fig, ax = plt.subplots(1, 2, figsize = (15, 6))\n",
    "    fig.subplots_adjust(left = 0.02, right = 0.98, wspace = 0.2)\n",
    "\n",
    "    plt.rcParams.update({'font.size': 12})\n",
    "\n",
    "    # original image\n",
    "    ax[0].imshow(im1, cmap = 'gray')\n",
    "    ax[0].set_title('Input Data')\n",
    "\n",
    "    # convoluted image\n",
    "    ax[1].imshow(im2, cmap = 'gray')\n",
    "    ax[1].set_title('Convolution')\n",
    "\n",
    "    plt.show()"
   ]
  },
  {
   "cell_type": "code",
   "execution_count": 6,
   "metadata": {
    "colab": {},
    "colab_type": "code",
    "id": "rB2xVXb9ygPs"
   },
   "outputs": [],
   "source": [
    "im = np.random.random((5, 5))"
   ]
  },
  {
   "cell_type": "code",
   "execution_count": 7,
   "metadata": {
    "colab": {},
    "colab_type": "code",
    "id": "qfoMnax5ygPv"
   },
   "outputs": [
    {
     "name": "stdout",
     "output_type": "stream",
     "text": [
      "Image                          Result\n",
      "|0.41  0.34  0.68| 0.43  0.24  [1.58] 0.00  0.00  0.00  0.00 \n",
      "|0.36  0.32  0.54| 0.45  0.73   0.00  0.00  0.00  0.00  0.00 \n",
      "|0.63  0.02  0.04| 0.82  0.06   0.00  0.00  0.00  0.00  0.00 \n",
      " 0.84  0.71  0.25  0.22  0.02   0.00  0.00  0.00  0.00  0.00 \n",
      " 0.54  0.01  0.85  0.67  0.58   0.00  0.00  0.00  0.00  0.00 \n",
      "\n",
      "Image                          Result\n",
      " 0.41 |0.34  0.68  0.43| 0.24   1.58 [2.03] 0.00  0.00  0.00 \n",
      " 0.36 |0.32  0.54  0.45| 0.73   0.00  0.00  0.00  0.00  0.00 \n",
      " 0.63 |0.02  0.04  0.82| 0.06   0.00  0.00  0.00  0.00  0.00 \n",
      " 0.84  0.71  0.25  0.22  0.02   0.00  0.00  0.00  0.00  0.00 \n",
      " 0.54  0.01  0.85  0.67  0.58   0.00  0.00  0.00  0.00  0.00 \n",
      "\n",
      "Image                          Result\n",
      " 0.41  0.34 |0.68  0.43  0.24|  1.58  2.03 [2.97] 0.00  0.00 \n",
      " 0.36  0.32 |0.54  0.45  0.73|  0.00  0.00  0.00  0.00  0.00 \n",
      " 0.63  0.02 |0.04  0.82  0.06|  0.00  0.00  0.00  0.00  0.00 \n",
      " 0.84  0.71  0.25  0.22  0.02   0.00  0.00  0.00  0.00  0.00 \n",
      " 0.54  0.01  0.85  0.67  0.58   0.00  0.00  0.00  0.00  0.00 \n",
      "\n",
      "Image                          Result\n",
      " 0.41  0.34  0.68  0.43  0.24   1.58  2.03  2.97  0.00  0.00 \n",
      "|0.36  0.32  0.54| 0.45  0.73  [1.72] 0.00  0.00  0.00  0.00 \n",
      "|0.63  0.02  0.04| 0.82  0.06   0.00  0.00  0.00  0.00  0.00 \n",
      "|0.84  0.71  0.25| 0.22  0.02   0.00  0.00  0.00  0.00  0.00 \n",
      " 0.54  0.01  0.85  0.67  0.58   0.00  0.00  0.00  0.00  0.00 \n",
      "\n",
      "Image                          Result\n",
      " 0.41  0.34  0.68  0.43  0.24   1.58  2.03  2.97  0.00  0.00 \n",
      " 0.36 |0.32  0.54  0.45| 0.73   1.72 [1.67] 0.00  0.00  0.00 \n",
      " 0.63 |0.02  0.04  0.82| 0.06   0.00  0.00  0.00  0.00  0.00 \n",
      " 0.84 |0.71  0.25  0.22| 0.02   0.00  0.00  0.00  0.00  0.00 \n",
      " 0.54  0.01  0.85  0.67  0.58   0.00  0.00  0.00  0.00  0.00 \n",
      "\n",
      "Image                          Result\n",
      " 0.41  0.34  0.68  0.43  0.24   1.58  2.03  2.97  0.00  0.00 \n",
      " 0.36  0.32 |0.54  0.45  0.73|  1.72  1.67 [1.59] 0.00  0.00 \n",
      " 0.63  0.02 |0.04  0.82  0.06|  0.00  0.00  0.00  0.00  0.00 \n",
      " 0.84  0.71 |0.25  0.22  0.02|  0.00  0.00  0.00  0.00  0.00 \n",
      " 0.54  0.01  0.85  0.67  0.58   0.00  0.00  0.00  0.00  0.00 \n",
      "\n",
      "Image                          Result\n",
      " 0.41  0.34  0.68  0.43  0.24   1.58  2.03  2.97  0.00  0.00 \n",
      " 0.36  0.32  0.54  0.45  0.73   1.72  1.67  1.59  0.00  0.00 \n",
      "|0.63  0.02  0.04| 0.82  0.06  [1.83] 0.00  0.00  0.00  0.00 \n",
      "|0.84  0.71  0.25| 0.22  0.02   0.00  0.00  0.00  0.00  0.00 \n",
      "|0.54  0.01  0.85| 0.67  0.58   0.00  0.00  0.00  0.00  0.00 \n",
      "\n",
      "Image                          Result\n",
      " 0.41  0.34  0.68  0.43  0.24   1.58  2.03  2.97  0.00  0.00 \n",
      " 0.36  0.32  0.54  0.45  0.73   1.72  1.67  1.59  0.00  0.00 \n",
      " 0.63 |0.02  0.04  0.82| 0.06   1.83 [2.07] 0.00  0.00  0.00 \n",
      " 0.84 |0.71  0.25  0.22| 0.02   0.00  0.00  0.00  0.00  0.00 \n",
      " 0.54 |0.01  0.85  0.67| 0.58   0.00  0.00  0.00  0.00  0.00 \n",
      "\n",
      "Image                          Result\n",
      " 0.41  0.34  0.68  0.43  0.24   1.58  2.03  2.97  0.00  0.00 \n",
      " 0.36  0.32  0.54  0.45  0.73   1.72  1.67  1.59  0.00  0.00 \n",
      " 0.63  0.02 |0.04  0.82  0.06|  1.83  2.07 [1.97] 0.00  0.00 \n",
      " 0.84  0.71 |0.25  0.22  0.02|  0.00  0.00  0.00  0.00  0.00 \n",
      " 0.54  0.01 |0.85  0.67  0.58|  0.00  0.00  0.00  0.00  0.00 \n",
      "\n"
     ]
    }
   ],
   "source": [
    "kernel = np.array(\n",
    "    [[0, 1, 0],\n",
    "     [1, 1, 1],\n",
    "     [0, 1, 0]\n",
    "    ]\n",
    ")\n",
    "result = np.zeros(im.shape)\n",
    "\n",
    "# Output array\n",
    "for ii in range(im.shape[0] - kernel.shape[0] + 1):\n",
    "    for jj in range(im.shape[1] - kernel.shape[1] + 1):\n",
    "        result[ii, jj] = (im[ii:ii + kernel.shape[0], \n",
    "                             jj:jj + kernel.shape[0]] * kernel).sum()\n",
    "        imdump(im, result, ii, jj)\n",
    "\n",
    "# print('Note the \"^\" sign to point the elements involved at each step')"
   ]
  },
  {
   "cell_type": "code",
   "execution_count": 8,
   "metadata": {
    "colab": {},
    "colab_type": "code",
    "id": "zrr3Pk-0ygPy"
   },
   "outputs": [
    {
     "data": {
      "image/png": "[encoded data removed]",
      "text/plain": [
       "<Figure size 1080x432 with 2 Axes>"
      ]
     },
     "metadata": {
      "needs_background": "light"
     },
     "output_type": "display_data"
    }
   ],
   "source": [
    "implot2(im, result)"
   ]
  },
  {
   "cell_type": "code",
   "execution_count": 9,
   "metadata": {
    "colab": {},
    "colab_type": "code",
    "id": "8vB1oHX9ygP2"
   },
   "outputs": [],
   "source": [
    "# takes two inputs: image and kernel and produces the convolved image\n",
    "def convolution(image, kernel):\n",
    "    kernel = kernel - kernel.mean()\n",
    "    result = np.zeros(image.shape)\n",
    "    \n",
    "    for ii in range(image.shape[0] - kernel.shape[0] + 1):\n",
    "        for jj in range(image.shape[1] - kernel.shape[1] + 1):\n",
    "            result[ii, jj] = np.sum(image[ii:ii + kernel.shape[0], \n",
    "                                          jj:jj + kernel.shape[1]] * kernel)\n",
    "\n",
    "    return result"
   ]
  },
  {
   "cell_type": "code",
   "execution_count": 10,
   "metadata": {
    "colab": {},
    "colab_type": "code",
    "id": "z4onfmeHygP5"
   },
   "outputs": [],
   "source": [
    "im = np.random.random((50, 50))"
   ]
  },
  {
   "cell_type": "code",
   "execution_count": 11,
   "metadata": {
    "colab": {},
    "colab_type": "code",
    "id": "jc_h0wsvygP6"
   },
   "outputs": [],
   "source": [
    "c = convolution(im, kernel)"
   ]
  },
  {
   "cell_type": "code",
   "execution_count": 12,
   "metadata": {
    "colab": {},
    "colab_type": "code",
    "id": "Vw7EDGoVygP8"
   },
   "outputs": [
    {
     "data": {
      "image/png": "[encoded data removed]",
      "text/plain": [
       "<Figure size 1080x432 with 2 Axes>"
      ]
     },
     "metadata": {
      "needs_background": "light"
     },
     "output_type": "display_data"
    }
   ],
   "source": [
    "implot2(im, c)"
   ]
  },
  {
   "cell_type": "markdown",
   "metadata": {
    "colab_type": "text",
    "id": "RERADKgNFq9T"
   },
   "source": [
    "\n",
    "\n",
    "---\n",
    "\n",
    "\n",
    "\n",
    "---\n",
    "\n",
    "\n",
    "\n",
    "> > > > > > > > > © 2021 Institute of Data\n",
    "\n",
    "\n",
    "---\n",
    "\n",
    "\n",
    "\n",
    "---\n",
    "\n",
    "\n",
    "\n"
   ]
  }
 ],
 "metadata": {
  "colab": {
   "collapsed_sections": [],
   "name": "_DSIA Demo-10-CNNs_Basics.ipynb",
   "provenance": []
  },
  "kernelspec": {
   "display_name": "Python 3 (ipykernel)",
   "language": "python",
   "name": "python3"
  },
  "language_info": {
   "codemirror_mode": {
    "name": "ipython",
    "version": 3
   },
   "file_extension": ".py",
   "mimetype": "text/x-python",
   "name": "python",
   "nbconvert_exporter": "python",
   "pygments_lexer": "ipython3",
   "version": "3.9.7"
  }
 },
 "nbformat": 4,
 "nbformat_minor": 4
}
