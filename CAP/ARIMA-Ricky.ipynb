{
 "cells": [
  {
   "cell_type": "code",
   "execution_count": 59,
   "id": "d3f0bfdd-b6be-4f20-8d37-7f0f85829e41",
   "metadata": {},
   "outputs": [],
   "source": [
    "import numpy as np\n",
    "import pandas as pd\n",
    "import matplotlib.pyplot as plt\n",
    "%matplotlib inline"
   ]
  },
  {
   "cell_type": "code",
   "execution_count": 60,
   "id": "9a3219cb-0bee-480f-9fbb-ef8780163b1f",
   "metadata": {},
   "outputs": [],
   "source": [
    "import statsmodels.api as sm"
   ]
  },
  {
   "cell_type": "code",
   "execution_count": 61,
   "id": "42d5fdb6-de7d-4bf3-9eda-2928f0f29e7c",
   "metadata": {},
   "outputs": [],
   "source": [
    "import yfinance as yf\n",
    "from yahoofinancials import YahooFinancials"
   ]
  },
  {
   "cell_type": "code",
   "execution_count": 62,
   "id": "b4c771dc-a200-4408-8313-6f16a92baa8e",
   "metadata": {},
   "outputs": [
    {
     "data": {
      "text/html": [
       "<div>\n",
       "<style scoped>\n",
       "    .dataframe tbody tr th:only-of-type {\n",
       "        vertical-align: middle;\n",
       "    }\n",
       "\n",
       "    .dataframe tbody tr th {\n",
       "        vertical-align: top;\n",
       "    }\n",
       "\n",
       "    .dataframe thead th {\n",
       "        text-align: right;\n",
       "    }\n",
       "</style>\n",
       "<table border=\"1\" class=\"dataframe\">\n",
       "  <thead>\n",
       "    <tr style=\"text-align: right;\">\n",
       "      <th></th>\n",
       "      <th>Open</th>\n",
       "      <th>High</th>\n",
       "      <th>Low</th>\n",
       "      <th>Close</th>\n",
       "      <th>Adj Close</th>\n",
       "      <th>Volume</th>\n",
       "    </tr>\n",
       "    <tr>\n",
       "      <th>Date</th>\n",
       "      <th></th>\n",
       "      <th></th>\n",
       "      <th></th>\n",
       "      <th></th>\n",
       "      <th></th>\n",
       "      <th></th>\n",
       "    </tr>\n",
       "  </thead>\n",
       "  <tbody>\n",
       "    <tr>\n",
       "      <th>2019-12-31</th>\n",
       "      <td>72.482498</td>\n",
       "      <td>73.419998</td>\n",
       "      <td>72.379997</td>\n",
       "      <td>73.412498</td>\n",
       "      <td>72.245949</td>\n",
       "      <td>100805600</td>\n",
       "    </tr>\n",
       "    <tr>\n",
       "      <th>2020-01-02</th>\n",
       "      <td>74.059998</td>\n",
       "      <td>75.150002</td>\n",
       "      <td>73.797501</td>\n",
       "      <td>75.087502</td>\n",
       "      <td>73.894325</td>\n",
       "      <td>135480400</td>\n",
       "    </tr>\n",
       "    <tr>\n",
       "      <th>2020-01-03</th>\n",
       "      <td>74.287498</td>\n",
       "      <td>75.144997</td>\n",
       "      <td>74.125000</td>\n",
       "      <td>74.357498</td>\n",
       "      <td>73.175934</td>\n",
       "      <td>146322800</td>\n",
       "    </tr>\n",
       "    <tr>\n",
       "      <th>2020-01-06</th>\n",
       "      <td>73.447502</td>\n",
       "      <td>74.989998</td>\n",
       "      <td>73.187500</td>\n",
       "      <td>74.949997</td>\n",
       "      <td>73.759003</td>\n",
       "      <td>118387200</td>\n",
       "    </tr>\n",
       "    <tr>\n",
       "      <th>2020-01-07</th>\n",
       "      <td>74.959999</td>\n",
       "      <td>75.224998</td>\n",
       "      <td>74.370003</td>\n",
       "      <td>74.597504</td>\n",
       "      <td>73.412125</td>\n",
       "      <td>108872000</td>\n",
       "    </tr>\n",
       "  </tbody>\n",
       "</table>\n",
       "</div>"
      ],
      "text/plain": [
       "                 Open       High        Low      Close  Adj Close     Volume\n",
       "Date                                                                        \n",
       "2019-12-31  72.482498  73.419998  72.379997  73.412498  72.245949  100805600\n",
       "2020-01-02  74.059998  75.150002  73.797501  75.087502  73.894325  135480400\n",
       "2020-01-03  74.287498  75.144997  74.125000  74.357498  73.175934  146322800\n",
       "2020-01-06  73.447502  74.989998  73.187500  74.949997  73.759003  118387200\n",
       "2020-01-07  74.959999  75.224998  74.370003  74.597504  73.412125  108872000"
      ]
     },
     "execution_count": 62,
     "metadata": {},
     "output_type": "execute_result"
    }
   ],
   "source": [
    "df = yf.download('AAPL', \n",
    "                      start='2020-01-01', \n",
    "                      end='2022-03-30', \n",
    "                      progress=False,\n",
    ")\n",
    "df.head()"
   ]
  },
  {
   "cell_type": "code",
   "execution_count": 63,
   "id": "c38fb779-b144-4c6c-93c7-188c3188661d",
   "metadata": {},
   "outputs": [
    {
     "data": {
      "text/html": [
       "<div>\n",
       "<style scoped>\n",
       "    .dataframe tbody tr th:only-of-type {\n",
       "        vertical-align: middle;\n",
       "    }\n",
       "\n",
       "    .dataframe tbody tr th {\n",
       "        vertical-align: top;\n",
       "    }\n",
       "\n",
       "    .dataframe thead th {\n",
       "        text-align: right;\n",
       "    }\n",
       "</style>\n",
       "<table border=\"1\" class=\"dataframe\">\n",
       "  <thead>\n",
       "    <tr style=\"text-align: right;\">\n",
       "      <th></th>\n",
       "      <th>Open</th>\n",
       "      <th>High</th>\n",
       "      <th>Low</th>\n",
       "      <th>Close</th>\n",
       "      <th>Adj Close</th>\n",
       "      <th>Volume</th>\n",
       "    </tr>\n",
       "    <tr>\n",
       "      <th>Date</th>\n",
       "      <th></th>\n",
       "      <th></th>\n",
       "      <th></th>\n",
       "      <th></th>\n",
       "      <th></th>\n",
       "      <th></th>\n",
       "    </tr>\n",
       "  </thead>\n",
       "  <tbody>\n",
       "    <tr>\n",
       "      <th>2022-03-23</th>\n",
       "      <td>167.990005</td>\n",
       "      <td>172.639999</td>\n",
       "      <td>167.649994</td>\n",
       "      <td>170.210007</td>\n",
       "      <td>170.210007</td>\n",
       "      <td>98062700</td>\n",
       "    </tr>\n",
       "    <tr>\n",
       "      <th>2022-03-24</th>\n",
       "      <td>171.059998</td>\n",
       "      <td>174.139999</td>\n",
       "      <td>170.210007</td>\n",
       "      <td>174.070007</td>\n",
       "      <td>174.070007</td>\n",
       "      <td>90131400</td>\n",
       "    </tr>\n",
       "    <tr>\n",
       "      <th>2022-03-25</th>\n",
       "      <td>173.880005</td>\n",
       "      <td>175.279999</td>\n",
       "      <td>172.750000</td>\n",
       "      <td>174.720001</td>\n",
       "      <td>174.720001</td>\n",
       "      <td>80546200</td>\n",
       "    </tr>\n",
       "    <tr>\n",
       "      <th>2022-03-28</th>\n",
       "      <td>172.169998</td>\n",
       "      <td>175.729996</td>\n",
       "      <td>172.000000</td>\n",
       "      <td>175.600006</td>\n",
       "      <td>175.600006</td>\n",
       "      <td>90371900</td>\n",
       "    </tr>\n",
       "    <tr>\n",
       "      <th>2022-03-29</th>\n",
       "      <td>176.690002</td>\n",
       "      <td>179.009995</td>\n",
       "      <td>176.339996</td>\n",
       "      <td>178.960007</td>\n",
       "      <td>178.960007</td>\n",
       "      <td>100589400</td>\n",
       "    </tr>\n",
       "  </tbody>\n",
       "</table>\n",
       "</div>"
      ],
      "text/plain": [
       "                  Open        High         Low       Close   Adj Close  \\\n",
       "Date                                                                     \n",
       "2022-03-23  167.990005  172.639999  167.649994  170.210007  170.210007   \n",
       "2022-03-24  171.059998  174.139999  170.210007  174.070007  174.070007   \n",
       "2022-03-25  173.880005  175.279999  172.750000  174.720001  174.720001   \n",
       "2022-03-28  172.169998  175.729996  172.000000  175.600006  175.600006   \n",
       "2022-03-29  176.690002  179.009995  176.339996  178.960007  178.960007   \n",
       "\n",
       "               Volume  \n",
       "Date                   \n",
       "2022-03-23   98062700  \n",
       "2022-03-24   90131400  \n",
       "2022-03-25   80546200  \n",
       "2022-03-28   90371900  \n",
       "2022-03-29  100589400  "
      ]
     },
     "execution_count": 63,
     "metadata": {},
     "output_type": "execute_result"
    }
   ],
   "source": [
    "df.tail()"
   ]
  },
  {
   "cell_type": "code",
   "execution_count": 64,
   "id": "64f53502-b58e-4156-b78c-8cc543fb0629",
   "metadata": {},
   "outputs": [
    {
     "data": {
      "text/plain": [
       "DatetimeIndex(['2019-12-31', '2020-01-02', '2020-01-03', '2020-01-06',\n",
       "               '2020-01-07', '2020-01-08', '2020-01-09', '2020-01-10',\n",
       "               '2020-01-13', '2020-01-14',\n",
       "               ...\n",
       "               '2022-03-16', '2022-03-17', '2022-03-18', '2022-03-21',\n",
       "               '2022-03-22', '2022-03-23', '2022-03-24', '2022-03-25',\n",
       "               '2022-03-28', '2022-03-29'],\n",
       "              dtype='datetime64[ns]', name='Date', length=566, freq=None)"
      ]
     },
     "execution_count": 64,
     "metadata": {},
     "output_type": "execute_result"
    }
   ],
   "source": [
    "df.index"
   ]
  },
  {
   "cell_type": "code",
   "execution_count": 65,
   "id": "75c18565-af1b-4ec5-9ced-81ae249e89d1",
   "metadata": {},
   "outputs": [
    {
     "data": {
      "text/html": [
       "<div>\n",
       "<style scoped>\n",
       "    .dataframe tbody tr th:only-of-type {\n",
       "        vertical-align: middle;\n",
       "    }\n",
       "\n",
       "    .dataframe tbody tr th {\n",
       "        vertical-align: top;\n",
       "    }\n",
       "\n",
       "    .dataframe thead th {\n",
       "        text-align: right;\n",
       "    }\n",
       "</style>\n",
       "<table border=\"1\" class=\"dataframe\">\n",
       "  <thead>\n",
       "    <tr style=\"text-align: right;\">\n",
       "      <th></th>\n",
       "      <th>count</th>\n",
       "      <th>mean</th>\n",
       "      <th>std</th>\n",
       "      <th>min</th>\n",
       "      <th>25%</th>\n",
       "      <th>50%</th>\n",
       "      <th>75%</th>\n",
       "      <th>max</th>\n",
       "    </tr>\n",
       "  </thead>\n",
       "  <tbody>\n",
       "    <tr>\n",
       "      <th>Open</th>\n",
       "      <td>566.0</td>\n",
       "      <td>1.232044e+02</td>\n",
       "      <td>3.190079e+01</td>\n",
       "      <td>5.702000e+01</td>\n",
       "      <td>9.676625e+01</td>\n",
       "      <td>1.265450e+02</td>\n",
       "      <td>1.471675e+02</td>\n",
       "      <td>1.826300e+02</td>\n",
       "    </tr>\n",
       "    <tr>\n",
       "      <th>High</th>\n",
       "      <td>566.0</td>\n",
       "      <td>1.247292e+02</td>\n",
       "      <td>3.212023e+01</td>\n",
       "      <td>5.712500e+01</td>\n",
       "      <td>9.754750e+01</td>\n",
       "      <td>1.278950e+02</td>\n",
       "      <td>1.486650e+02</td>\n",
       "      <td>1.829400e+02</td>\n",
       "    </tr>\n",
       "    <tr>\n",
       "      <th>Low</th>\n",
       "      <td>566.0</td>\n",
       "      <td>1.217546e+02</td>\n",
       "      <td>3.163910e+01</td>\n",
       "      <td>5.315250e+01</td>\n",
       "      <td>9.585625e+01</td>\n",
       "      <td>1.251200e+02</td>\n",
       "      <td>1.458700e+02</td>\n",
       "      <td>1.791200e+02</td>\n",
       "    </tr>\n",
       "    <tr>\n",
       "      <th>Close</th>\n",
       "      <td>566.0</td>\n",
       "      <td>1.233203e+02</td>\n",
       "      <td>3.190078e+01</td>\n",
       "      <td>5.609250e+01</td>\n",
       "      <td>9.664187e+01</td>\n",
       "      <td>1.263962e+02</td>\n",
       "      <td>1.469425e+02</td>\n",
       "      <td>1.820100e+02</td>\n",
       "    </tr>\n",
       "    <tr>\n",
       "      <th>Adj Close</th>\n",
       "      <td>566.0</td>\n",
       "      <td>1.226123e+02</td>\n",
       "      <td>3.217668e+01</td>\n",
       "      <td>5.533217e+01</td>\n",
       "      <td>9.558997e+01</td>\n",
       "      <td>1.256210e+02</td>\n",
       "      <td>1.464369e+02</td>\n",
       "      <td>1.817784e+02</td>\n",
       "    </tr>\n",
       "    <tr>\n",
       "      <th>Volume</th>\n",
       "      <td>566.0</td>\n",
       "      <td>1.210211e+08</td>\n",
       "      <td>6.070097e+07</td>\n",
       "      <td>4.100000e+07</td>\n",
       "      <td>8.154448e+07</td>\n",
       "      <td>1.044896e+08</td>\n",
       "      <td>1.410839e+08</td>\n",
       "      <td>4.265100e+08</td>\n",
       "    </tr>\n",
       "  </tbody>\n",
       "</table>\n",
       "</div>"
      ],
      "text/plain": [
       "           count          mean           std           min           25%  \\\n",
       "Open       566.0  1.232044e+02  3.190079e+01  5.702000e+01  9.676625e+01   \n",
       "High       566.0  1.247292e+02  3.212023e+01  5.712500e+01  9.754750e+01   \n",
       "Low        566.0  1.217546e+02  3.163910e+01  5.315250e+01  9.585625e+01   \n",
       "Close      566.0  1.233203e+02  3.190078e+01  5.609250e+01  9.664187e+01   \n",
       "Adj Close  566.0  1.226123e+02  3.217668e+01  5.533217e+01  9.558997e+01   \n",
       "Volume     566.0  1.210211e+08  6.070097e+07  4.100000e+07  8.154448e+07   \n",
       "\n",
       "                    50%           75%           max  \n",
       "Open       1.265450e+02  1.471675e+02  1.826300e+02  \n",
       "High       1.278950e+02  1.486650e+02  1.829400e+02  \n",
       "Low        1.251200e+02  1.458700e+02  1.791200e+02  \n",
       "Close      1.263962e+02  1.469425e+02  1.820100e+02  \n",
       "Adj Close  1.256210e+02  1.464369e+02  1.817784e+02  \n",
       "Volume     1.044896e+08  1.410839e+08  4.265100e+08  "
      ]
     },
     "execution_count": 65,
     "metadata": {},
     "output_type": "execute_result"
    }
   ],
   "source": [
    "df.describe().T"
   ]
  },
  {
   "cell_type": "code",
   "execution_count": 66,
   "id": "e5b09f7f-6fab-421c-b2be-739b102f712d",
   "metadata": {},
   "outputs": [
    {
     "data": {
      "text/plain": [
       "<AxesSubplot:xlabel='Date'>"
      ]
     },
     "execution_count": 66,
     "metadata": {},
     "output_type": "execute_result"
    },
    {
     "data": {
      "image/png": "[encoded data removed]",
      "text/plain": [
       "<Figure size 432x288 with 1 Axes>"
      ]
     },
     "metadata": {
      "needs_background": "light"
     },
     "output_type": "display_data"
    }
   ],
   "source": [
    "df['Close'].plot()"
   ]
  },
  {
   "cell_type": "code",
   "execution_count": 67,
   "id": "5d2c6397-8181-47e4-88f2-a8ab17f81cf6",
   "metadata": {},
   "outputs": [],
   "source": [
    "time_series = df['Close']"
   ]
  },
  {
   "cell_type": "code",
   "execution_count": 68,
   "id": "14469487-679f-44ac-95c4-a54244a458b8",
   "metadata": {},
   "outputs": [
    {
     "data": {
      "text/plain": [
       "pandas.core.series.Series"
      ]
     },
     "execution_count": 68,
     "metadata": {},
     "output_type": "execute_result"
    }
   ],
   "source": [
    "type(time_series)"
   ]
  },
  {
   "cell_type": "code",
   "execution_count": 69,
   "id": "95c4067f-6346-4936-a7d5-60e3b67b9e68",
   "metadata": {},
   "outputs": [
    {
     "data": {
      "image/png": "[encoded data removed]",
      "text/plain": [
       "<Figure size 720x576 with 1 Axes>"
      ]
     },
     "metadata": {
      "needs_background": "light"
     },
     "output_type": "display_data"
    }
   ],
   "source": [
    "time_series.rolling(12).mean().plot(label='12 Month Rolling Mean',figsize=(10,8))\n",
    "time_series.rolling(12).std().plot(label='12 Month Rolling STD')\n",
    "time_series.plot(label='Milk in Pounds per Cow')\n",
    "plt.legend();"
   ]
  },
  {
   "cell_type": "code",
   "execution_count": 70,
   "id": "75798c69-86c3-4b43-b77c-31cbc5692156",
   "metadata": {},
   "outputs": [],
   "source": [
    "from statsmodels.tsa.seasonal import seasonal_decompose"
   ]
  },
  {
   "cell_type": "code",
   "execution_count": 71,
   "id": "0a3a680f-2e6b-4d82-abb4-1179345648a1",
   "metadata": {},
   "outputs": [],
   "source": [
    "decomp = seasonal_decompose(time_series,period=30)"
   ]
  },
  {
   "cell_type": "code",
   "execution_count": 72,
   "id": "2ae677ac-25ab-4673-9031-87950facf43f",
   "metadata": {},
   "outputs": [
    {
     "data": {
      "image/png": "[encoded data removed]",
      "text/plain": [
       "<Figure size 1080x576 with 4 Axes>"
      ]
     },
     "metadata": {
      "needs_background": "light"
     },
     "output_type": "display_data"
    }
   ],
   "source": [
    "fig=decomp.plot()\n",
    "fig.set_size_inches(15,8)"
   ]
  },
  {
   "cell_type": "code",
   "execution_count": 73,
   "id": "3f25b27b-37d3-492f-a953-e3b881431512",
   "metadata": {},
   "outputs": [
    {
     "data": {
      "text/html": [
       "<div>\n",
       "<style scoped>\n",
       "    .dataframe tbody tr th:only-of-type {\n",
       "        vertical-align: middle;\n",
       "    }\n",
       "\n",
       "    .dataframe tbody tr th {\n",
       "        vertical-align: top;\n",
       "    }\n",
       "\n",
       "    .dataframe thead th {\n",
       "        text-align: right;\n",
       "    }\n",
       "</style>\n",
       "<table border=\"1\" class=\"dataframe\">\n",
       "  <thead>\n",
       "    <tr style=\"text-align: right;\">\n",
       "      <th></th>\n",
       "      <th>Open</th>\n",
       "      <th>High</th>\n",
       "      <th>Low</th>\n",
       "      <th>Close</th>\n",
       "      <th>Adj Close</th>\n",
       "      <th>Volume</th>\n",
       "    </tr>\n",
       "    <tr>\n",
       "      <th>Date</th>\n",
       "      <th></th>\n",
       "      <th></th>\n",
       "      <th></th>\n",
       "      <th></th>\n",
       "      <th></th>\n",
       "      <th></th>\n",
       "    </tr>\n",
       "  </thead>\n",
       "  <tbody>\n",
       "    <tr>\n",
       "      <th>2019-12-31</th>\n",
       "      <td>72.482498</td>\n",
       "      <td>73.419998</td>\n",
       "      <td>72.379997</td>\n",
       "      <td>73.412498</td>\n",
       "      <td>72.245949</td>\n",
       "      <td>100805600</td>\n",
       "    </tr>\n",
       "    <tr>\n",
       "      <th>2020-01-02</th>\n",
       "      <td>74.059998</td>\n",
       "      <td>75.150002</td>\n",
       "      <td>73.797501</td>\n",
       "      <td>75.087502</td>\n",
       "      <td>73.894325</td>\n",
       "      <td>135480400</td>\n",
       "    </tr>\n",
       "    <tr>\n",
       "      <th>2020-01-03</th>\n",
       "      <td>74.287498</td>\n",
       "      <td>75.144997</td>\n",
       "      <td>74.125000</td>\n",
       "      <td>74.357498</td>\n",
       "      <td>73.175934</td>\n",
       "      <td>146322800</td>\n",
       "    </tr>\n",
       "    <tr>\n",
       "      <th>2020-01-06</th>\n",
       "      <td>73.447502</td>\n",
       "      <td>74.989998</td>\n",
       "      <td>73.187500</td>\n",
       "      <td>74.949997</td>\n",
       "      <td>73.759003</td>\n",
       "      <td>118387200</td>\n",
       "    </tr>\n",
       "    <tr>\n",
       "      <th>2020-01-07</th>\n",
       "      <td>74.959999</td>\n",
       "      <td>75.224998</td>\n",
       "      <td>74.370003</td>\n",
       "      <td>74.597504</td>\n",
       "      <td>73.412125</td>\n",
       "      <td>108872000</td>\n",
       "    </tr>\n",
       "  </tbody>\n",
       "</table>\n",
       "</div>"
      ],
      "text/plain": [
       "                 Open       High        Low      Close  Adj Close     Volume\n",
       "Date                                                                        \n",
       "2019-12-31  72.482498  73.419998  72.379997  73.412498  72.245949  100805600\n",
       "2020-01-02  74.059998  75.150002  73.797501  75.087502  73.894325  135480400\n",
       "2020-01-03  74.287498  75.144997  74.125000  74.357498  73.175934  146322800\n",
       "2020-01-06  73.447502  74.989998  73.187500  74.949997  73.759003  118387200\n",
       "2020-01-07  74.959999  75.224998  74.370003  74.597504  73.412125  108872000"
      ]
     },
     "execution_count": 73,
     "metadata": {},
     "output_type": "execute_result"
    }
   ],
   "source": [
    "df.head()"
   ]
  },
  {
   "cell_type": "markdown",
   "id": "1d50a2c6-80f8-41e6-931c-d299380612ff",
   "metadata": {},
   "source": [
    "### Dicky Fuller Test\n",
    "Test if data is stationary or not"
   ]
  },
  {
   "cell_type": "code",
   "execution_count": 74,
   "id": "5246c24d-e13e-4464-87a1-a043ebed9d0d",
   "metadata": {},
   "outputs": [],
   "source": [
    "from statsmodels.tsa.stattools import adfuller"
   ]
  },
  {
   "cell_type": "code",
   "execution_count": 75,
   "id": "14a4bd0c-c1cc-4b23-ada6-7ba9b0eaafc0",
   "metadata": {},
   "outputs": [],
   "source": [
    "result = adfuller(df['Close'])"
   ]
  },
  {
   "cell_type": "code",
   "execution_count": 76,
   "id": "fb434b15-8c5c-44ff-9ec1-11314348d6da",
   "metadata": {},
   "outputs": [
    {
     "data": {
      "text/plain": [
       "(-0.7742259913418417,\n",
       " 0.826576011020309,\n",
       " 0,\n",
       " 565,\n",
       " {'1%': -3.4419770063102213,\n",
       "  '5%': -2.866669060591297,\n",
       "  '10%': -2.5695016312945413},\n",
       " 2569.968188841891)"
      ]
     },
     "execution_count": 76,
     "metadata": {},
     "output_type": "execute_result"
    }
   ],
   "source": [
    "result"
   ]
  },
  {
   "cell_type": "code",
   "execution_count": 77,
   "id": "d713eab0-cbfd-48f3-bd2e-da94aac1bfea",
   "metadata": {},
   "outputs": [],
   "source": [
    "def adf_check(time_series):\n",
    "    \n",
    "    result=adfuller(time_series)\n",
    "    print(\" Augmented Dicky-Fuller Test\")\n",
    "    labels = ['ADF Test Statistic','p-value','# of lags','Num of Obseravtions used']\n",
    "    \n",
    "    for value,label in zip(result,labels):\n",
    "        print(label+\" : \"+str(value))\n",
    "        \n",
    "    if result[1]<=0.05:\n",
    "        print(\"Strong evidence against null hypothesis\")\n",
    "        print(\"Reject null hypothesis\")\n",
    "        print(\"Data has no unit root and is stationary\")\n",
    "    else:\n",
    "        print(\"Weak evidence against null hypothesis\")\n",
    "        print(\"Fail to reject null hypothesis\")\n",
    "        print(\"Data has a unit root, it is non-stationary\")"
   ]
  },
  {
   "cell_type": "code",
   "execution_count": 78,
   "id": "be9a6a27-3982-45f8-b475-416224af465a",
   "metadata": {},
   "outputs": [
    {
     "name": "stdout",
     "output_type": "stream",
     "text": [
      " Augmented Dicky-Fuller Test\n",
      "ADF Test Statistic : -0.7742259913418417\n",
      "p-value : 0.826576011020309\n",
      "# of lags : 0\n",
      "Num of Obseravtions used : 565\n",
      "Weak evidence against null hypothesis\n",
      "Fail to reject null hypothesis\n",
      "Data has a unit root, it is non-stationary\n"
     ]
    }
   ],
   "source": [
    "adf_check(df['Close'])"
   ]
  },
  {
   "cell_type": "code",
   "execution_count": 79,
   "id": "3db131ed-f024-4570-b732-f43cedbe3f39",
   "metadata": {},
   "outputs": [],
   "source": [
    "df['First Difference'] = df['Close'] - df['Close'].shift()"
   ]
  },
  {
   "cell_type": "code",
   "execution_count": 80,
   "id": "e41d876d-8a11-477e-a65e-5c42c59e540d",
   "metadata": {},
   "outputs": [
    {
     "data": {
      "image/png": "[encoded data removed]",
      "text/plain": [
       "<Figure size 432x288 with 1 Axes>"
      ]
     },
     "metadata": {
      "needs_background": "light"
     },
     "output_type": "display_data"
    }
   ],
   "source": [
    "df['First Difference'].plot();"
   ]
  },
  {
   "cell_type": "code",
   "execution_count": 81,
   "id": "012c29e3-749d-4c69-86ee-776cfcce3bc2",
   "metadata": {},
   "outputs": [
    {
     "name": "stdout",
     "output_type": "stream",
     "text": [
      " Augmented Dicky-Fuller Test\n",
      "ADF Test Statistic : -24.94200099061074\n",
      "p-value : 0.0\n",
      "# of lags : 0\n",
      "Num of Obseravtions used : 564\n",
      "Strong evidence against null hypothesis\n",
      "Reject null hypothesis\n",
      "Data has no unit root and is stationary\n"
     ]
    }
   ],
   "source": [
    "adf_check(df['First Difference'].dropna())"
   ]
  },
  {
   "cell_type": "markdown",
   "id": "8daf5ebf-34ec-46d9-ba72-aba94096a720",
   "metadata": {},
   "source": [
    "#### The above shows the data is stationary as p-value is < 0.05"
   ]
  },
  {
   "cell_type": "code",
   "execution_count": 82,
   "id": "77b91575-c3a5-4811-a301-d0bc07cb4be9",
   "metadata": {},
   "outputs": [],
   "source": [
    "from statsmodels.graphics.tsaplots import plot_acf,plot_pacf"
   ]
  },
  {
   "cell_type": "code",
   "execution_count": 83,
   "id": "c7a8b3af-a6d0-4d6b-abe0-b380156cf842",
   "metadata": {},
   "outputs": [
    {
     "data": {
      "image/png": "[encoded data removed]",
      "text/plain": [
       "<Figure size 432x288 with 1 Axes>"
      ]
     },
     "metadata": {
      "needs_background": "light"
     },
     "output_type": "display_data"
    }
   ],
   "source": [
    "fig_first = plot_acf(df['First Difference'].dropna())"
   ]
  },
  {
   "cell_type": "code",
   "execution_count": 84,
   "id": "56e04aa2-921b-4ae6-932c-63cf07f207b0",
   "metadata": {},
   "outputs": [
    {
     "name": "stderr",
     "output_type": "stream",
     "text": [
      "C:\\Users\\Trader\\anaconda3\\envs\\iod_dl\\lib\\site-packages\\statsmodels\\graphics\\tsaplots.py:348: FutureWarning: The default method 'yw' can produce PACF values outside of the [-1,1] interval. After 0.13, the default will change tounadjusted Yule-Walker ('ywm'). You can use this method now by setting method='ywm'.\n",
      "  warnings.warn(\n"
     ]
    },
    {
     "data": {
      "image/png": "[encoded data removed]",
      "text/plain": [
       "<Figure size 432x288 with 1 Axes>"
      ]
     },
     "metadata": {
      "needs_background": "light"
     },
     "output_type": "display_data"
    }
   ],
   "source": [
    "result = plot_pacf(df['First Difference'].dropna())"
   ]
  },
  {
   "cell_type": "code",
   "execution_count": 85,
   "id": "9e821591-c031-45f7-9712-521c442c5e51",
   "metadata": {},
   "outputs": [
    {
     "name": "stderr",
     "output_type": "stream",
     "text": [
      "C:\\Users\\Trader\\anaconda3\\envs\\iod_dl\\lib\\site-packages\\statsmodels\\graphics\\tsaplots.py:348: FutureWarning: The default method 'yw' can produce PACF values outside of the [-1,1] interval. After 0.13, the default will change tounadjusted Yule-Walker ('ywm'). You can use this method now by setting method='ywm'.\n",
      "  warnings.warn(\n"
     ]
    },
    {
     "data": {
      "image/png": "[encoded data removed]",
      "text/plain": [
       "<Figure size 432x288 with 1 Axes>"
      ]
     },
     "execution_count": 85,
     "metadata": {},
     "output_type": "execute_result"
    },
    {
     "data": {
      "image/png": "[encoded data removed]",
      "text/plain": [
       "<Figure size 432x288 with 1 Axes>"
      ]
     },
     "metadata": {
      "needs_background": "light"
     },
     "output_type": "display_data"
    },
    {
     "data": {
      "image/png": "[encoded data removed]",
      "text/plain": [
       "<Figure size 432x288 with 1 Axes>"
      ]
     },
     "metadata": {
      "needs_background": "light"
     },
     "output_type": "display_data"
    }
   ],
   "source": [
    "plot_acf(df['First Difference'].dropna())\n",
    "plot_pacf(df['First Difference'].dropna())"
   ]
  },
  {
   "cell_type": "code",
   "execution_count": 86,
   "id": "c146e259-e1b0-45d3-a02a-fbfd4e6efee8",
   "metadata": {},
   "outputs": [],
   "source": [
    "from statsmodels.tsa.arima_model import ARIMA"
   ]
  },
  {
   "cell_type": "code",
   "execution_count": 87,
   "id": "aecdc900-68ce-4d1b-af84-b4af43973912",
   "metadata": {},
   "outputs": [
    {
     "name": "stdout",
     "output_type": "stream",
     "text": [
      "Help on class ARIMA in module statsmodels.tsa.arima_model:\n",
      "\n",
      "class ARIMA(ARMA)\n",
      " |  ARIMA(*args, **kwargs)\n",
      " |  \n",
      " |  ARIMA has been deprecated in favor of the new implementation\n",
      " |  \n",
      " |  See Also\n",
      " |  --------\n",
      " |  statsmodels.tsa.arima.model.ARIMA\n",
      " |      ARIMA models with a variety of parameter estimators\n",
      " |  statsmodels.tsa.statespace.SARIMAX\n",
      " |      SARIMAX models estimated using MLE\n",
      " |  \n",
      " |  Method resolution order:\n",
      " |      ARIMA\n",
      " |      ARMA\n",
      " |      builtins.object\n",
      " |  \n",
      " |  Methods defined here:\n",
      " |  \n",
      " |  __init__(self, *args, **kwargs)\n",
      " |      Initialize self.  See help(type(self)) for accurate signature.\n",
      " |  \n",
      " |  ----------------------------------------------------------------------\n",
      " |  Data descriptors inherited from ARMA:\n",
      " |  \n",
      " |  __dict__\n",
      " |      dictionary for instance variables (if defined)\n",
      " |  \n",
      " |  __weakref__\n",
      " |      list of weak references to the object (if defined)\n",
      "\n"
     ]
    }
   ],
   "source": [
    "help(ARIMA)"
   ]
  },
  {
   "cell_type": "code",
   "execution_count": 88,
   "id": "48a7bcdb-240b-4ae3-ab1e-93ec45a4eeae",
   "metadata": {},
   "outputs": [
    {
     "name": "stdout",
     "output_type": "stream",
     "text": [
      "                               SARIMAX Results                                \n",
      "==============================================================================\n",
      "Dep. Variable:                  Close   No. Observations:                  566\n",
      "Model:                 ARIMA(0, 1, 0)   Log Likelihood               -1321.776\n",
      "Date:                Mon, 11 Apr 2022   AIC                           2645.553\n",
      "Time:                        00:03:47   BIC                           2649.890\n",
      "Sample:                             0   HQIC                          2647.246\n",
      "                                - 566                                         \n",
      "Covariance Type:                  opg                                         \n",
      "==============================================================================\n",
      "                 coef    std err          z      P>|z|      [0.025      0.975]\n",
      "------------------------------------------------------------------------------\n",
      "sigma2         6.3027      0.277     22.767      0.000       5.760       6.845\n",
      "===================================================================================\n",
      "Ljung-Box (L1) (Q):                   1.52   Jarque-Bera (JB):                67.74\n",
      "Prob(Q):                              0.22   Prob(JB):                         0.00\n",
      "Heteroskedasticity (H):               0.95   Skew:                            -0.02\n",
      "Prob(H) (two-sided):                  0.71   Kurtosis:                         4.70\n",
      "===================================================================================\n",
      "\n",
      "Warnings:\n",
      "[1] Covariance matrix calculated using the outer product of gradients (complex-step).\n"
     ]
    },
    {
     "name": "stderr",
     "output_type": "stream",
     "text": [
      "C:\\Users\\Trader\\anaconda3\\envs\\iod_dl\\lib\\site-packages\\statsmodels\\tsa\\base\\tsa_model.py:593: ValueWarning: A date index has been provided, but it has no associated frequency information and so will be ignored when e.g. forecasting.\n",
      "  warnings.warn('A date index has been provided, but it has no'\n",
      "C:\\Users\\Trader\\anaconda3\\envs\\iod_dl\\lib\\site-packages\\statsmodels\\tsa\\base\\tsa_model.py:593: ValueWarning: A date index has been provided, but it has no associated frequency information and so will be ignored when e.g. forecasting.\n",
      "  warnings.warn('A date index has been provided, but it has no'\n",
      "C:\\Users\\Trader\\anaconda3\\envs\\iod_dl\\lib\\site-packages\\statsmodels\\tsa\\base\\tsa_model.py:593: ValueWarning: A date index has been provided, but it has no associated frequency information and so will be ignored when e.g. forecasting.\n",
      "  warnings.warn('A date index has been provided, but it has no'\n"
     ]
    }
   ],
   "source": [
    "#Modeling\n",
    "# Build Model\n",
    "from statsmodels.tsa.arima.model import ARIMA\n",
    "from pmdarima.arima import auto_arima\n",
    "model = ARIMA(df['Close'], order=(0, 1, 0))  \n",
    "results = model.fit()  \n",
    "print(results.summary())"
   ]
  },
  {
   "cell_type": "code",
   "execution_count": 89,
   "id": "53da187e-0a99-4427-a615-fe73363071cd",
   "metadata": {},
   "outputs": [
    {
     "data": {
      "text/plain": [
       "Date\n",
       "2019-12-31    73.412498\n",
       "2020-01-02     1.675003\n",
       "2020-01-03    -0.730003\n",
       "2020-01-06     0.592499\n",
       "2020-01-07    -0.352493\n",
       "                ...    \n",
       "2022-03-23     1.389999\n",
       "2022-03-24     3.860001\n",
       "2022-03-25     0.649994\n",
       "2022-03-28     0.880005\n",
       "2022-03-29     3.360001\n",
       "Length: 566, dtype: float64"
      ]
     },
     "execution_count": 89,
     "metadata": {},
     "output_type": "execute_result"
    }
   ],
   "source": [
    "results.resid"
   ]
  },
  {
   "cell_type": "code",
   "execution_count": 90,
   "id": "96fbd288-6620-47ca-a526-aedab0b2e0a9",
   "metadata": {},
   "outputs": [
    {
     "data": {
      "text/plain": [
       "<AxesSubplot:xlabel='Date'>"
      ]
     },
     "execution_count": 90,
     "metadata": {},
     "output_type": "execute_result"
    },
    {
     "data": {
      "image/png": "[encoded data removed]",
      "text/plain": [
       "<Figure size 432x288 with 1 Axes>"
      ]
     },
     "metadata": {
      "needs_background": "light"
     },
     "output_type": "display_data"
    }
   ],
   "source": [
    "results.resid.plot()"
   ]
  },
  {
   "cell_type": "code",
   "execution_count": 91,
   "id": "fb2306e2-88b7-4fbe-8c82-9e1cf080de39",
   "metadata": {},
   "outputs": [
    {
     "data": {
      "text/plain": [
       "<AxesSubplot:ylabel='Density'>"
      ]
     },
     "execution_count": 91,
     "metadata": {},
     "output_type": "execute_result"
    },
    {
     "data": {
      "image/png": "[encoded data removed]",
      "text/plain": [
       "<Figure size 432x288 with 1 Axes>"
      ]
     },
     "metadata": {
      "needs_background": "light"
     },
     "output_type": "display_data"
    }
   ],
   "source": [
    "results.resid.plot(kind='kde')"
   ]
  },
  {
   "cell_type": "code",
   "execution_count": 92,
   "id": "d65703de-723c-4f5c-9d98-304945a248e8",
   "metadata": {},
   "outputs": [
    {
     "data": {
      "text/plain": [
       "<matplotlib.legend.Legend at 0x292e1d63580>"
      ]
     },
     "execution_count": 92,
     "metadata": {},
     "output_type": "execute_result"
    },
    {
     "data": {
      "image/png": "[encoded data removed]",
      "text/plain": [
       "<Figure size 1080x864 with 1 Axes>"
      ]
     },
     "metadata": {
      "needs_background": "light"
     },
     "output_type": "display_data"
    }
   ],
   "source": [
    "df['forecast'] = results.predict(start=540,end=565)\n",
    "df[['Close','forecast']].plot(figsize=(15,12))\n",
    "plt.legend(loc='upper left')"
   ]
  },
  {
   "cell_type": "code",
   "execution_count": 93,
   "id": "2a14e4c5-82a3-4aa7-af88-830161535f03",
   "metadata": {},
   "outputs": [
    {
     "data": {
      "text/html": [
       "<div>\n",
       "<style scoped>\n",
       "    .dataframe tbody tr th:only-of-type {\n",
       "        vertical-align: middle;\n",
       "    }\n",
       "\n",
       "    .dataframe tbody tr th {\n",
       "        vertical-align: top;\n",
       "    }\n",
       "\n",
       "    .dataframe thead th {\n",
       "        text-align: right;\n",
       "    }\n",
       "</style>\n",
       "<table border=\"1\" class=\"dataframe\">\n",
       "  <thead>\n",
       "    <tr style=\"text-align: right;\">\n",
       "      <th></th>\n",
       "      <th>Open</th>\n",
       "      <th>High</th>\n",
       "      <th>Low</th>\n",
       "      <th>Close</th>\n",
       "      <th>Adj Close</th>\n",
       "      <th>Volume</th>\n",
       "      <th>First Difference</th>\n",
       "      <th>forecast</th>\n",
       "    </tr>\n",
       "    <tr>\n",
       "      <th>Date</th>\n",
       "      <th></th>\n",
       "      <th></th>\n",
       "      <th></th>\n",
       "      <th></th>\n",
       "      <th></th>\n",
       "      <th></th>\n",
       "      <th></th>\n",
       "      <th></th>\n",
       "    </tr>\n",
       "  </thead>\n",
       "  <tbody>\n",
       "    <tr>\n",
       "      <th>2022-03-23</th>\n",
       "      <td>167.990005</td>\n",
       "      <td>172.639999</td>\n",
       "      <td>167.649994</td>\n",
       "      <td>170.210007</td>\n",
       "      <td>170.210007</td>\n",
       "      <td>98062700</td>\n",
       "      <td>1.389999</td>\n",
       "      <td>168.820007</td>\n",
       "    </tr>\n",
       "    <tr>\n",
       "      <th>2022-03-24</th>\n",
       "      <td>171.059998</td>\n",
       "      <td>174.139999</td>\n",
       "      <td>170.210007</td>\n",
       "      <td>174.070007</td>\n",
       "      <td>174.070007</td>\n",
       "      <td>90131400</td>\n",
       "      <td>3.860001</td>\n",
       "      <td>170.210007</td>\n",
       "    </tr>\n",
       "    <tr>\n",
       "      <th>2022-03-25</th>\n",
       "      <td>173.880005</td>\n",
       "      <td>175.279999</td>\n",
       "      <td>172.750000</td>\n",
       "      <td>174.720001</td>\n",
       "      <td>174.720001</td>\n",
       "      <td>80546200</td>\n",
       "      <td>0.649994</td>\n",
       "      <td>174.070007</td>\n",
       "    </tr>\n",
       "    <tr>\n",
       "      <th>2022-03-28</th>\n",
       "      <td>172.169998</td>\n",
       "      <td>175.729996</td>\n",
       "      <td>172.000000</td>\n",
       "      <td>175.600006</td>\n",
       "      <td>175.600006</td>\n",
       "      <td>90371900</td>\n",
       "      <td>0.880005</td>\n",
       "      <td>174.720001</td>\n",
       "    </tr>\n",
       "    <tr>\n",
       "      <th>2022-03-29</th>\n",
       "      <td>176.690002</td>\n",
       "      <td>179.009995</td>\n",
       "      <td>176.339996</td>\n",
       "      <td>178.960007</td>\n",
       "      <td>178.960007</td>\n",
       "      <td>100589400</td>\n",
       "      <td>3.360001</td>\n",
       "      <td>175.600006</td>\n",
       "    </tr>\n",
       "  </tbody>\n",
       "</table>\n",
       "</div>"
      ],
      "text/plain": [
       "                  Open        High         Low       Close   Adj Close  \\\n",
       "Date                                                                     \n",
       "2022-03-23  167.990005  172.639999  167.649994  170.210007  170.210007   \n",
       "2022-03-24  171.059998  174.139999  170.210007  174.070007  174.070007   \n",
       "2022-03-25  173.880005  175.279999  172.750000  174.720001  174.720001   \n",
       "2022-03-28  172.169998  175.729996  172.000000  175.600006  175.600006   \n",
       "2022-03-29  176.690002  179.009995  176.339996  178.960007  178.960007   \n",
       "\n",
       "               Volume  First Difference    forecast  \n",
       "Date                                                 \n",
       "2022-03-23   98062700          1.389999  168.820007  \n",
       "2022-03-24   90131400          3.860001  170.210007  \n",
       "2022-03-25   80546200          0.649994  174.070007  \n",
       "2022-03-28   90371900          0.880005  174.720001  \n",
       "2022-03-29  100589400          3.360001  175.600006  "
      ]
     },
     "execution_count": 93,
     "metadata": {},
     "output_type": "execute_result"
    }
   ],
   "source": [
    "df.tail()"
   ]
  },
  {
   "cell_type": "code",
   "execution_count": 94,
   "id": "7bd1d96c-ba38-4af0-8530-c93eb71f4aeb",
   "metadata": {},
   "outputs": [],
   "source": [
    "from pandas.tseries.offsets import DateOffset"
   ]
  },
  {
   "cell_type": "code",
   "execution_count": 95,
   "id": "285a275e-7766-4686-87db-f5d806e8f596",
   "metadata": {},
   "outputs": [],
   "source": [
    "future_dates = [df.index[-1]+DateOffset(days=x) for x in range(1,24)]"
   ]
  },
  {
   "cell_type": "code",
   "execution_count": 96,
   "id": "16d44ee2-b14b-415f-9a8f-547098877231",
   "metadata": {},
   "outputs": [
    {
     "data": {
      "text/plain": [
       "[Timestamp('2022-03-30 00:00:00'),\n",
       " Timestamp('2022-03-31 00:00:00'),\n",
       " Timestamp('2022-04-01 00:00:00'),\n",
       " Timestamp('2022-04-02 00:00:00'),\n",
       " Timestamp('2022-04-03 00:00:00'),\n",
       " Timestamp('2022-04-04 00:00:00'),\n",
       " Timestamp('2022-04-05 00:00:00'),\n",
       " Timestamp('2022-04-06 00:00:00'),\n",
       " Timestamp('2022-04-07 00:00:00'),\n",
       " Timestamp('2022-04-08 00:00:00'),\n",
       " Timestamp('2022-04-09 00:00:00'),\n",
       " Timestamp('2022-04-10 00:00:00'),\n",
       " Timestamp('2022-04-11 00:00:00'),\n",
       " Timestamp('2022-04-12 00:00:00'),\n",
       " Timestamp('2022-04-13 00:00:00'),\n",
       " Timestamp('2022-04-14 00:00:00'),\n",
       " Timestamp('2022-04-15 00:00:00'),\n",
       " Timestamp('2022-04-16 00:00:00'),\n",
       " Timestamp('2022-04-17 00:00:00'),\n",
       " Timestamp('2022-04-18 00:00:00'),\n",
       " Timestamp('2022-04-19 00:00:00'),\n",
       " Timestamp('2022-04-20 00:00:00'),\n",
       " Timestamp('2022-04-21 00:00:00')]"
      ]
     },
     "execution_count": 96,
     "metadata": {},
     "output_type": "execute_result"
    }
   ],
   "source": [
    "future_dates"
   ]
  },
  {
   "cell_type": "code",
   "execution_count": 97,
   "id": "66c01ab2-5847-44ae-8239-4bc8b8dc3b91",
   "metadata": {},
   "outputs": [],
   "source": [
    "future_df = pd.DataFrame(index=future_dates,columns=df.columns)"
   ]
  },
  {
   "cell_type": "code",
   "execution_count": 98,
   "id": "6719d92e-4d17-4e0a-8b12-ea142bdb42fd",
   "metadata": {},
   "outputs": [
    {
     "data": {
      "text/html": [
       "<div>\n",
       "<style scoped>\n",
       "    .dataframe tbody tr th:only-of-type {\n",
       "        vertical-align: middle;\n",
       "    }\n",
       "\n",
       "    .dataframe tbody tr th {\n",
       "        vertical-align: top;\n",
       "    }\n",
       "\n",
       "    .dataframe thead th {\n",
       "        text-align: right;\n",
       "    }\n",
       "</style>\n",
       "<table border=\"1\" class=\"dataframe\">\n",
       "  <thead>\n",
       "    <tr style=\"text-align: right;\">\n",
       "      <th></th>\n",
       "      <th>Open</th>\n",
       "      <th>High</th>\n",
       "      <th>Low</th>\n",
       "      <th>Close</th>\n",
       "      <th>Adj Close</th>\n",
       "      <th>Volume</th>\n",
       "      <th>First Difference</th>\n",
       "      <th>forecast</th>\n",
       "    </tr>\n",
       "  </thead>\n",
       "  <tbody>\n",
       "    <tr>\n",
       "      <th>2022-03-30</th>\n",
       "      <td>NaN</td>\n",
       "      <td>NaN</td>\n",
       "      <td>NaN</td>\n",
       "      <td>NaN</td>\n",
       "      <td>NaN</td>\n",
       "      <td>NaN</td>\n",
       "      <td>NaN</td>\n",
       "      <td>NaN</td>\n",
       "    </tr>\n",
       "    <tr>\n",
       "      <th>2022-03-31</th>\n",
       "      <td>NaN</td>\n",
       "      <td>NaN</td>\n",
       "      <td>NaN</td>\n",
       "      <td>NaN</td>\n",
       "      <td>NaN</td>\n",
       "      <td>NaN</td>\n",
       "      <td>NaN</td>\n",
       "      <td>NaN</td>\n",
       "    </tr>\n",
       "    <tr>\n",
       "      <th>2022-04-01</th>\n",
       "      <td>NaN</td>\n",
       "      <td>NaN</td>\n",
       "      <td>NaN</td>\n",
       "      <td>NaN</td>\n",
       "      <td>NaN</td>\n",
       "      <td>NaN</td>\n",
       "      <td>NaN</td>\n",
       "      <td>NaN</td>\n",
       "    </tr>\n",
       "    <tr>\n",
       "      <th>2022-04-02</th>\n",
       "      <td>NaN</td>\n",
       "      <td>NaN</td>\n",
       "      <td>NaN</td>\n",
       "      <td>NaN</td>\n",
       "      <td>NaN</td>\n",
       "      <td>NaN</td>\n",
       "      <td>NaN</td>\n",
       "      <td>NaN</td>\n",
       "    </tr>\n",
       "    <tr>\n",
       "      <th>2022-04-03</th>\n",
       "      <td>NaN</td>\n",
       "      <td>NaN</td>\n",
       "      <td>NaN</td>\n",
       "      <td>NaN</td>\n",
       "      <td>NaN</td>\n",
       "      <td>NaN</td>\n",
       "      <td>NaN</td>\n",
       "      <td>NaN</td>\n",
       "    </tr>\n",
       "    <tr>\n",
       "      <th>2022-04-04</th>\n",
       "      <td>NaN</td>\n",
       "      <td>NaN</td>\n",
       "      <td>NaN</td>\n",
       "      <td>NaN</td>\n",
       "      <td>NaN</td>\n",
       "      <td>NaN</td>\n",
       "      <td>NaN</td>\n",
       "      <td>NaN</td>\n",
       "    </tr>\n",
       "    <tr>\n",
       "      <th>2022-04-05</th>\n",
       "      <td>NaN</td>\n",
       "      <td>NaN</td>\n",
       "      <td>NaN</td>\n",
       "      <td>NaN</td>\n",
       "      <td>NaN</td>\n",
       "      <td>NaN</td>\n",
       "      <td>NaN</td>\n",
       "      <td>NaN</td>\n",
       "    </tr>\n",
       "    <tr>\n",
       "      <th>2022-04-06</th>\n",
       "      <td>NaN</td>\n",
       "      <td>NaN</td>\n",
       "      <td>NaN</td>\n",
       "      <td>NaN</td>\n",
       "      <td>NaN</td>\n",
       "      <td>NaN</td>\n",
       "      <td>NaN</td>\n",
       "      <td>NaN</td>\n",
       "    </tr>\n",
       "    <tr>\n",
       "      <th>2022-04-07</th>\n",
       "      <td>NaN</td>\n",
       "      <td>NaN</td>\n",
       "      <td>NaN</td>\n",
       "      <td>NaN</td>\n",
       "      <td>NaN</td>\n",
       "      <td>NaN</td>\n",
       "      <td>NaN</td>\n",
       "      <td>NaN</td>\n",
       "    </tr>\n",
       "    <tr>\n",
       "      <th>2022-04-08</th>\n",
       "      <td>NaN</td>\n",
       "      <td>NaN</td>\n",
       "      <td>NaN</td>\n",
       "      <td>NaN</td>\n",
       "      <td>NaN</td>\n",
       "      <td>NaN</td>\n",
       "      <td>NaN</td>\n",
       "      <td>NaN</td>\n",
       "    </tr>\n",
       "    <tr>\n",
       "      <th>2022-04-09</th>\n",
       "      <td>NaN</td>\n",
       "      <td>NaN</td>\n",
       "      <td>NaN</td>\n",
       "      <td>NaN</td>\n",
       "      <td>NaN</td>\n",
       "      <td>NaN</td>\n",
       "      <td>NaN</td>\n",
       "      <td>NaN</td>\n",
       "    </tr>\n",
       "    <tr>\n",
       "      <th>2022-04-10</th>\n",
       "      <td>NaN</td>\n",
       "      <td>NaN</td>\n",
       "      <td>NaN</td>\n",
       "      <td>NaN</td>\n",
       "      <td>NaN</td>\n",
       "      <td>NaN</td>\n",
       "      <td>NaN</td>\n",
       "      <td>NaN</td>\n",
       "    </tr>\n",
       "    <tr>\n",
       "      <th>2022-04-11</th>\n",
       "      <td>NaN</td>\n",
       "      <td>NaN</td>\n",
       "      <td>NaN</td>\n",
       "      <td>NaN</td>\n",
       "      <td>NaN</td>\n",
       "      <td>NaN</td>\n",
       "      <td>NaN</td>\n",
       "      <td>NaN</td>\n",
       "    </tr>\n",
       "    <tr>\n",
       "      <th>2022-04-12</th>\n",
       "      <td>NaN</td>\n",
       "      <td>NaN</td>\n",
       "      <td>NaN</td>\n",
       "      <td>NaN</td>\n",
       "      <td>NaN</td>\n",
       "      <td>NaN</td>\n",
       "      <td>NaN</td>\n",
       "      <td>NaN</td>\n",
       "    </tr>\n",
       "    <tr>\n",
       "      <th>2022-04-13</th>\n",
       "      <td>NaN</td>\n",
       "      <td>NaN</td>\n",
       "      <td>NaN</td>\n",
       "      <td>NaN</td>\n",
       "      <td>NaN</td>\n",
       "      <td>NaN</td>\n",
       "      <td>NaN</td>\n",
       "      <td>NaN</td>\n",
       "    </tr>\n",
       "    <tr>\n",
       "      <th>2022-04-14</th>\n",
       "      <td>NaN</td>\n",
       "      <td>NaN</td>\n",
       "      <td>NaN</td>\n",
       "      <td>NaN</td>\n",
       "      <td>NaN</td>\n",
       "      <td>NaN</td>\n",
       "      <td>NaN</td>\n",
       "      <td>NaN</td>\n",
       "    </tr>\n",
       "    <tr>\n",
       "      <th>2022-04-15</th>\n",
       "      <td>NaN</td>\n",
       "      <td>NaN</td>\n",
       "      <td>NaN</td>\n",
       "      <td>NaN</td>\n",
       "      <td>NaN</td>\n",
       "      <td>NaN</td>\n",
       "      <td>NaN</td>\n",
       "      <td>NaN</td>\n",
       "    </tr>\n",
       "    <tr>\n",
       "      <th>2022-04-16</th>\n",
       "      <td>NaN</td>\n",
       "      <td>NaN</td>\n",
       "      <td>NaN</td>\n",
       "      <td>NaN</td>\n",
       "      <td>NaN</td>\n",
       "      <td>NaN</td>\n",
       "      <td>NaN</td>\n",
       "      <td>NaN</td>\n",
       "    </tr>\n",
       "    <tr>\n",
       "      <th>2022-04-17</th>\n",
       "      <td>NaN</td>\n",
       "      <td>NaN</td>\n",
       "      <td>NaN</td>\n",
       "      <td>NaN</td>\n",
       "      <td>NaN</td>\n",
       "      <td>NaN</td>\n",
       "      <td>NaN</td>\n",
       "      <td>NaN</td>\n",
       "    </tr>\n",
       "    <tr>\n",
       "      <th>2022-04-18</th>\n",
       "      <td>NaN</td>\n",
       "      <td>NaN</td>\n",
       "      <td>NaN</td>\n",
       "      <td>NaN</td>\n",
       "      <td>NaN</td>\n",
       "      <td>NaN</td>\n",
       "      <td>NaN</td>\n",
       "      <td>NaN</td>\n",
       "    </tr>\n",
       "    <tr>\n",
       "      <th>2022-04-19</th>\n",
       "      <td>NaN</td>\n",
       "      <td>NaN</td>\n",
       "      <td>NaN</td>\n",
       "      <td>NaN</td>\n",
       "      <td>NaN</td>\n",
       "      <td>NaN</td>\n",
       "      <td>NaN</td>\n",
       "      <td>NaN</td>\n",
       "    </tr>\n",
       "    <tr>\n",
       "      <th>2022-04-20</th>\n",
       "      <td>NaN</td>\n",
       "      <td>NaN</td>\n",
       "      <td>NaN</td>\n",
       "      <td>NaN</td>\n",
       "      <td>NaN</td>\n",
       "      <td>NaN</td>\n",
       "      <td>NaN</td>\n",
       "      <td>NaN</td>\n",
       "    </tr>\n",
       "    <tr>\n",
       "      <th>2022-04-21</th>\n",
       "      <td>NaN</td>\n",
       "      <td>NaN</td>\n",
       "      <td>NaN</td>\n",
       "      <td>NaN</td>\n",
       "      <td>NaN</td>\n",
       "      <td>NaN</td>\n",
       "      <td>NaN</td>\n",
       "      <td>NaN</td>\n",
       "    </tr>\n",
       "  </tbody>\n",
       "</table>\n",
       "</div>"
      ],
      "text/plain": [
       "           Open High  Low Close Adj Close Volume First Difference forecast\n",
       "2022-03-30  NaN  NaN  NaN   NaN       NaN    NaN              NaN      NaN\n",
       "2022-03-31  NaN  NaN  NaN   NaN       NaN    NaN              NaN      NaN\n",
       "2022-04-01  NaN  NaN  NaN   NaN       NaN    NaN              NaN      NaN\n",
       "2022-04-02  NaN  NaN  NaN   NaN       NaN    NaN              NaN      NaN\n",
       "2022-04-03  NaN  NaN  NaN   NaN       NaN    NaN              NaN      NaN\n",
       "2022-04-04  NaN  NaN  NaN   NaN       NaN    NaN              NaN      NaN\n",
       "2022-04-05  NaN  NaN  NaN   NaN       NaN    NaN              NaN      NaN\n",
       "2022-04-06  NaN  NaN  NaN   NaN       NaN    NaN              NaN      NaN\n",
       "2022-04-07  NaN  NaN  NaN   NaN       NaN    NaN              NaN      NaN\n",
       "2022-04-08  NaN  NaN  NaN   NaN       NaN    NaN              NaN      NaN\n",
       "2022-04-09  NaN  NaN  NaN   NaN       NaN    NaN              NaN      NaN\n",
       "2022-04-10  NaN  NaN  NaN   NaN       NaN    NaN              NaN      NaN\n",
       "2022-04-11  NaN  NaN  NaN   NaN       NaN    NaN              NaN      NaN\n",
       "2022-04-12  NaN  NaN  NaN   NaN       NaN    NaN              NaN      NaN\n",
       "2022-04-13  NaN  NaN  NaN   NaN       NaN    NaN              NaN      NaN\n",
       "2022-04-14  NaN  NaN  NaN   NaN       NaN    NaN              NaN      NaN\n",
       "2022-04-15  NaN  NaN  NaN   NaN       NaN    NaN              NaN      NaN\n",
       "2022-04-16  NaN  NaN  NaN   NaN       NaN    NaN              NaN      NaN\n",
       "2022-04-17  NaN  NaN  NaN   NaN       NaN    NaN              NaN      NaN\n",
       "2022-04-18  NaN  NaN  NaN   NaN       NaN    NaN              NaN      NaN\n",
       "2022-04-19  NaN  NaN  NaN   NaN       NaN    NaN              NaN      NaN\n",
       "2022-04-20  NaN  NaN  NaN   NaN       NaN    NaN              NaN      NaN\n",
       "2022-04-21  NaN  NaN  NaN   NaN       NaN    NaN              NaN      NaN"
      ]
     },
     "execution_count": 98,
     "metadata": {},
     "output_type": "execute_result"
    }
   ],
   "source": [
    "future_df"
   ]
  },
  {
   "cell_type": "code",
   "execution_count": 99,
   "id": "55e34188-03ad-498a-87f3-0d3de4ee2d57",
   "metadata": {},
   "outputs": [],
   "source": [
    "final_df = pd.concat([df,future_df])"
   ]
  },
  {
   "cell_type": "code",
   "execution_count": 100,
   "id": "94cb9a7e-54e5-44ae-bd5f-42c682f97346",
   "metadata": {},
   "outputs": [
    {
     "data": {
      "text/html": [
       "<div>\n",
       "<style scoped>\n",
       "    .dataframe tbody tr th:only-of-type {\n",
       "        vertical-align: middle;\n",
       "    }\n",
       "\n",
       "    .dataframe tbody tr th {\n",
       "        vertical-align: top;\n",
       "    }\n",
       "\n",
       "    .dataframe thead th {\n",
       "        text-align: right;\n",
       "    }\n",
       "</style>\n",
       "<table border=\"1\" class=\"dataframe\">\n",
       "  <thead>\n",
       "    <tr style=\"text-align: right;\">\n",
       "      <th></th>\n",
       "      <th>Open</th>\n",
       "      <th>High</th>\n",
       "      <th>Low</th>\n",
       "      <th>Close</th>\n",
       "      <th>Adj Close</th>\n",
       "      <th>Volume</th>\n",
       "      <th>First Difference</th>\n",
       "      <th>forecast</th>\n",
       "    </tr>\n",
       "  </thead>\n",
       "  <tbody>\n",
       "    <tr>\n",
       "      <th>2019-12-31</th>\n",
       "      <td>72.482498</td>\n",
       "      <td>73.419998</td>\n",
       "      <td>72.379997</td>\n",
       "      <td>73.412498</td>\n",
       "      <td>72.245949</td>\n",
       "      <td>100805600</td>\n",
       "      <td>NaN</td>\n",
       "      <td>NaN</td>\n",
       "    </tr>\n",
       "    <tr>\n",
       "      <th>2020-01-02</th>\n",
       "      <td>74.059998</td>\n",
       "      <td>75.150002</td>\n",
       "      <td>73.797501</td>\n",
       "      <td>75.087502</td>\n",
       "      <td>73.894325</td>\n",
       "      <td>135480400</td>\n",
       "      <td>1.675003</td>\n",
       "      <td>NaN</td>\n",
       "    </tr>\n",
       "    <tr>\n",
       "      <th>2020-01-03</th>\n",
       "      <td>74.287498</td>\n",
       "      <td>75.144997</td>\n",
       "      <td>74.125</td>\n",
       "      <td>74.357498</td>\n",
       "      <td>73.175934</td>\n",
       "      <td>146322800</td>\n",
       "      <td>-0.730003</td>\n",
       "      <td>NaN</td>\n",
       "    </tr>\n",
       "    <tr>\n",
       "      <th>2020-01-06</th>\n",
       "      <td>73.447502</td>\n",
       "      <td>74.989998</td>\n",
       "      <td>73.1875</td>\n",
       "      <td>74.949997</td>\n",
       "      <td>73.759003</td>\n",
       "      <td>118387200</td>\n",
       "      <td>0.592499</td>\n",
       "      <td>NaN</td>\n",
       "    </tr>\n",
       "    <tr>\n",
       "      <th>2020-01-07</th>\n",
       "      <td>74.959999</td>\n",
       "      <td>75.224998</td>\n",
       "      <td>74.370003</td>\n",
       "      <td>74.597504</td>\n",
       "      <td>73.412125</td>\n",
       "      <td>108872000</td>\n",
       "      <td>-0.352493</td>\n",
       "      <td>NaN</td>\n",
       "    </tr>\n",
       "  </tbody>\n",
       "</table>\n",
       "</div>"
      ],
      "text/plain": [
       "                 Open       High        Low      Close  Adj Close     Volume  \\\n",
       "2019-12-31  72.482498  73.419998  72.379997  73.412498  72.245949  100805600   \n",
       "2020-01-02  74.059998  75.150002  73.797501  75.087502  73.894325  135480400   \n",
       "2020-01-03  74.287498  75.144997     74.125  74.357498  73.175934  146322800   \n",
       "2020-01-06  73.447502  74.989998    73.1875  74.949997  73.759003  118387200   \n",
       "2020-01-07  74.959999  75.224998  74.370003  74.597504  73.412125  108872000   \n",
       "\n",
       "           First Difference forecast  \n",
       "2019-12-31              NaN      NaN  \n",
       "2020-01-02         1.675003      NaN  \n",
       "2020-01-03        -0.730003      NaN  \n",
       "2020-01-06         0.592499      NaN  \n",
       "2020-01-07        -0.352493      NaN  "
      ]
     },
     "execution_count": 100,
     "metadata": {},
     "output_type": "execute_result"
    }
   ],
   "source": [
    "final_df.head()"
   ]
  },
  {
   "cell_type": "code",
   "execution_count": 101,
   "id": "206b6431-f410-4ceb-93ce-2cd64d478fb1",
   "metadata": {},
   "outputs": [
    {
     "data": {
      "text/html": [
       "<div>\n",
       "<style scoped>\n",
       "    .dataframe tbody tr th:only-of-type {\n",
       "        vertical-align: middle;\n",
       "    }\n",
       "\n",
       "    .dataframe tbody tr th {\n",
       "        vertical-align: top;\n",
       "    }\n",
       "\n",
       "    .dataframe thead th {\n",
       "        text-align: right;\n",
       "    }\n",
       "</style>\n",
       "<table border=\"1\" class=\"dataframe\">\n",
       "  <thead>\n",
       "    <tr style=\"text-align: right;\">\n",
       "      <th></th>\n",
       "      <th>Open</th>\n",
       "      <th>High</th>\n",
       "      <th>Low</th>\n",
       "      <th>Close</th>\n",
       "      <th>Adj Close</th>\n",
       "      <th>Volume</th>\n",
       "      <th>First Difference</th>\n",
       "      <th>forecast</th>\n",
       "    </tr>\n",
       "  </thead>\n",
       "  <tbody>\n",
       "    <tr>\n",
       "      <th>2022-04-17</th>\n",
       "      <td>NaN</td>\n",
       "      <td>NaN</td>\n",
       "      <td>NaN</td>\n",
       "      <td>NaN</td>\n",
       "      <td>NaN</td>\n",
       "      <td>NaN</td>\n",
       "      <td>NaN</td>\n",
       "      <td>NaN</td>\n",
       "    </tr>\n",
       "    <tr>\n",
       "      <th>2022-04-18</th>\n",
       "      <td>NaN</td>\n",
       "      <td>NaN</td>\n",
       "      <td>NaN</td>\n",
       "      <td>NaN</td>\n",
       "      <td>NaN</td>\n",
       "      <td>NaN</td>\n",
       "      <td>NaN</td>\n",
       "      <td>NaN</td>\n",
       "    </tr>\n",
       "    <tr>\n",
       "      <th>2022-04-19</th>\n",
       "      <td>NaN</td>\n",
       "      <td>NaN</td>\n",
       "      <td>NaN</td>\n",
       "      <td>NaN</td>\n",
       "      <td>NaN</td>\n",
       "      <td>NaN</td>\n",
       "      <td>NaN</td>\n",
       "      <td>NaN</td>\n",
       "    </tr>\n",
       "    <tr>\n",
       "      <th>2022-04-20</th>\n",
       "      <td>NaN</td>\n",
       "      <td>NaN</td>\n",
       "      <td>NaN</td>\n",
       "      <td>NaN</td>\n",
       "      <td>NaN</td>\n",
       "      <td>NaN</td>\n",
       "      <td>NaN</td>\n",
       "      <td>NaN</td>\n",
       "    </tr>\n",
       "    <tr>\n",
       "      <th>2022-04-21</th>\n",
       "      <td>NaN</td>\n",
       "      <td>NaN</td>\n",
       "      <td>NaN</td>\n",
       "      <td>NaN</td>\n",
       "      <td>NaN</td>\n",
       "      <td>NaN</td>\n",
       "      <td>NaN</td>\n",
       "      <td>NaN</td>\n",
       "    </tr>\n",
       "  </tbody>\n",
       "</table>\n",
       "</div>"
      ],
      "text/plain": [
       "           Open High  Low Close Adj Close Volume First Difference forecast\n",
       "2022-04-17  NaN  NaN  NaN   NaN       NaN    NaN              NaN      NaN\n",
       "2022-04-18  NaN  NaN  NaN   NaN       NaN    NaN              NaN      NaN\n",
       "2022-04-19  NaN  NaN  NaN   NaN       NaN    NaN              NaN      NaN\n",
       "2022-04-20  NaN  NaN  NaN   NaN       NaN    NaN              NaN      NaN\n",
       "2022-04-21  NaN  NaN  NaN   NaN       NaN    NaN              NaN      NaN"
      ]
     },
     "execution_count": 101,
     "metadata": {},
     "output_type": "execute_result"
    }
   ],
   "source": [
    "final_df.tail()"
   ]
  },
  {
   "cell_type": "code",
   "execution_count": 102,
   "id": "1955b889-c5c5-4a0d-9d17-3627f544915e",
   "metadata": {},
   "outputs": [
    {
     "data": {
      "text/plain": [
       "(589, 8)"
      ]
     },
     "execution_count": 102,
     "metadata": {},
     "output_type": "execute_result"
    }
   ],
   "source": [
    "final_df.shape"
   ]
  },
  {
   "cell_type": "code",
   "execution_count": 103,
   "id": "73f7937c-f1bb-45ca-a1da-20c718c19045",
   "metadata": {},
   "outputs": [
    {
     "data": {
      "text/plain": [
       "(566, 8)"
      ]
     },
     "execution_count": 103,
     "metadata": {},
     "output_type": "execute_result"
    }
   ],
   "source": [
    "df.shape"
   ]
  },
  {
   "cell_type": "code",
   "execution_count": 104,
   "id": "c2af25ad-826b-49fc-8d17-5ecebf8e4229",
   "metadata": {},
   "outputs": [
    {
     "name": "stderr",
     "output_type": "stream",
     "text": [
      "C:\\Users\\Trader\\anaconda3\\envs\\iod_dl\\lib\\site-packages\\statsmodels\\tsa\\base\\tsa_model.py:390: ValueWarning: No supported index is available. Prediction results will be given with an integer index beginning at `start`.\n",
      "  warnings.warn('No supported index is available.'\n"
     ]
    }
   ],
   "source": [
    "final_df['forecast'] = results.predict(start=566,end=570)"
   ]
  },
  {
   "cell_type": "code",
   "execution_count": 105,
   "id": "16d6f8f0-f797-48c5-ad81-f0257e0763f6",
   "metadata": {},
   "outputs": [
    {
     "data": {
      "text/html": [
       "<div>\n",
       "<style scoped>\n",
       "    .dataframe tbody tr th:only-of-type {\n",
       "        vertical-align: middle;\n",
       "    }\n",
       "\n",
       "    .dataframe tbody tr th {\n",
       "        vertical-align: top;\n",
       "    }\n",
       "\n",
       "    .dataframe thead th {\n",
       "        text-align: right;\n",
       "    }\n",
       "</style>\n",
       "<table border=\"1\" class=\"dataframe\">\n",
       "  <thead>\n",
       "    <tr style=\"text-align: right;\">\n",
       "      <th></th>\n",
       "      <th>Open</th>\n",
       "      <th>High</th>\n",
       "      <th>Low</th>\n",
       "      <th>Close</th>\n",
       "      <th>Adj Close</th>\n",
       "      <th>Volume</th>\n",
       "      <th>First Difference</th>\n",
       "      <th>forecast</th>\n",
       "    </tr>\n",
       "  </thead>\n",
       "  <tbody>\n",
       "    <tr>\n",
       "      <th>2022-03-21</th>\n",
       "      <td>163.509995</td>\n",
       "      <td>166.350006</td>\n",
       "      <td>163.009995</td>\n",
       "      <td>165.380005</td>\n",
       "      <td>165.380005</td>\n",
       "      <td>95811400</td>\n",
       "      <td>1.400009</td>\n",
       "      <td>NaN</td>\n",
       "    </tr>\n",
       "    <tr>\n",
       "      <th>2022-03-22</th>\n",
       "      <td>165.509995</td>\n",
       "      <td>169.419998</td>\n",
       "      <td>164.910004</td>\n",
       "      <td>168.820007</td>\n",
       "      <td>168.820007</td>\n",
       "      <td>81532000</td>\n",
       "      <td>3.440002</td>\n",
       "      <td>NaN</td>\n",
       "    </tr>\n",
       "    <tr>\n",
       "      <th>2022-03-23</th>\n",
       "      <td>167.990005</td>\n",
       "      <td>172.639999</td>\n",
       "      <td>167.649994</td>\n",
       "      <td>170.210007</td>\n",
       "      <td>170.210007</td>\n",
       "      <td>98062700</td>\n",
       "      <td>1.389999</td>\n",
       "      <td>NaN</td>\n",
       "    </tr>\n",
       "    <tr>\n",
       "      <th>2022-03-24</th>\n",
       "      <td>171.059998</td>\n",
       "      <td>174.139999</td>\n",
       "      <td>170.210007</td>\n",
       "      <td>174.070007</td>\n",
       "      <td>174.070007</td>\n",
       "      <td>90131400</td>\n",
       "      <td>3.860001</td>\n",
       "      <td>NaN</td>\n",
       "    </tr>\n",
       "    <tr>\n",
       "      <th>2022-03-25</th>\n",
       "      <td>173.880005</td>\n",
       "      <td>175.279999</td>\n",
       "      <td>172.75</td>\n",
       "      <td>174.720001</td>\n",
       "      <td>174.720001</td>\n",
       "      <td>80546200</td>\n",
       "      <td>0.649994</td>\n",
       "      <td>NaN</td>\n",
       "    </tr>\n",
       "    <tr>\n",
       "      <th>2022-03-28</th>\n",
       "      <td>172.169998</td>\n",
       "      <td>175.729996</td>\n",
       "      <td>172.0</td>\n",
       "      <td>175.600006</td>\n",
       "      <td>175.600006</td>\n",
       "      <td>90371900</td>\n",
       "      <td>0.880005</td>\n",
       "      <td>NaN</td>\n",
       "    </tr>\n",
       "    <tr>\n",
       "      <th>2022-03-29</th>\n",
       "      <td>176.690002</td>\n",
       "      <td>179.009995</td>\n",
       "      <td>176.339996</td>\n",
       "      <td>178.960007</td>\n",
       "      <td>178.960007</td>\n",
       "      <td>100589400</td>\n",
       "      <td>3.360001</td>\n",
       "      <td>NaN</td>\n",
       "    </tr>\n",
       "    <tr>\n",
       "      <th>2022-03-30</th>\n",
       "      <td>NaN</td>\n",
       "      <td>NaN</td>\n",
       "      <td>NaN</td>\n",
       "      <td>NaN</td>\n",
       "      <td>NaN</td>\n",
       "      <td>NaN</td>\n",
       "      <td>NaN</td>\n",
       "      <td>NaN</td>\n",
       "    </tr>\n",
       "    <tr>\n",
       "      <th>2022-03-31</th>\n",
       "      <td>NaN</td>\n",
       "      <td>NaN</td>\n",
       "      <td>NaN</td>\n",
       "      <td>NaN</td>\n",
       "      <td>NaN</td>\n",
       "      <td>NaN</td>\n",
       "      <td>NaN</td>\n",
       "      <td>NaN</td>\n",
       "    </tr>\n",
       "    <tr>\n",
       "      <th>2022-04-01</th>\n",
       "      <td>NaN</td>\n",
       "      <td>NaN</td>\n",
       "      <td>NaN</td>\n",
       "      <td>NaN</td>\n",
       "      <td>NaN</td>\n",
       "      <td>NaN</td>\n",
       "      <td>NaN</td>\n",
       "      <td>NaN</td>\n",
       "    </tr>\n",
       "    <tr>\n",
       "      <th>2022-04-02</th>\n",
       "      <td>NaN</td>\n",
       "      <td>NaN</td>\n",
       "      <td>NaN</td>\n",
       "      <td>NaN</td>\n",
       "      <td>NaN</td>\n",
       "      <td>NaN</td>\n",
       "      <td>NaN</td>\n",
       "      <td>NaN</td>\n",
       "    </tr>\n",
       "    <tr>\n",
       "      <th>2022-04-03</th>\n",
       "      <td>NaN</td>\n",
       "      <td>NaN</td>\n",
       "      <td>NaN</td>\n",
       "      <td>NaN</td>\n",
       "      <td>NaN</td>\n",
       "      <td>NaN</td>\n",
       "      <td>NaN</td>\n",
       "      <td>NaN</td>\n",
       "    </tr>\n",
       "    <tr>\n",
       "      <th>2022-04-04</th>\n",
       "      <td>NaN</td>\n",
       "      <td>NaN</td>\n",
       "      <td>NaN</td>\n",
       "      <td>NaN</td>\n",
       "      <td>NaN</td>\n",
       "      <td>NaN</td>\n",
       "      <td>NaN</td>\n",
       "      <td>NaN</td>\n",
       "    </tr>\n",
       "    <tr>\n",
       "      <th>2022-04-05</th>\n",
       "      <td>NaN</td>\n",
       "      <td>NaN</td>\n",
       "      <td>NaN</td>\n",
       "      <td>NaN</td>\n",
       "      <td>NaN</td>\n",
       "      <td>NaN</td>\n",
       "      <td>NaN</td>\n",
       "      <td>NaN</td>\n",
       "    </tr>\n",
       "    <tr>\n",
       "      <th>2022-04-06</th>\n",
       "      <td>NaN</td>\n",
       "      <td>NaN</td>\n",
       "      <td>NaN</td>\n",
       "      <td>NaN</td>\n",
       "      <td>NaN</td>\n",
       "      <td>NaN</td>\n",
       "      <td>NaN</td>\n",
       "      <td>NaN</td>\n",
       "    </tr>\n",
       "    <tr>\n",
       "      <th>2022-04-07</th>\n",
       "      <td>NaN</td>\n",
       "      <td>NaN</td>\n",
       "      <td>NaN</td>\n",
       "      <td>NaN</td>\n",
       "      <td>NaN</td>\n",
       "      <td>NaN</td>\n",
       "      <td>NaN</td>\n",
       "      <td>NaN</td>\n",
       "    </tr>\n",
       "    <tr>\n",
       "      <th>2022-04-08</th>\n",
       "      <td>NaN</td>\n",
       "      <td>NaN</td>\n",
       "      <td>NaN</td>\n",
       "      <td>NaN</td>\n",
       "      <td>NaN</td>\n",
       "      <td>NaN</td>\n",
       "      <td>NaN</td>\n",
       "      <td>NaN</td>\n",
       "    </tr>\n",
       "    <tr>\n",
       "      <th>2022-04-09</th>\n",
       "      <td>NaN</td>\n",
       "      <td>NaN</td>\n",
       "      <td>NaN</td>\n",
       "      <td>NaN</td>\n",
       "      <td>NaN</td>\n",
       "      <td>NaN</td>\n",
       "      <td>NaN</td>\n",
       "      <td>NaN</td>\n",
       "    </tr>\n",
       "    <tr>\n",
       "      <th>2022-04-10</th>\n",
       "      <td>NaN</td>\n",
       "      <td>NaN</td>\n",
       "      <td>NaN</td>\n",
       "      <td>NaN</td>\n",
       "      <td>NaN</td>\n",
       "      <td>NaN</td>\n",
       "      <td>NaN</td>\n",
       "      <td>NaN</td>\n",
       "    </tr>\n",
       "    <tr>\n",
       "      <th>2022-04-11</th>\n",
       "      <td>NaN</td>\n",
       "      <td>NaN</td>\n",
       "      <td>NaN</td>\n",
       "      <td>NaN</td>\n",
       "      <td>NaN</td>\n",
       "      <td>NaN</td>\n",
       "      <td>NaN</td>\n",
       "      <td>NaN</td>\n",
       "    </tr>\n",
       "    <tr>\n",
       "      <th>2022-04-12</th>\n",
       "      <td>NaN</td>\n",
       "      <td>NaN</td>\n",
       "      <td>NaN</td>\n",
       "      <td>NaN</td>\n",
       "      <td>NaN</td>\n",
       "      <td>NaN</td>\n",
       "      <td>NaN</td>\n",
       "      <td>NaN</td>\n",
       "    </tr>\n",
       "    <tr>\n",
       "      <th>2022-04-13</th>\n",
       "      <td>NaN</td>\n",
       "      <td>NaN</td>\n",
       "      <td>NaN</td>\n",
       "      <td>NaN</td>\n",
       "      <td>NaN</td>\n",
       "      <td>NaN</td>\n",
       "      <td>NaN</td>\n",
       "      <td>NaN</td>\n",
       "    </tr>\n",
       "    <tr>\n",
       "      <th>2022-04-14</th>\n",
       "      <td>NaN</td>\n",
       "      <td>NaN</td>\n",
       "      <td>NaN</td>\n",
       "      <td>NaN</td>\n",
       "      <td>NaN</td>\n",
       "      <td>NaN</td>\n",
       "      <td>NaN</td>\n",
       "      <td>NaN</td>\n",
       "    </tr>\n",
       "    <tr>\n",
       "      <th>2022-04-15</th>\n",
       "      <td>NaN</td>\n",
       "      <td>NaN</td>\n",
       "      <td>NaN</td>\n",
       "      <td>NaN</td>\n",
       "      <td>NaN</td>\n",
       "      <td>NaN</td>\n",
       "      <td>NaN</td>\n",
       "      <td>NaN</td>\n",
       "    </tr>\n",
       "    <tr>\n",
       "      <th>2022-04-16</th>\n",
       "      <td>NaN</td>\n",
       "      <td>NaN</td>\n",
       "      <td>NaN</td>\n",
       "      <td>NaN</td>\n",
       "      <td>NaN</td>\n",
       "      <td>NaN</td>\n",
       "      <td>NaN</td>\n",
       "      <td>NaN</td>\n",
       "    </tr>\n",
       "    <tr>\n",
       "      <th>2022-04-17</th>\n",
       "      <td>NaN</td>\n",
       "      <td>NaN</td>\n",
       "      <td>NaN</td>\n",
       "      <td>NaN</td>\n",
       "      <td>NaN</td>\n",
       "      <td>NaN</td>\n",
       "      <td>NaN</td>\n",
       "      <td>NaN</td>\n",
       "    </tr>\n",
       "    <tr>\n",
       "      <th>2022-04-18</th>\n",
       "      <td>NaN</td>\n",
       "      <td>NaN</td>\n",
       "      <td>NaN</td>\n",
       "      <td>NaN</td>\n",
       "      <td>NaN</td>\n",
       "      <td>NaN</td>\n",
       "      <td>NaN</td>\n",
       "      <td>NaN</td>\n",
       "    </tr>\n",
       "    <tr>\n",
       "      <th>2022-04-19</th>\n",
       "      <td>NaN</td>\n",
       "      <td>NaN</td>\n",
       "      <td>NaN</td>\n",
       "      <td>NaN</td>\n",
       "      <td>NaN</td>\n",
       "      <td>NaN</td>\n",
       "      <td>NaN</td>\n",
       "      <td>NaN</td>\n",
       "    </tr>\n",
       "    <tr>\n",
       "      <th>2022-04-20</th>\n",
       "      <td>NaN</td>\n",
       "      <td>NaN</td>\n",
       "      <td>NaN</td>\n",
       "      <td>NaN</td>\n",
       "      <td>NaN</td>\n",
       "      <td>NaN</td>\n",
       "      <td>NaN</td>\n",
       "      <td>NaN</td>\n",
       "    </tr>\n",
       "    <tr>\n",
       "      <th>2022-04-21</th>\n",
       "      <td>NaN</td>\n",
       "      <td>NaN</td>\n",
       "      <td>NaN</td>\n",
       "      <td>NaN</td>\n",
       "      <td>NaN</td>\n",
       "      <td>NaN</td>\n",
       "      <td>NaN</td>\n",
       "      <td>NaN</td>\n",
       "    </tr>\n",
       "  </tbody>\n",
       "</table>\n",
       "</div>"
      ],
      "text/plain": [
       "                  Open        High         Low       Close   Adj Close  \\\n",
       "2022-03-21  163.509995  166.350006  163.009995  165.380005  165.380005   \n",
       "2022-03-22  165.509995  169.419998  164.910004  168.820007  168.820007   \n",
       "2022-03-23  167.990005  172.639999  167.649994  170.210007  170.210007   \n",
       "2022-03-24  171.059998  174.139999  170.210007  174.070007  174.070007   \n",
       "2022-03-25  173.880005  175.279999      172.75  174.720001  174.720001   \n",
       "2022-03-28  172.169998  175.729996       172.0  175.600006  175.600006   \n",
       "2022-03-29  176.690002  179.009995  176.339996  178.960007  178.960007   \n",
       "2022-03-30         NaN         NaN         NaN         NaN         NaN   \n",
       "2022-03-31         NaN         NaN         NaN         NaN         NaN   \n",
       "2022-04-01         NaN         NaN         NaN         NaN         NaN   \n",
       "2022-04-02         NaN         NaN         NaN         NaN         NaN   \n",
       "2022-04-03         NaN         NaN         NaN         NaN         NaN   \n",
       "2022-04-04         NaN         NaN         NaN         NaN         NaN   \n",
       "2022-04-05         NaN         NaN         NaN         NaN         NaN   \n",
       "2022-04-06         NaN         NaN         NaN         NaN         NaN   \n",
       "2022-04-07         NaN         NaN         NaN         NaN         NaN   \n",
       "2022-04-08         NaN         NaN         NaN         NaN         NaN   \n",
       "2022-04-09         NaN         NaN         NaN         NaN         NaN   \n",
       "2022-04-10         NaN         NaN         NaN         NaN         NaN   \n",
       "2022-04-11         NaN         NaN         NaN         NaN         NaN   \n",
       "2022-04-12         NaN         NaN         NaN         NaN         NaN   \n",
       "2022-04-13         NaN         NaN         NaN         NaN         NaN   \n",
       "2022-04-14         NaN         NaN         NaN         NaN         NaN   \n",
       "2022-04-15         NaN         NaN         NaN         NaN         NaN   \n",
       "2022-04-16         NaN         NaN         NaN         NaN         NaN   \n",
       "2022-04-17         NaN         NaN         NaN         NaN         NaN   \n",
       "2022-04-18         NaN         NaN         NaN         NaN         NaN   \n",
       "2022-04-19         NaN         NaN         NaN         NaN         NaN   \n",
       "2022-04-20         NaN         NaN         NaN         NaN         NaN   \n",
       "2022-04-21         NaN         NaN         NaN         NaN         NaN   \n",
       "\n",
       "               Volume First Difference  forecast  \n",
       "2022-03-21   95811400         1.400009       NaN  \n",
       "2022-03-22   81532000         3.440002       NaN  \n",
       "2022-03-23   98062700         1.389999       NaN  \n",
       "2022-03-24   90131400         3.860001       NaN  \n",
       "2022-03-25   80546200         0.649994       NaN  \n",
       "2022-03-28   90371900         0.880005       NaN  \n",
       "2022-03-29  100589400         3.360001       NaN  \n",
       "2022-03-30        NaN              NaN       NaN  \n",
       "2022-03-31        NaN              NaN       NaN  \n",
       "2022-04-01        NaN              NaN       NaN  \n",
       "2022-04-02        NaN              NaN       NaN  \n",
       "2022-04-03        NaN              NaN       NaN  \n",
       "2022-04-04        NaN              NaN       NaN  \n",
       "2022-04-05        NaN              NaN       NaN  \n",
       "2022-04-06        NaN              NaN       NaN  \n",
       "2022-04-07        NaN              NaN       NaN  \n",
       "2022-04-08        NaN              NaN       NaN  \n",
       "2022-04-09        NaN              NaN       NaN  \n",
       "2022-04-10        NaN              NaN       NaN  \n",
       "2022-04-11        NaN              NaN       NaN  \n",
       "2022-04-12        NaN              NaN       NaN  \n",
       "2022-04-13        NaN              NaN       NaN  \n",
       "2022-04-14        NaN              NaN       NaN  \n",
       "2022-04-15        NaN              NaN       NaN  \n",
       "2022-04-16        NaN              NaN       NaN  \n",
       "2022-04-17        NaN              NaN       NaN  \n",
       "2022-04-18        NaN              NaN       NaN  \n",
       "2022-04-19        NaN              NaN       NaN  \n",
       "2022-04-20        NaN              NaN       NaN  \n",
       "2022-04-21        NaN              NaN       NaN  "
      ]
     },
     "execution_count": 105,
     "metadata": {},
     "output_type": "execute_result"
    }
   ],
   "source": [
    "final_df.tail(30)"
   ]
  },
  {
   "cell_type": "code",
   "execution_count": 106,
   "id": "2531783a-1bff-448a-a3b3-df297f4a1400",
   "metadata": {},
   "outputs": [
    {
     "data": {
      "text/html": [
       "<div>\n",
       "<style scoped>\n",
       "    .dataframe tbody tr th:only-of-type {\n",
       "        vertical-align: middle;\n",
       "    }\n",
       "\n",
       "    .dataframe tbody tr th {\n",
       "        vertical-align: top;\n",
       "    }\n",
       "\n",
       "    .dataframe thead th {\n",
       "        text-align: right;\n",
       "    }\n",
       "</style>\n",
       "<table border=\"1\" class=\"dataframe\">\n",
       "  <thead>\n",
       "    <tr style=\"text-align: right;\">\n",
       "      <th></th>\n",
       "      <th>Open</th>\n",
       "      <th>High</th>\n",
       "      <th>Low</th>\n",
       "      <th>Close</th>\n",
       "      <th>Adj Close</th>\n",
       "      <th>Volume</th>\n",
       "      <th>First Difference</th>\n",
       "      <th>forecast</th>\n",
       "    </tr>\n",
       "  </thead>\n",
       "  <tbody>\n",
       "    <tr>\n",
       "      <th>2019-12-31</th>\n",
       "      <td>72.482498</td>\n",
       "      <td>73.419998</td>\n",
       "      <td>72.379997</td>\n",
       "      <td>73.412498</td>\n",
       "      <td>72.245949</td>\n",
       "      <td>100805600</td>\n",
       "      <td>NaN</td>\n",
       "      <td>NaN</td>\n",
       "    </tr>\n",
       "    <tr>\n",
       "      <th>2020-01-02</th>\n",
       "      <td>74.059998</td>\n",
       "      <td>75.150002</td>\n",
       "      <td>73.797501</td>\n",
       "      <td>75.087502</td>\n",
       "      <td>73.894325</td>\n",
       "      <td>135480400</td>\n",
       "      <td>1.675003</td>\n",
       "      <td>NaN</td>\n",
       "    </tr>\n",
       "    <tr>\n",
       "      <th>2020-01-03</th>\n",
       "      <td>74.287498</td>\n",
       "      <td>75.144997</td>\n",
       "      <td>74.125</td>\n",
       "      <td>74.357498</td>\n",
       "      <td>73.175934</td>\n",
       "      <td>146322800</td>\n",
       "      <td>-0.730003</td>\n",
       "      <td>NaN</td>\n",
       "    </tr>\n",
       "    <tr>\n",
       "      <th>2020-01-06</th>\n",
       "      <td>73.447502</td>\n",
       "      <td>74.989998</td>\n",
       "      <td>73.1875</td>\n",
       "      <td>74.949997</td>\n",
       "      <td>73.759003</td>\n",
       "      <td>118387200</td>\n",
       "      <td>0.592499</td>\n",
       "      <td>NaN</td>\n",
       "    </tr>\n",
       "    <tr>\n",
       "      <th>2020-01-07</th>\n",
       "      <td>74.959999</td>\n",
       "      <td>75.224998</td>\n",
       "      <td>74.370003</td>\n",
       "      <td>74.597504</td>\n",
       "      <td>73.412125</td>\n",
       "      <td>108872000</td>\n",
       "      <td>-0.352493</td>\n",
       "      <td>NaN</td>\n",
       "    </tr>\n",
       "  </tbody>\n",
       "</table>\n",
       "</div>"
      ],
      "text/plain": [
       "                 Open       High        Low      Close  Adj Close     Volume  \\\n",
       "2019-12-31  72.482498  73.419998  72.379997  73.412498  72.245949  100805600   \n",
       "2020-01-02  74.059998  75.150002  73.797501  75.087502  73.894325  135480400   \n",
       "2020-01-03  74.287498  75.144997     74.125  74.357498  73.175934  146322800   \n",
       "2020-01-06  73.447502  74.989998    73.1875  74.949997  73.759003  118387200   \n",
       "2020-01-07  74.959999  75.224998  74.370003  74.597504  73.412125  108872000   \n",
       "\n",
       "           First Difference  forecast  \n",
       "2019-12-31              NaN       NaN  \n",
       "2020-01-02         1.675003       NaN  \n",
       "2020-01-03        -0.730003       NaN  \n",
       "2020-01-06         0.592499       NaN  \n",
       "2020-01-07        -0.352493       NaN  "
      ]
     },
     "execution_count": 106,
     "metadata": {},
     "output_type": "execute_result"
    }
   ],
   "source": [
    "final_df.head()"
   ]
  },
  {
   "cell_type": "code",
   "execution_count": 107,
   "id": "fb0ab7df-8fa1-496b-b137-709cf9012b00",
   "metadata": {},
   "outputs": [
    {
     "data": {
      "text/plain": [
       "<AxesSubplot:>"
      ]
     },
     "execution_count": 107,
     "metadata": {},
     "output_type": "execute_result"
    },
    {
     "data": {
      "image/png": "[encoded data removed]",
      "text/plain": [
       "<Figure size 720x576 with 1 Axes>"
      ]
     },
     "metadata": {
      "needs_background": "light"
     },
     "output_type": "display_data"
    }
   ],
   "source": [
    "final_df['Close'].plot(figsize=(10,8))\n",
    "final_df['forecast'].plot()"
   ]
  },
  {
   "cell_type": "code",
   "execution_count": 108,
   "id": "a9cfcf61-e0c1-4b27-bbc4-c2a6be069da8",
   "metadata": {},
   "outputs": [
    {
     "data": {
      "image/png": "[encoded data removed]",
      "text/plain": [
       "<Figure size 720x576 with 1 Axes>"
      ]
     },
     "metadata": {
      "needs_background": "light"
     },
     "output_type": "display_data"
    }
   ],
   "source": [
    "final_df[['Close','forecast']].plot(figsize=(10,8));"
   ]
  },
  {
   "cell_type": "code",
   "execution_count": null,
   "id": "66d35db0-a6e5-414a-9f8f-e445f34841ac",
   "metadata": {},
   "outputs": [],
   "source": []
  }
 ],
 "metadata": {
  "kernelspec": {
   "display_name": "Python 3 (ipykernel)",
   "language": "python",
   "name": "python3"
  },
  "language_info": {
   "codemirror_mode": {
    "name": "ipython",
    "version": 3
   },
   "file_extension": ".py",
   "mimetype": "text/x-python",
   "name": "python",
   "nbconvert_exporter": "python",
   "pygments_lexer": "ipython3",
   "version": "3.9.7"
  }
 },
 "nbformat": 4,
 "nbformat_minor": 5
}
