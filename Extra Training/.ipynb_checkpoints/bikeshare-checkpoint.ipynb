{
 "cells": [
  {
   "cell_type": "code",
   "execution_count": 1,
   "id": "854e9e9d-897c-4a92-970e-460e95a564b7",
   "metadata": {},
   "outputs": [],
   "source": [
    "import pandas as pd"
   ]
  },
  {
   "cell_type": "code",
   "execution_count": 5,
   "id": "43773868-7264-46db-9d8c-b7db73907617",
   "metadata": {},
   "outputs": [],
   "source": [
    "df = pd.read_csv('bikeshare.csv')"
   ]
  },
  {
   "cell_type": "code",
   "execution_count": 6,
   "id": "cf430181-b3c7-41e4-9033-0996266d6df4",
   "metadata": {},
   "outputs": [
    {
     "data": {
      "text/html": [
       "<div>\n",
       "<style scoped>\n",
       "    .dataframe tbody tr th:only-of-type {\n",
       "        vertical-align: middle;\n",
       "    }\n",
       "\n",
       "    .dataframe tbody tr th {\n",
       "        vertical-align: top;\n",
       "    }\n",
       "\n",
       "    .dataframe thead th {\n",
       "        text-align: right;\n",
       "    }\n",
       "</style>\n",
       "<table border=\"1\" class=\"dataframe\">\n",
       "  <thead>\n",
       "    <tr style=\"text-align: right;\">\n",
       "      <th></th>\n",
       "      <th>instant</th>\n",
       "      <th>dteday</th>\n",
       "      <th>season</th>\n",
       "      <th>yr</th>\n",
       "      <th>mnth</th>\n",
       "      <th>hr</th>\n",
       "      <th>holiday</th>\n",
       "      <th>weekday</th>\n",
       "      <th>workingday</th>\n",
       "      <th>weathersit</th>\n",
       "      <th>temp</th>\n",
       "      <th>atemp</th>\n",
       "      <th>hum</th>\n",
       "      <th>windspeed</th>\n",
       "      <th>casual</th>\n",
       "      <th>registered</th>\n",
       "      <th>cnt</th>\n",
       "    </tr>\n",
       "  </thead>\n",
       "  <tbody>\n",
       "    <tr>\n",
       "      <th>0</th>\n",
       "      <td>1</td>\n",
       "      <td>2011-01-01</td>\n",
       "      <td>1</td>\n",
       "      <td>0</td>\n",
       "      <td>1</td>\n",
       "      <td>0</td>\n",
       "      <td>0</td>\n",
       "      <td>6</td>\n",
       "      <td>0</td>\n",
       "      <td>1</td>\n",
       "      <td>0.24</td>\n",
       "      <td>0.2879</td>\n",
       "      <td>0.81</td>\n",
       "      <td>0.0</td>\n",
       "      <td>3</td>\n",
       "      <td>13</td>\n",
       "      <td>16</td>\n",
       "    </tr>\n",
       "    <tr>\n",
       "      <th>1</th>\n",
       "      <td>2</td>\n",
       "      <td>2011-01-01</td>\n",
       "      <td>1</td>\n",
       "      <td>0</td>\n",
       "      <td>1</td>\n",
       "      <td>1</td>\n",
       "      <td>0</td>\n",
       "      <td>6</td>\n",
       "      <td>0</td>\n",
       "      <td>1</td>\n",
       "      <td>0.22</td>\n",
       "      <td>0.2727</td>\n",
       "      <td>0.80</td>\n",
       "      <td>0.0</td>\n",
       "      <td>8</td>\n",
       "      <td>32</td>\n",
       "      <td>40</td>\n",
       "    </tr>\n",
       "    <tr>\n",
       "      <th>2</th>\n",
       "      <td>3</td>\n",
       "      <td>2011-01-01</td>\n",
       "      <td>1</td>\n",
       "      <td>0</td>\n",
       "      <td>1</td>\n",
       "      <td>2</td>\n",
       "      <td>0</td>\n",
       "      <td>6</td>\n",
       "      <td>0</td>\n",
       "      <td>1</td>\n",
       "      <td>0.22</td>\n",
       "      <td>0.2727</td>\n",
       "      <td>0.80</td>\n",
       "      <td>0.0</td>\n",
       "      <td>5</td>\n",
       "      <td>27</td>\n",
       "      <td>32</td>\n",
       "    </tr>\n",
       "    <tr>\n",
       "      <th>3</th>\n",
       "      <td>4</td>\n",
       "      <td>2011-01-01</td>\n",
       "      <td>1</td>\n",
       "      <td>0</td>\n",
       "      <td>1</td>\n",
       "      <td>3</td>\n",
       "      <td>0</td>\n",
       "      <td>6</td>\n",
       "      <td>0</td>\n",
       "      <td>1</td>\n",
       "      <td>0.24</td>\n",
       "      <td>0.2879</td>\n",
       "      <td>0.75</td>\n",
       "      <td>0.0</td>\n",
       "      <td>3</td>\n",
       "      <td>10</td>\n",
       "      <td>13</td>\n",
       "    </tr>\n",
       "    <tr>\n",
       "      <th>4</th>\n",
       "      <td>5</td>\n",
       "      <td>2011-01-01</td>\n",
       "      <td>1</td>\n",
       "      <td>0</td>\n",
       "      <td>1</td>\n",
       "      <td>4</td>\n",
       "      <td>0</td>\n",
       "      <td>6</td>\n",
       "      <td>0</td>\n",
       "      <td>1</td>\n",
       "      <td>0.24</td>\n",
       "      <td>0.2879</td>\n",
       "      <td>0.75</td>\n",
       "      <td>0.0</td>\n",
       "      <td>0</td>\n",
       "      <td>1</td>\n",
       "      <td>1</td>\n",
       "    </tr>\n",
       "  </tbody>\n",
       "</table>\n",
       "</div>"
      ],
      "text/plain": [
       "   instant      dteday  season  yr  mnth  hr  holiday  weekday  workingday  \\\n",
       "0        1  2011-01-01       1   0     1   0        0        6           0   \n",
       "1        2  2011-01-01       1   0     1   1        0        6           0   \n",
       "2        3  2011-01-01       1   0     1   2        0        6           0   \n",
       "3        4  2011-01-01       1   0     1   3        0        6           0   \n",
       "4        5  2011-01-01       1   0     1   4        0        6           0   \n",
       "\n",
       "   weathersit  temp   atemp   hum  windspeed  casual  registered  cnt  \n",
       "0           1  0.24  0.2879  0.81        0.0       3          13   16  \n",
       "1           1  0.22  0.2727  0.80        0.0       8          32   40  \n",
       "2           1  0.22  0.2727  0.80        0.0       5          27   32  \n",
       "3           1  0.24  0.2879  0.75        0.0       3          10   13  \n",
       "4           1  0.24  0.2879  0.75        0.0       0           1    1  "
      ]
     },
     "execution_count": 6,
     "metadata": {},
     "output_type": "execute_result"
    }
   ],
   "source": [
    "df.head()"
   ]
  },
  {
   "cell_type": "code",
   "execution_count": 7,
   "id": "765b1c9f-b232-4f31-ad2d-c25df98e5a2c",
   "metadata": {},
   "outputs": [],
   "source": [
    "# create a list\n",
    "color = ['red', 'blue', 'yellow']"
   ]
  },
  {
   "cell_type": "code",
   "execution_count": 8,
   "id": "93d95049-029f-43e0-8212-dd3c8185731d",
   "metadata": {},
   "outputs": [
    {
     "data": {
      "text/plain": [
       "['red', 'blue', 'yellow']"
      ]
     },
     "execution_count": 8,
     "metadata": {},
     "output_type": "execute_result"
    }
   ],
   "source": [
    "color"
   ]
  },
  {
   "cell_type": "code",
   "execution_count": 9,
   "id": "d6e036b5-bec3-4f87-a8f2-105f0f5a243d",
   "metadata": {},
   "outputs": [],
   "source": [
    "# add value to a list\n",
    "color.append('green')"
   ]
  },
  {
   "cell_type": "code",
   "execution_count": 10,
   "id": "ab9e4b88-fad8-4875-b54f-0f753f1a3e72",
   "metadata": {},
   "outputs": [
    {
     "data": {
      "text/plain": [
       "['red', 'blue', 'yellow', 'green']"
      ]
     },
     "execution_count": 10,
     "metadata": {},
     "output_type": "execute_result"
    }
   ],
   "source": [
    "color"
   ]
  },
  {
   "cell_type": "code",
   "execution_count": 11,
   "id": "92127abd-1bb1-4639-ba4c-3e4bb9855b95",
   "metadata": {},
   "outputs": [],
   "source": [
    "# replace a vlaue inside a list\n",
    "color[1] = 'orange'"
   ]
  },
  {
   "cell_type": "code",
   "execution_count": 12,
   "id": "5dacc41d-04ca-4858-a5ba-93bf11309b46",
   "metadata": {},
   "outputs": [
    {
     "data": {
      "text/plain": [
       "['red', 'orange', 'yellow', 'green']"
      ]
     },
     "execution_count": 12,
     "metadata": {},
     "output_type": "execute_result"
    }
   ],
   "source": [
    "color"
   ]
  },
  {
   "cell_type": "code",
   "execution_count": 14,
   "id": "8c98b07b-4225-4bab-9fa1-1950dc34c6a3",
   "metadata": {},
   "outputs": [
    {
     "data": {
      "text/plain": [
       "['red', 'orange', 'blue', 'blue', 'yellow', 'green']"
      ]
     },
     "execution_count": 14,
     "metadata": {},
     "output_type": "execute_result"
    }
   ],
   "source": [
    "# add value inside a list at specific location\n",
    "color.insert(2, 'blue')\n",
    "color"
   ]
  },
  {
   "cell_type": "code",
   "execution_count": 15,
   "id": "a38b0e37-c83d-4102-be10-e638afd5294d",
   "metadata": {},
   "outputs": [],
   "source": [
    "fruit = ['apple', 'grape']"
   ]
  },
  {
   "cell_type": "code",
   "execution_count": 16,
   "id": "07bbecaa-49b3-41c3-a063-88dfa7c01e40",
   "metadata": {},
   "outputs": [
    {
     "data": {
      "text/plain": [
       "['red', 'orange', 'blue', 'blue', 'yellow', 'green', 'apple', 'grape']"
      ]
     },
     "execution_count": 16,
     "metadata": {},
     "output_type": "execute_result"
    }
   ],
   "source": [
    "color + fruit"
   ]
  },
  {
   "cell_type": "code",
   "execution_count": 17,
   "id": "59d1dce9-01e4-41a4-b09c-6d6d3cde5b13",
   "metadata": {},
   "outputs": [
    {
     "data": {
      "text/plain": [
       "['red', 'blue', 'blue', 'yellow', 'green']"
      ]
     },
     "execution_count": 17,
     "metadata": {},
     "output_type": "execute_result"
    }
   ],
   "source": [
    "color.pop(1)\n",
    "color"
   ]
  },
  {
   "cell_type": "code",
   "execution_count": 18,
   "id": "7b203edd-795f-408c-89c5-ac06cf5f8a52",
   "metadata": {},
   "outputs": [
    {
     "data": {
      "text/plain": [
       "['red', 'orange', 'blue', 'blue', 'yellow', 'green']"
      ]
     },
     "execution_count": 18,
     "metadata": {},
     "output_type": "execute_result"
    }
   ],
   "source": [
    "color.insert(1, 'orange')\n",
    "color"
   ]
  },
  {
   "cell_type": "code",
   "execution_count": 20,
   "id": "af02d941-d099-4970-b9b8-d92a7bd562a4",
   "metadata": {},
   "outputs": [
    {
     "name": "stdout",
     "output_type": "stream",
     "text": [
      "{'fish', 'cat', 'dog'}\n"
     ]
    }
   ],
   "source": [
    "animal = ['dog', 'cat', 'fish', 'cat', 'dog']\n",
    "animal = set(animal)\n",
    "print(animal)"
   ]
  },
  {
   "cell_type": "code",
   "execution_count": 22,
   "id": "1859a8dc-71a0-44ed-9d72-018ee62a321a",
   "metadata": {},
   "outputs": [
    {
     "data": {
      "text/plain": [
       "{'ant', 'bird', 'cat', 'dog', 'fish', 'fox'}"
      ]
     },
     "execution_count": 22,
     "metadata": {},
     "output_type": "execute_result"
    }
   ],
   "source": [
    "animal.add('bird')\n",
    "animal.add('fox',)\n",
    "animal.add('ant')\n",
    "animal"
   ]
  },
  {
   "cell_type": "code",
   "execution_count": 23,
   "id": "5fceb0a0-1d6b-427d-beb6-d5157f704641",
   "metadata": {},
   "outputs": [
    {
     "data": {
      "text/plain": [
       "{'ant', 'bird', 'cat', 'fish', 'fox'}"
      ]
     },
     "execution_count": 23,
     "metadata": {},
     "output_type": "execute_result"
    }
   ],
   "source": [
    "animal.discard('dog')\n",
    "animal"
   ]
  },
  {
   "cell_type": "code",
   "execution_count": 24,
   "id": "270fc01a-cfc0-4891-a80d-6c04791fd097",
   "metadata": {},
   "outputs": [
    {
     "data": {
      "text/plain": [
       "{'Fri', 'Mon', 'Sat', 'Sun', 'Thurs', 'Tue', 'Wed'}"
      ]
     },
     "execution_count": 24,
     "metadata": {},
     "output_type": "execute_result"
    }
   ],
   "source": [
    "a_store = set(['Mon', 'Tue', 'Fri', 'Sat', 'Sun'])\n",
    "b_store = set(['Mon', 'Tue', 'Wed', 'Thurs', 'Fri'])\n",
    "\n",
    "# Set of all values\n",
    "a_store.union(b_store)"
   ]
  },
  {
   "cell_type": "code",
   "execution_count": 25,
   "id": "a06309f3-9056-41f3-b47c-4e023e82df7c",
   "metadata": {},
   "outputs": [
    {
     "data": {
      "text/plain": [
       "{'Fri', 'Mon', 'Tue'}"
      ]
     },
     "execution_count": 25,
     "metadata": {},
     "output_type": "execute_result"
    }
   ],
   "source": [
    "# Set of all overlapping\n",
    "a_store.intersection(b_store)"
   ]
  },
  {
   "cell_type": "code",
   "execution_count": 26,
   "id": "b4f4d376-7f81-4531-a4e2-5d8eb664fb3c",
   "metadata": {},
   "outputs": [
    {
     "data": {
      "text/plain": [
       "{'Sat', 'Sun'}"
      ]
     },
     "execution_count": 26,
     "metadata": {},
     "output_type": "execute_result"
    }
   ],
   "source": [
    "# Find the differece as to the target\n",
    "a_store.difference(b_store)"
   ]
  },
  {
   "cell_type": "code",
   "execution_count": 27,
   "id": "4bc9e1ee-d95b-47ee-a955-88163480a90c",
   "metadata": {},
   "outputs": [
    {
     "data": {
      "text/plain": [
       "{'Thurs', 'Wed'}"
      ]
     },
     "execution_count": 27,
     "metadata": {},
     "output_type": "execute_result"
    }
   ],
   "source": [
    "b_store.difference(a_store)"
   ]
  },
  {
   "cell_type": "markdown",
   "id": "bbeba23f-482b-44a1-8e57-297dfe606e2d",
   "metadata": {},
   "source": [
    "## Tuple"
   ]
  },
  {
   "cell_type": "code",
   "execution_count": 28,
   "id": "a8225782-a79d-4b67-8af8-60914ec619b1",
   "metadata": {},
   "outputs": [],
   "source": [
    "vegie = ['carrot', 'coconut', 'onion', 'lettuce']\n",
    "monday_price =['$5', '$4.5', '$3']"
   ]
  },
  {
   "cell_type": "code",
   "execution_count": 29,
   "id": "cc780cb8-9fa0-432a-8573-c936b22bab7c",
   "metadata": {},
   "outputs": [
    {
     "data": {
      "text/plain": [
       "('carrot', 'coconut', 'onion', 'lettuce')"
      ]
     },
     "execution_count": 29,
     "metadata": {},
     "output_type": "execute_result"
    }
   ],
   "source": [
    "# create a tuple\n",
    "tuple(vegie)"
   ]
  },
  {
   "cell_type": "code",
   "execution_count": 30,
   "id": "587d036a-e983-416a-b8ef-7ecb5ead5a1f",
   "metadata": {},
   "outputs": [],
   "source": [
    "# zip 2 lists together\n",
    "zip_object = zip(vegie, monday_price)"
   ]
  },
  {
   "cell_type": "code",
   "execution_count": 31,
   "id": "5008e399-8eec-4634-890d-cc98fce1d58b",
   "metadata": {},
   "outputs": [],
   "source": [
    "# unpack the zip into a list\n",
    "store = list(zip_object)"
   ]
  },
  {
   "cell_type": "code",
   "execution_count": 32,
   "id": "91ab2f7d-c4c3-4977-819b-68d0373e789a",
   "metadata": {},
   "outputs": [
    {
     "data": {
      "text/plain": [
       "[('carrot', '$5'), ('coconut', '$4.5'), ('onion', '$3')]"
      ]
     },
     "execution_count": 32,
     "metadata": {},
     "output_type": "execute_result"
    }
   ],
   "source": [
    "# a list of tuples\n",
    "store"
   ]
  },
  {
   "cell_type": "code",
   "execution_count": 33,
   "id": "c17c630b-39f3-4def-bcf1-b391864557c2",
   "metadata": {},
   "outputs": [
    {
     "data": {
      "text/plain": [
       "('carrot', '$5')"
      ]
     },
     "execution_count": 33,
     "metadata": {},
     "output_type": "execute_result"
    }
   ],
   "source": [
    "# selecting tuple by list indicies\n",
    "store[0]"
   ]
  },
  {
   "cell_type": "code",
   "execution_count": 34,
   "id": "5afb20f1-eada-4856-87d5-e0946a1404e7",
   "metadata": {},
   "outputs": [
    {
     "data": {
      "text/plain": [
       "('coconut', '$4.5')"
      ]
     },
     "execution_count": 34,
     "metadata": {},
     "output_type": "execute_result"
    }
   ],
   "source": [
    "store[1]"
   ]
  },
  {
   "cell_type": "code",
   "execution_count": 35,
   "id": "4f61e0d8-0fc6-46f9-9078-09d1e3479beb",
   "metadata": {},
   "outputs": [
    {
     "data": {
      "text/plain": [
       "('onion', '$3')"
      ]
     },
     "execution_count": 35,
     "metadata": {},
     "output_type": "execute_result"
    }
   ],
   "source": [
    "store[2]"
   ]
  },
  {
   "cell_type": "markdown",
   "id": "56c9d4c1-2ccb-4109-bf0b-b4a911203127",
   "metadata": {},
   "source": [
    "## Dictionaries"
   ]
  },
  {
   "cell_type": "code",
   "execution_count": 37,
   "id": "a11c18d6-9c7b-4d77-abe9-ad8e2c70f2d1",
   "metadata": {},
   "outputs": [],
   "source": [
    "female_dict = {1: 'EMMA',  2: 'LEAH', 3: 'SARAH', 4: 'SOPHIA', 5: 'Scarlett'}"
   ]
  },
  {
   "cell_type": "code",
   "execution_count": 38,
   "id": "24447ed7-0be8-4cef-a182-6cf77cf4af87",
   "metadata": {},
   "outputs": [
    {
     "data": {
      "text/plain": [
       "dict"
      ]
     },
     "execution_count": 38,
     "metadata": {},
     "output_type": "execute_result"
    }
   ],
   "source": [
    "type(female_dict)"
   ]
  },
  {
   "cell_type": "code",
   "execution_count": 39,
   "id": "68e81cff-fb77-4479-88a5-5b8cacc9a24e",
   "metadata": {},
   "outputs": [
    {
     "data": {
      "text/plain": [
       "dict_keys([1, 2, 3, 4, 5])"
      ]
     },
     "execution_count": 39,
     "metadata": {},
     "output_type": "execute_result"
    }
   ],
   "source": [
    "# get dict's key\n",
    "female_dict.keys()"
   ]
  },
  {
   "cell_type": "code",
   "execution_count": 40,
   "id": "123eed8f-a618-4117-b98f-6730e9a2b669",
   "metadata": {},
   "outputs": [
    {
     "data": {
      "text/plain": [
       "dict_values(['EMMA', 'LEAH', 'SARAH', 'SOPHIA', 'Scarlett'])"
      ]
     },
     "execution_count": 40,
     "metadata": {},
     "output_type": "execute_result"
    }
   ],
   "source": [
    "# get dict's values\n",
    "female_dict.values()"
   ]
  },
  {
   "cell_type": "code",
   "execution_count": 41,
   "id": "a7490dca-a7d5-4d54-b4b7-b1467adfee98",
   "metadata": {},
   "outputs": [
    {
     "data": {
      "text/plain": [
       "dict_items([(1, 'EMMA'), (2, 'LEAH'), (3, 'SARAH'), (4, 'SOPHIA'), (5, 'Scarlett')])"
      ]
     },
     "execution_count": 41,
     "metadata": {},
     "output_type": "execute_result"
    }
   ],
   "source": [
    "# get dict's items\n",
    "female_dict.items()"
   ]
  },
  {
   "cell_type": "code",
   "execution_count": 42,
   "id": "ef094b69-b52c-4211-b890-669119dda1d1",
   "metadata": {},
   "outputs": [],
   "source": [
    "# define a get rank function to find out a rank of a name (user's input)\n",
    "def get_rank(names):\n",
    "    for key, value in female_dict.items():\n",
    "        if value == names:\n",
    "            print(key)"
   ]
  },
  {
   "cell_type": "code",
   "execution_count": 43,
   "id": "5de3bf3f-c2d8-447d-bbe4-aa73443e5e57",
   "metadata": {},
   "outputs": [
    {
     "name": "stdout",
     "output_type": "stream",
     "text": [
      "4\n"
     ]
    }
   ],
   "source": [
    "# test the function\n",
    "get_rank('SOPHIA')"
   ]
  },
  {
   "cell_type": "code",
   "execution_count": 44,
   "id": "0b6c32c4-6642-419c-a28d-b9f17c542057",
   "metadata": {},
   "outputs": [],
   "source": [
    "week_name_dict = {0: 'Monday', 1: 'Tuesday', 2: 'Wendesday', 3: 'Thursday', 4: 'Friday', 5: 'Saturday', 6: 'Sunday'}"
   ]
  },
  {
   "cell_type": "code",
   "execution_count": 45,
   "id": "401e32b3-1853-4941-8538-35ace56d6219",
   "metadata": {},
   "outputs": [],
   "source": [
    "df['week_name'] = df.weekday.map(week_name_dict)"
   ]
  },
  {
   "cell_type": "code",
   "execution_count": 46,
   "id": "29d4c508-fe6b-4a77-92da-27f763f5a59c",
   "metadata": {},
   "outputs": [
    {
     "data": {
      "text/html": [
       "<div>\n",
       "<style scoped>\n",
       "    .dataframe tbody tr th:only-of-type {\n",
       "        vertical-align: middle;\n",
       "    }\n",
       "\n",
       "    .dataframe tbody tr th {\n",
       "        vertical-align: top;\n",
       "    }\n",
       "\n",
       "    .dataframe thead th {\n",
       "        text-align: right;\n",
       "    }\n",
       "</style>\n",
       "<table border=\"1\" class=\"dataframe\">\n",
       "  <thead>\n",
       "    <tr style=\"text-align: right;\">\n",
       "      <th></th>\n",
       "      <th>instant</th>\n",
       "      <th>dteday</th>\n",
       "      <th>season</th>\n",
       "      <th>yr</th>\n",
       "      <th>mnth</th>\n",
       "      <th>hr</th>\n",
       "      <th>holiday</th>\n",
       "      <th>weekday</th>\n",
       "      <th>workingday</th>\n",
       "      <th>weathersit</th>\n",
       "      <th>temp</th>\n",
       "      <th>atemp</th>\n",
       "      <th>hum</th>\n",
       "      <th>windspeed</th>\n",
       "      <th>casual</th>\n",
       "      <th>registered</th>\n",
       "      <th>cnt</th>\n",
       "      <th>week_name</th>\n",
       "    </tr>\n",
       "  </thead>\n",
       "  <tbody>\n",
       "    <tr>\n",
       "      <th>10812</th>\n",
       "      <td>10813</td>\n",
       "      <td>2012-03-31</td>\n",
       "      <td>2</td>\n",
       "      <td>1</td>\n",
       "      <td>3</td>\n",
       "      <td>15</td>\n",
       "      <td>0</td>\n",
       "      <td>6</td>\n",
       "      <td>0</td>\n",
       "      <td>2</td>\n",
       "      <td>0.52</td>\n",
       "      <td>0.5000</td>\n",
       "      <td>0.59</td>\n",
       "      <td>0.2836</td>\n",
       "      <td>275</td>\n",
       "      <td>330</td>\n",
       "      <td>605</td>\n",
       "      <td>Sunday</td>\n",
       "    </tr>\n",
       "    <tr>\n",
       "      <th>11441</th>\n",
       "      <td>11442</td>\n",
       "      <td>2012-04-26</td>\n",
       "      <td>2</td>\n",
       "      <td>1</td>\n",
       "      <td>4</td>\n",
       "      <td>22</td>\n",
       "      <td>0</td>\n",
       "      <td>4</td>\n",
       "      <td>1</td>\n",
       "      <td>1</td>\n",
       "      <td>0.52</td>\n",
       "      <td>0.5000</td>\n",
       "      <td>0.83</td>\n",
       "      <td>0.1642</td>\n",
       "      <td>20</td>\n",
       "      <td>163</td>\n",
       "      <td>183</td>\n",
       "      <td>Friday</td>\n",
       "    </tr>\n",
       "    <tr>\n",
       "      <th>6004</th>\n",
       "      <td>6005</td>\n",
       "      <td>2011-09-12</td>\n",
       "      <td>3</td>\n",
       "      <td>0</td>\n",
       "      <td>9</td>\n",
       "      <td>18</td>\n",
       "      <td>0</td>\n",
       "      <td>1</td>\n",
       "      <td>1</td>\n",
       "      <td>1</td>\n",
       "      <td>0.70</td>\n",
       "      <td>0.6515</td>\n",
       "      <td>0.54</td>\n",
       "      <td>0.1940</td>\n",
       "      <td>56</td>\n",
       "      <td>515</td>\n",
       "      <td>571</td>\n",
       "      <td>Tuesday</td>\n",
       "    </tr>\n",
       "    <tr>\n",
       "      <th>13384</th>\n",
       "      <td>13385</td>\n",
       "      <td>2012-07-16</td>\n",
       "      <td>3</td>\n",
       "      <td>1</td>\n",
       "      <td>7</td>\n",
       "      <td>21</td>\n",
       "      <td>0</td>\n",
       "      <td>1</td>\n",
       "      <td>1</td>\n",
       "      <td>1</td>\n",
       "      <td>0.76</td>\n",
       "      <td>0.7273</td>\n",
       "      <td>0.66</td>\n",
       "      <td>0.1343</td>\n",
       "      <td>45</td>\n",
       "      <td>283</td>\n",
       "      <td>328</td>\n",
       "      <td>Tuesday</td>\n",
       "    </tr>\n",
       "    <tr>\n",
       "      <th>9285</th>\n",
       "      <td>9286</td>\n",
       "      <td>2012-01-27</td>\n",
       "      <td>1</td>\n",
       "      <td>1</td>\n",
       "      <td>1</td>\n",
       "      <td>19</td>\n",
       "      <td>0</td>\n",
       "      <td>5</td>\n",
       "      <td>1</td>\n",
       "      <td>1</td>\n",
       "      <td>0.36</td>\n",
       "      <td>0.3333</td>\n",
       "      <td>0.50</td>\n",
       "      <td>0.3881</td>\n",
       "      <td>10</td>\n",
       "      <td>241</td>\n",
       "      <td>251</td>\n",
       "      <td>Saturday</td>\n",
       "    </tr>\n",
       "    <tr>\n",
       "      <th>11799</th>\n",
       "      <td>11800</td>\n",
       "      <td>2012-05-11</td>\n",
       "      <td>2</td>\n",
       "      <td>1</td>\n",
       "      <td>5</td>\n",
       "      <td>20</td>\n",
       "      <td>0</td>\n",
       "      <td>5</td>\n",
       "      <td>1</td>\n",
       "      <td>1</td>\n",
       "      <td>0.62</td>\n",
       "      <td>0.6061</td>\n",
       "      <td>0.25</td>\n",
       "      <td>0.1343</td>\n",
       "      <td>64</td>\n",
       "      <td>277</td>\n",
       "      <td>341</td>\n",
       "      <td>Saturday</td>\n",
       "    </tr>\n",
       "    <tr>\n",
       "      <th>3773</th>\n",
       "      <td>3774</td>\n",
       "      <td>2011-06-11</td>\n",
       "      <td>2</td>\n",
       "      <td>0</td>\n",
       "      <td>6</td>\n",
       "      <td>3</td>\n",
       "      <td>0</td>\n",
       "      <td>6</td>\n",
       "      <td>0</td>\n",
       "      <td>1</td>\n",
       "      <td>0.68</td>\n",
       "      <td>0.6364</td>\n",
       "      <td>0.83</td>\n",
       "      <td>0.0896</td>\n",
       "      <td>10</td>\n",
       "      <td>18</td>\n",
       "      <td>28</td>\n",
       "      <td>Sunday</td>\n",
       "    </tr>\n",
       "    <tr>\n",
       "      <th>13671</th>\n",
       "      <td>13672</td>\n",
       "      <td>2012-07-28</td>\n",
       "      <td>3</td>\n",
       "      <td>1</td>\n",
       "      <td>7</td>\n",
       "      <td>20</td>\n",
       "      <td>0</td>\n",
       "      <td>6</td>\n",
       "      <td>0</td>\n",
       "      <td>1</td>\n",
       "      <td>0.66</td>\n",
       "      <td>0.6061</td>\n",
       "      <td>0.83</td>\n",
       "      <td>0.2239</td>\n",
       "      <td>79</td>\n",
       "      <td>154</td>\n",
       "      <td>233</td>\n",
       "      <td>Sunday</td>\n",
       "    </tr>\n",
       "    <tr>\n",
       "      <th>16458</th>\n",
       "      <td>16459</td>\n",
       "      <td>2012-11-23</td>\n",
       "      <td>4</td>\n",
       "      <td>1</td>\n",
       "      <td>11</td>\n",
       "      <td>12</td>\n",
       "      <td>0</td>\n",
       "      <td>5</td>\n",
       "      <td>1</td>\n",
       "      <td>1</td>\n",
       "      <td>0.44</td>\n",
       "      <td>0.4394</td>\n",
       "      <td>0.38</td>\n",
       "      <td>0.2537</td>\n",
       "      <td>186</td>\n",
       "      <td>193</td>\n",
       "      <td>379</td>\n",
       "      <td>Saturday</td>\n",
       "    </tr>\n",
       "    <tr>\n",
       "      <th>9294</th>\n",
       "      <td>9295</td>\n",
       "      <td>2012-01-28</td>\n",
       "      <td>1</td>\n",
       "      <td>1</td>\n",
       "      <td>1</td>\n",
       "      <td>4</td>\n",
       "      <td>0</td>\n",
       "      <td>6</td>\n",
       "      <td>0</td>\n",
       "      <td>1</td>\n",
       "      <td>0.26</td>\n",
       "      <td>0.2576</td>\n",
       "      <td>0.60</td>\n",
       "      <td>0.1642</td>\n",
       "      <td>0</td>\n",
       "      <td>8</td>\n",
       "      <td>8</td>\n",
       "      <td>Sunday</td>\n",
       "    </tr>\n",
       "    <tr>\n",
       "      <th>5335</th>\n",
       "      <td>5336</td>\n",
       "      <td>2011-08-15</td>\n",
       "      <td>3</td>\n",
       "      <td>0</td>\n",
       "      <td>8</td>\n",
       "      <td>5</td>\n",
       "      <td>0</td>\n",
       "      <td>1</td>\n",
       "      <td>1</td>\n",
       "      <td>2</td>\n",
       "      <td>0.60</td>\n",
       "      <td>0.5455</td>\n",
       "      <td>0.88</td>\n",
       "      <td>0.1940</td>\n",
       "      <td>3</td>\n",
       "      <td>14</td>\n",
       "      <td>17</td>\n",
       "      <td>Tuesday</td>\n",
       "    </tr>\n",
       "    <tr>\n",
       "      <th>14628</th>\n",
       "      <td>14629</td>\n",
       "      <td>2012-09-06</td>\n",
       "      <td>3</td>\n",
       "      <td>1</td>\n",
       "      <td>9</td>\n",
       "      <td>17</td>\n",
       "      <td>0</td>\n",
       "      <td>4</td>\n",
       "      <td>1</td>\n",
       "      <td>1</td>\n",
       "      <td>0.74</td>\n",
       "      <td>0.6970</td>\n",
       "      <td>0.70</td>\n",
       "      <td>0.2537</td>\n",
       "      <td>67</td>\n",
       "      <td>741</td>\n",
       "      <td>808</td>\n",
       "      <td>Friday</td>\n",
       "    </tr>\n",
       "    <tr>\n",
       "      <th>7625</th>\n",
       "      <td>7626</td>\n",
       "      <td>2011-11-19</td>\n",
       "      <td>4</td>\n",
       "      <td>0</td>\n",
       "      <td>11</td>\n",
       "      <td>8</td>\n",
       "      <td>0</td>\n",
       "      <td>6</td>\n",
       "      <td>0</td>\n",
       "      <td>1</td>\n",
       "      <td>0.26</td>\n",
       "      <td>0.2424</td>\n",
       "      <td>0.56</td>\n",
       "      <td>0.2537</td>\n",
       "      <td>12</td>\n",
       "      <td>80</td>\n",
       "      <td>92</td>\n",
       "      <td>Sunday</td>\n",
       "    </tr>\n",
       "    <tr>\n",
       "      <th>12920</th>\n",
       "      <td>12921</td>\n",
       "      <td>2012-06-27</td>\n",
       "      <td>3</td>\n",
       "      <td>1</td>\n",
       "      <td>6</td>\n",
       "      <td>13</td>\n",
       "      <td>0</td>\n",
       "      <td>3</td>\n",
       "      <td>1</td>\n",
       "      <td>1</td>\n",
       "      <td>0.80</td>\n",
       "      <td>0.6970</td>\n",
       "      <td>0.27</td>\n",
       "      <td>0.3284</td>\n",
       "      <td>77</td>\n",
       "      <td>244</td>\n",
       "      <td>321</td>\n",
       "      <td>Thursday</td>\n",
       "    </tr>\n",
       "    <tr>\n",
       "      <th>14575</th>\n",
       "      <td>14576</td>\n",
       "      <td>2012-09-04</td>\n",
       "      <td>3</td>\n",
       "      <td>1</td>\n",
       "      <td>9</td>\n",
       "      <td>12</td>\n",
       "      <td>0</td>\n",
       "      <td>2</td>\n",
       "      <td>1</td>\n",
       "      <td>1</td>\n",
       "      <td>0.76</td>\n",
       "      <td>0.7273</td>\n",
       "      <td>0.70</td>\n",
       "      <td>0.2836</td>\n",
       "      <td>54</td>\n",
       "      <td>233</td>\n",
       "      <td>287</td>\n",
       "      <td>Wendesday</td>\n",
       "    </tr>\n",
       "    <tr>\n",
       "      <th>11229</th>\n",
       "      <td>11230</td>\n",
       "      <td>2012-04-18</td>\n",
       "      <td>2</td>\n",
       "      <td>1</td>\n",
       "      <td>4</td>\n",
       "      <td>2</td>\n",
       "      <td>0</td>\n",
       "      <td>3</td>\n",
       "      <td>1</td>\n",
       "      <td>2</td>\n",
       "      <td>0.50</td>\n",
       "      <td>0.4848</td>\n",
       "      <td>0.42</td>\n",
       "      <td>0.1940</td>\n",
       "      <td>1</td>\n",
       "      <td>8</td>\n",
       "      <td>9</td>\n",
       "      <td>Thursday</td>\n",
       "    </tr>\n",
       "    <tr>\n",
       "      <th>16656</th>\n",
       "      <td>16657</td>\n",
       "      <td>2012-12-01</td>\n",
       "      <td>4</td>\n",
       "      <td>1</td>\n",
       "      <td>12</td>\n",
       "      <td>19</td>\n",
       "      <td>0</td>\n",
       "      <td>6</td>\n",
       "      <td>0</td>\n",
       "      <td>2</td>\n",
       "      <td>0.32</td>\n",
       "      <td>0.3485</td>\n",
       "      <td>0.81</td>\n",
       "      <td>0.0000</td>\n",
       "      <td>30</td>\n",
       "      <td>219</td>\n",
       "      <td>249</td>\n",
       "      <td>Sunday</td>\n",
       "    </tr>\n",
       "    <tr>\n",
       "      <th>14766</th>\n",
       "      <td>14767</td>\n",
       "      <td>2012-09-12</td>\n",
       "      <td>3</td>\n",
       "      <td>1</td>\n",
       "      <td>9</td>\n",
       "      <td>11</td>\n",
       "      <td>0</td>\n",
       "      <td>3</td>\n",
       "      <td>1</td>\n",
       "      <td>1</td>\n",
       "      <td>0.66</td>\n",
       "      <td>0.6212</td>\n",
       "      <td>0.50</td>\n",
       "      <td>0.1940</td>\n",
       "      <td>51</td>\n",
       "      <td>181</td>\n",
       "      <td>232</td>\n",
       "      <td>Thursday</td>\n",
       "    </tr>\n",
       "    <tr>\n",
       "      <th>5968</th>\n",
       "      <td>5969</td>\n",
       "      <td>2011-09-11</td>\n",
       "      <td>3</td>\n",
       "      <td>0</td>\n",
       "      <td>9</td>\n",
       "      <td>5</td>\n",
       "      <td>0</td>\n",
       "      <td>0</td>\n",
       "      <td>0</td>\n",
       "      <td>1</td>\n",
       "      <td>0.60</td>\n",
       "      <td>0.5606</td>\n",
       "      <td>0.83</td>\n",
       "      <td>0.1343</td>\n",
       "      <td>15</td>\n",
       "      <td>24</td>\n",
       "      <td>39</td>\n",
       "      <td>Monday</td>\n",
       "    </tr>\n",
       "    <tr>\n",
       "      <th>9646</th>\n",
       "      <td>9647</td>\n",
       "      <td>2012-02-11</td>\n",
       "      <td>1</td>\n",
       "      <td>1</td>\n",
       "      <td>2</td>\n",
       "      <td>21</td>\n",
       "      <td>0</td>\n",
       "      <td>6</td>\n",
       "      <td>0</td>\n",
       "      <td>1</td>\n",
       "      <td>0.14</td>\n",
       "      <td>0.0758</td>\n",
       "      <td>0.43</td>\n",
       "      <td>0.6418</td>\n",
       "      <td>5</td>\n",
       "      <td>43</td>\n",
       "      <td>48</td>\n",
       "      <td>Sunday</td>\n",
       "    </tr>\n",
       "    <tr>\n",
       "      <th>10282</th>\n",
       "      <td>10283</td>\n",
       "      <td>2012-03-09</td>\n",
       "      <td>1</td>\n",
       "      <td>1</td>\n",
       "      <td>3</td>\n",
       "      <td>12</td>\n",
       "      <td>0</td>\n",
       "      <td>5</td>\n",
       "      <td>1</td>\n",
       "      <td>1</td>\n",
       "      <td>0.36</td>\n",
       "      <td>0.3333</td>\n",
       "      <td>0.34</td>\n",
       "      <td>0.4179</td>\n",
       "      <td>27</td>\n",
       "      <td>174</td>\n",
       "      <td>201</td>\n",
       "      <td>Saturday</td>\n",
       "    </tr>\n",
       "    <tr>\n",
       "      <th>12893</th>\n",
       "      <td>12894</td>\n",
       "      <td>2012-06-26</td>\n",
       "      <td>3</td>\n",
       "      <td>1</td>\n",
       "      <td>6</td>\n",
       "      <td>10</td>\n",
       "      <td>0</td>\n",
       "      <td>2</td>\n",
       "      <td>1</td>\n",
       "      <td>1</td>\n",
       "      <td>0.62</td>\n",
       "      <td>0.6212</td>\n",
       "      <td>0.41</td>\n",
       "      <td>0.3582</td>\n",
       "      <td>37</td>\n",
       "      <td>153</td>\n",
       "      <td>190</td>\n",
       "      <td>Wendesday</td>\n",
       "    </tr>\n",
       "    <tr>\n",
       "      <th>7910</th>\n",
       "      <td>7911</td>\n",
       "      <td>2011-12-01</td>\n",
       "      <td>4</td>\n",
       "      <td>0</td>\n",
       "      <td>12</td>\n",
       "      <td>6</td>\n",
       "      <td>0</td>\n",
       "      <td>4</td>\n",
       "      <td>1</td>\n",
       "      <td>1</td>\n",
       "      <td>0.24</td>\n",
       "      <td>0.2121</td>\n",
       "      <td>0.65</td>\n",
       "      <td>0.2836</td>\n",
       "      <td>5</td>\n",
       "      <td>92</td>\n",
       "      <td>97</td>\n",
       "      <td>Friday</td>\n",
       "    </tr>\n",
       "    <tr>\n",
       "      <th>4006</th>\n",
       "      <td>4007</td>\n",
       "      <td>2011-06-20</td>\n",
       "      <td>2</td>\n",
       "      <td>0</td>\n",
       "      <td>6</td>\n",
       "      <td>20</td>\n",
       "      <td>0</td>\n",
       "      <td>1</td>\n",
       "      <td>1</td>\n",
       "      <td>1</td>\n",
       "      <td>0.66</td>\n",
       "      <td>0.6212</td>\n",
       "      <td>0.69</td>\n",
       "      <td>0.2239</td>\n",
       "      <td>52</td>\n",
       "      <td>264</td>\n",
       "      <td>316</td>\n",
       "      <td>Tuesday</td>\n",
       "    </tr>\n",
       "    <tr>\n",
       "      <th>14982</th>\n",
       "      <td>14983</td>\n",
       "      <td>2012-09-21</td>\n",
       "      <td>3</td>\n",
       "      <td>1</td>\n",
       "      <td>9</td>\n",
       "      <td>11</td>\n",
       "      <td>0</td>\n",
       "      <td>5</td>\n",
       "      <td>1</td>\n",
       "      <td>1</td>\n",
       "      <td>0.66</td>\n",
       "      <td>0.6212</td>\n",
       "      <td>0.57</td>\n",
       "      <td>0.2239</td>\n",
       "      <td>79</td>\n",
       "      <td>242</td>\n",
       "      <td>321</td>\n",
       "      <td>Saturday</td>\n",
       "    </tr>\n",
       "    <tr>\n",
       "      <th>5958</th>\n",
       "      <td>5959</td>\n",
       "      <td>2011-09-10</td>\n",
       "      <td>3</td>\n",
       "      <td>0</td>\n",
       "      <td>9</td>\n",
       "      <td>19</td>\n",
       "      <td>0</td>\n",
       "      <td>6</td>\n",
       "      <td>0</td>\n",
       "      <td>1</td>\n",
       "      <td>0.70</td>\n",
       "      <td>0.6515</td>\n",
       "      <td>0.58</td>\n",
       "      <td>0.1343</td>\n",
       "      <td>101</td>\n",
       "      <td>214</td>\n",
       "      <td>315</td>\n",
       "      <td>Sunday</td>\n",
       "    </tr>\n",
       "    <tr>\n",
       "      <th>13122</th>\n",
       "      <td>13123</td>\n",
       "      <td>2012-07-05</td>\n",
       "      <td>3</td>\n",
       "      <td>1</td>\n",
       "      <td>7</td>\n",
       "      <td>23</td>\n",
       "      <td>0</td>\n",
       "      <td>4</td>\n",
       "      <td>1</td>\n",
       "      <td>1</td>\n",
       "      <td>0.80</td>\n",
       "      <td>0.7576</td>\n",
       "      <td>0.55</td>\n",
       "      <td>0.1642</td>\n",
       "      <td>32</td>\n",
       "      <td>99</td>\n",
       "      <td>131</td>\n",
       "      <td>Friday</td>\n",
       "    </tr>\n",
       "    <tr>\n",
       "      <th>9757</th>\n",
       "      <td>9758</td>\n",
       "      <td>2012-02-16</td>\n",
       "      <td>1</td>\n",
       "      <td>1</td>\n",
       "      <td>2</td>\n",
       "      <td>12</td>\n",
       "      <td>0</td>\n",
       "      <td>4</td>\n",
       "      <td>1</td>\n",
       "      <td>3</td>\n",
       "      <td>0.32</td>\n",
       "      <td>0.3333</td>\n",
       "      <td>0.76</td>\n",
       "      <td>0.0896</td>\n",
       "      <td>1</td>\n",
       "      <td>44</td>\n",
       "      <td>45</td>\n",
       "      <td>Friday</td>\n",
       "    </tr>\n",
       "    <tr>\n",
       "      <th>3869</th>\n",
       "      <td>3870</td>\n",
       "      <td>2011-06-15</td>\n",
       "      <td>2</td>\n",
       "      <td>0</td>\n",
       "      <td>6</td>\n",
       "      <td>3</td>\n",
       "      <td>0</td>\n",
       "      <td>3</td>\n",
       "      <td>1</td>\n",
       "      <td>1</td>\n",
       "      <td>0.50</td>\n",
       "      <td>0.4848</td>\n",
       "      <td>0.68</td>\n",
       "      <td>0.2537</td>\n",
       "      <td>0</td>\n",
       "      <td>1</td>\n",
       "      <td>1</td>\n",
       "      <td>Thursday</td>\n",
       "    </tr>\n",
       "    <tr>\n",
       "      <th>5574</th>\n",
       "      <td>5575</td>\n",
       "      <td>2011-08-25</td>\n",
       "      <td>3</td>\n",
       "      <td>0</td>\n",
       "      <td>8</td>\n",
       "      <td>4</td>\n",
       "      <td>0</td>\n",
       "      <td>4</td>\n",
       "      <td>1</td>\n",
       "      <td>1</td>\n",
       "      <td>0.66</td>\n",
       "      <td>0.6061</td>\n",
       "      <td>0.78</td>\n",
       "      <td>0.3881</td>\n",
       "      <td>1</td>\n",
       "      <td>6</td>\n",
       "      <td>7</td>\n",
       "      <td>Friday</td>\n",
       "    </tr>\n",
       "  </tbody>\n",
       "</table>\n",
       "</div>"
      ],
      "text/plain": [
       "       instant      dteday  season  yr  mnth  hr  holiday  weekday  \\\n",
       "10812    10813  2012-03-31       2   1     3  15        0        6   \n",
       "11441    11442  2012-04-26       2   1     4  22        0        4   \n",
       "6004      6005  2011-09-12       3   0     9  18        0        1   \n",
       "13384    13385  2012-07-16       3   1     7  21        0        1   \n",
       "9285      9286  2012-01-27       1   1     1  19        0        5   \n",
       "11799    11800  2012-05-11       2   1     5  20        0        5   \n",
       "3773      3774  2011-06-11       2   0     6   3        0        6   \n",
       "13671    13672  2012-07-28       3   1     7  20        0        6   \n",
       "16458    16459  2012-11-23       4   1    11  12        0        5   \n",
       "9294      9295  2012-01-28       1   1     1   4        0        6   \n",
       "5335      5336  2011-08-15       3   0     8   5        0        1   \n",
       "14628    14629  2012-09-06       3   1     9  17        0        4   \n",
       "7625      7626  2011-11-19       4   0    11   8        0        6   \n",
       "12920    12921  2012-06-27       3   1     6  13        0        3   \n",
       "14575    14576  2012-09-04       3   1     9  12        0        2   \n",
       "11229    11230  2012-04-18       2   1     4   2        0        3   \n",
       "16656    16657  2012-12-01       4   1    12  19        0        6   \n",
       "14766    14767  2012-09-12       3   1     9  11        0        3   \n",
       "5968      5969  2011-09-11       3   0     9   5        0        0   \n",
       "9646      9647  2012-02-11       1   1     2  21        0        6   \n",
       "10282    10283  2012-03-09       1   1     3  12        0        5   \n",
       "12893    12894  2012-06-26       3   1     6  10        0        2   \n",
       "7910      7911  2011-12-01       4   0    12   6        0        4   \n",
       "4006      4007  2011-06-20       2   0     6  20        0        1   \n",
       "14982    14983  2012-09-21       3   1     9  11        0        5   \n",
       "5958      5959  2011-09-10       3   0     9  19        0        6   \n",
       "13122    13123  2012-07-05       3   1     7  23        0        4   \n",
       "9757      9758  2012-02-16       1   1     2  12        0        4   \n",
       "3869      3870  2011-06-15       2   0     6   3        0        3   \n",
       "5574      5575  2011-08-25       3   0     8   4        0        4   \n",
       "\n",
       "       workingday  weathersit  temp   atemp   hum  windspeed  casual  \\\n",
       "10812           0           2  0.52  0.5000  0.59     0.2836     275   \n",
       "11441           1           1  0.52  0.5000  0.83     0.1642      20   \n",
       "6004            1           1  0.70  0.6515  0.54     0.1940      56   \n",
       "13384           1           1  0.76  0.7273  0.66     0.1343      45   \n",
       "9285            1           1  0.36  0.3333  0.50     0.3881      10   \n",
       "11799           1           1  0.62  0.6061  0.25     0.1343      64   \n",
       "3773            0           1  0.68  0.6364  0.83     0.0896      10   \n",
       "13671           0           1  0.66  0.6061  0.83     0.2239      79   \n",
       "16458           1           1  0.44  0.4394  0.38     0.2537     186   \n",
       "9294            0           1  0.26  0.2576  0.60     0.1642       0   \n",
       "5335            1           2  0.60  0.5455  0.88     0.1940       3   \n",
       "14628           1           1  0.74  0.6970  0.70     0.2537      67   \n",
       "7625            0           1  0.26  0.2424  0.56     0.2537      12   \n",
       "12920           1           1  0.80  0.6970  0.27     0.3284      77   \n",
       "14575           1           1  0.76  0.7273  0.70     0.2836      54   \n",
       "11229           1           2  0.50  0.4848  0.42     0.1940       1   \n",
       "16656           0           2  0.32  0.3485  0.81     0.0000      30   \n",
       "14766           1           1  0.66  0.6212  0.50     0.1940      51   \n",
       "5968            0           1  0.60  0.5606  0.83     0.1343      15   \n",
       "9646            0           1  0.14  0.0758  0.43     0.6418       5   \n",
       "10282           1           1  0.36  0.3333  0.34     0.4179      27   \n",
       "12893           1           1  0.62  0.6212  0.41     0.3582      37   \n",
       "7910            1           1  0.24  0.2121  0.65     0.2836       5   \n",
       "4006            1           1  0.66  0.6212  0.69     0.2239      52   \n",
       "14982           1           1  0.66  0.6212  0.57     0.2239      79   \n",
       "5958            0           1  0.70  0.6515  0.58     0.1343     101   \n",
       "13122           1           1  0.80  0.7576  0.55     0.1642      32   \n",
       "9757            1           3  0.32  0.3333  0.76     0.0896       1   \n",
       "3869            1           1  0.50  0.4848  0.68     0.2537       0   \n",
       "5574            1           1  0.66  0.6061  0.78     0.3881       1   \n",
       "\n",
       "       registered  cnt  week_name  \n",
       "10812         330  605     Sunday  \n",
       "11441         163  183     Friday  \n",
       "6004          515  571    Tuesday  \n",
       "13384         283  328    Tuesday  \n",
       "9285          241  251   Saturday  \n",
       "11799         277  341   Saturday  \n",
       "3773           18   28     Sunday  \n",
       "13671         154  233     Sunday  \n",
       "16458         193  379   Saturday  \n",
       "9294            8    8     Sunday  \n",
       "5335           14   17    Tuesday  \n",
       "14628         741  808     Friday  \n",
       "7625           80   92     Sunday  \n",
       "12920         244  321   Thursday  \n",
       "14575         233  287  Wendesday  \n",
       "11229           8    9   Thursday  \n",
       "16656         219  249     Sunday  \n",
       "14766         181  232   Thursday  \n",
       "5968           24   39     Monday  \n",
       "9646           43   48     Sunday  \n",
       "10282         174  201   Saturday  \n",
       "12893         153  190  Wendesday  \n",
       "7910           92   97     Friday  \n",
       "4006          264  316    Tuesday  \n",
       "14982         242  321   Saturday  \n",
       "5958          214  315     Sunday  \n",
       "13122          99  131     Friday  \n",
       "9757           44   45     Friday  \n",
       "3869            1    1   Thursday  \n",
       "5574            6    7     Friday  "
      ]
     },
     "execution_count": 46,
     "metadata": {},
     "output_type": "execute_result"
    }
   ],
   "source": [
    "df.sample(30)"
   ]
  },
  {
   "cell_type": "code",
   "execution_count": null,
   "id": "8b03ecea-ebd2-48b8-adc3-bd82c485e212",
   "metadata": {},
   "outputs": [],
   "source": []
  }
 ],
 "metadata": {
  "kernelspec": {
   "display_name": "Python 3 (ipykernel)",
   "language": "python",
   "name": "python3"
  },
  "language_info": {
   "codemirror_mode": {
    "name": "ipython",
    "version": 3
   },
   "file_extension": ".py",
   "mimetype": "text/x-python",
   "name": "python",
   "nbconvert_exporter": "python",
   "pygments_lexer": "ipython3",
   "version": "3.8.12"
  }
 },
 "nbformat": 4,
 "nbformat_minor": 5
}
