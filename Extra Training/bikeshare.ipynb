{
 "cells": [
  {
   "cell_type": "code",
   "execution_count": 3,
   "id": "854e9e9d-897c-4a92-970e-460e95a564b7",
   "metadata": {},
   "outputs": [],
   "source": [
    "import pandas as pd"
   ]
  },
  {
   "cell_type": "code",
   "execution_count": 4,
   "id": "43773868-7264-46db-9d8c-b7db73907617",
   "metadata": {},
   "outputs": [],
   "source": [
    "df = pd.read_csv('bikeshare.csv')"
   ]
  },
  {
   "cell_type": "code",
   "execution_count": 6,
   "id": "cf430181-b3c7-41e4-9033-0996266d6df4",
   "metadata": {},
   "outputs": [
    {
     "data": {
      "text/html": [
       "<div>\n",
       "<style scoped>\n",
       "    .dataframe tbody tr th:only-of-type {\n",
       "        vertical-align: middle;\n",
       "    }\n",
       "\n",
       "    .dataframe tbody tr th {\n",
       "        vertical-align: top;\n",
       "    }\n",
       "\n",
       "    .dataframe thead th {\n",
       "        text-align: right;\n",
       "    }\n",
       "</style>\n",
       "<table border=\"1\" class=\"dataframe\">\n",
       "  <thead>\n",
       "    <tr style=\"text-align: right;\">\n",
       "      <th></th>\n",
       "      <th>instant</th>\n",
       "      <th>dteday</th>\n",
       "      <th>season</th>\n",
       "      <th>yr</th>\n",
       "      <th>mnth</th>\n",
       "      <th>hr</th>\n",
       "      <th>holiday</th>\n",
       "      <th>weekday</th>\n",
       "      <th>workingday</th>\n",
       "      <th>weathersit</th>\n",
       "      <th>temp</th>\n",
       "      <th>atemp</th>\n",
       "      <th>hum</th>\n",
       "      <th>windspeed</th>\n",
       "      <th>casual</th>\n",
       "      <th>registered</th>\n",
       "      <th>cnt</th>\n",
       "    </tr>\n",
       "  </thead>\n",
       "  <tbody>\n",
       "    <tr>\n",
       "      <th>0</th>\n",
       "      <td>1</td>\n",
       "      <td>2011-01-01</td>\n",
       "      <td>1</td>\n",
       "      <td>0</td>\n",
       "      <td>1</td>\n",
       "      <td>0</td>\n",
       "      <td>0</td>\n",
       "      <td>6</td>\n",
       "      <td>0</td>\n",
       "      <td>1</td>\n",
       "      <td>0.24</td>\n",
       "      <td>0.2879</td>\n",
       "      <td>0.81</td>\n",
       "      <td>0.0</td>\n",
       "      <td>3</td>\n",
       "      <td>13</td>\n",
       "      <td>16</td>\n",
       "    </tr>\n",
       "    <tr>\n",
       "      <th>1</th>\n",
       "      <td>2</td>\n",
       "      <td>2011-01-01</td>\n",
       "      <td>1</td>\n",
       "      <td>0</td>\n",
       "      <td>1</td>\n",
       "      <td>1</td>\n",
       "      <td>0</td>\n",
       "      <td>6</td>\n",
       "      <td>0</td>\n",
       "      <td>1</td>\n",
       "      <td>0.22</td>\n",
       "      <td>0.2727</td>\n",
       "      <td>0.80</td>\n",
       "      <td>0.0</td>\n",
       "      <td>8</td>\n",
       "      <td>32</td>\n",
       "      <td>40</td>\n",
       "    </tr>\n",
       "    <tr>\n",
       "      <th>2</th>\n",
       "      <td>3</td>\n",
       "      <td>2011-01-01</td>\n",
       "      <td>1</td>\n",
       "      <td>0</td>\n",
       "      <td>1</td>\n",
       "      <td>2</td>\n",
       "      <td>0</td>\n",
       "      <td>6</td>\n",
       "      <td>0</td>\n",
       "      <td>1</td>\n",
       "      <td>0.22</td>\n",
       "      <td>0.2727</td>\n",
       "      <td>0.80</td>\n",
       "      <td>0.0</td>\n",
       "      <td>5</td>\n",
       "      <td>27</td>\n",
       "      <td>32</td>\n",
       "    </tr>\n",
       "    <tr>\n",
       "      <th>3</th>\n",
       "      <td>4</td>\n",
       "      <td>2011-01-01</td>\n",
       "      <td>1</td>\n",
       "      <td>0</td>\n",
       "      <td>1</td>\n",
       "      <td>3</td>\n",
       "      <td>0</td>\n",
       "      <td>6</td>\n",
       "      <td>0</td>\n",
       "      <td>1</td>\n",
       "      <td>0.24</td>\n",
       "      <td>0.2879</td>\n",
       "      <td>0.75</td>\n",
       "      <td>0.0</td>\n",
       "      <td>3</td>\n",
       "      <td>10</td>\n",
       "      <td>13</td>\n",
       "    </tr>\n",
       "    <tr>\n",
       "      <th>4</th>\n",
       "      <td>5</td>\n",
       "      <td>2011-01-01</td>\n",
       "      <td>1</td>\n",
       "      <td>0</td>\n",
       "      <td>1</td>\n",
       "      <td>4</td>\n",
       "      <td>0</td>\n",
       "      <td>6</td>\n",
       "      <td>0</td>\n",
       "      <td>1</td>\n",
       "      <td>0.24</td>\n",
       "      <td>0.2879</td>\n",
       "      <td>0.75</td>\n",
       "      <td>0.0</td>\n",
       "      <td>0</td>\n",
       "      <td>1</td>\n",
       "      <td>1</td>\n",
       "    </tr>\n",
       "  </tbody>\n",
       "</table>\n",
       "</div>"
      ],
      "text/plain": [
       "   instant      dteday  season  yr  mnth  hr  holiday  weekday  workingday  \\\n",
       "0        1  2011-01-01       1   0     1   0        0        6           0   \n",
       "1        2  2011-01-01       1   0     1   1        0        6           0   \n",
       "2        3  2011-01-01       1   0     1   2        0        6           0   \n",
       "3        4  2011-01-01       1   0     1   3        0        6           0   \n",
       "4        5  2011-01-01       1   0     1   4        0        6           0   \n",
       "\n",
       "   weathersit  temp   atemp   hum  windspeed  casual  registered  cnt  \n",
       "0           1  0.24  0.2879  0.81        0.0       3          13   16  \n",
       "1           1  0.22  0.2727  0.80        0.0       8          32   40  \n",
       "2           1  0.22  0.2727  0.80        0.0       5          27   32  \n",
       "3           1  0.24  0.2879  0.75        0.0       3          10   13  \n",
       "4           1  0.24  0.2879  0.75        0.0       0           1    1  "
      ]
     },
     "execution_count": 6,
     "metadata": {},
     "output_type": "execute_result"
    }
   ],
   "source": [
    "df.head()"
   ]
  },
  {
   "cell_type": "markdown",
   "id": "65cc2d53-2b1b-4e22-abe2-e0a9c3c0c0cf",
   "metadata": {},
   "source": [
    "#### List"
   ]
  },
  {
   "cell_type": "code",
   "execution_count": 7,
   "id": "765b1c9f-b232-4f31-ad2d-c25df98e5a2c",
   "metadata": {},
   "outputs": [],
   "source": [
    "# create a list\n",
    "color = ['red', 'blue', 'yellow']"
   ]
  },
  {
   "cell_type": "code",
   "execution_count": 8,
   "id": "93d95049-029f-43e0-8212-dd3c8185731d",
   "metadata": {},
   "outputs": [
    {
     "data": {
      "text/plain": [
       "['red', 'blue', 'yellow']"
      ]
     },
     "execution_count": 8,
     "metadata": {},
     "output_type": "execute_result"
    }
   ],
   "source": [
    "color"
   ]
  },
  {
   "cell_type": "code",
   "execution_count": 9,
   "id": "d6e036b5-bec3-4f87-a8f2-105f0f5a243d",
   "metadata": {},
   "outputs": [],
   "source": [
    "# add value to a list\n",
    "color.append('green')"
   ]
  },
  {
   "cell_type": "code",
   "execution_count": 10,
   "id": "ab9e4b88-fad8-4875-b54f-0f753f1a3e72",
   "metadata": {},
   "outputs": [
    {
     "data": {
      "text/plain": [
       "['red', 'blue', 'yellow', 'green']"
      ]
     },
     "execution_count": 10,
     "metadata": {},
     "output_type": "execute_result"
    }
   ],
   "source": [
    "color"
   ]
  },
  {
   "cell_type": "code",
   "execution_count": 11,
   "id": "92127abd-1bb1-4639-ba4c-3e4bb9855b95",
   "metadata": {},
   "outputs": [],
   "source": [
    "# replace a vlaue inside a list\n",
    "color[1] = 'orange'"
   ]
  },
  {
   "cell_type": "code",
   "execution_count": 12,
   "id": "5dacc41d-04ca-4858-a5ba-93bf11309b46",
   "metadata": {},
   "outputs": [
    {
     "data": {
      "text/plain": [
       "['red', 'orange', 'yellow', 'green']"
      ]
     },
     "execution_count": 12,
     "metadata": {},
     "output_type": "execute_result"
    }
   ],
   "source": [
    "color"
   ]
  },
  {
   "cell_type": "code",
   "execution_count": 14,
   "id": "8c98b07b-4225-4bab-9fa1-1950dc34c6a3",
   "metadata": {},
   "outputs": [
    {
     "data": {
      "text/plain": [
       "['red', 'orange', 'blue', 'blue', 'yellow', 'green']"
      ]
     },
     "execution_count": 14,
     "metadata": {},
     "output_type": "execute_result"
    }
   ],
   "source": [
    "# add value inside a list at specific location\n",
    "color.insert(2, 'blue')\n",
    "color"
   ]
  },
  {
   "cell_type": "code",
   "execution_count": 15,
   "id": "a38b0e37-c83d-4102-be10-e638afd5294d",
   "metadata": {},
   "outputs": [],
   "source": [
    "fruit = ['apple', 'grape']"
   ]
  },
  {
   "cell_type": "code",
   "execution_count": 16,
   "id": "07bbecaa-49b3-41c3-a063-88dfa7c01e40",
   "metadata": {},
   "outputs": [
    {
     "data": {
      "text/plain": [
       "['red', 'orange', 'blue', 'blue', 'yellow', 'green', 'apple', 'grape']"
      ]
     },
     "execution_count": 16,
     "metadata": {},
     "output_type": "execute_result"
    }
   ],
   "source": [
    "color + fruit"
   ]
  },
  {
   "cell_type": "code",
   "execution_count": 17,
   "id": "59d1dce9-01e4-41a4-b09c-6d6d3cde5b13",
   "metadata": {},
   "outputs": [
    {
     "data": {
      "text/plain": [
       "['red', 'blue', 'blue', 'yellow', 'green']"
      ]
     },
     "execution_count": 17,
     "metadata": {},
     "output_type": "execute_result"
    }
   ],
   "source": [
    "color.pop(1)\n",
    "color"
   ]
  },
  {
   "cell_type": "code",
   "execution_count": 18,
   "id": "7b203edd-795f-408c-89c5-ac06cf5f8a52",
   "metadata": {},
   "outputs": [
    {
     "data": {
      "text/plain": [
       "['red', 'orange', 'blue', 'blue', 'yellow', 'green']"
      ]
     },
     "execution_count": 18,
     "metadata": {},
     "output_type": "execute_result"
    }
   ],
   "source": [
    "color.insert(1, 'orange')\n",
    "color"
   ]
  },
  {
   "cell_type": "markdown",
   "id": "a4326fc9-7237-4b28-b925-a3a02a12bead",
   "metadata": {},
   "source": [
    "### Set"
   ]
  },
  {
   "cell_type": "code",
   "execution_count": 20,
   "id": "af02d941-d099-4970-b9b8-d92a7bd562a4",
   "metadata": {},
   "outputs": [
    {
     "name": "stdout",
     "output_type": "stream",
     "text": [
      "{'fish', 'cat', 'dog'}\n"
     ]
    }
   ],
   "source": [
    "animal = ['dog', 'cat', 'fish', 'cat', 'dog']\n",
    "animal = set(animal)\n",
    "print(animal)"
   ]
  },
  {
   "cell_type": "code",
   "execution_count": 22,
   "id": "1859a8dc-71a0-44ed-9d72-018ee62a321a",
   "metadata": {},
   "outputs": [
    {
     "data": {
      "text/plain": [
       "{'ant', 'bird', 'cat', 'dog', 'fish', 'fox'}"
      ]
     },
     "execution_count": 22,
     "metadata": {},
     "output_type": "execute_result"
    }
   ],
   "source": [
    "animal.add('bird')\n",
    "animal.add('fox',)\n",
    "animal.add('ant')\n",
    "animal"
   ]
  },
  {
   "cell_type": "code",
   "execution_count": 23,
   "id": "5fceb0a0-1d6b-427d-beb6-d5157f704641",
   "metadata": {},
   "outputs": [
    {
     "data": {
      "text/plain": [
       "{'ant', 'bird', 'cat', 'fish', 'fox'}"
      ]
     },
     "execution_count": 23,
     "metadata": {},
     "output_type": "execute_result"
    }
   ],
   "source": [
    "animal.discard('dog')\n",
    "animal"
   ]
  },
  {
   "cell_type": "code",
   "execution_count": 24,
   "id": "270fc01a-cfc0-4891-a80d-6c04791fd097",
   "metadata": {},
   "outputs": [
    {
     "data": {
      "text/plain": [
       "{'Fri', 'Mon', 'Sat', 'Sun', 'Thurs', 'Tue', 'Wed'}"
      ]
     },
     "execution_count": 24,
     "metadata": {},
     "output_type": "execute_result"
    }
   ],
   "source": [
    "a_store = set(['Mon', 'Tue', 'Fri', 'Sat', 'Sun'])\n",
    "b_store = set(['Mon', 'Tue', 'Wed', 'Thurs', 'Fri'])\n",
    "\n",
    "# Set of all values\n",
    "a_store.union(b_store)"
   ]
  },
  {
   "cell_type": "code",
   "execution_count": 25,
   "id": "a06309f3-9056-41f3-b47c-4e023e82df7c",
   "metadata": {},
   "outputs": [
    {
     "data": {
      "text/plain": [
       "{'Fri', 'Mon', 'Tue'}"
      ]
     },
     "execution_count": 25,
     "metadata": {},
     "output_type": "execute_result"
    }
   ],
   "source": [
    "# Set of all overlapping\n",
    "a_store.intersection(b_store)"
   ]
  },
  {
   "cell_type": "code",
   "execution_count": 26,
   "id": "b4f4d376-7f81-4531-a4e2-5d8eb664fb3c",
   "metadata": {},
   "outputs": [
    {
     "data": {
      "text/plain": [
       "{'Sat', 'Sun'}"
      ]
     },
     "execution_count": 26,
     "metadata": {},
     "output_type": "execute_result"
    }
   ],
   "source": [
    "# Find the differece as to the target\n",
    "a_store.difference(b_store)"
   ]
  },
  {
   "cell_type": "code",
   "execution_count": 27,
   "id": "4bc9e1ee-d95b-47ee-a955-88163480a90c",
   "metadata": {},
   "outputs": [
    {
     "data": {
      "text/plain": [
       "{'Thurs', 'Wed'}"
      ]
     },
     "execution_count": 27,
     "metadata": {},
     "output_type": "execute_result"
    }
   ],
   "source": [
    "b_store.difference(a_store)"
   ]
  },
  {
   "cell_type": "markdown",
   "id": "bbeba23f-482b-44a1-8e57-297dfe606e2d",
   "metadata": {},
   "source": [
    "## Tuple"
   ]
  },
  {
   "cell_type": "code",
   "execution_count": 28,
   "id": "a8225782-a79d-4b67-8af8-60914ec619b1",
   "metadata": {},
   "outputs": [],
   "source": [
    "vegie = ['carrot', 'coconut', 'onion', 'lettuce']\n",
    "monday_price =['$5', '$4.5', '$3']"
   ]
  },
  {
   "cell_type": "code",
   "execution_count": 29,
   "id": "cc780cb8-9fa0-432a-8573-c936b22bab7c",
   "metadata": {},
   "outputs": [
    {
     "data": {
      "text/plain": [
       "('carrot', 'coconut', 'onion', 'lettuce')"
      ]
     },
     "execution_count": 29,
     "metadata": {},
     "output_type": "execute_result"
    }
   ],
   "source": [
    "# create a tuple\n",
    "tuple(vegie)"
   ]
  },
  {
   "cell_type": "code",
   "execution_count": 30,
   "id": "587d036a-e983-416a-b8ef-7ecb5ead5a1f",
   "metadata": {},
   "outputs": [],
   "source": [
    "# zip 2 lists together\n",
    "zip_object = zip(vegie, monday_price)"
   ]
  },
  {
   "cell_type": "code",
   "execution_count": 31,
   "id": "5008e399-8eec-4634-890d-cc98fce1d58b",
   "metadata": {},
   "outputs": [],
   "source": [
    "# unpack the zip into a list\n",
    "store = list(zip_object)"
   ]
  },
  {
   "cell_type": "code",
   "execution_count": 32,
   "id": "91ab2f7d-c4c3-4977-819b-68d0373e789a",
   "metadata": {},
   "outputs": [
    {
     "data": {
      "text/plain": [
       "[('carrot', '$5'), ('coconut', '$4.5'), ('onion', '$3')]"
      ]
     },
     "execution_count": 32,
     "metadata": {},
     "output_type": "execute_result"
    }
   ],
   "source": [
    "# a list of tuples\n",
    "store"
   ]
  },
  {
   "cell_type": "code",
   "execution_count": 33,
   "id": "c17c630b-39f3-4def-bcf1-b391864557c2",
   "metadata": {},
   "outputs": [
    {
     "data": {
      "text/plain": [
       "('carrot', '$5')"
      ]
     },
     "execution_count": 33,
     "metadata": {},
     "output_type": "execute_result"
    }
   ],
   "source": [
    "# selecting tuple by list indicies\n",
    "store[0]"
   ]
  },
  {
   "cell_type": "code",
   "execution_count": 34,
   "id": "5afb20f1-eada-4856-87d5-e0946a1404e7",
   "metadata": {},
   "outputs": [
    {
     "data": {
      "text/plain": [
       "('coconut', '$4.5')"
      ]
     },
     "execution_count": 34,
     "metadata": {},
     "output_type": "execute_result"
    }
   ],
   "source": [
    "store[1]"
   ]
  },
  {
   "cell_type": "code",
   "execution_count": 35,
   "id": "4f61e0d8-0fc6-46f9-9078-09d1e3479beb",
   "metadata": {},
   "outputs": [
    {
     "data": {
      "text/plain": [
       "('onion', '$3')"
      ]
     },
     "execution_count": 35,
     "metadata": {},
     "output_type": "execute_result"
    }
   ],
   "source": [
    "store[2]"
   ]
  },
  {
   "cell_type": "markdown",
   "id": "56c9d4c1-2ccb-4109-bf0b-b4a911203127",
   "metadata": {},
   "source": [
    "## Dictionaries"
   ]
  },
  {
   "cell_type": "code",
   "execution_count": 37,
   "id": "a11c18d6-9c7b-4d77-abe9-ad8e2c70f2d1",
   "metadata": {},
   "outputs": [],
   "source": [
    "female_dict = {1: 'EMMA',  2: 'LEAH', 3: 'SARAH', 4: 'SOPHIA', 5: 'Scarlett'}"
   ]
  },
  {
   "cell_type": "code",
   "execution_count": 38,
   "id": "24447ed7-0be8-4cef-a182-6cf77cf4af87",
   "metadata": {},
   "outputs": [
    {
     "data": {
      "text/plain": [
       "dict"
      ]
     },
     "execution_count": 38,
     "metadata": {},
     "output_type": "execute_result"
    }
   ],
   "source": [
    "type(female_dict)"
   ]
  },
  {
   "cell_type": "code",
   "execution_count": 39,
   "id": "68e81cff-fb77-4479-88a5-5b8cacc9a24e",
   "metadata": {},
   "outputs": [
    {
     "data": {
      "text/plain": [
       "dict_keys([1, 2, 3, 4, 5])"
      ]
     },
     "execution_count": 39,
     "metadata": {},
     "output_type": "execute_result"
    }
   ],
   "source": [
    "# get dict's key\n",
    "female_dict.keys()"
   ]
  },
  {
   "cell_type": "code",
   "execution_count": 40,
   "id": "123eed8f-a618-4117-b98f-6730e9a2b669",
   "metadata": {},
   "outputs": [
    {
     "data": {
      "text/plain": [
       "dict_values(['EMMA', 'LEAH', 'SARAH', 'SOPHIA', 'Scarlett'])"
      ]
     },
     "execution_count": 40,
     "metadata": {},
     "output_type": "execute_result"
    }
   ],
   "source": [
    "# get dict's values\n",
    "female_dict.values()"
   ]
  },
  {
   "cell_type": "code",
   "execution_count": 41,
   "id": "a7490dca-a7d5-4d54-b4b7-b1467adfee98",
   "metadata": {},
   "outputs": [
    {
     "data": {
      "text/plain": [
       "dict_items([(1, 'EMMA'), (2, 'LEAH'), (3, 'SARAH'), (4, 'SOPHIA'), (5, 'Scarlett')])"
      ]
     },
     "execution_count": 41,
     "metadata": {},
     "output_type": "execute_result"
    }
   ],
   "source": [
    "# get dict's items\n",
    "female_dict.items()"
   ]
  },
  {
   "cell_type": "code",
   "execution_count": 42,
   "id": "ef094b69-b52c-4211-b890-669119dda1d1",
   "metadata": {},
   "outputs": [],
   "source": [
    "# define a get rank function to find out a rank of a name (user's input)\n",
    "def get_rank(names):\n",
    "    for key, value in female_dict.items():\n",
    "        if value == names:\n",
    "            print(key)"
   ]
  },
  {
   "cell_type": "code",
   "execution_count": 43,
   "id": "5de3bf3f-c2d8-447d-bbe4-aa73443e5e57",
   "metadata": {},
   "outputs": [
    {
     "name": "stdout",
     "output_type": "stream",
     "text": [
      "4\n"
     ]
    }
   ],
   "source": [
    "# test the function\n",
    "get_rank('SOPHIA')"
   ]
  },
  {
   "cell_type": "code",
   "execution_count": 6,
   "id": "0b6c32c4-6642-419c-a28d-b9f17c542057",
   "metadata": {},
   "outputs": [],
   "source": [
    "week_name_dict = {0: 'Monday', 1: 'Tuesday', 2: 'Wendesday', 3: 'Thursday', 4: 'Friday', 5: 'Saturday', 6: 'Sunday'}"
   ]
  },
  {
   "cell_type": "code",
   "execution_count": 45,
   "id": "401e32b3-1853-4941-8538-35ace56d6219",
   "metadata": {},
   "outputs": [],
   "source": [
    "df['week_name'] = df.weekday.map(week_name_dict)"
   ]
  },
  {
   "cell_type": "code",
   "execution_count": 5,
   "id": "29d4c508-fe6b-4a77-92da-27f763f5a59c",
   "metadata": {},
   "outputs": [
    {
     "data": {
      "text/html": [
       "<div>\n",
       "<style scoped>\n",
       "    .dataframe tbody tr th:only-of-type {\n",
       "        vertical-align: middle;\n",
       "    }\n",
       "\n",
       "    .dataframe tbody tr th {\n",
       "        vertical-align: top;\n",
       "    }\n",
       "\n",
       "    .dataframe thead th {\n",
       "        text-align: right;\n",
       "    }\n",
       "</style>\n",
       "<table border=\"1\" class=\"dataframe\">\n",
       "  <thead>\n",
       "    <tr style=\"text-align: right;\">\n",
       "      <th></th>\n",
       "      <th>instant</th>\n",
       "      <th>dteday</th>\n",
       "      <th>season</th>\n",
       "      <th>yr</th>\n",
       "      <th>mnth</th>\n",
       "      <th>hr</th>\n",
       "      <th>holiday</th>\n",
       "      <th>weekday</th>\n",
       "      <th>workingday</th>\n",
       "      <th>weathersit</th>\n",
       "      <th>temp</th>\n",
       "      <th>atemp</th>\n",
       "      <th>hum</th>\n",
       "      <th>windspeed</th>\n",
       "      <th>casual</th>\n",
       "      <th>registered</th>\n",
       "      <th>cnt</th>\n",
       "    </tr>\n",
       "  </thead>\n",
       "  <tbody>\n",
       "    <tr>\n",
       "      <th>1693</th>\n",
       "      <td>1694</td>\n",
       "      <td>2011-03-16</td>\n",
       "      <td>1</td>\n",
       "      <td>0</td>\n",
       "      <td>3</td>\n",
       "      <td>5</td>\n",
       "      <td>0</td>\n",
       "      <td>3</td>\n",
       "      <td>1</td>\n",
       "      <td>2</td>\n",
       "      <td>0.30</td>\n",
       "      <td>0.3182</td>\n",
       "      <td>0.93</td>\n",
       "      <td>0.1045</td>\n",
       "      <td>0</td>\n",
       "      <td>3</td>\n",
       "      <td>3</td>\n",
       "    </tr>\n",
       "    <tr>\n",
       "      <th>12848</th>\n",
       "      <td>12849</td>\n",
       "      <td>2012-06-24</td>\n",
       "      <td>3</td>\n",
       "      <td>1</td>\n",
       "      <td>6</td>\n",
       "      <td>13</td>\n",
       "      <td>0</td>\n",
       "      <td>0</td>\n",
       "      <td>0</td>\n",
       "      <td>1</td>\n",
       "      <td>0.80</td>\n",
       "      <td>0.6970</td>\n",
       "      <td>0.33</td>\n",
       "      <td>0.2836</td>\n",
       "      <td>237</td>\n",
       "      <td>348</td>\n",
       "      <td>585</td>\n",
       "    </tr>\n",
       "    <tr>\n",
       "      <th>15465</th>\n",
       "      <td>15466</td>\n",
       "      <td>2012-10-11</td>\n",
       "      <td>4</td>\n",
       "      <td>1</td>\n",
       "      <td>10</td>\n",
       "      <td>14</td>\n",
       "      <td>0</td>\n",
       "      <td>4</td>\n",
       "      <td>1</td>\n",
       "      <td>1</td>\n",
       "      <td>0.52</td>\n",
       "      <td>0.5000</td>\n",
       "      <td>0.32</td>\n",
       "      <td>0.0896</td>\n",
       "      <td>78</td>\n",
       "      <td>270</td>\n",
       "      <td>348</td>\n",
       "    </tr>\n",
       "    <tr>\n",
       "      <th>14990</th>\n",
       "      <td>14991</td>\n",
       "      <td>2012-09-21</td>\n",
       "      <td>3</td>\n",
       "      <td>1</td>\n",
       "      <td>9</td>\n",
       "      <td>19</td>\n",
       "      <td>0</td>\n",
       "      <td>5</td>\n",
       "      <td>1</td>\n",
       "      <td>1</td>\n",
       "      <td>0.64</td>\n",
       "      <td>0.6061</td>\n",
       "      <td>0.65</td>\n",
       "      <td>0.2537</td>\n",
       "      <td>95</td>\n",
       "      <td>493</td>\n",
       "      <td>588</td>\n",
       "    </tr>\n",
       "    <tr>\n",
       "      <th>15671</th>\n",
       "      <td>15672</td>\n",
       "      <td>2012-10-20</td>\n",
       "      <td>4</td>\n",
       "      <td>1</td>\n",
       "      <td>10</td>\n",
       "      <td>4</td>\n",
       "      <td>0</td>\n",
       "      <td>6</td>\n",
       "      <td>0</td>\n",
       "      <td>1</td>\n",
       "      <td>0.44</td>\n",
       "      <td>0.4394</td>\n",
       "      <td>0.72</td>\n",
       "      <td>0.0000</td>\n",
       "      <td>9</td>\n",
       "      <td>9</td>\n",
       "      <td>18</td>\n",
       "    </tr>\n",
       "    <tr>\n",
       "      <th>3616</th>\n",
       "      <td>3617</td>\n",
       "      <td>2011-06-04</td>\n",
       "      <td>2</td>\n",
       "      <td>0</td>\n",
       "      <td>6</td>\n",
       "      <td>14</td>\n",
       "      <td>0</td>\n",
       "      <td>6</td>\n",
       "      <td>0</td>\n",
       "      <td>1</td>\n",
       "      <td>0.74</td>\n",
       "      <td>0.6515</td>\n",
       "      <td>0.33</td>\n",
       "      <td>0.2239</td>\n",
       "      <td>193</td>\n",
       "      <td>258</td>\n",
       "      <td>451</td>\n",
       "    </tr>\n",
       "    <tr>\n",
       "      <th>12882</th>\n",
       "      <td>12883</td>\n",
       "      <td>2012-06-25</td>\n",
       "      <td>3</td>\n",
       "      <td>1</td>\n",
       "      <td>6</td>\n",
       "      <td>23</td>\n",
       "      <td>0</td>\n",
       "      <td>1</td>\n",
       "      <td>1</td>\n",
       "      <td>1</td>\n",
       "      <td>0.64</td>\n",
       "      <td>0.6212</td>\n",
       "      <td>0.33</td>\n",
       "      <td>0.3284</td>\n",
       "      <td>15</td>\n",
       "      <td>88</td>\n",
       "      <td>103</td>\n",
       "    </tr>\n",
       "    <tr>\n",
       "      <th>16649</th>\n",
       "      <td>16650</td>\n",
       "      <td>2012-12-01</td>\n",
       "      <td>4</td>\n",
       "      <td>1</td>\n",
       "      <td>12</td>\n",
       "      <td>12</td>\n",
       "      <td>0</td>\n",
       "      <td>6</td>\n",
       "      <td>0</td>\n",
       "      <td>2</td>\n",
       "      <td>0.32</td>\n",
       "      <td>0.3333</td>\n",
       "      <td>0.81</td>\n",
       "      <td>0.0896</td>\n",
       "      <td>119</td>\n",
       "      <td>327</td>\n",
       "      <td>446</td>\n",
       "    </tr>\n",
       "    <tr>\n",
       "      <th>10977</th>\n",
       "      <td>10978</td>\n",
       "      <td>2012-04-07</td>\n",
       "      <td>2</td>\n",
       "      <td>1</td>\n",
       "      <td>4</td>\n",
       "      <td>13</td>\n",
       "      <td>0</td>\n",
       "      <td>6</td>\n",
       "      <td>0</td>\n",
       "      <td>1</td>\n",
       "      <td>0.50</td>\n",
       "      <td>0.4848</td>\n",
       "      <td>0.22</td>\n",
       "      <td>0.1940</td>\n",
       "      <td>355</td>\n",
       "      <td>288</td>\n",
       "      <td>643</td>\n",
       "    </tr>\n",
       "    <tr>\n",
       "      <th>992</th>\n",
       "      <td>993</td>\n",
       "      <td>2011-02-14</td>\n",
       "      <td>1</td>\n",
       "      <td>0</td>\n",
       "      <td>2</td>\n",
       "      <td>0</td>\n",
       "      <td>0</td>\n",
       "      <td>1</td>\n",
       "      <td>1</td>\n",
       "      <td>1</td>\n",
       "      <td>0.38</td>\n",
       "      <td>0.3939</td>\n",
       "      <td>0.37</td>\n",
       "      <td>0.3582</td>\n",
       "      <td>3</td>\n",
       "      <td>8</td>\n",
       "      <td>11</td>\n",
       "    </tr>\n",
       "  </tbody>\n",
       "</table>\n",
       "</div>"
      ],
      "text/plain": [
       "       instant      dteday  season  yr  mnth  hr  holiday  weekday  \\\n",
       "1693      1694  2011-03-16       1   0     3   5        0        3   \n",
       "12848    12849  2012-06-24       3   1     6  13        0        0   \n",
       "15465    15466  2012-10-11       4   1    10  14        0        4   \n",
       "14990    14991  2012-09-21       3   1     9  19        0        5   \n",
       "15671    15672  2012-10-20       4   1    10   4        0        6   \n",
       "3616      3617  2011-06-04       2   0     6  14        0        6   \n",
       "12882    12883  2012-06-25       3   1     6  23        0        1   \n",
       "16649    16650  2012-12-01       4   1    12  12        0        6   \n",
       "10977    10978  2012-04-07       2   1     4  13        0        6   \n",
       "992        993  2011-02-14       1   0     2   0        0        1   \n",
       "\n",
       "       workingday  weathersit  temp   atemp   hum  windspeed  casual  \\\n",
       "1693            1           2  0.30  0.3182  0.93     0.1045       0   \n",
       "12848           0           1  0.80  0.6970  0.33     0.2836     237   \n",
       "15465           1           1  0.52  0.5000  0.32     0.0896      78   \n",
       "14990           1           1  0.64  0.6061  0.65     0.2537      95   \n",
       "15671           0           1  0.44  0.4394  0.72     0.0000       9   \n",
       "3616            0           1  0.74  0.6515  0.33     0.2239     193   \n",
       "12882           1           1  0.64  0.6212  0.33     0.3284      15   \n",
       "16649           0           2  0.32  0.3333  0.81     0.0896     119   \n",
       "10977           0           1  0.50  0.4848  0.22     0.1940     355   \n",
       "992             1           1  0.38  0.3939  0.37     0.3582       3   \n",
       "\n",
       "       registered  cnt  \n",
       "1693            3    3  \n",
       "12848         348  585  \n",
       "15465         270  348  \n",
       "14990         493  588  \n",
       "15671           9   18  \n",
       "3616          258  451  \n",
       "12882          88  103  \n",
       "16649         327  446  \n",
       "10977         288  643  \n",
       "992             8   11  "
      ]
     },
     "execution_count": 5,
     "metadata": {},
     "output_type": "execute_result"
    }
   ],
   "source": [
    "df.sample(10)"
   ]
  },
  {
   "cell_type": "code",
   "execution_count": 7,
   "id": "8b03ecea-ebd2-48b8-adc3-bd82c485e212",
   "metadata": {},
   "outputs": [],
   "source": [
    "df['week_name'] = df.weekday.map(week_name_dict)"
   ]
  },
  {
   "cell_type": "code",
   "execution_count": 8,
   "id": "8d2c8010-415c-45fa-9762-673cd0db5084",
   "metadata": {},
   "outputs": [
    {
     "data": {
      "text/html": [
       "<div>\n",
       "<style scoped>\n",
       "    .dataframe tbody tr th:only-of-type {\n",
       "        vertical-align: middle;\n",
       "    }\n",
       "\n",
       "    .dataframe tbody tr th {\n",
       "        vertical-align: top;\n",
       "    }\n",
       "\n",
       "    .dataframe thead th {\n",
       "        text-align: right;\n",
       "    }\n",
       "</style>\n",
       "<table border=\"1\" class=\"dataframe\">\n",
       "  <thead>\n",
       "    <tr style=\"text-align: right;\">\n",
       "      <th></th>\n",
       "      <th>instant</th>\n",
       "      <th>dteday</th>\n",
       "      <th>season</th>\n",
       "      <th>yr</th>\n",
       "      <th>mnth</th>\n",
       "      <th>hr</th>\n",
       "      <th>holiday</th>\n",
       "      <th>weekday</th>\n",
       "      <th>workingday</th>\n",
       "      <th>weathersit</th>\n",
       "      <th>temp</th>\n",
       "      <th>atemp</th>\n",
       "      <th>hum</th>\n",
       "      <th>windspeed</th>\n",
       "      <th>casual</th>\n",
       "      <th>registered</th>\n",
       "      <th>cnt</th>\n",
       "      <th>week_name</th>\n",
       "    </tr>\n",
       "  </thead>\n",
       "  <tbody>\n",
       "    <tr>\n",
       "      <th>3300</th>\n",
       "      <td>3301</td>\n",
       "      <td>2011-05-22</td>\n",
       "      <td>2</td>\n",
       "      <td>0</td>\n",
       "      <td>5</td>\n",
       "      <td>10</td>\n",
       "      <td>0</td>\n",
       "      <td>0</td>\n",
       "      <td>0</td>\n",
       "      <td>1</td>\n",
       "      <td>0.64</td>\n",
       "      <td>0.6061</td>\n",
       "      <td>0.65</td>\n",
       "      <td>0.1343</td>\n",
       "      <td>135</td>\n",
       "      <td>170</td>\n",
       "      <td>305</td>\n",
       "      <td>Monday</td>\n",
       "    </tr>\n",
       "    <tr>\n",
       "      <th>8835</th>\n",
       "      <td>8836</td>\n",
       "      <td>2012-01-08</td>\n",
       "      <td>1</td>\n",
       "      <td>1</td>\n",
       "      <td>1</td>\n",
       "      <td>23</td>\n",
       "      <td>0</td>\n",
       "      <td>0</td>\n",
       "      <td>0</td>\n",
       "      <td>1</td>\n",
       "      <td>0.26</td>\n",
       "      <td>0.2424</td>\n",
       "      <td>0.56</td>\n",
       "      <td>0.2537</td>\n",
       "      <td>0</td>\n",
       "      <td>30</td>\n",
       "      <td>30</td>\n",
       "      <td>Monday</td>\n",
       "    </tr>\n",
       "    <tr>\n",
       "      <th>2670</th>\n",
       "      <td>2671</td>\n",
       "      <td>2011-04-26</td>\n",
       "      <td>2</td>\n",
       "      <td>0</td>\n",
       "      <td>4</td>\n",
       "      <td>4</td>\n",
       "      <td>0</td>\n",
       "      <td>2</td>\n",
       "      <td>1</td>\n",
       "      <td>1</td>\n",
       "      <td>0.56</td>\n",
       "      <td>0.5303</td>\n",
       "      <td>0.83</td>\n",
       "      <td>0.2537</td>\n",
       "      <td>2</td>\n",
       "      <td>4</td>\n",
       "      <td>6</td>\n",
       "      <td>Wendesday</td>\n",
       "    </tr>\n",
       "    <tr>\n",
       "      <th>14310</th>\n",
       "      <td>14311</td>\n",
       "      <td>2012-08-24</td>\n",
       "      <td>3</td>\n",
       "      <td>1</td>\n",
       "      <td>8</td>\n",
       "      <td>11</td>\n",
       "      <td>0</td>\n",
       "      <td>5</td>\n",
       "      <td>1</td>\n",
       "      <td>2</td>\n",
       "      <td>0.76</td>\n",
       "      <td>0.6818</td>\n",
       "      <td>0.48</td>\n",
       "      <td>0.1045</td>\n",
       "      <td>69</td>\n",
       "      <td>212</td>\n",
       "      <td>281</td>\n",
       "      <td>Saturday</td>\n",
       "    </tr>\n",
       "    <tr>\n",
       "      <th>8102</th>\n",
       "      <td>8103</td>\n",
       "      <td>2011-12-09</td>\n",
       "      <td>4</td>\n",
       "      <td>0</td>\n",
       "      <td>12</td>\n",
       "      <td>6</td>\n",
       "      <td>0</td>\n",
       "      <td>5</td>\n",
       "      <td>1</td>\n",
       "      <td>1</td>\n",
       "      <td>0.22</td>\n",
       "      <td>0.2576</td>\n",
       "      <td>0.80</td>\n",
       "      <td>0.0896</td>\n",
       "      <td>1</td>\n",
       "      <td>62</td>\n",
       "      <td>63</td>\n",
       "      <td>Saturday</td>\n",
       "    </tr>\n",
       "    <tr>\n",
       "      <th>17060</th>\n",
       "      <td>17061</td>\n",
       "      <td>2012-12-18</td>\n",
       "      <td>4</td>\n",
       "      <td>1</td>\n",
       "      <td>12</td>\n",
       "      <td>15</td>\n",
       "      <td>0</td>\n",
       "      <td>2</td>\n",
       "      <td>1</td>\n",
       "      <td>1</td>\n",
       "      <td>0.46</td>\n",
       "      <td>0.4545</td>\n",
       "      <td>0.44</td>\n",
       "      <td>0.4925</td>\n",
       "      <td>28</td>\n",
       "      <td>218</td>\n",
       "      <td>246</td>\n",
       "      <td>Wendesday</td>\n",
       "    </tr>\n",
       "    <tr>\n",
       "      <th>12219</th>\n",
       "      <td>12220</td>\n",
       "      <td>2012-05-29</td>\n",
       "      <td>2</td>\n",
       "      <td>1</td>\n",
       "      <td>5</td>\n",
       "      <td>8</td>\n",
       "      <td>0</td>\n",
       "      <td>2</td>\n",
       "      <td>1</td>\n",
       "      <td>1</td>\n",
       "      <td>0.70</td>\n",
       "      <td>0.6667</td>\n",
       "      <td>0.74</td>\n",
       "      <td>0.1940</td>\n",
       "      <td>46</td>\n",
       "      <td>588</td>\n",
       "      <td>634</td>\n",
       "      <td>Wendesday</td>\n",
       "    </tr>\n",
       "    <tr>\n",
       "      <th>16782</th>\n",
       "      <td>16783</td>\n",
       "      <td>2012-12-07</td>\n",
       "      <td>4</td>\n",
       "      <td>1</td>\n",
       "      <td>12</td>\n",
       "      <td>1</td>\n",
       "      <td>0</td>\n",
       "      <td>5</td>\n",
       "      <td>1</td>\n",
       "      <td>2</td>\n",
       "      <td>0.24</td>\n",
       "      <td>0.2273</td>\n",
       "      <td>0.70</td>\n",
       "      <td>0.1940</td>\n",
       "      <td>2</td>\n",
       "      <td>26</td>\n",
       "      <td>28</td>\n",
       "      <td>Saturday</td>\n",
       "    </tr>\n",
       "    <tr>\n",
       "      <th>14468</th>\n",
       "      <td>14469</td>\n",
       "      <td>2012-08-31</td>\n",
       "      <td>3</td>\n",
       "      <td>1</td>\n",
       "      <td>8</td>\n",
       "      <td>1</td>\n",
       "      <td>0</td>\n",
       "      <td>5</td>\n",
       "      <td>1</td>\n",
       "      <td>1</td>\n",
       "      <td>0.68</td>\n",
       "      <td>0.6364</td>\n",
       "      <td>0.83</td>\n",
       "      <td>0.1642</td>\n",
       "      <td>8</td>\n",
       "      <td>24</td>\n",
       "      <td>32</td>\n",
       "      <td>Saturday</td>\n",
       "    </tr>\n",
       "    <tr>\n",
       "      <th>8959</th>\n",
       "      <td>8960</td>\n",
       "      <td>2012-01-14</td>\n",
       "      <td>1</td>\n",
       "      <td>1</td>\n",
       "      <td>1</td>\n",
       "      <td>4</td>\n",
       "      <td>0</td>\n",
       "      <td>6</td>\n",
       "      <td>0</td>\n",
       "      <td>1</td>\n",
       "      <td>0.14</td>\n",
       "      <td>0.1515</td>\n",
       "      <td>0.50</td>\n",
       "      <td>0.1343</td>\n",
       "      <td>0</td>\n",
       "      <td>3</td>\n",
       "      <td>3</td>\n",
       "      <td>Sunday</td>\n",
       "    </tr>\n",
       "  </tbody>\n",
       "</table>\n",
       "</div>"
      ],
      "text/plain": [
       "       instant      dteday  season  yr  mnth  hr  holiday  weekday  \\\n",
       "3300      3301  2011-05-22       2   0     5  10        0        0   \n",
       "8835      8836  2012-01-08       1   1     1  23        0        0   \n",
       "2670      2671  2011-04-26       2   0     4   4        0        2   \n",
       "14310    14311  2012-08-24       3   1     8  11        0        5   \n",
       "8102      8103  2011-12-09       4   0    12   6        0        5   \n",
       "17060    17061  2012-12-18       4   1    12  15        0        2   \n",
       "12219    12220  2012-05-29       2   1     5   8        0        2   \n",
       "16782    16783  2012-12-07       4   1    12   1        0        5   \n",
       "14468    14469  2012-08-31       3   1     8   1        0        5   \n",
       "8959      8960  2012-01-14       1   1     1   4        0        6   \n",
       "\n",
       "       workingday  weathersit  temp   atemp   hum  windspeed  casual  \\\n",
       "3300            0           1  0.64  0.6061  0.65     0.1343     135   \n",
       "8835            0           1  0.26  0.2424  0.56     0.2537       0   \n",
       "2670            1           1  0.56  0.5303  0.83     0.2537       2   \n",
       "14310           1           2  0.76  0.6818  0.48     0.1045      69   \n",
       "8102            1           1  0.22  0.2576  0.80     0.0896       1   \n",
       "17060           1           1  0.46  0.4545  0.44     0.4925      28   \n",
       "12219           1           1  0.70  0.6667  0.74     0.1940      46   \n",
       "16782           1           2  0.24  0.2273  0.70     0.1940       2   \n",
       "14468           1           1  0.68  0.6364  0.83     0.1642       8   \n",
       "8959            0           1  0.14  0.1515  0.50     0.1343       0   \n",
       "\n",
       "       registered  cnt  week_name  \n",
       "3300          170  305     Monday  \n",
       "8835           30   30     Monday  \n",
       "2670            4    6  Wendesday  \n",
       "14310         212  281   Saturday  \n",
       "8102           62   63   Saturday  \n",
       "17060         218  246  Wendesday  \n",
       "12219         588  634  Wendesday  \n",
       "16782          26   28   Saturday  \n",
       "14468          24   32   Saturday  \n",
       "8959            3    3     Sunday  "
      ]
     },
     "execution_count": 8,
     "metadata": {},
     "output_type": "execute_result"
    }
   ],
   "source": [
    "df.sample(10)"
   ]
  },
  {
   "cell_type": "code",
   "execution_count": null,
   "id": "8d67702a-4b1e-4f5f-8425-71f542c836d8",
   "metadata": {},
   "outputs": [],
   "source": []
  }
 ],
 "metadata": {
  "kernelspec": {
   "display_name": "Python 3 (ipykernel)",
   "language": "python",
   "name": "python3"
  },
  "language_info": {
   "codemirror_mode": {
    "name": "ipython",
    "version": 3
   },
   "file_extension": ".py",
   "mimetype": "text/x-python",
   "name": "python",
   "nbconvert_exporter": "python",
   "pygments_lexer": "ipython3",
   "version": "3.8.12"
  }
 },
 "nbformat": 4,
 "nbformat_minor": 5
}
