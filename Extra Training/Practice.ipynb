{
 "cells": [
  {
   "cell_type": "code",
   "execution_count": 1,
   "id": "c2d20b3e-9a3c-449e-8ecb-3ff9a5a3a3c7",
   "metadata": {},
   "outputs": [],
   "source": [
    "bats = ['GM', 'SG', 'Ton', 'Kookab']\n",
    "price = ['200', '300', '500']"
   ]
  },
  {
   "cell_type": "code",
   "execution_count": 2,
   "id": "9be4c432-3250-4e31-badc-6f0fff35260e",
   "metadata": {},
   "outputs": [],
   "source": [
    "price_list = zip(bats, price)"
   ]
  },
  {
   "cell_type": "code",
   "execution_count": 4,
   "id": "afd4f760-6724-405e-973a-6a79ac93bd6b",
   "metadata": {},
   "outputs": [],
   "source": [
    "store = list(price_list)"
   ]
  },
  {
   "cell_type": "code",
   "execution_count": 5,
   "id": "cb9bbf32-3b0a-4ceb-8736-67c53e0c1f32",
   "metadata": {},
   "outputs": [
    {
     "data": {
      "text/plain": [
       "[('GM', '200'), ('SG', '300'), ('Ton', '500')]"
      ]
     },
     "execution_count": 5,
     "metadata": {},
     "output_type": "execute_result"
    }
   ],
   "source": [
    "store"
   ]
  },
  {
   "cell_type": "code",
   "execution_count": 6,
   "id": "33031cbd-f74c-46fc-a15e-d3110c0032e3",
   "metadata": {},
   "outputs": [
    {
     "data": {
      "text/plain": [
       "('SG', '300')"
      ]
     },
     "execution_count": 6,
     "metadata": {},
     "output_type": "execute_result"
    }
   ],
   "source": [
    "store[1]"
   ]
  },
  {
   "cell_type": "code",
   "execution_count": 7,
   "id": "f1c8f91d-08ed-48fa-94fe-04057689302a",
   "metadata": {},
   "outputs": [
    {
     "data": {
      "text/plain": [
       "('GM', '200')"
      ]
     },
     "execution_count": 7,
     "metadata": {},
     "output_type": "execute_result"
    }
   ],
   "source": [
    "store[0]"
   ]
  },
  {
   "cell_type": "code",
   "execution_count": 8,
   "id": "0dd99b82-e907-4aca-9121-699041efb0a7",
   "metadata": {},
   "outputs": [],
   "source": [
    "bats = ['GM', 'SG', 'Ton', 'Kookab']\n",
    "price = ['200', '300', '500', '250']"
   ]
  },
  {
   "cell_type": "code",
   "execution_count": 11,
   "id": "b25dbfed-f9ca-46dd-bcb3-7864f7903b66",
   "metadata": {},
   "outputs": [],
   "source": [
    "prices2 = zip(bats, price)"
   ]
  },
  {
   "cell_type": "code",
   "execution_count": 12,
   "id": "785f71f1-746b-4ea9-b3f2-9f382d572dd7",
   "metadata": {},
   "outputs": [],
   "source": [
    "list_price = list(prices2)"
   ]
  },
  {
   "cell_type": "code",
   "execution_count": 14,
   "id": "d28d3858-22f7-41c5-9a1b-e17c0a880fd8",
   "metadata": {},
   "outputs": [
    {
     "data": {
      "text/plain": [
       "[('GM', '200'), ('SG', '300'), ('Ton', '500'), ('Kookab', '250')]"
      ]
     },
     "execution_count": 14,
     "metadata": {},
     "output_type": "execute_result"
    }
   ],
   "source": [
    "list_price"
   ]
  },
  {
   "cell_type": "code",
   "execution_count": 15,
   "id": "8342cd29-f07b-466a-b97d-ffd0010b50cf",
   "metadata": {},
   "outputs": [
    {
     "data": {
      "text/plain": [
       "('Kookab', '250')"
      ]
     },
     "execution_count": 15,
     "metadata": {},
     "output_type": "execute_result"
    }
   ],
   "source": [
    "list_price[3]"
   ]
  },
  {
   "cell_type": "code",
   "execution_count": 16,
   "id": "ea26bf55-f269-4577-aa80-c95a0a78b7e5",
   "metadata": {},
   "outputs": [],
   "source": [
    "female_dict = {1: 'Emma', 2: 'Karen', 3: 'Sarah', 4: 'Mary', 5: 'Sophy'}"
   ]
  },
  {
   "cell_type": "code",
   "execution_count": 17,
   "id": "0164fd26-d0aa-4551-87aa-ff0324b439ad",
   "metadata": {},
   "outputs": [
    {
     "data": {
      "text/plain": [
       "dict"
      ]
     },
     "execution_count": 17,
     "metadata": {},
     "output_type": "execute_result"
    }
   ],
   "source": [
    "type(female_dict)"
   ]
  },
  {
   "cell_type": "code",
   "execution_count": 18,
   "id": "a5dd8199-21fb-4b6a-8b14-a7b719c0a9b4",
   "metadata": {},
   "outputs": [
    {
     "data": {
      "text/plain": [
       "dict_keys([1, 2, 3, 4, 5])"
      ]
     },
     "execution_count": 18,
     "metadata": {},
     "output_type": "execute_result"
    }
   ],
   "source": [
    "female_dict.keys()"
   ]
  },
  {
   "cell_type": "code",
   "execution_count": 19,
   "id": "5cf82a83-b5a5-4595-a48e-62ed3cecb11c",
   "metadata": {},
   "outputs": [
    {
     "data": {
      "text/plain": [
       "dict_values(['Emma', 'Karen', 'Sarah', 'Mary', 'Sophy'])"
      ]
     },
     "execution_count": 19,
     "metadata": {},
     "output_type": "execute_result"
    }
   ],
   "source": [
    "female_dict.values()"
   ]
  },
  {
   "cell_type": "code",
   "execution_count": 20,
   "id": "79220ea0-023d-43b4-befa-0636524f5625",
   "metadata": {},
   "outputs": [
    {
     "data": {
      "text/plain": [
       "dict_items([(1, 'Emma'), (2, 'Karen'), (3, 'Sarah'), (4, 'Mary'), (5, 'Sophy')])"
      ]
     },
     "execution_count": 20,
     "metadata": {},
     "output_type": "execute_result"
    }
   ],
   "source": [
    "female_dict.items()"
   ]
  },
  {
   "cell_type": "code",
   "execution_count": 28,
   "id": "2b07ebe9-3ee4-46a3-95b9-f7c9e5b493c5",
   "metadata": {},
   "outputs": [],
   "source": [
    "def get_rank(names):\n",
    "    for keys, values in female_dict.items():\n",
    "        if values == names:\n",
    "            print(keys)"
   ]
  },
  {
   "cell_type": "code",
   "execution_count": 29,
   "id": "7ef9c2c5-d64d-41d4-afa2-94de9c7f7c33",
   "metadata": {},
   "outputs": [
    {
     "name": "stdout",
     "output_type": "stream",
     "text": [
      "3\n"
     ]
    }
   ],
   "source": [
    "get_rank('Sarah')"
   ]
  },
  {
   "cell_type": "code",
   "execution_count": 44,
   "id": "123631b5-56e3-4cde-a1c3-f42d66d0d38e",
   "metadata": {},
   "outputs": [],
   "source": [
    "def get_name(z):\n",
    "    for keys, values in female_dict.items():\n",
    "        if keys ==z:\n",
    "            print(values)"
   ]
  },
  {
   "cell_type": "code",
   "execution_count": 42,
   "id": "eed8cbbc-4995-4f73-94ed-09cd2b105c8e",
   "metadata": {},
   "outputs": [
    {
     "name": "stdout",
     "output_type": "stream",
     "text": [
      "Karen\n"
     ]
    }
   ],
   "source": [
    "get_name(2)"
   ]
  },
  {
   "cell_type": "code",
   "execution_count": 45,
   "id": "585572f1-7513-4191-9551-f895e4f6ad82",
   "metadata": {},
   "outputs": [],
   "source": [
    "bats = {1: 'GM', 2: 'SG', 3: 'DCS', 4: 'Ton'}"
   ]
  },
  {
   "cell_type": "code",
   "execution_count": 48,
   "id": "1a1d7761-1541-4cdb-9172-1813dc784732",
   "metadata": {},
   "outputs": [
    {
     "data": {
      "text/plain": [
       "dict"
      ]
     },
     "execution_count": 48,
     "metadata": {},
     "output_type": "execute_result"
    }
   ],
   "source": [
    "type(bats)"
   ]
  },
  {
   "cell_type": "code",
   "execution_count": 49,
   "id": "a0918af9-2ad6-4bc3-ae42-b9d59c024ae2",
   "metadata": {},
   "outputs": [
    {
     "data": {
      "text/plain": [
       "dict_keys([1, 2, 3, 4])"
      ]
     },
     "execution_count": 49,
     "metadata": {},
     "output_type": "execute_result"
    }
   ],
   "source": [
    "bats.keys()"
   ]
  },
  {
   "cell_type": "code",
   "execution_count": 53,
   "id": "d3250185-94ed-4046-8dc7-5e88abe9df2e",
   "metadata": {},
   "outputs": [
    {
     "data": {
      "text/plain": [
       "dict_values(['GM', 'SG', 'DCS', 'Ton'])"
      ]
     },
     "execution_count": 53,
     "metadata": {},
     "output_type": "execute_result"
    }
   ],
   "source": [
    "bats.values()"
   ]
  },
  {
   "cell_type": "code",
   "execution_count": 54,
   "id": "062f9986-6d46-4115-9d11-02284658ceb4",
   "metadata": {},
   "outputs": [
    {
     "data": {
      "text/plain": [
       "dict_items([(1, 'GM'), (2, 'SG'), (3, 'DCS'), (4, 'Ton')])"
      ]
     },
     "execution_count": 54,
     "metadata": {},
     "output_type": "execute_result"
    }
   ],
   "source": [
    "bats.items()"
   ]
  },
  {
   "cell_type": "code",
   "execution_count": 59,
   "id": "78758e74-9c04-4768-b406-5f91d4bdb8b4",
   "metadata": {},
   "outputs": [],
   "source": [
    "def get_bat(choices):\n",
    "    for keys, values in bats.items():\n",
    "        if keys == choices:\n",
    "            print(values)"
   ]
  },
  {
   "cell_type": "code",
   "execution_count": 62,
   "id": "a5666d54-d129-4c65-a166-53e3ed5ddf9a",
   "metadata": {},
   "outputs": [
    {
     "name": "stdout",
     "output_type": "stream",
     "text": [
      "SG\n"
     ]
    }
   ],
   "source": [
    "get_bat(2)"
   ]
  },
  {
   "cell_type": "code",
   "execution_count": 73,
   "id": "483c30e1-c772-41a6-a5bb-7191a02b2538",
   "metadata": {},
   "outputs": [],
   "source": [
    "def find_bat(please):\n",
    "    for keys, values in bats.items():\n",
    "        if keys == please:\n",
    "            print(values)"
   ]
  },
  {
   "cell_type": "code",
   "execution_count": 74,
   "id": "af0f089b-4e76-4e27-b675-afb00bb70a90",
   "metadata": {},
   "outputs": [
    {
     "name": "stdout",
     "output_type": "stream",
     "text": [
      "Ton\n"
     ]
    }
   ],
   "source": [
    "find_bat(4)"
   ]
  },
  {
   "cell_type": "code",
   "execution_count": null,
   "id": "297ce2e6-adf1-44e6-8482-01e2e64bcaf4",
   "metadata": {},
   "outputs": [],
   "source": []
  }
 ],
 "metadata": {
  "kernelspec": {
   "display_name": "Python 3 (ipykernel)",
   "language": "python",
   "name": "python3"
  },
  "language_info": {
   "codemirror_mode": {
    "name": "ipython",
    "version": 3
   },
   "file_extension": ".py",
   "mimetype": "text/x-python",
   "name": "python",
   "nbconvert_exporter": "python",
   "pygments_lexer": "ipython3",
   "version": "3.8.12"
  }
 },
 "nbformat": 4,
 "nbformat_minor": 5
}
